{
  "cells": [
    {
      "cell_type": "markdown",
      "metadata": {
        "id": "view-in-github",
        "colab_type": "text"
      },
      "source": [
        "<a href=\"https://colab.research.google.com/github/digdagdac/NLP_final_RecommandBook/blob/master/BookRecommand.ipynb\" target=\"_parent\"><img src=\"https://colab.research.google.com/assets/colab-badge.svg\" alt=\"Open In Colab\"/></a>"
      ]
    },
    {
      "cell_type": "markdown",
      "metadata": {
        "id": "Zy3W4dwzNXgn"
      },
      "source": [
        "##도서 추천 시스템 구축\n",
        "https://www.kaggle.com/datasets/ruchi798/bookcrossing-dataset/"
      ]
    },
    {
      "cell_type": "code",
      "execution_count": null,
      "metadata": {
        "id": "CvUvYRhNKNlh"
      },
      "outputs": [],
      "source": [
        "import pandas as pd\n"
      ]
    },
    {
      "cell_type": "markdown",
      "metadata": {
        "id": "zYmnvxWpTktb"
      },
      "source": [
        "##책정보"
      ]
    },
    {
      "cell_type": "code",
      "execution_count": null,
      "metadata": {
        "colab": {
          "base_uri": "https://localhost:8080/",
          "height": 966
        },
        "id": "N_K0kJhvNVvP",
        "outputId": "7a3801f5-9430-4eb0-ac9b-3c08907e1a98"
      },
      "outputs": [
        {
          "output_type": "stream",
          "name": "stderr",
          "text": [
            "<ipython-input-81-51c6164c2208>:1: FutureWarning: The error_bad_lines argument has been deprecated and will be removed in a future version. Use on_bad_lines in the future.\n",
            "\n",
            "\n",
            "  df_book = pd.read_csv('/content/BX_Books.csv', sep=';', encoding = 'latin-1',error_bad_lines=False)\n"
          ]
        },
        {
          "output_type": "execute_result",
          "data": {
            "text/plain": [
              "              ISBN                                         Book-Title  \\\n",
              "0       0195153448                                Classical Mythology   \n",
              "1       0002005018                                       Clara Callan   \n",
              "2       0060973129                               Decision in Normandy   \n",
              "3       0374157065  Flu: The Story of the Great Influenza Pandemic...   \n",
              "4       0393045218                             The Mummies of Urumchi   \n",
              "...            ...                                                ...   \n",
              "271374  0440400988                         There's a Bat in Bunk Five   \n",
              "271375  0525447644                            From One to One Hundred   \n",
              "271376  006008667X  Lily Dale : The True Story of the Town that Ta...   \n",
              "271377  0192126040                        Republic (World's Classics)   \n",
              "271378  0767409752  A Guided Tour of Rene Descartes' Meditations o...   \n",
              "\n",
              "                 Book-Author  Year-Of-Publication  \\\n",
              "0         Mark P. O. Morford                 2002   \n",
              "1       Richard Bruce Wright                 2001   \n",
              "2               Carlo D'Este                 1991   \n",
              "3           Gina Bari Kolata                 1999   \n",
              "4            E. J. W. Barber                 1999   \n",
              "...                      ...                  ...   \n",
              "271374        Paula Danziger                 1988   \n",
              "271375            Teri Sloat                 1991   \n",
              "271376      Christine Wicker                 2004   \n",
              "271377                 Plato                 1996   \n",
              "271378   Christopher  Biffle                 2000   \n",
              "\n",
              "                                               Publisher  \\\n",
              "0                                Oxford University Press   \n",
              "1                                  HarperFlamingo Canada   \n",
              "2                                        HarperPerennial   \n",
              "3                                   Farrar Straus Giroux   \n",
              "4                                 W. W. Norton & Company   \n",
              "...                                                  ...   \n",
              "271374                   Random House Childrens Pub (Mm)   \n",
              "271375                                      Dutton Books   \n",
              "271376                                HarperSanFrancisco   \n",
              "271377                           Oxford University Press   \n",
              "271378  McGraw-Hill Humanities/Social Sciences/Languages   \n",
              "\n",
              "                                              Image-URL-S  \\\n",
              "0       http://images.amazon.com/images/P/0195153448.0...   \n",
              "1       http://images.amazon.com/images/P/0002005018.0...   \n",
              "2       http://images.amazon.com/images/P/0060973129.0...   \n",
              "3       http://images.amazon.com/images/P/0374157065.0...   \n",
              "4       http://images.amazon.com/images/P/0393045218.0...   \n",
              "...                                                   ...   \n",
              "271374  http://images.amazon.com/images/P/0440400988.0...   \n",
              "271375  http://images.amazon.com/images/P/0525447644.0...   \n",
              "271376  http://images.amazon.com/images/P/006008667X.0...   \n",
              "271377  http://images.amazon.com/images/P/0192126040.0...   \n",
              "271378  http://images.amazon.com/images/P/0767409752.0...   \n",
              "\n",
              "                                              Image-URL-M  \\\n",
              "0       http://images.amazon.com/images/P/0195153448.0...   \n",
              "1       http://images.amazon.com/images/P/0002005018.0...   \n",
              "2       http://images.amazon.com/images/P/0060973129.0...   \n",
              "3       http://images.amazon.com/images/P/0374157065.0...   \n",
              "4       http://images.amazon.com/images/P/0393045218.0...   \n",
              "...                                                   ...   \n",
              "271374  http://images.amazon.com/images/P/0440400988.0...   \n",
              "271375  http://images.amazon.com/images/P/0525447644.0...   \n",
              "271376  http://images.amazon.com/images/P/006008667X.0...   \n",
              "271377  http://images.amazon.com/images/P/0192126040.0...   \n",
              "271378  http://images.amazon.com/images/P/0767409752.0...   \n",
              "\n",
              "                                              Image-URL-L  \n",
              "0       http://images.amazon.com/images/P/0195153448.0...  \n",
              "1       http://images.amazon.com/images/P/0002005018.0...  \n",
              "2       http://images.amazon.com/images/P/0060973129.0...  \n",
              "3       http://images.amazon.com/images/P/0374157065.0...  \n",
              "4       http://images.amazon.com/images/P/0393045218.0...  \n",
              "...                                                   ...  \n",
              "271374  http://images.amazon.com/images/P/0440400988.0...  \n",
              "271375  http://images.amazon.com/images/P/0525447644.0...  \n",
              "271376  http://images.amazon.com/images/P/006008667X.0...  \n",
              "271377  http://images.amazon.com/images/P/0192126040.0...  \n",
              "271378  http://images.amazon.com/images/P/0767409752.0...  \n",
              "\n",
              "[271379 rows x 8 columns]"
            ],
            "text/html": [
              "\n",
              "  <div id=\"df-c298a8e3-c9ca-408f-863b-9d5684f760e9\" class=\"colab-df-container\">\n",
              "    <div>\n",
              "<style scoped>\n",
              "    .dataframe tbody tr th:only-of-type {\n",
              "        vertical-align: middle;\n",
              "    }\n",
              "\n",
              "    .dataframe tbody tr th {\n",
              "        vertical-align: top;\n",
              "    }\n",
              "\n",
              "    .dataframe thead th {\n",
              "        text-align: right;\n",
              "    }\n",
              "</style>\n",
              "<table border=\"1\" class=\"dataframe\">\n",
              "  <thead>\n",
              "    <tr style=\"text-align: right;\">\n",
              "      <th></th>\n",
              "      <th>ISBN</th>\n",
              "      <th>Book-Title</th>\n",
              "      <th>Book-Author</th>\n",
              "      <th>Year-Of-Publication</th>\n",
              "      <th>Publisher</th>\n",
              "      <th>Image-URL-S</th>\n",
              "      <th>Image-URL-M</th>\n",
              "      <th>Image-URL-L</th>\n",
              "    </tr>\n",
              "  </thead>\n",
              "  <tbody>\n",
              "    <tr>\n",
              "      <th>0</th>\n",
              "      <td>0195153448</td>\n",
              "      <td>Classical Mythology</td>\n",
              "      <td>Mark P. O. Morford</td>\n",
              "      <td>2002</td>\n",
              "      <td>Oxford University Press</td>\n",
              "      <td>http://images.amazon.com/images/P/0195153448.0...</td>\n",
              "      <td>http://images.amazon.com/images/P/0195153448.0...</td>\n",
              "      <td>http://images.amazon.com/images/P/0195153448.0...</td>\n",
              "    </tr>\n",
              "    <tr>\n",
              "      <th>1</th>\n",
              "      <td>0002005018</td>\n",
              "      <td>Clara Callan</td>\n",
              "      <td>Richard Bruce Wright</td>\n",
              "      <td>2001</td>\n",
              "      <td>HarperFlamingo Canada</td>\n",
              "      <td>http://images.amazon.com/images/P/0002005018.0...</td>\n",
              "      <td>http://images.amazon.com/images/P/0002005018.0...</td>\n",
              "      <td>http://images.amazon.com/images/P/0002005018.0...</td>\n",
              "    </tr>\n",
              "    <tr>\n",
              "      <th>2</th>\n",
              "      <td>0060973129</td>\n",
              "      <td>Decision in Normandy</td>\n",
              "      <td>Carlo D'Este</td>\n",
              "      <td>1991</td>\n",
              "      <td>HarperPerennial</td>\n",
              "      <td>http://images.amazon.com/images/P/0060973129.0...</td>\n",
              "      <td>http://images.amazon.com/images/P/0060973129.0...</td>\n",
              "      <td>http://images.amazon.com/images/P/0060973129.0...</td>\n",
              "    </tr>\n",
              "    <tr>\n",
              "      <th>3</th>\n",
              "      <td>0374157065</td>\n",
              "      <td>Flu: The Story of the Great Influenza Pandemic...</td>\n",
              "      <td>Gina Bari Kolata</td>\n",
              "      <td>1999</td>\n",
              "      <td>Farrar Straus Giroux</td>\n",
              "      <td>http://images.amazon.com/images/P/0374157065.0...</td>\n",
              "      <td>http://images.amazon.com/images/P/0374157065.0...</td>\n",
              "      <td>http://images.amazon.com/images/P/0374157065.0...</td>\n",
              "    </tr>\n",
              "    <tr>\n",
              "      <th>4</th>\n",
              "      <td>0393045218</td>\n",
              "      <td>The Mummies of Urumchi</td>\n",
              "      <td>E. J. W. Barber</td>\n",
              "      <td>1999</td>\n",
              "      <td>W. W. Norton &amp; Company</td>\n",
              "      <td>http://images.amazon.com/images/P/0393045218.0...</td>\n",
              "      <td>http://images.amazon.com/images/P/0393045218.0...</td>\n",
              "      <td>http://images.amazon.com/images/P/0393045218.0...</td>\n",
              "    </tr>\n",
              "    <tr>\n",
              "      <th>...</th>\n",
              "      <td>...</td>\n",
              "      <td>...</td>\n",
              "      <td>...</td>\n",
              "      <td>...</td>\n",
              "      <td>...</td>\n",
              "      <td>...</td>\n",
              "      <td>...</td>\n",
              "      <td>...</td>\n",
              "    </tr>\n",
              "    <tr>\n",
              "      <th>271374</th>\n",
              "      <td>0440400988</td>\n",
              "      <td>There's a Bat in Bunk Five</td>\n",
              "      <td>Paula Danziger</td>\n",
              "      <td>1988</td>\n",
              "      <td>Random House Childrens Pub (Mm)</td>\n",
              "      <td>http://images.amazon.com/images/P/0440400988.0...</td>\n",
              "      <td>http://images.amazon.com/images/P/0440400988.0...</td>\n",
              "      <td>http://images.amazon.com/images/P/0440400988.0...</td>\n",
              "    </tr>\n",
              "    <tr>\n",
              "      <th>271375</th>\n",
              "      <td>0525447644</td>\n",
              "      <td>From One to One Hundred</td>\n",
              "      <td>Teri Sloat</td>\n",
              "      <td>1991</td>\n",
              "      <td>Dutton Books</td>\n",
              "      <td>http://images.amazon.com/images/P/0525447644.0...</td>\n",
              "      <td>http://images.amazon.com/images/P/0525447644.0...</td>\n",
              "      <td>http://images.amazon.com/images/P/0525447644.0...</td>\n",
              "    </tr>\n",
              "    <tr>\n",
              "      <th>271376</th>\n",
              "      <td>006008667X</td>\n",
              "      <td>Lily Dale : The True Story of the Town that Ta...</td>\n",
              "      <td>Christine Wicker</td>\n",
              "      <td>2004</td>\n",
              "      <td>HarperSanFrancisco</td>\n",
              "      <td>http://images.amazon.com/images/P/006008667X.0...</td>\n",
              "      <td>http://images.amazon.com/images/P/006008667X.0...</td>\n",
              "      <td>http://images.amazon.com/images/P/006008667X.0...</td>\n",
              "    </tr>\n",
              "    <tr>\n",
              "      <th>271377</th>\n",
              "      <td>0192126040</td>\n",
              "      <td>Republic (World's Classics)</td>\n",
              "      <td>Plato</td>\n",
              "      <td>1996</td>\n",
              "      <td>Oxford University Press</td>\n",
              "      <td>http://images.amazon.com/images/P/0192126040.0...</td>\n",
              "      <td>http://images.amazon.com/images/P/0192126040.0...</td>\n",
              "      <td>http://images.amazon.com/images/P/0192126040.0...</td>\n",
              "    </tr>\n",
              "    <tr>\n",
              "      <th>271378</th>\n",
              "      <td>0767409752</td>\n",
              "      <td>A Guided Tour of Rene Descartes' Meditations o...</td>\n",
              "      <td>Christopher  Biffle</td>\n",
              "      <td>2000</td>\n",
              "      <td>McGraw-Hill Humanities/Social Sciences/Languages</td>\n",
              "      <td>http://images.amazon.com/images/P/0767409752.0...</td>\n",
              "      <td>http://images.amazon.com/images/P/0767409752.0...</td>\n",
              "      <td>http://images.amazon.com/images/P/0767409752.0...</td>\n",
              "    </tr>\n",
              "  </tbody>\n",
              "</table>\n",
              "<p>271379 rows × 8 columns</p>\n",
              "</div>\n",
              "    <div class=\"colab-df-buttons\">\n",
              "\n",
              "  <div class=\"colab-df-container\">\n",
              "    <button class=\"colab-df-convert\" onclick=\"convertToInteractive('df-c298a8e3-c9ca-408f-863b-9d5684f760e9')\"\n",
              "            title=\"Convert this dataframe to an interactive table.\"\n",
              "            style=\"display:none;\">\n",
              "\n",
              "  <svg xmlns=\"http://www.w3.org/2000/svg\" height=\"24px\" viewBox=\"0 -960 960 960\">\n",
              "    <path d=\"M120-120v-720h720v720H120Zm60-500h600v-160H180v160Zm220 220h160v-160H400v160Zm0 220h160v-160H400v160ZM180-400h160v-160H180v160Zm440 0h160v-160H620v160ZM180-180h160v-160H180v160Zm440 0h160v-160H620v160Z\"/>\n",
              "  </svg>\n",
              "    </button>\n",
              "\n",
              "  <style>\n",
              "    .colab-df-container {\n",
              "      display:flex;\n",
              "      gap: 12px;\n",
              "    }\n",
              "\n",
              "    .colab-df-convert {\n",
              "      background-color: #E8F0FE;\n",
              "      border: none;\n",
              "      border-radius: 50%;\n",
              "      cursor: pointer;\n",
              "      display: none;\n",
              "      fill: #1967D2;\n",
              "      height: 32px;\n",
              "      padding: 0 0 0 0;\n",
              "      width: 32px;\n",
              "    }\n",
              "\n",
              "    .colab-df-convert:hover {\n",
              "      background-color: #E2EBFA;\n",
              "      box-shadow: 0px 1px 2px rgba(60, 64, 67, 0.3), 0px 1px 3px 1px rgba(60, 64, 67, 0.15);\n",
              "      fill: #174EA6;\n",
              "    }\n",
              "\n",
              "    .colab-df-buttons div {\n",
              "      margin-bottom: 4px;\n",
              "    }\n",
              "\n",
              "    [theme=dark] .colab-df-convert {\n",
              "      background-color: #3B4455;\n",
              "      fill: #D2E3FC;\n",
              "    }\n",
              "\n",
              "    [theme=dark] .colab-df-convert:hover {\n",
              "      background-color: #434B5C;\n",
              "      box-shadow: 0px 1px 3px 1px rgba(0, 0, 0, 0.15);\n",
              "      filter: drop-shadow(0px 1px 2px rgba(0, 0, 0, 0.3));\n",
              "      fill: #FFFFFF;\n",
              "    }\n",
              "  </style>\n",
              "\n",
              "    <script>\n",
              "      const buttonEl =\n",
              "        document.querySelector('#df-c298a8e3-c9ca-408f-863b-9d5684f760e9 button.colab-df-convert');\n",
              "      buttonEl.style.display =\n",
              "        google.colab.kernel.accessAllowed ? 'block' : 'none';\n",
              "\n",
              "      async function convertToInteractive(key) {\n",
              "        const element = document.querySelector('#df-c298a8e3-c9ca-408f-863b-9d5684f760e9');\n",
              "        const dataTable =\n",
              "          await google.colab.kernel.invokeFunction('convertToInteractive',\n",
              "                                                    [key], {});\n",
              "        if (!dataTable) return;\n",
              "\n",
              "        const docLinkHtml = 'Like what you see? Visit the ' +\n",
              "          '<a target=\"_blank\" href=https://colab.research.google.com/notebooks/data_table.ipynb>data table notebook</a>'\n",
              "          + ' to learn more about interactive tables.';\n",
              "        element.innerHTML = '';\n",
              "        dataTable['output_type'] = 'display_data';\n",
              "        await google.colab.output.renderOutput(dataTable, element);\n",
              "        const docLink = document.createElement('div');\n",
              "        docLink.innerHTML = docLinkHtml;\n",
              "        element.appendChild(docLink);\n",
              "      }\n",
              "    </script>\n",
              "  </div>\n",
              "\n",
              "\n",
              "<div id=\"df-a5159d66-13d9-4b04-8f03-3875e3cd901b\">\n",
              "  <button class=\"colab-df-quickchart\" onclick=\"quickchart('df-a5159d66-13d9-4b04-8f03-3875e3cd901b')\"\n",
              "            title=\"Suggest charts\"\n",
              "            style=\"display:none;\">\n",
              "\n",
              "<svg xmlns=\"http://www.w3.org/2000/svg\" height=\"24px\"viewBox=\"0 0 24 24\"\n",
              "     width=\"24px\">\n",
              "    <g>\n",
              "        <path d=\"M19 3H5c-1.1 0-2 .9-2 2v14c0 1.1.9 2 2 2h14c1.1 0 2-.9 2-2V5c0-1.1-.9-2-2-2zM9 17H7v-7h2v7zm4 0h-2V7h2v10zm4 0h-2v-4h2v4z\"/>\n",
              "    </g>\n",
              "</svg>\n",
              "  </button>\n",
              "\n",
              "<style>\n",
              "  .colab-df-quickchart {\n",
              "      --bg-color: #E8F0FE;\n",
              "      --fill-color: #1967D2;\n",
              "      --hover-bg-color: #E2EBFA;\n",
              "      --hover-fill-color: #174EA6;\n",
              "      --disabled-fill-color: #AAA;\n",
              "      --disabled-bg-color: #DDD;\n",
              "  }\n",
              "\n",
              "  [theme=dark] .colab-df-quickchart {\n",
              "      --bg-color: #3B4455;\n",
              "      --fill-color: #D2E3FC;\n",
              "      --hover-bg-color: #434B5C;\n",
              "      --hover-fill-color: #FFFFFF;\n",
              "      --disabled-bg-color: #3B4455;\n",
              "      --disabled-fill-color: #666;\n",
              "  }\n",
              "\n",
              "  .colab-df-quickchart {\n",
              "    background-color: var(--bg-color);\n",
              "    border: none;\n",
              "    border-radius: 50%;\n",
              "    cursor: pointer;\n",
              "    display: none;\n",
              "    fill: var(--fill-color);\n",
              "    height: 32px;\n",
              "    padding: 0;\n",
              "    width: 32px;\n",
              "  }\n",
              "\n",
              "  .colab-df-quickchart:hover {\n",
              "    background-color: var(--hover-bg-color);\n",
              "    box-shadow: 0 1px 2px rgba(60, 64, 67, 0.3), 0 1px 3px 1px rgba(60, 64, 67, 0.15);\n",
              "    fill: var(--button-hover-fill-color);\n",
              "  }\n",
              "\n",
              "  .colab-df-quickchart-complete:disabled,\n",
              "  .colab-df-quickchart-complete:disabled:hover {\n",
              "    background-color: var(--disabled-bg-color);\n",
              "    fill: var(--disabled-fill-color);\n",
              "    box-shadow: none;\n",
              "  }\n",
              "\n",
              "  .colab-df-spinner {\n",
              "    border: 2px solid var(--fill-color);\n",
              "    border-color: transparent;\n",
              "    border-bottom-color: var(--fill-color);\n",
              "    animation:\n",
              "      spin 1s steps(1) infinite;\n",
              "  }\n",
              "\n",
              "  @keyframes spin {\n",
              "    0% {\n",
              "      border-color: transparent;\n",
              "      border-bottom-color: var(--fill-color);\n",
              "      border-left-color: var(--fill-color);\n",
              "    }\n",
              "    20% {\n",
              "      border-color: transparent;\n",
              "      border-left-color: var(--fill-color);\n",
              "      border-top-color: var(--fill-color);\n",
              "    }\n",
              "    30% {\n",
              "      border-color: transparent;\n",
              "      border-left-color: var(--fill-color);\n",
              "      border-top-color: var(--fill-color);\n",
              "      border-right-color: var(--fill-color);\n",
              "    }\n",
              "    40% {\n",
              "      border-color: transparent;\n",
              "      border-right-color: var(--fill-color);\n",
              "      border-top-color: var(--fill-color);\n",
              "    }\n",
              "    60% {\n",
              "      border-color: transparent;\n",
              "      border-right-color: var(--fill-color);\n",
              "    }\n",
              "    80% {\n",
              "      border-color: transparent;\n",
              "      border-right-color: var(--fill-color);\n",
              "      border-bottom-color: var(--fill-color);\n",
              "    }\n",
              "    90% {\n",
              "      border-color: transparent;\n",
              "      border-bottom-color: var(--fill-color);\n",
              "    }\n",
              "  }\n",
              "</style>\n",
              "\n",
              "  <script>\n",
              "    async function quickchart(key) {\n",
              "      const quickchartButtonEl =\n",
              "        document.querySelector('#' + key + ' button');\n",
              "      quickchartButtonEl.disabled = true;  // To prevent multiple clicks.\n",
              "      quickchartButtonEl.classList.add('colab-df-spinner');\n",
              "      try {\n",
              "        const charts = await google.colab.kernel.invokeFunction(\n",
              "            'suggestCharts', [key], {});\n",
              "      } catch (error) {\n",
              "        console.error('Error during call to suggestCharts:', error);\n",
              "      }\n",
              "      quickchartButtonEl.classList.remove('colab-df-spinner');\n",
              "      quickchartButtonEl.classList.add('colab-df-quickchart-complete');\n",
              "    }\n",
              "    (() => {\n",
              "      let quickchartButtonEl =\n",
              "        document.querySelector('#df-a5159d66-13d9-4b04-8f03-3875e3cd901b button');\n",
              "      quickchartButtonEl.style.display =\n",
              "        google.colab.kernel.accessAllowed ? 'block' : 'none';\n",
              "    })();\n",
              "  </script>\n",
              "</div>\n",
              "\n",
              "  <div id=\"id_a6f0c426-a7fe-4400-8529-49a57888bc51\">\n",
              "    <style>\n",
              "      .colab-df-generate {\n",
              "        background-color: #E8F0FE;\n",
              "        border: none;\n",
              "        border-radius: 50%;\n",
              "        cursor: pointer;\n",
              "        display: none;\n",
              "        fill: #1967D2;\n",
              "        height: 32px;\n",
              "        padding: 0 0 0 0;\n",
              "        width: 32px;\n",
              "      }\n",
              "\n",
              "      .colab-df-generate:hover {\n",
              "        background-color: #E2EBFA;\n",
              "        box-shadow: 0px 1px 2px rgba(60, 64, 67, 0.3), 0px 1px 3px 1px rgba(60, 64, 67, 0.15);\n",
              "        fill: #174EA6;\n",
              "      }\n",
              "\n",
              "      [theme=dark] .colab-df-generate {\n",
              "        background-color: #3B4455;\n",
              "        fill: #D2E3FC;\n",
              "      }\n",
              "\n",
              "      [theme=dark] .colab-df-generate:hover {\n",
              "        background-color: #434B5C;\n",
              "        box-shadow: 0px 1px 3px 1px rgba(0, 0, 0, 0.15);\n",
              "        filter: drop-shadow(0px 1px 2px rgba(0, 0, 0, 0.3));\n",
              "        fill: #FFFFFF;\n",
              "      }\n",
              "    </style>\n",
              "    <button class=\"colab-df-generate\" onclick=\"generateWithVariable('df_book')\"\n",
              "            title=\"Generate code using this dataframe.\"\n",
              "            style=\"display:none;\">\n",
              "\n",
              "  <svg xmlns=\"http://www.w3.org/2000/svg\" height=\"24px\"viewBox=\"0 0 24 24\"\n",
              "       width=\"24px\">\n",
              "    <path d=\"M7,19H8.4L18.45,9,17,7.55,7,17.6ZM5,21V16.75L18.45,3.32a2,2,0,0,1,2.83,0l1.4,1.43a1.91,1.91,0,0,1,.58,1.4,1.91,1.91,0,0,1-.58,1.4L9.25,21ZM18.45,9,17,7.55Zm-12,3A5.31,5.31,0,0,0,4.9,8.1,5.31,5.31,0,0,0,1,6.5,5.31,5.31,0,0,0,4.9,4.9,5.31,5.31,0,0,0,6.5,1,5.31,5.31,0,0,0,8.1,4.9,5.31,5.31,0,0,0,12,6.5,5.46,5.46,0,0,0,6.5,12Z\"/>\n",
              "  </svg>\n",
              "    </button>\n",
              "    <script>\n",
              "      (() => {\n",
              "      const buttonEl =\n",
              "        document.querySelector('#id_a6f0c426-a7fe-4400-8529-49a57888bc51 button.colab-df-generate');\n",
              "      buttonEl.style.display =\n",
              "        google.colab.kernel.accessAllowed ? 'block' : 'none';\n",
              "\n",
              "      buttonEl.onclick = () => {\n",
              "        google.colab.notebook.generateWithVariable('df_book');\n",
              "      }\n",
              "      })();\n",
              "    </script>\n",
              "  </div>\n",
              "\n",
              "    </div>\n",
              "  </div>\n"
            ]
          },
          "metadata": {},
          "execution_count": 81
        }
      ],
      "source": [
        "df_book = pd.read_csv('/content/BX_Books.csv', sep=';', encoding = 'latin-1',error_bad_lines=False)\n",
        "\n",
        "df_book"
      ]
    },
    {
      "cell_type": "markdown",
      "metadata": {
        "id": "h9zgAAGHTpd-"
      },
      "source": [
        "##유저 정보"
      ]
    },
    {
      "cell_type": "code",
      "execution_count": null,
      "metadata": {
        "colab": {
          "base_uri": "https://localhost:8080/",
          "height": 495
        },
        "id": "dGaor3eIOE9Q",
        "outputId": "57e3c045-2c0b-44bb-f6df-72e194968449"
      },
      "outputs": [
        {
          "output_type": "stream",
          "name": "stderr",
          "text": [
            "<ipython-input-4-3c8504a44ff7>:1: FutureWarning: The error_bad_lines argument has been deprecated and will be removed in a future version. Use on_bad_lines in the future.\n",
            "\n",
            "\n",
            "  df_user = pd.read_csv('/content/BX-Users.csv', sep=';', encoding = 'latin-1',error_bad_lines=False)\n"
          ]
        },
        {
          "output_type": "execute_result",
          "data": {
            "text/plain": [
              "        User-ID                            Location   Age\n",
              "0             1                  nyc, new york, usa   NaN\n",
              "1             2           stockton, california, usa  18.0\n",
              "2             3     moscow, yukon territory, russia   NaN\n",
              "3             4           porto, v.n.gaia, portugal  17.0\n",
              "4             5  farnborough, hants, united kingdom   NaN\n",
              "...         ...                                 ...   ...\n",
              "278853   278854               portland, oregon, usa   NaN\n",
              "278854   278855  tacoma, washington, united kingdom  50.0\n",
              "278855   278856           brampton, ontario, canada   NaN\n",
              "278856   278857           knoxville, tennessee, usa   NaN\n",
              "278857   278858                dublin, n/a, ireland   NaN\n",
              "\n",
              "[278858 rows x 3 columns]"
            ],
            "text/html": [
              "\n",
              "  <div id=\"df-62ced282-11d3-40c1-a487-c8d382f8652e\" class=\"colab-df-container\">\n",
              "    <div>\n",
              "<style scoped>\n",
              "    .dataframe tbody tr th:only-of-type {\n",
              "        vertical-align: middle;\n",
              "    }\n",
              "\n",
              "    .dataframe tbody tr th {\n",
              "        vertical-align: top;\n",
              "    }\n",
              "\n",
              "    .dataframe thead th {\n",
              "        text-align: right;\n",
              "    }\n",
              "</style>\n",
              "<table border=\"1\" class=\"dataframe\">\n",
              "  <thead>\n",
              "    <tr style=\"text-align: right;\">\n",
              "      <th></th>\n",
              "      <th>User-ID</th>\n",
              "      <th>Location</th>\n",
              "      <th>Age</th>\n",
              "    </tr>\n",
              "  </thead>\n",
              "  <tbody>\n",
              "    <tr>\n",
              "      <th>0</th>\n",
              "      <td>1</td>\n",
              "      <td>nyc, new york, usa</td>\n",
              "      <td>NaN</td>\n",
              "    </tr>\n",
              "    <tr>\n",
              "      <th>1</th>\n",
              "      <td>2</td>\n",
              "      <td>stockton, california, usa</td>\n",
              "      <td>18.0</td>\n",
              "    </tr>\n",
              "    <tr>\n",
              "      <th>2</th>\n",
              "      <td>3</td>\n",
              "      <td>moscow, yukon territory, russia</td>\n",
              "      <td>NaN</td>\n",
              "    </tr>\n",
              "    <tr>\n",
              "      <th>3</th>\n",
              "      <td>4</td>\n",
              "      <td>porto, v.n.gaia, portugal</td>\n",
              "      <td>17.0</td>\n",
              "    </tr>\n",
              "    <tr>\n",
              "      <th>4</th>\n",
              "      <td>5</td>\n",
              "      <td>farnborough, hants, united kingdom</td>\n",
              "      <td>NaN</td>\n",
              "    </tr>\n",
              "    <tr>\n",
              "      <th>...</th>\n",
              "      <td>...</td>\n",
              "      <td>...</td>\n",
              "      <td>...</td>\n",
              "    </tr>\n",
              "    <tr>\n",
              "      <th>278853</th>\n",
              "      <td>278854</td>\n",
              "      <td>portland, oregon, usa</td>\n",
              "      <td>NaN</td>\n",
              "    </tr>\n",
              "    <tr>\n",
              "      <th>278854</th>\n",
              "      <td>278855</td>\n",
              "      <td>tacoma, washington, united kingdom</td>\n",
              "      <td>50.0</td>\n",
              "    </tr>\n",
              "    <tr>\n",
              "      <th>278855</th>\n",
              "      <td>278856</td>\n",
              "      <td>brampton, ontario, canada</td>\n",
              "      <td>NaN</td>\n",
              "    </tr>\n",
              "    <tr>\n",
              "      <th>278856</th>\n",
              "      <td>278857</td>\n",
              "      <td>knoxville, tennessee, usa</td>\n",
              "      <td>NaN</td>\n",
              "    </tr>\n",
              "    <tr>\n",
              "      <th>278857</th>\n",
              "      <td>278858</td>\n",
              "      <td>dublin, n/a, ireland</td>\n",
              "      <td>NaN</td>\n",
              "    </tr>\n",
              "  </tbody>\n",
              "</table>\n",
              "<p>278858 rows × 3 columns</p>\n",
              "</div>\n",
              "    <div class=\"colab-df-buttons\">\n",
              "\n",
              "  <div class=\"colab-df-container\">\n",
              "    <button class=\"colab-df-convert\" onclick=\"convertToInteractive('df-62ced282-11d3-40c1-a487-c8d382f8652e')\"\n",
              "            title=\"Convert this dataframe to an interactive table.\"\n",
              "            style=\"display:none;\">\n",
              "\n",
              "  <svg xmlns=\"http://www.w3.org/2000/svg\" height=\"24px\" viewBox=\"0 -960 960 960\">\n",
              "    <path d=\"M120-120v-720h720v720H120Zm60-500h600v-160H180v160Zm220 220h160v-160H400v160Zm0 220h160v-160H400v160ZM180-400h160v-160H180v160Zm440 0h160v-160H620v160ZM180-180h160v-160H180v160Zm440 0h160v-160H620v160Z\"/>\n",
              "  </svg>\n",
              "    </button>\n",
              "\n",
              "  <style>\n",
              "    .colab-df-container {\n",
              "      display:flex;\n",
              "      gap: 12px;\n",
              "    }\n",
              "\n",
              "    .colab-df-convert {\n",
              "      background-color: #E8F0FE;\n",
              "      border: none;\n",
              "      border-radius: 50%;\n",
              "      cursor: pointer;\n",
              "      display: none;\n",
              "      fill: #1967D2;\n",
              "      height: 32px;\n",
              "      padding: 0 0 0 0;\n",
              "      width: 32px;\n",
              "    }\n",
              "\n",
              "    .colab-df-convert:hover {\n",
              "      background-color: #E2EBFA;\n",
              "      box-shadow: 0px 1px 2px rgba(60, 64, 67, 0.3), 0px 1px 3px 1px rgba(60, 64, 67, 0.15);\n",
              "      fill: #174EA6;\n",
              "    }\n",
              "\n",
              "    .colab-df-buttons div {\n",
              "      margin-bottom: 4px;\n",
              "    }\n",
              "\n",
              "    [theme=dark] .colab-df-convert {\n",
              "      background-color: #3B4455;\n",
              "      fill: #D2E3FC;\n",
              "    }\n",
              "\n",
              "    [theme=dark] .colab-df-convert:hover {\n",
              "      background-color: #434B5C;\n",
              "      box-shadow: 0px 1px 3px 1px rgba(0, 0, 0, 0.15);\n",
              "      filter: drop-shadow(0px 1px 2px rgba(0, 0, 0, 0.3));\n",
              "      fill: #FFFFFF;\n",
              "    }\n",
              "  </style>\n",
              "\n",
              "    <script>\n",
              "      const buttonEl =\n",
              "        document.querySelector('#df-62ced282-11d3-40c1-a487-c8d382f8652e button.colab-df-convert');\n",
              "      buttonEl.style.display =\n",
              "        google.colab.kernel.accessAllowed ? 'block' : 'none';\n",
              "\n",
              "      async function convertToInteractive(key) {\n",
              "        const element = document.querySelector('#df-62ced282-11d3-40c1-a487-c8d382f8652e');\n",
              "        const dataTable =\n",
              "          await google.colab.kernel.invokeFunction('convertToInteractive',\n",
              "                                                    [key], {});\n",
              "        if (!dataTable) return;\n",
              "\n",
              "        const docLinkHtml = 'Like what you see? Visit the ' +\n",
              "          '<a target=\"_blank\" href=https://colab.research.google.com/notebooks/data_table.ipynb>data table notebook</a>'\n",
              "          + ' to learn more about interactive tables.';\n",
              "        element.innerHTML = '';\n",
              "        dataTable['output_type'] = 'display_data';\n",
              "        await google.colab.output.renderOutput(dataTable, element);\n",
              "        const docLink = document.createElement('div');\n",
              "        docLink.innerHTML = docLinkHtml;\n",
              "        element.appendChild(docLink);\n",
              "      }\n",
              "    </script>\n",
              "  </div>\n",
              "\n",
              "\n",
              "<div id=\"df-d380d1d7-b33d-4725-8ecd-bc59486679dc\">\n",
              "  <button class=\"colab-df-quickchart\" onclick=\"quickchart('df-d380d1d7-b33d-4725-8ecd-bc59486679dc')\"\n",
              "            title=\"Suggest charts\"\n",
              "            style=\"display:none;\">\n",
              "\n",
              "<svg xmlns=\"http://www.w3.org/2000/svg\" height=\"24px\"viewBox=\"0 0 24 24\"\n",
              "     width=\"24px\">\n",
              "    <g>\n",
              "        <path d=\"M19 3H5c-1.1 0-2 .9-2 2v14c0 1.1.9 2 2 2h14c1.1 0 2-.9 2-2V5c0-1.1-.9-2-2-2zM9 17H7v-7h2v7zm4 0h-2V7h2v10zm4 0h-2v-4h2v4z\"/>\n",
              "    </g>\n",
              "</svg>\n",
              "  </button>\n",
              "\n",
              "<style>\n",
              "  .colab-df-quickchart {\n",
              "      --bg-color: #E8F0FE;\n",
              "      --fill-color: #1967D2;\n",
              "      --hover-bg-color: #E2EBFA;\n",
              "      --hover-fill-color: #174EA6;\n",
              "      --disabled-fill-color: #AAA;\n",
              "      --disabled-bg-color: #DDD;\n",
              "  }\n",
              "\n",
              "  [theme=dark] .colab-df-quickchart {\n",
              "      --bg-color: #3B4455;\n",
              "      --fill-color: #D2E3FC;\n",
              "      --hover-bg-color: #434B5C;\n",
              "      --hover-fill-color: #FFFFFF;\n",
              "      --disabled-bg-color: #3B4455;\n",
              "      --disabled-fill-color: #666;\n",
              "  }\n",
              "\n",
              "  .colab-df-quickchart {\n",
              "    background-color: var(--bg-color);\n",
              "    border: none;\n",
              "    border-radius: 50%;\n",
              "    cursor: pointer;\n",
              "    display: none;\n",
              "    fill: var(--fill-color);\n",
              "    height: 32px;\n",
              "    padding: 0;\n",
              "    width: 32px;\n",
              "  }\n",
              "\n",
              "  .colab-df-quickchart:hover {\n",
              "    background-color: var(--hover-bg-color);\n",
              "    box-shadow: 0 1px 2px rgba(60, 64, 67, 0.3), 0 1px 3px 1px rgba(60, 64, 67, 0.15);\n",
              "    fill: var(--button-hover-fill-color);\n",
              "  }\n",
              "\n",
              "  .colab-df-quickchart-complete:disabled,\n",
              "  .colab-df-quickchart-complete:disabled:hover {\n",
              "    background-color: var(--disabled-bg-color);\n",
              "    fill: var(--disabled-fill-color);\n",
              "    box-shadow: none;\n",
              "  }\n",
              "\n",
              "  .colab-df-spinner {\n",
              "    border: 2px solid var(--fill-color);\n",
              "    border-color: transparent;\n",
              "    border-bottom-color: var(--fill-color);\n",
              "    animation:\n",
              "      spin 1s steps(1) infinite;\n",
              "  }\n",
              "\n",
              "  @keyframes spin {\n",
              "    0% {\n",
              "      border-color: transparent;\n",
              "      border-bottom-color: var(--fill-color);\n",
              "      border-left-color: var(--fill-color);\n",
              "    }\n",
              "    20% {\n",
              "      border-color: transparent;\n",
              "      border-left-color: var(--fill-color);\n",
              "      border-top-color: var(--fill-color);\n",
              "    }\n",
              "    30% {\n",
              "      border-color: transparent;\n",
              "      border-left-color: var(--fill-color);\n",
              "      border-top-color: var(--fill-color);\n",
              "      border-right-color: var(--fill-color);\n",
              "    }\n",
              "    40% {\n",
              "      border-color: transparent;\n",
              "      border-right-color: var(--fill-color);\n",
              "      border-top-color: var(--fill-color);\n",
              "    }\n",
              "    60% {\n",
              "      border-color: transparent;\n",
              "      border-right-color: var(--fill-color);\n",
              "    }\n",
              "    80% {\n",
              "      border-color: transparent;\n",
              "      border-right-color: var(--fill-color);\n",
              "      border-bottom-color: var(--fill-color);\n",
              "    }\n",
              "    90% {\n",
              "      border-color: transparent;\n",
              "      border-bottom-color: var(--fill-color);\n",
              "    }\n",
              "  }\n",
              "</style>\n",
              "\n",
              "  <script>\n",
              "    async function quickchart(key) {\n",
              "      const quickchartButtonEl =\n",
              "        document.querySelector('#' + key + ' button');\n",
              "      quickchartButtonEl.disabled = true;  // To prevent multiple clicks.\n",
              "      quickchartButtonEl.classList.add('colab-df-spinner');\n",
              "      try {\n",
              "        const charts = await google.colab.kernel.invokeFunction(\n",
              "            'suggestCharts', [key], {});\n",
              "      } catch (error) {\n",
              "        console.error('Error during call to suggestCharts:', error);\n",
              "      }\n",
              "      quickchartButtonEl.classList.remove('colab-df-spinner');\n",
              "      quickchartButtonEl.classList.add('colab-df-quickchart-complete');\n",
              "    }\n",
              "    (() => {\n",
              "      let quickchartButtonEl =\n",
              "        document.querySelector('#df-d380d1d7-b33d-4725-8ecd-bc59486679dc button');\n",
              "      quickchartButtonEl.style.display =\n",
              "        google.colab.kernel.accessAllowed ? 'block' : 'none';\n",
              "    })();\n",
              "  </script>\n",
              "</div>\n",
              "\n",
              "  <div id=\"id_4c43bad8-84c1-4b59-a441-d8df0443444d\">\n",
              "    <style>\n",
              "      .colab-df-generate {\n",
              "        background-color: #E8F0FE;\n",
              "        border: none;\n",
              "        border-radius: 50%;\n",
              "        cursor: pointer;\n",
              "        display: none;\n",
              "        fill: #1967D2;\n",
              "        height: 32px;\n",
              "        padding: 0 0 0 0;\n",
              "        width: 32px;\n",
              "      }\n",
              "\n",
              "      .colab-df-generate:hover {\n",
              "        background-color: #E2EBFA;\n",
              "        box-shadow: 0px 1px 2px rgba(60, 64, 67, 0.3), 0px 1px 3px 1px rgba(60, 64, 67, 0.15);\n",
              "        fill: #174EA6;\n",
              "      }\n",
              "\n",
              "      [theme=dark] .colab-df-generate {\n",
              "        background-color: #3B4455;\n",
              "        fill: #D2E3FC;\n",
              "      }\n",
              "\n",
              "      [theme=dark] .colab-df-generate:hover {\n",
              "        background-color: #434B5C;\n",
              "        box-shadow: 0px 1px 3px 1px rgba(0, 0, 0, 0.15);\n",
              "        filter: drop-shadow(0px 1px 2px rgba(0, 0, 0, 0.3));\n",
              "        fill: #FFFFFF;\n",
              "      }\n",
              "    </style>\n",
              "    <button class=\"colab-df-generate\" onclick=\"generateWithVariable('df_user')\"\n",
              "            title=\"Generate code using this dataframe.\"\n",
              "            style=\"display:none;\">\n",
              "\n",
              "  <svg xmlns=\"http://www.w3.org/2000/svg\" height=\"24px\"viewBox=\"0 0 24 24\"\n",
              "       width=\"24px\">\n",
              "    <path d=\"M7,19H8.4L18.45,9,17,7.55,7,17.6ZM5,21V16.75L18.45,3.32a2,2,0,0,1,2.83,0l1.4,1.43a1.91,1.91,0,0,1,.58,1.4,1.91,1.91,0,0,1-.58,1.4L9.25,21ZM18.45,9,17,7.55Zm-12,3A5.31,5.31,0,0,0,4.9,8.1,5.31,5.31,0,0,0,1,6.5,5.31,5.31,0,0,0,4.9,4.9,5.31,5.31,0,0,0,6.5,1,5.31,5.31,0,0,0,8.1,4.9,5.31,5.31,0,0,0,12,6.5,5.46,5.46,0,0,0,6.5,12Z\"/>\n",
              "  </svg>\n",
              "    </button>\n",
              "    <script>\n",
              "      (() => {\n",
              "      const buttonEl =\n",
              "        document.querySelector('#id_4c43bad8-84c1-4b59-a441-d8df0443444d button.colab-df-generate');\n",
              "      buttonEl.style.display =\n",
              "        google.colab.kernel.accessAllowed ? 'block' : 'none';\n",
              "\n",
              "      buttonEl.onclick = () => {\n",
              "        google.colab.notebook.generateWithVariable('df_user');\n",
              "      }\n",
              "      })();\n",
              "    </script>\n",
              "  </div>\n",
              "\n",
              "    </div>\n",
              "  </div>\n"
            ]
          },
          "metadata": {},
          "execution_count": 4
        }
      ],
      "source": [
        "df_user = pd.read_csv('/content/BX-Users.csv', sep=';', encoding = 'latin-1',error_bad_lines=False)\n",
        "\n",
        "df_user"
      ]
    },
    {
      "cell_type": "markdown",
      "metadata": {
        "id": "CivYyN1QT5Co"
      },
      "source": [
        "##책 평점\n"
      ]
    },
    {
      "cell_type": "code",
      "execution_count": null,
      "metadata": {
        "colab": {
          "base_uri": "https://localhost:8080/",
          "height": 495
        },
        "id": "L6bZuxiqT_Ls",
        "outputId": "192b2162-615d-42eb-da5c-d9b0e18235fd"
      },
      "outputs": [
        {
          "output_type": "stream",
          "name": "stderr",
          "text": [
            "<ipython-input-5-1c55135dbeeb>:1: FutureWarning: The error_bad_lines argument has been deprecated and will be removed in a future version. Use on_bad_lines in the future.\n",
            "\n",
            "\n",
            "  df_BookRatings = pd.read_csv('/content/BX-Book-Ratings.csv', sep=';', encoding = 'latin-1',error_bad_lines=False)\n"
          ]
        },
        {
          "output_type": "execute_result",
          "data": {
            "text/plain": [
              "         User-ID         ISBN  Book-Rating\n",
              "0         276725   034545104X            0\n",
              "1         276726   0155061224            5\n",
              "2         276727   0446520802            0\n",
              "3         276729   052165615X            3\n",
              "4         276729   0521795028            6\n",
              "...          ...          ...          ...\n",
              "1149775   276704   1563526298            9\n",
              "1149776   276706   0679447156            0\n",
              "1149777   276709   0515107662           10\n",
              "1149778   276721   0590442449           10\n",
              "1149779   276723  05162443314            8\n",
              "\n",
              "[1149780 rows x 3 columns]"
            ],
            "text/html": [
              "\n",
              "  <div id=\"df-91d4b850-3946-4b53-b875-c5cb83e689db\" class=\"colab-df-container\">\n",
              "    <div>\n",
              "<style scoped>\n",
              "    .dataframe tbody tr th:only-of-type {\n",
              "        vertical-align: middle;\n",
              "    }\n",
              "\n",
              "    .dataframe tbody tr th {\n",
              "        vertical-align: top;\n",
              "    }\n",
              "\n",
              "    .dataframe thead th {\n",
              "        text-align: right;\n",
              "    }\n",
              "</style>\n",
              "<table border=\"1\" class=\"dataframe\">\n",
              "  <thead>\n",
              "    <tr style=\"text-align: right;\">\n",
              "      <th></th>\n",
              "      <th>User-ID</th>\n",
              "      <th>ISBN</th>\n",
              "      <th>Book-Rating</th>\n",
              "    </tr>\n",
              "  </thead>\n",
              "  <tbody>\n",
              "    <tr>\n",
              "      <th>0</th>\n",
              "      <td>276725</td>\n",
              "      <td>034545104X</td>\n",
              "      <td>0</td>\n",
              "    </tr>\n",
              "    <tr>\n",
              "      <th>1</th>\n",
              "      <td>276726</td>\n",
              "      <td>0155061224</td>\n",
              "      <td>5</td>\n",
              "    </tr>\n",
              "    <tr>\n",
              "      <th>2</th>\n",
              "      <td>276727</td>\n",
              "      <td>0446520802</td>\n",
              "      <td>0</td>\n",
              "    </tr>\n",
              "    <tr>\n",
              "      <th>3</th>\n",
              "      <td>276729</td>\n",
              "      <td>052165615X</td>\n",
              "      <td>3</td>\n",
              "    </tr>\n",
              "    <tr>\n",
              "      <th>4</th>\n",
              "      <td>276729</td>\n",
              "      <td>0521795028</td>\n",
              "      <td>6</td>\n",
              "    </tr>\n",
              "    <tr>\n",
              "      <th>...</th>\n",
              "      <td>...</td>\n",
              "      <td>...</td>\n",
              "      <td>...</td>\n",
              "    </tr>\n",
              "    <tr>\n",
              "      <th>1149775</th>\n",
              "      <td>276704</td>\n",
              "      <td>1563526298</td>\n",
              "      <td>9</td>\n",
              "    </tr>\n",
              "    <tr>\n",
              "      <th>1149776</th>\n",
              "      <td>276706</td>\n",
              "      <td>0679447156</td>\n",
              "      <td>0</td>\n",
              "    </tr>\n",
              "    <tr>\n",
              "      <th>1149777</th>\n",
              "      <td>276709</td>\n",
              "      <td>0515107662</td>\n",
              "      <td>10</td>\n",
              "    </tr>\n",
              "    <tr>\n",
              "      <th>1149778</th>\n",
              "      <td>276721</td>\n",
              "      <td>0590442449</td>\n",
              "      <td>10</td>\n",
              "    </tr>\n",
              "    <tr>\n",
              "      <th>1149779</th>\n",
              "      <td>276723</td>\n",
              "      <td>05162443314</td>\n",
              "      <td>8</td>\n",
              "    </tr>\n",
              "  </tbody>\n",
              "</table>\n",
              "<p>1149780 rows × 3 columns</p>\n",
              "</div>\n",
              "    <div class=\"colab-df-buttons\">\n",
              "\n",
              "  <div class=\"colab-df-container\">\n",
              "    <button class=\"colab-df-convert\" onclick=\"convertToInteractive('df-91d4b850-3946-4b53-b875-c5cb83e689db')\"\n",
              "            title=\"Convert this dataframe to an interactive table.\"\n",
              "            style=\"display:none;\">\n",
              "\n",
              "  <svg xmlns=\"http://www.w3.org/2000/svg\" height=\"24px\" viewBox=\"0 -960 960 960\">\n",
              "    <path d=\"M120-120v-720h720v720H120Zm60-500h600v-160H180v160Zm220 220h160v-160H400v160Zm0 220h160v-160H400v160ZM180-400h160v-160H180v160Zm440 0h160v-160H620v160ZM180-180h160v-160H180v160Zm440 0h160v-160H620v160Z\"/>\n",
              "  </svg>\n",
              "    </button>\n",
              "\n",
              "  <style>\n",
              "    .colab-df-container {\n",
              "      display:flex;\n",
              "      gap: 12px;\n",
              "    }\n",
              "\n",
              "    .colab-df-convert {\n",
              "      background-color: #E8F0FE;\n",
              "      border: none;\n",
              "      border-radius: 50%;\n",
              "      cursor: pointer;\n",
              "      display: none;\n",
              "      fill: #1967D2;\n",
              "      height: 32px;\n",
              "      padding: 0 0 0 0;\n",
              "      width: 32px;\n",
              "    }\n",
              "\n",
              "    .colab-df-convert:hover {\n",
              "      background-color: #E2EBFA;\n",
              "      box-shadow: 0px 1px 2px rgba(60, 64, 67, 0.3), 0px 1px 3px 1px rgba(60, 64, 67, 0.15);\n",
              "      fill: #174EA6;\n",
              "    }\n",
              "\n",
              "    .colab-df-buttons div {\n",
              "      margin-bottom: 4px;\n",
              "    }\n",
              "\n",
              "    [theme=dark] .colab-df-convert {\n",
              "      background-color: #3B4455;\n",
              "      fill: #D2E3FC;\n",
              "    }\n",
              "\n",
              "    [theme=dark] .colab-df-convert:hover {\n",
              "      background-color: #434B5C;\n",
              "      box-shadow: 0px 1px 3px 1px rgba(0, 0, 0, 0.15);\n",
              "      filter: drop-shadow(0px 1px 2px rgba(0, 0, 0, 0.3));\n",
              "      fill: #FFFFFF;\n",
              "    }\n",
              "  </style>\n",
              "\n",
              "    <script>\n",
              "      const buttonEl =\n",
              "        document.querySelector('#df-91d4b850-3946-4b53-b875-c5cb83e689db button.colab-df-convert');\n",
              "      buttonEl.style.display =\n",
              "        google.colab.kernel.accessAllowed ? 'block' : 'none';\n",
              "\n",
              "      async function convertToInteractive(key) {\n",
              "        const element = document.querySelector('#df-91d4b850-3946-4b53-b875-c5cb83e689db');\n",
              "        const dataTable =\n",
              "          await google.colab.kernel.invokeFunction('convertToInteractive',\n",
              "                                                    [key], {});\n",
              "        if (!dataTable) return;\n",
              "\n",
              "        const docLinkHtml = 'Like what you see? Visit the ' +\n",
              "          '<a target=\"_blank\" href=https://colab.research.google.com/notebooks/data_table.ipynb>data table notebook</a>'\n",
              "          + ' to learn more about interactive tables.';\n",
              "        element.innerHTML = '';\n",
              "        dataTable['output_type'] = 'display_data';\n",
              "        await google.colab.output.renderOutput(dataTable, element);\n",
              "        const docLink = document.createElement('div');\n",
              "        docLink.innerHTML = docLinkHtml;\n",
              "        element.appendChild(docLink);\n",
              "      }\n",
              "    </script>\n",
              "  </div>\n",
              "\n",
              "\n",
              "<div id=\"df-3bded30f-0f0c-4571-8180-ebc2256f4aa6\">\n",
              "  <button class=\"colab-df-quickchart\" onclick=\"quickchart('df-3bded30f-0f0c-4571-8180-ebc2256f4aa6')\"\n",
              "            title=\"Suggest charts\"\n",
              "            style=\"display:none;\">\n",
              "\n",
              "<svg xmlns=\"http://www.w3.org/2000/svg\" height=\"24px\"viewBox=\"0 0 24 24\"\n",
              "     width=\"24px\">\n",
              "    <g>\n",
              "        <path d=\"M19 3H5c-1.1 0-2 .9-2 2v14c0 1.1.9 2 2 2h14c1.1 0 2-.9 2-2V5c0-1.1-.9-2-2-2zM9 17H7v-7h2v7zm4 0h-2V7h2v10zm4 0h-2v-4h2v4z\"/>\n",
              "    </g>\n",
              "</svg>\n",
              "  </button>\n",
              "\n",
              "<style>\n",
              "  .colab-df-quickchart {\n",
              "      --bg-color: #E8F0FE;\n",
              "      --fill-color: #1967D2;\n",
              "      --hover-bg-color: #E2EBFA;\n",
              "      --hover-fill-color: #174EA6;\n",
              "      --disabled-fill-color: #AAA;\n",
              "      --disabled-bg-color: #DDD;\n",
              "  }\n",
              "\n",
              "  [theme=dark] .colab-df-quickchart {\n",
              "      --bg-color: #3B4455;\n",
              "      --fill-color: #D2E3FC;\n",
              "      --hover-bg-color: #434B5C;\n",
              "      --hover-fill-color: #FFFFFF;\n",
              "      --disabled-bg-color: #3B4455;\n",
              "      --disabled-fill-color: #666;\n",
              "  }\n",
              "\n",
              "  .colab-df-quickchart {\n",
              "    background-color: var(--bg-color);\n",
              "    border: none;\n",
              "    border-radius: 50%;\n",
              "    cursor: pointer;\n",
              "    display: none;\n",
              "    fill: var(--fill-color);\n",
              "    height: 32px;\n",
              "    padding: 0;\n",
              "    width: 32px;\n",
              "  }\n",
              "\n",
              "  .colab-df-quickchart:hover {\n",
              "    background-color: var(--hover-bg-color);\n",
              "    box-shadow: 0 1px 2px rgba(60, 64, 67, 0.3), 0 1px 3px 1px rgba(60, 64, 67, 0.15);\n",
              "    fill: var(--button-hover-fill-color);\n",
              "  }\n",
              "\n",
              "  .colab-df-quickchart-complete:disabled,\n",
              "  .colab-df-quickchart-complete:disabled:hover {\n",
              "    background-color: var(--disabled-bg-color);\n",
              "    fill: var(--disabled-fill-color);\n",
              "    box-shadow: none;\n",
              "  }\n",
              "\n",
              "  .colab-df-spinner {\n",
              "    border: 2px solid var(--fill-color);\n",
              "    border-color: transparent;\n",
              "    border-bottom-color: var(--fill-color);\n",
              "    animation:\n",
              "      spin 1s steps(1) infinite;\n",
              "  }\n",
              "\n",
              "  @keyframes spin {\n",
              "    0% {\n",
              "      border-color: transparent;\n",
              "      border-bottom-color: var(--fill-color);\n",
              "      border-left-color: var(--fill-color);\n",
              "    }\n",
              "    20% {\n",
              "      border-color: transparent;\n",
              "      border-left-color: var(--fill-color);\n",
              "      border-top-color: var(--fill-color);\n",
              "    }\n",
              "    30% {\n",
              "      border-color: transparent;\n",
              "      border-left-color: var(--fill-color);\n",
              "      border-top-color: var(--fill-color);\n",
              "      border-right-color: var(--fill-color);\n",
              "    }\n",
              "    40% {\n",
              "      border-color: transparent;\n",
              "      border-right-color: var(--fill-color);\n",
              "      border-top-color: var(--fill-color);\n",
              "    }\n",
              "    60% {\n",
              "      border-color: transparent;\n",
              "      border-right-color: var(--fill-color);\n",
              "    }\n",
              "    80% {\n",
              "      border-color: transparent;\n",
              "      border-right-color: var(--fill-color);\n",
              "      border-bottom-color: var(--fill-color);\n",
              "    }\n",
              "    90% {\n",
              "      border-color: transparent;\n",
              "      border-bottom-color: var(--fill-color);\n",
              "    }\n",
              "  }\n",
              "</style>\n",
              "\n",
              "  <script>\n",
              "    async function quickchart(key) {\n",
              "      const quickchartButtonEl =\n",
              "        document.querySelector('#' + key + ' button');\n",
              "      quickchartButtonEl.disabled = true;  // To prevent multiple clicks.\n",
              "      quickchartButtonEl.classList.add('colab-df-spinner');\n",
              "      try {\n",
              "        const charts = await google.colab.kernel.invokeFunction(\n",
              "            'suggestCharts', [key], {});\n",
              "      } catch (error) {\n",
              "        console.error('Error during call to suggestCharts:', error);\n",
              "      }\n",
              "      quickchartButtonEl.classList.remove('colab-df-spinner');\n",
              "      quickchartButtonEl.classList.add('colab-df-quickchart-complete');\n",
              "    }\n",
              "    (() => {\n",
              "      let quickchartButtonEl =\n",
              "        document.querySelector('#df-3bded30f-0f0c-4571-8180-ebc2256f4aa6 button');\n",
              "      quickchartButtonEl.style.display =\n",
              "        google.colab.kernel.accessAllowed ? 'block' : 'none';\n",
              "    })();\n",
              "  </script>\n",
              "</div>\n",
              "\n",
              "  <div id=\"id_8577d29a-063e-4391-a466-728f902f4bd8\">\n",
              "    <style>\n",
              "      .colab-df-generate {\n",
              "        background-color: #E8F0FE;\n",
              "        border: none;\n",
              "        border-radius: 50%;\n",
              "        cursor: pointer;\n",
              "        display: none;\n",
              "        fill: #1967D2;\n",
              "        height: 32px;\n",
              "        padding: 0 0 0 0;\n",
              "        width: 32px;\n",
              "      }\n",
              "\n",
              "      .colab-df-generate:hover {\n",
              "        background-color: #E2EBFA;\n",
              "        box-shadow: 0px 1px 2px rgba(60, 64, 67, 0.3), 0px 1px 3px 1px rgba(60, 64, 67, 0.15);\n",
              "        fill: #174EA6;\n",
              "      }\n",
              "\n",
              "      [theme=dark] .colab-df-generate {\n",
              "        background-color: #3B4455;\n",
              "        fill: #D2E3FC;\n",
              "      }\n",
              "\n",
              "      [theme=dark] .colab-df-generate:hover {\n",
              "        background-color: #434B5C;\n",
              "        box-shadow: 0px 1px 3px 1px rgba(0, 0, 0, 0.15);\n",
              "        filter: drop-shadow(0px 1px 2px rgba(0, 0, 0, 0.3));\n",
              "        fill: #FFFFFF;\n",
              "      }\n",
              "    </style>\n",
              "    <button class=\"colab-df-generate\" onclick=\"generateWithVariable('df_BookRatings')\"\n",
              "            title=\"Generate code using this dataframe.\"\n",
              "            style=\"display:none;\">\n",
              "\n",
              "  <svg xmlns=\"http://www.w3.org/2000/svg\" height=\"24px\"viewBox=\"0 0 24 24\"\n",
              "       width=\"24px\">\n",
              "    <path d=\"M7,19H8.4L18.45,9,17,7.55,7,17.6ZM5,21V16.75L18.45,3.32a2,2,0,0,1,2.83,0l1.4,1.43a1.91,1.91,0,0,1,.58,1.4,1.91,1.91,0,0,1-.58,1.4L9.25,21ZM18.45,9,17,7.55Zm-12,3A5.31,5.31,0,0,0,4.9,8.1,5.31,5.31,0,0,0,1,6.5,5.31,5.31,0,0,0,4.9,4.9,5.31,5.31,0,0,0,6.5,1,5.31,5.31,0,0,0,8.1,4.9,5.31,5.31,0,0,0,12,6.5,5.46,5.46,0,0,0,6.5,12Z\"/>\n",
              "  </svg>\n",
              "    </button>\n",
              "    <script>\n",
              "      (() => {\n",
              "      const buttonEl =\n",
              "        document.querySelector('#id_8577d29a-063e-4391-a466-728f902f4bd8 button.colab-df-generate');\n",
              "      buttonEl.style.display =\n",
              "        google.colab.kernel.accessAllowed ? 'block' : 'none';\n",
              "\n",
              "      buttonEl.onclick = () => {\n",
              "        google.colab.notebook.generateWithVariable('df_BookRatings');\n",
              "      }\n",
              "      })();\n",
              "    </script>\n",
              "  </div>\n",
              "\n",
              "    </div>\n",
              "  </div>\n"
            ]
          },
          "metadata": {},
          "execution_count": 5
        }
      ],
      "source": [
        "df_BookRatings = pd.read_csv('/content/BX-Book-Ratings.csv', sep=';', encoding = 'latin-1',error_bad_lines=False)\n",
        "\n",
        "df_BookRatings"
      ]
    },
    {
      "cell_type": "markdown",
      "metadata": {
        "id": "Dz1O8NQMVOj3"
      },
      "source": [
        "## 데이터 전처리 과정\n",
        "\n",
        "1. 각각의 데이터 변환(문자열 데이터 stemming을 적용하여 어간 추출)\n",
        "\n"
      ]
    },
    {
      "cell_type": "code",
      "execution_count": null,
      "metadata": {
        "colab": {
          "base_uri": "https://localhost:8080/",
          "height": 423
        },
        "id": "ALLhlACSdooV",
        "outputId": "cc7df72a-40fe-4ff7-99d2-e5d1bd53d1eb"
      },
      "outputs": [
        {
          "output_type": "execute_result",
          "data": {
            "text/plain": [
              "        User-ID                          Location   Age\n",
              "0             1                nyc, new york, usa   NaN\n",
              "1             2         stockton, california, usa  18.0\n",
              "2             3   moscow, yukon territory, russia   NaN\n",
              "3             4           porto, v.n.gaia, portug  17.0\n",
              "4             5  farnborough, hants, unit kingdom   NaN\n",
              "...         ...                               ...   ...\n",
              "278853   278854             portland, oregon, usa   NaN\n",
              "278854   278855  tacoma, washington, unit kingdom  50.0\n",
              "278855   278856         brampton, ontario, canada   NaN\n",
              "278856   278857         knoxville, tennessee, usa   NaN\n",
              "278857   278858              dublin, n/a, ireland   NaN\n",
              "\n",
              "[278858 rows x 3 columns]"
            ],
            "text/html": [
              "\n",
              "  <div id=\"df-ecef2e33-cc4d-4144-ad25-7769fcc41f3b\" class=\"colab-df-container\">\n",
              "    <div>\n",
              "<style scoped>\n",
              "    .dataframe tbody tr th:only-of-type {\n",
              "        vertical-align: middle;\n",
              "    }\n",
              "\n",
              "    .dataframe tbody tr th {\n",
              "        vertical-align: top;\n",
              "    }\n",
              "\n",
              "    .dataframe thead th {\n",
              "        text-align: right;\n",
              "    }\n",
              "</style>\n",
              "<table border=\"1\" class=\"dataframe\">\n",
              "  <thead>\n",
              "    <tr style=\"text-align: right;\">\n",
              "      <th></th>\n",
              "      <th>User-ID</th>\n",
              "      <th>Location</th>\n",
              "      <th>Age</th>\n",
              "    </tr>\n",
              "  </thead>\n",
              "  <tbody>\n",
              "    <tr>\n",
              "      <th>0</th>\n",
              "      <td>1</td>\n",
              "      <td>nyc, new york, usa</td>\n",
              "      <td>NaN</td>\n",
              "    </tr>\n",
              "    <tr>\n",
              "      <th>1</th>\n",
              "      <td>2</td>\n",
              "      <td>stockton, california, usa</td>\n",
              "      <td>18.0</td>\n",
              "    </tr>\n",
              "    <tr>\n",
              "      <th>2</th>\n",
              "      <td>3</td>\n",
              "      <td>moscow, yukon territory, russia</td>\n",
              "      <td>NaN</td>\n",
              "    </tr>\n",
              "    <tr>\n",
              "      <th>3</th>\n",
              "      <td>4</td>\n",
              "      <td>porto, v.n.gaia, portug</td>\n",
              "      <td>17.0</td>\n",
              "    </tr>\n",
              "    <tr>\n",
              "      <th>4</th>\n",
              "      <td>5</td>\n",
              "      <td>farnborough, hants, unit kingdom</td>\n",
              "      <td>NaN</td>\n",
              "    </tr>\n",
              "    <tr>\n",
              "      <th>...</th>\n",
              "      <td>...</td>\n",
              "      <td>...</td>\n",
              "      <td>...</td>\n",
              "    </tr>\n",
              "    <tr>\n",
              "      <th>278853</th>\n",
              "      <td>278854</td>\n",
              "      <td>portland, oregon, usa</td>\n",
              "      <td>NaN</td>\n",
              "    </tr>\n",
              "    <tr>\n",
              "      <th>278854</th>\n",
              "      <td>278855</td>\n",
              "      <td>tacoma, washington, unit kingdom</td>\n",
              "      <td>50.0</td>\n",
              "    </tr>\n",
              "    <tr>\n",
              "      <th>278855</th>\n",
              "      <td>278856</td>\n",
              "      <td>brampton, ontario, canada</td>\n",
              "      <td>NaN</td>\n",
              "    </tr>\n",
              "    <tr>\n",
              "      <th>278856</th>\n",
              "      <td>278857</td>\n",
              "      <td>knoxville, tennessee, usa</td>\n",
              "      <td>NaN</td>\n",
              "    </tr>\n",
              "    <tr>\n",
              "      <th>278857</th>\n",
              "      <td>278858</td>\n",
              "      <td>dublin, n/a, ireland</td>\n",
              "      <td>NaN</td>\n",
              "    </tr>\n",
              "  </tbody>\n",
              "</table>\n",
              "<p>278858 rows × 3 columns</p>\n",
              "</div>\n",
              "    <div class=\"colab-df-buttons\">\n",
              "\n",
              "  <div class=\"colab-df-container\">\n",
              "    <button class=\"colab-df-convert\" onclick=\"convertToInteractive('df-ecef2e33-cc4d-4144-ad25-7769fcc41f3b')\"\n",
              "            title=\"Convert this dataframe to an interactive table.\"\n",
              "            style=\"display:none;\">\n",
              "\n",
              "  <svg xmlns=\"http://www.w3.org/2000/svg\" height=\"24px\" viewBox=\"0 -960 960 960\">\n",
              "    <path d=\"M120-120v-720h720v720H120Zm60-500h600v-160H180v160Zm220 220h160v-160H400v160Zm0 220h160v-160H400v160ZM180-400h160v-160H180v160Zm440 0h160v-160H620v160ZM180-180h160v-160H180v160Zm440 0h160v-160H620v160Z\"/>\n",
              "  </svg>\n",
              "    </button>\n",
              "\n",
              "  <style>\n",
              "    .colab-df-container {\n",
              "      display:flex;\n",
              "      gap: 12px;\n",
              "    }\n",
              "\n",
              "    .colab-df-convert {\n",
              "      background-color: #E8F0FE;\n",
              "      border: none;\n",
              "      border-radius: 50%;\n",
              "      cursor: pointer;\n",
              "      display: none;\n",
              "      fill: #1967D2;\n",
              "      height: 32px;\n",
              "      padding: 0 0 0 0;\n",
              "      width: 32px;\n",
              "    }\n",
              "\n",
              "    .colab-df-convert:hover {\n",
              "      background-color: #E2EBFA;\n",
              "      box-shadow: 0px 1px 2px rgba(60, 64, 67, 0.3), 0px 1px 3px 1px rgba(60, 64, 67, 0.15);\n",
              "      fill: #174EA6;\n",
              "    }\n",
              "\n",
              "    .colab-df-buttons div {\n",
              "      margin-bottom: 4px;\n",
              "    }\n",
              "\n",
              "    [theme=dark] .colab-df-convert {\n",
              "      background-color: #3B4455;\n",
              "      fill: #D2E3FC;\n",
              "    }\n",
              "\n",
              "    [theme=dark] .colab-df-convert:hover {\n",
              "      background-color: #434B5C;\n",
              "      box-shadow: 0px 1px 3px 1px rgba(0, 0, 0, 0.15);\n",
              "      filter: drop-shadow(0px 1px 2px rgba(0, 0, 0, 0.3));\n",
              "      fill: #FFFFFF;\n",
              "    }\n",
              "  </style>\n",
              "\n",
              "    <script>\n",
              "      const buttonEl =\n",
              "        document.querySelector('#df-ecef2e33-cc4d-4144-ad25-7769fcc41f3b button.colab-df-convert');\n",
              "      buttonEl.style.display =\n",
              "        google.colab.kernel.accessAllowed ? 'block' : 'none';\n",
              "\n",
              "      async function convertToInteractive(key) {\n",
              "        const element = document.querySelector('#df-ecef2e33-cc4d-4144-ad25-7769fcc41f3b');\n",
              "        const dataTable =\n",
              "          await google.colab.kernel.invokeFunction('convertToInteractive',\n",
              "                                                    [key], {});\n",
              "        if (!dataTable) return;\n",
              "\n",
              "        const docLinkHtml = 'Like what you see? Visit the ' +\n",
              "          '<a target=\"_blank\" href=https://colab.research.google.com/notebooks/data_table.ipynb>data table notebook</a>'\n",
              "          + ' to learn more about interactive tables.';\n",
              "        element.innerHTML = '';\n",
              "        dataTable['output_type'] = 'display_data';\n",
              "        await google.colab.output.renderOutput(dataTable, element);\n",
              "        const docLink = document.createElement('div');\n",
              "        docLink.innerHTML = docLinkHtml;\n",
              "        element.appendChild(docLink);\n",
              "      }\n",
              "    </script>\n",
              "  </div>\n",
              "\n",
              "\n",
              "<div id=\"df-c19912d8-26eb-4873-a227-8fb033a0b54f\">\n",
              "  <button class=\"colab-df-quickchart\" onclick=\"quickchart('df-c19912d8-26eb-4873-a227-8fb033a0b54f')\"\n",
              "            title=\"Suggest charts\"\n",
              "            style=\"display:none;\">\n",
              "\n",
              "<svg xmlns=\"http://www.w3.org/2000/svg\" height=\"24px\"viewBox=\"0 0 24 24\"\n",
              "     width=\"24px\">\n",
              "    <g>\n",
              "        <path d=\"M19 3H5c-1.1 0-2 .9-2 2v14c0 1.1.9 2 2 2h14c1.1 0 2-.9 2-2V5c0-1.1-.9-2-2-2zM9 17H7v-7h2v7zm4 0h-2V7h2v10zm4 0h-2v-4h2v4z\"/>\n",
              "    </g>\n",
              "</svg>\n",
              "  </button>\n",
              "\n",
              "<style>\n",
              "  .colab-df-quickchart {\n",
              "      --bg-color: #E8F0FE;\n",
              "      --fill-color: #1967D2;\n",
              "      --hover-bg-color: #E2EBFA;\n",
              "      --hover-fill-color: #174EA6;\n",
              "      --disabled-fill-color: #AAA;\n",
              "      --disabled-bg-color: #DDD;\n",
              "  }\n",
              "\n",
              "  [theme=dark] .colab-df-quickchart {\n",
              "      --bg-color: #3B4455;\n",
              "      --fill-color: #D2E3FC;\n",
              "      --hover-bg-color: #434B5C;\n",
              "      --hover-fill-color: #FFFFFF;\n",
              "      --disabled-bg-color: #3B4455;\n",
              "      --disabled-fill-color: #666;\n",
              "  }\n",
              "\n",
              "  .colab-df-quickchart {\n",
              "    background-color: var(--bg-color);\n",
              "    border: none;\n",
              "    border-radius: 50%;\n",
              "    cursor: pointer;\n",
              "    display: none;\n",
              "    fill: var(--fill-color);\n",
              "    height: 32px;\n",
              "    padding: 0;\n",
              "    width: 32px;\n",
              "  }\n",
              "\n",
              "  .colab-df-quickchart:hover {\n",
              "    background-color: var(--hover-bg-color);\n",
              "    box-shadow: 0 1px 2px rgba(60, 64, 67, 0.3), 0 1px 3px 1px rgba(60, 64, 67, 0.15);\n",
              "    fill: var(--button-hover-fill-color);\n",
              "  }\n",
              "\n",
              "  .colab-df-quickchart-complete:disabled,\n",
              "  .colab-df-quickchart-complete:disabled:hover {\n",
              "    background-color: var(--disabled-bg-color);\n",
              "    fill: var(--disabled-fill-color);\n",
              "    box-shadow: none;\n",
              "  }\n",
              "\n",
              "  .colab-df-spinner {\n",
              "    border: 2px solid var(--fill-color);\n",
              "    border-color: transparent;\n",
              "    border-bottom-color: var(--fill-color);\n",
              "    animation:\n",
              "      spin 1s steps(1) infinite;\n",
              "  }\n",
              "\n",
              "  @keyframes spin {\n",
              "    0% {\n",
              "      border-color: transparent;\n",
              "      border-bottom-color: var(--fill-color);\n",
              "      border-left-color: var(--fill-color);\n",
              "    }\n",
              "    20% {\n",
              "      border-color: transparent;\n",
              "      border-left-color: var(--fill-color);\n",
              "      border-top-color: var(--fill-color);\n",
              "    }\n",
              "    30% {\n",
              "      border-color: transparent;\n",
              "      border-left-color: var(--fill-color);\n",
              "      border-top-color: var(--fill-color);\n",
              "      border-right-color: var(--fill-color);\n",
              "    }\n",
              "    40% {\n",
              "      border-color: transparent;\n",
              "      border-right-color: var(--fill-color);\n",
              "      border-top-color: var(--fill-color);\n",
              "    }\n",
              "    60% {\n",
              "      border-color: transparent;\n",
              "      border-right-color: var(--fill-color);\n",
              "    }\n",
              "    80% {\n",
              "      border-color: transparent;\n",
              "      border-right-color: var(--fill-color);\n",
              "      border-bottom-color: var(--fill-color);\n",
              "    }\n",
              "    90% {\n",
              "      border-color: transparent;\n",
              "      border-bottom-color: var(--fill-color);\n",
              "    }\n",
              "  }\n",
              "</style>\n",
              "\n",
              "  <script>\n",
              "    async function quickchart(key) {\n",
              "      const quickchartButtonEl =\n",
              "        document.querySelector('#' + key + ' button');\n",
              "      quickchartButtonEl.disabled = true;  // To prevent multiple clicks.\n",
              "      quickchartButtonEl.classList.add('colab-df-spinner');\n",
              "      try {\n",
              "        const charts = await google.colab.kernel.invokeFunction(\n",
              "            'suggestCharts', [key], {});\n",
              "      } catch (error) {\n",
              "        console.error('Error during call to suggestCharts:', error);\n",
              "      }\n",
              "      quickchartButtonEl.classList.remove('colab-df-spinner');\n",
              "      quickchartButtonEl.classList.add('colab-df-quickchart-complete');\n",
              "    }\n",
              "    (() => {\n",
              "      let quickchartButtonEl =\n",
              "        document.querySelector('#df-c19912d8-26eb-4873-a227-8fb033a0b54f button');\n",
              "      quickchartButtonEl.style.display =\n",
              "        google.colab.kernel.accessAllowed ? 'block' : 'none';\n",
              "    })();\n",
              "  </script>\n",
              "</div>\n",
              "\n",
              "  <div id=\"id_f410c83e-9743-4601-9e33-49929e51e302\">\n",
              "    <style>\n",
              "      .colab-df-generate {\n",
              "        background-color: #E8F0FE;\n",
              "        border: none;\n",
              "        border-radius: 50%;\n",
              "        cursor: pointer;\n",
              "        display: none;\n",
              "        fill: #1967D2;\n",
              "        height: 32px;\n",
              "        padding: 0 0 0 0;\n",
              "        width: 32px;\n",
              "      }\n",
              "\n",
              "      .colab-df-generate:hover {\n",
              "        background-color: #E2EBFA;\n",
              "        box-shadow: 0px 1px 2px rgba(60, 64, 67, 0.3), 0px 1px 3px 1px rgba(60, 64, 67, 0.15);\n",
              "        fill: #174EA6;\n",
              "      }\n",
              "\n",
              "      [theme=dark] .colab-df-generate {\n",
              "        background-color: #3B4455;\n",
              "        fill: #D2E3FC;\n",
              "      }\n",
              "\n",
              "      [theme=dark] .colab-df-generate:hover {\n",
              "        background-color: #434B5C;\n",
              "        box-shadow: 0px 1px 3px 1px rgba(0, 0, 0, 0.15);\n",
              "        filter: drop-shadow(0px 1px 2px rgba(0, 0, 0, 0.3));\n",
              "        fill: #FFFFFF;\n",
              "      }\n",
              "    </style>\n",
              "    <button class=\"colab-df-generate\" onclick=\"generateWithVariable('df_user')\"\n",
              "            title=\"Generate code using this dataframe.\"\n",
              "            style=\"display:none;\">\n",
              "\n",
              "  <svg xmlns=\"http://www.w3.org/2000/svg\" height=\"24px\"viewBox=\"0 0 24 24\"\n",
              "       width=\"24px\">\n",
              "    <path d=\"M7,19H8.4L18.45,9,17,7.55,7,17.6ZM5,21V16.75L18.45,3.32a2,2,0,0,1,2.83,0l1.4,1.43a1.91,1.91,0,0,1,.58,1.4,1.91,1.91,0,0,1-.58,1.4L9.25,21ZM18.45,9,17,7.55Zm-12,3A5.31,5.31,0,0,0,4.9,8.1,5.31,5.31,0,0,0,1,6.5,5.31,5.31,0,0,0,4.9,4.9,5.31,5.31,0,0,0,6.5,1,5.31,5.31,0,0,0,8.1,4.9,5.31,5.31,0,0,0,12,6.5,5.46,5.46,0,0,0,6.5,12Z\"/>\n",
              "  </svg>\n",
              "    </button>\n",
              "    <script>\n",
              "      (() => {\n",
              "      const buttonEl =\n",
              "        document.querySelector('#id_f410c83e-9743-4601-9e33-49929e51e302 button.colab-df-generate');\n",
              "      buttonEl.style.display =\n",
              "        google.colab.kernel.accessAllowed ? 'block' : 'none';\n",
              "\n",
              "      buttonEl.onclick = () => {\n",
              "        google.colab.notebook.generateWithVariable('df_user');\n",
              "      }\n",
              "      })();\n",
              "    </script>\n",
              "  </div>\n",
              "\n",
              "    </div>\n",
              "  </div>\n"
            ]
          },
          "metadata": {},
          "execution_count": 78
        }
      ],
      "source": [
        "from nltk.stem import PorterStemmer\n",
        "\n",
        "def stem_text(text):\n",
        "    stemmer = PorterStemmer()\n",
        "    if isinstance(text, str):\n",
        "        return ' '.join([stemmer.stem(word) for word in text.split()])\n",
        "    else:\n",
        "        return text\n",
        "\n",
        "\n",
        "df_user['Location'] = df_user['Location'].astype(str).apply(stem_text)\n",
        "df_user"
      ]
    },
    {
      "cell_type": "markdown",
      "metadata": {
        "id": "lzv-1sW68zNm"
      },
      "source": [
        "책데이터\n"
      ]
    },
    {
      "cell_type": "code",
      "execution_count": null,
      "metadata": {
        "colab": {
          "base_uri": "https://localhost:8080/",
          "height": 929
        },
        "id": "yDSXWgOx8ylD",
        "outputId": "1d052238-8c1a-4882-f268-a2af4951566b"
      },
      "outputs": [
        {
          "output_type": "execute_result",
          "data": {
            "text/plain": [
              "              ISBN                                         Book-Title  \\\n",
              "0       0195153448                                   classic mytholog   \n",
              "1       0002005018                                       clara callan   \n",
              "2       0060973129                                   deci in normandi   \n",
              "3       0374157065  flu: the stori of the great influenza pandem o...   \n",
              "4       0393045218                               the mummi of urumchi   \n",
              "...            ...                                                ...   \n",
              "271374  0440400988                          there' a bat in bunk five   \n",
              "271375  0525447644                              from one to one hundr   \n",
              "271376  006008667X  lili dale : the true stori of the town that ta...   \n",
              "271377  0192126040                           republ (world' classics)   \n",
              "271378  0767409752  a guid tour of rene descartes' medit on first ...   \n",
              "\n",
              "                 Book-Author  Year-Of-Publication  \\\n",
              "0         Mark P. O. Morford                 2002   \n",
              "1       Richard Bruce Wright                 2001   \n",
              "2               Carlo D'Este                 1991   \n",
              "3           Gina Bari Kolata                 1999   \n",
              "4            E. J. W. Barber                 1999   \n",
              "...                      ...                  ...   \n",
              "271374        Paula Danziger                 1988   \n",
              "271375            Teri Sloat                 1991   \n",
              "271376      Christine Wicker                 2004   \n",
              "271377                 Plato                 1996   \n",
              "271378   Christopher  Biffle                 2000   \n",
              "\n",
              "                                               Publisher  \\\n",
              "0                                Oxford University Press   \n",
              "1                                  HarperFlamingo Canada   \n",
              "2                                        HarperPerennial   \n",
              "3                                   Farrar Straus Giroux   \n",
              "4                                 W. W. Norton & Company   \n",
              "...                                                  ...   \n",
              "271374                   Random House Childrens Pub (Mm)   \n",
              "271375                                      Dutton Books   \n",
              "271376                                HarperSanFrancisco   \n",
              "271377                           Oxford University Press   \n",
              "271378  McGraw-Hill Humanities/Social Sciences/Languages   \n",
              "\n",
              "                                              Image-URL-S  \\\n",
              "0       http://images.amazon.com/images/P/0195153448.0...   \n",
              "1       http://images.amazon.com/images/P/0002005018.0...   \n",
              "2       http://images.amazon.com/images/P/0060973129.0...   \n",
              "3       http://images.amazon.com/images/P/0374157065.0...   \n",
              "4       http://images.amazon.com/images/P/0393045218.0...   \n",
              "...                                                   ...   \n",
              "271374  http://images.amazon.com/images/P/0440400988.0...   \n",
              "271375  http://images.amazon.com/images/P/0525447644.0...   \n",
              "271376  http://images.amazon.com/images/P/006008667X.0...   \n",
              "271377  http://images.amazon.com/images/P/0192126040.0...   \n",
              "271378  http://images.amazon.com/images/P/0767409752.0...   \n",
              "\n",
              "                                              Image-URL-M  \\\n",
              "0       http://images.amazon.com/images/P/0195153448.0...   \n",
              "1       http://images.amazon.com/images/P/0002005018.0...   \n",
              "2       http://images.amazon.com/images/P/0060973129.0...   \n",
              "3       http://images.amazon.com/images/P/0374157065.0...   \n",
              "4       http://images.amazon.com/images/P/0393045218.0...   \n",
              "...                                                   ...   \n",
              "271374  http://images.amazon.com/images/P/0440400988.0...   \n",
              "271375  http://images.amazon.com/images/P/0525447644.0...   \n",
              "271376  http://images.amazon.com/images/P/006008667X.0...   \n",
              "271377  http://images.amazon.com/images/P/0192126040.0...   \n",
              "271378  http://images.amazon.com/images/P/0767409752.0...   \n",
              "\n",
              "                                              Image-URL-L  \n",
              "0       http://images.amazon.com/images/P/0195153448.0...  \n",
              "1       http://images.amazon.com/images/P/0002005018.0...  \n",
              "2       http://images.amazon.com/images/P/0060973129.0...  \n",
              "3       http://images.amazon.com/images/P/0374157065.0...  \n",
              "4       http://images.amazon.com/images/P/0393045218.0...  \n",
              "...                                                   ...  \n",
              "271374  http://images.amazon.com/images/P/0440400988.0...  \n",
              "271375  http://images.amazon.com/images/P/0525447644.0...  \n",
              "271376  http://images.amazon.com/images/P/006008667X.0...  \n",
              "271377  http://images.amazon.com/images/P/0192126040.0...  \n",
              "271378  http://images.amazon.com/images/P/0767409752.0...  \n",
              "\n",
              "[271379 rows x 8 columns]"
            ],
            "text/html": [
              "\n",
              "  <div id=\"df-4ed7af20-8c64-421c-b2f9-34f3982a21b6\" class=\"colab-df-container\">\n",
              "    <div>\n",
              "<style scoped>\n",
              "    .dataframe tbody tr th:only-of-type {\n",
              "        vertical-align: middle;\n",
              "    }\n",
              "\n",
              "    .dataframe tbody tr th {\n",
              "        vertical-align: top;\n",
              "    }\n",
              "\n",
              "    .dataframe thead th {\n",
              "        text-align: right;\n",
              "    }\n",
              "</style>\n",
              "<table border=\"1\" class=\"dataframe\">\n",
              "  <thead>\n",
              "    <tr style=\"text-align: right;\">\n",
              "      <th></th>\n",
              "      <th>ISBN</th>\n",
              "      <th>Book-Title</th>\n",
              "      <th>Book-Author</th>\n",
              "      <th>Year-Of-Publication</th>\n",
              "      <th>Publisher</th>\n",
              "      <th>Image-URL-S</th>\n",
              "      <th>Image-URL-M</th>\n",
              "      <th>Image-URL-L</th>\n",
              "    </tr>\n",
              "  </thead>\n",
              "  <tbody>\n",
              "    <tr>\n",
              "      <th>0</th>\n",
              "      <td>0195153448</td>\n",
              "      <td>classic mytholog</td>\n",
              "      <td>Mark P. O. Morford</td>\n",
              "      <td>2002</td>\n",
              "      <td>Oxford University Press</td>\n",
              "      <td>http://images.amazon.com/images/P/0195153448.0...</td>\n",
              "      <td>http://images.amazon.com/images/P/0195153448.0...</td>\n",
              "      <td>http://images.amazon.com/images/P/0195153448.0...</td>\n",
              "    </tr>\n",
              "    <tr>\n",
              "      <th>1</th>\n",
              "      <td>0002005018</td>\n",
              "      <td>clara callan</td>\n",
              "      <td>Richard Bruce Wright</td>\n",
              "      <td>2001</td>\n",
              "      <td>HarperFlamingo Canada</td>\n",
              "      <td>http://images.amazon.com/images/P/0002005018.0...</td>\n",
              "      <td>http://images.amazon.com/images/P/0002005018.0...</td>\n",
              "      <td>http://images.amazon.com/images/P/0002005018.0...</td>\n",
              "    </tr>\n",
              "    <tr>\n",
              "      <th>2</th>\n",
              "      <td>0060973129</td>\n",
              "      <td>deci in normandi</td>\n",
              "      <td>Carlo D'Este</td>\n",
              "      <td>1991</td>\n",
              "      <td>HarperPerennial</td>\n",
              "      <td>http://images.amazon.com/images/P/0060973129.0...</td>\n",
              "      <td>http://images.amazon.com/images/P/0060973129.0...</td>\n",
              "      <td>http://images.amazon.com/images/P/0060973129.0...</td>\n",
              "    </tr>\n",
              "    <tr>\n",
              "      <th>3</th>\n",
              "      <td>0374157065</td>\n",
              "      <td>flu: the stori of the great influenza pandem o...</td>\n",
              "      <td>Gina Bari Kolata</td>\n",
              "      <td>1999</td>\n",
              "      <td>Farrar Straus Giroux</td>\n",
              "      <td>http://images.amazon.com/images/P/0374157065.0...</td>\n",
              "      <td>http://images.amazon.com/images/P/0374157065.0...</td>\n",
              "      <td>http://images.amazon.com/images/P/0374157065.0...</td>\n",
              "    </tr>\n",
              "    <tr>\n",
              "      <th>4</th>\n",
              "      <td>0393045218</td>\n",
              "      <td>the mummi of urumchi</td>\n",
              "      <td>E. J. W. Barber</td>\n",
              "      <td>1999</td>\n",
              "      <td>W. W. Norton &amp; Company</td>\n",
              "      <td>http://images.amazon.com/images/P/0393045218.0...</td>\n",
              "      <td>http://images.amazon.com/images/P/0393045218.0...</td>\n",
              "      <td>http://images.amazon.com/images/P/0393045218.0...</td>\n",
              "    </tr>\n",
              "    <tr>\n",
              "      <th>...</th>\n",
              "      <td>...</td>\n",
              "      <td>...</td>\n",
              "      <td>...</td>\n",
              "      <td>...</td>\n",
              "      <td>...</td>\n",
              "      <td>...</td>\n",
              "      <td>...</td>\n",
              "      <td>...</td>\n",
              "    </tr>\n",
              "    <tr>\n",
              "      <th>271374</th>\n",
              "      <td>0440400988</td>\n",
              "      <td>there' a bat in bunk five</td>\n",
              "      <td>Paula Danziger</td>\n",
              "      <td>1988</td>\n",
              "      <td>Random House Childrens Pub (Mm)</td>\n",
              "      <td>http://images.amazon.com/images/P/0440400988.0...</td>\n",
              "      <td>http://images.amazon.com/images/P/0440400988.0...</td>\n",
              "      <td>http://images.amazon.com/images/P/0440400988.0...</td>\n",
              "    </tr>\n",
              "    <tr>\n",
              "      <th>271375</th>\n",
              "      <td>0525447644</td>\n",
              "      <td>from one to one hundr</td>\n",
              "      <td>Teri Sloat</td>\n",
              "      <td>1991</td>\n",
              "      <td>Dutton Books</td>\n",
              "      <td>http://images.amazon.com/images/P/0525447644.0...</td>\n",
              "      <td>http://images.amazon.com/images/P/0525447644.0...</td>\n",
              "      <td>http://images.amazon.com/images/P/0525447644.0...</td>\n",
              "    </tr>\n",
              "    <tr>\n",
              "      <th>271376</th>\n",
              "      <td>006008667X</td>\n",
              "      <td>lili dale : the true stori of the town that ta...</td>\n",
              "      <td>Christine Wicker</td>\n",
              "      <td>2004</td>\n",
              "      <td>HarperSanFrancisco</td>\n",
              "      <td>http://images.amazon.com/images/P/006008667X.0...</td>\n",
              "      <td>http://images.amazon.com/images/P/006008667X.0...</td>\n",
              "      <td>http://images.amazon.com/images/P/006008667X.0...</td>\n",
              "    </tr>\n",
              "    <tr>\n",
              "      <th>271377</th>\n",
              "      <td>0192126040</td>\n",
              "      <td>republ (world' classics)</td>\n",
              "      <td>Plato</td>\n",
              "      <td>1996</td>\n",
              "      <td>Oxford University Press</td>\n",
              "      <td>http://images.amazon.com/images/P/0192126040.0...</td>\n",
              "      <td>http://images.amazon.com/images/P/0192126040.0...</td>\n",
              "      <td>http://images.amazon.com/images/P/0192126040.0...</td>\n",
              "    </tr>\n",
              "    <tr>\n",
              "      <th>271378</th>\n",
              "      <td>0767409752</td>\n",
              "      <td>a guid tour of rene descartes' medit on first ...</td>\n",
              "      <td>Christopher  Biffle</td>\n",
              "      <td>2000</td>\n",
              "      <td>McGraw-Hill Humanities/Social Sciences/Languages</td>\n",
              "      <td>http://images.amazon.com/images/P/0767409752.0...</td>\n",
              "      <td>http://images.amazon.com/images/P/0767409752.0...</td>\n",
              "      <td>http://images.amazon.com/images/P/0767409752.0...</td>\n",
              "    </tr>\n",
              "  </tbody>\n",
              "</table>\n",
              "<p>271379 rows × 8 columns</p>\n",
              "</div>\n",
              "    <div class=\"colab-df-buttons\">\n",
              "\n",
              "  <div class=\"colab-df-container\">\n",
              "    <button class=\"colab-df-convert\" onclick=\"convertToInteractive('df-4ed7af20-8c64-421c-b2f9-34f3982a21b6')\"\n",
              "            title=\"Convert this dataframe to an interactive table.\"\n",
              "            style=\"display:none;\">\n",
              "\n",
              "  <svg xmlns=\"http://www.w3.org/2000/svg\" height=\"24px\" viewBox=\"0 -960 960 960\">\n",
              "    <path d=\"M120-120v-720h720v720H120Zm60-500h600v-160H180v160Zm220 220h160v-160H400v160Zm0 220h160v-160H400v160ZM180-400h160v-160H180v160Zm440 0h160v-160H620v160ZM180-180h160v-160H180v160Zm440 0h160v-160H620v160Z\"/>\n",
              "  </svg>\n",
              "    </button>\n",
              "\n",
              "  <style>\n",
              "    .colab-df-container {\n",
              "      display:flex;\n",
              "      gap: 12px;\n",
              "    }\n",
              "\n",
              "    .colab-df-convert {\n",
              "      background-color: #E8F0FE;\n",
              "      border: none;\n",
              "      border-radius: 50%;\n",
              "      cursor: pointer;\n",
              "      display: none;\n",
              "      fill: #1967D2;\n",
              "      height: 32px;\n",
              "      padding: 0 0 0 0;\n",
              "      width: 32px;\n",
              "    }\n",
              "\n",
              "    .colab-df-convert:hover {\n",
              "      background-color: #E2EBFA;\n",
              "      box-shadow: 0px 1px 2px rgba(60, 64, 67, 0.3), 0px 1px 3px 1px rgba(60, 64, 67, 0.15);\n",
              "      fill: #174EA6;\n",
              "    }\n",
              "\n",
              "    .colab-df-buttons div {\n",
              "      margin-bottom: 4px;\n",
              "    }\n",
              "\n",
              "    [theme=dark] .colab-df-convert {\n",
              "      background-color: #3B4455;\n",
              "      fill: #D2E3FC;\n",
              "    }\n",
              "\n",
              "    [theme=dark] .colab-df-convert:hover {\n",
              "      background-color: #434B5C;\n",
              "      box-shadow: 0px 1px 3px 1px rgba(0, 0, 0, 0.15);\n",
              "      filter: drop-shadow(0px 1px 2px rgba(0, 0, 0, 0.3));\n",
              "      fill: #FFFFFF;\n",
              "    }\n",
              "  </style>\n",
              "\n",
              "    <script>\n",
              "      const buttonEl =\n",
              "        document.querySelector('#df-4ed7af20-8c64-421c-b2f9-34f3982a21b6 button.colab-df-convert');\n",
              "      buttonEl.style.display =\n",
              "        google.colab.kernel.accessAllowed ? 'block' : 'none';\n",
              "\n",
              "      async function convertToInteractive(key) {\n",
              "        const element = document.querySelector('#df-4ed7af20-8c64-421c-b2f9-34f3982a21b6');\n",
              "        const dataTable =\n",
              "          await google.colab.kernel.invokeFunction('convertToInteractive',\n",
              "                                                    [key], {});\n",
              "        if (!dataTable) return;\n",
              "\n",
              "        const docLinkHtml = 'Like what you see? Visit the ' +\n",
              "          '<a target=\"_blank\" href=https://colab.research.google.com/notebooks/data_table.ipynb>data table notebook</a>'\n",
              "          + ' to learn more about interactive tables.';\n",
              "        element.innerHTML = '';\n",
              "        dataTable['output_type'] = 'display_data';\n",
              "        await google.colab.output.renderOutput(dataTable, element);\n",
              "        const docLink = document.createElement('div');\n",
              "        docLink.innerHTML = docLinkHtml;\n",
              "        element.appendChild(docLink);\n",
              "      }\n",
              "    </script>\n",
              "  </div>\n",
              "\n",
              "\n",
              "<div id=\"df-46604a8a-3ef5-4077-905e-8d6c428b767b\">\n",
              "  <button class=\"colab-df-quickchart\" onclick=\"quickchart('df-46604a8a-3ef5-4077-905e-8d6c428b767b')\"\n",
              "            title=\"Suggest charts\"\n",
              "            style=\"display:none;\">\n",
              "\n",
              "<svg xmlns=\"http://www.w3.org/2000/svg\" height=\"24px\"viewBox=\"0 0 24 24\"\n",
              "     width=\"24px\">\n",
              "    <g>\n",
              "        <path d=\"M19 3H5c-1.1 0-2 .9-2 2v14c0 1.1.9 2 2 2h14c1.1 0 2-.9 2-2V5c0-1.1-.9-2-2-2zM9 17H7v-7h2v7zm4 0h-2V7h2v10zm4 0h-2v-4h2v4z\"/>\n",
              "    </g>\n",
              "</svg>\n",
              "  </button>\n",
              "\n",
              "<style>\n",
              "  .colab-df-quickchart {\n",
              "      --bg-color: #E8F0FE;\n",
              "      --fill-color: #1967D2;\n",
              "      --hover-bg-color: #E2EBFA;\n",
              "      --hover-fill-color: #174EA6;\n",
              "      --disabled-fill-color: #AAA;\n",
              "      --disabled-bg-color: #DDD;\n",
              "  }\n",
              "\n",
              "  [theme=dark] .colab-df-quickchart {\n",
              "      --bg-color: #3B4455;\n",
              "      --fill-color: #D2E3FC;\n",
              "      --hover-bg-color: #434B5C;\n",
              "      --hover-fill-color: #FFFFFF;\n",
              "      --disabled-bg-color: #3B4455;\n",
              "      --disabled-fill-color: #666;\n",
              "  }\n",
              "\n",
              "  .colab-df-quickchart {\n",
              "    background-color: var(--bg-color);\n",
              "    border: none;\n",
              "    border-radius: 50%;\n",
              "    cursor: pointer;\n",
              "    display: none;\n",
              "    fill: var(--fill-color);\n",
              "    height: 32px;\n",
              "    padding: 0;\n",
              "    width: 32px;\n",
              "  }\n",
              "\n",
              "  .colab-df-quickchart:hover {\n",
              "    background-color: var(--hover-bg-color);\n",
              "    box-shadow: 0 1px 2px rgba(60, 64, 67, 0.3), 0 1px 3px 1px rgba(60, 64, 67, 0.15);\n",
              "    fill: var(--button-hover-fill-color);\n",
              "  }\n",
              "\n",
              "  .colab-df-quickchart-complete:disabled,\n",
              "  .colab-df-quickchart-complete:disabled:hover {\n",
              "    background-color: var(--disabled-bg-color);\n",
              "    fill: var(--disabled-fill-color);\n",
              "    box-shadow: none;\n",
              "  }\n",
              "\n",
              "  .colab-df-spinner {\n",
              "    border: 2px solid var(--fill-color);\n",
              "    border-color: transparent;\n",
              "    border-bottom-color: var(--fill-color);\n",
              "    animation:\n",
              "      spin 1s steps(1) infinite;\n",
              "  }\n",
              "\n",
              "  @keyframes spin {\n",
              "    0% {\n",
              "      border-color: transparent;\n",
              "      border-bottom-color: var(--fill-color);\n",
              "      border-left-color: var(--fill-color);\n",
              "    }\n",
              "    20% {\n",
              "      border-color: transparent;\n",
              "      border-left-color: var(--fill-color);\n",
              "      border-top-color: var(--fill-color);\n",
              "    }\n",
              "    30% {\n",
              "      border-color: transparent;\n",
              "      border-left-color: var(--fill-color);\n",
              "      border-top-color: var(--fill-color);\n",
              "      border-right-color: var(--fill-color);\n",
              "    }\n",
              "    40% {\n",
              "      border-color: transparent;\n",
              "      border-right-color: var(--fill-color);\n",
              "      border-top-color: var(--fill-color);\n",
              "    }\n",
              "    60% {\n",
              "      border-color: transparent;\n",
              "      border-right-color: var(--fill-color);\n",
              "    }\n",
              "    80% {\n",
              "      border-color: transparent;\n",
              "      border-right-color: var(--fill-color);\n",
              "      border-bottom-color: var(--fill-color);\n",
              "    }\n",
              "    90% {\n",
              "      border-color: transparent;\n",
              "      border-bottom-color: var(--fill-color);\n",
              "    }\n",
              "  }\n",
              "</style>\n",
              "\n",
              "  <script>\n",
              "    async function quickchart(key) {\n",
              "      const quickchartButtonEl =\n",
              "        document.querySelector('#' + key + ' button');\n",
              "      quickchartButtonEl.disabled = true;  // To prevent multiple clicks.\n",
              "      quickchartButtonEl.classList.add('colab-df-spinner');\n",
              "      try {\n",
              "        const charts = await google.colab.kernel.invokeFunction(\n",
              "            'suggestCharts', [key], {});\n",
              "      } catch (error) {\n",
              "        console.error('Error during call to suggestCharts:', error);\n",
              "      }\n",
              "      quickchartButtonEl.classList.remove('colab-df-spinner');\n",
              "      quickchartButtonEl.classList.add('colab-df-quickchart-complete');\n",
              "    }\n",
              "    (() => {\n",
              "      let quickchartButtonEl =\n",
              "        document.querySelector('#df-46604a8a-3ef5-4077-905e-8d6c428b767b button');\n",
              "      quickchartButtonEl.style.display =\n",
              "        google.colab.kernel.accessAllowed ? 'block' : 'none';\n",
              "    })();\n",
              "  </script>\n",
              "</div>\n",
              "\n",
              "  <div id=\"id_a554e709-532b-48fb-9056-92a334bcdcf4\">\n",
              "    <style>\n",
              "      .colab-df-generate {\n",
              "        background-color: #E8F0FE;\n",
              "        border: none;\n",
              "        border-radius: 50%;\n",
              "        cursor: pointer;\n",
              "        display: none;\n",
              "        fill: #1967D2;\n",
              "        height: 32px;\n",
              "        padding: 0 0 0 0;\n",
              "        width: 32px;\n",
              "      }\n",
              "\n",
              "      .colab-df-generate:hover {\n",
              "        background-color: #E2EBFA;\n",
              "        box-shadow: 0px 1px 2px rgba(60, 64, 67, 0.3), 0px 1px 3px 1px rgba(60, 64, 67, 0.15);\n",
              "        fill: #174EA6;\n",
              "      }\n",
              "\n",
              "      [theme=dark] .colab-df-generate {\n",
              "        background-color: #3B4455;\n",
              "        fill: #D2E3FC;\n",
              "      }\n",
              "\n",
              "      [theme=dark] .colab-df-generate:hover {\n",
              "        background-color: #434B5C;\n",
              "        box-shadow: 0px 1px 3px 1px rgba(0, 0, 0, 0.15);\n",
              "        filter: drop-shadow(0px 1px 2px rgba(0, 0, 0, 0.3));\n",
              "        fill: #FFFFFF;\n",
              "      }\n",
              "    </style>\n",
              "    <button class=\"colab-df-generate\" onclick=\"generateWithVariable('df_book')\"\n",
              "            title=\"Generate code using this dataframe.\"\n",
              "            style=\"display:none;\">\n",
              "\n",
              "  <svg xmlns=\"http://www.w3.org/2000/svg\" height=\"24px\"viewBox=\"0 0 24 24\"\n",
              "       width=\"24px\">\n",
              "    <path d=\"M7,19H8.4L18.45,9,17,7.55,7,17.6ZM5,21V16.75L18.45,3.32a2,2,0,0,1,2.83,0l1.4,1.43a1.91,1.91,0,0,1,.58,1.4,1.91,1.91,0,0,1-.58,1.4L9.25,21ZM18.45,9,17,7.55Zm-12,3A5.31,5.31,0,0,0,4.9,8.1,5.31,5.31,0,0,0,1,6.5,5.31,5.31,0,0,0,4.9,4.9,5.31,5.31,0,0,0,6.5,1,5.31,5.31,0,0,0,8.1,4.9,5.31,5.31,0,0,0,12,6.5,5.46,5.46,0,0,0,6.5,12Z\"/>\n",
              "  </svg>\n",
              "    </button>\n",
              "    <script>\n",
              "      (() => {\n",
              "      const buttonEl =\n",
              "        document.querySelector('#id_a554e709-532b-48fb-9056-92a334bcdcf4 button.colab-df-generate');\n",
              "      buttonEl.style.display =\n",
              "        google.colab.kernel.accessAllowed ? 'block' : 'none';\n",
              "\n",
              "      buttonEl.onclick = () => {\n",
              "        google.colab.notebook.generateWithVariable('df_book');\n",
              "      }\n",
              "      })();\n",
              "    </script>\n",
              "  </div>\n",
              "\n",
              "    </div>\n",
              "  </div>\n"
            ]
          },
          "metadata": {},
          "execution_count": 79
        }
      ],
      "source": [
        "\n",
        "\n",
        "df_book['Book-Title'] = df_book['Book-Title'].astype(str).apply(stem_text)\n",
        "\n",
        "df_book"
      ]
    },
    {
      "cell_type": "markdown",
      "metadata": {
        "id": "vnM7pA5v_10R"
      },
      "source": [
        "##고객 정보 벡터변화\n"
      ]
    },
    {
      "cell_type": "code",
      "execution_count": null,
      "metadata": {
        "id": "4nRBZAmL_0NC"
      },
      "outputs": [],
      "source": [
        "from sklearn.pipeline import Pipeline, FeatureUnion\n",
        "from sklearn.feature_extraction.text import CountVectorizer\n",
        "from sklearn.preprocessing import OneHotEncoder\n",
        "from sklearn.base import BaseEstimator, TransformerMixin\n",
        "\n",
        "class ItemSelector(BaseEstimator, TransformerMixin):\n",
        "    def __init__(self, key):\n",
        "        self.key = key\n",
        "\n",
        "    def fit(self, x, y=None):\n",
        "        return self\n",
        "\n",
        "    def transform(self, data_dict):\n",
        "        if data_dict[self.key].dtype == 'object':\n",
        "            return data_dict[self.key].tolist()\n",
        "        else:\n",
        "            return data_dict[self.key].values.reshape(-1, 1)\n",
        "\n",
        "user_transformers = [\n",
        "    ('location_pipeline', Pipeline([\n",
        "        ('selector', ItemSelector(key='Location')),\n",
        "        ('location_vectorizer', CountVectorizer(min_df=2, ngram_range=(1, 1), token_pattern=r'(?u)\\b\\w+\\b')),\n",
        "    ])),\n",
        "    ('age_pipeline', Pipeline([\n",
        "        ('selector', ItemSelector(key='Age')),\n",
        "        ('age_encoder', OneHotEncoder(sparse_output=True)),\n",
        "    ])),\n",
        "]\n",
        "\n",
        "user_preprocessor = FeatureUnion(user_transformers)\n",
        "\n",
        "df_user_transformed = user_preprocessor.fit_transform(df_user)"
      ]
    },
    {
      "cell_type": "code",
      "execution_count": null,
      "metadata": {
        "colab": {
          "base_uri": "https://localhost:8080/"
        },
        "id": "Uz3l4iZ3Jglx",
        "outputId": "e0e4264c-f20b-4de5-b080-7b3e6817bf90"
      },
      "outputs": [
        {
          "output_type": "stream",
          "name": "stdout",
          "text": [
            "  (0, 9890)\t1.0\n",
            "  (0, 9618)\t1.0\n",
            "  (0, 15047)\t1.0\n",
            "  (0, 13855)\t1.0\n",
            "  (0, 15396)\t1.0\n",
            "  (1, 13855)\t1.0\n",
            "  (1, 12884)\t1.0\n",
            "  (1, 2366)\t1.0\n",
            "  (1, 15249)\t1.0\n",
            "  (2, 9247)\t1.0\n",
            "  (2, 15068)\t1.0\n",
            "  (2, 13331)\t1.0\n",
            "  (2, 11798)\t1.0\n",
            "  (2, 15396)\t1.0\n",
            "  (3, 10954)\t1.0\n",
            "  (3, 13875)\t1.0\n",
            "  (3, 9416)\t1.0\n",
            "  (3, 5066)\t1.0\n",
            "  (3, 10960)\t1.0\n",
            "  (3, 15248)\t1.0\n",
            "  (4, 4660)\t1.0\n",
            "  (4, 5838)\t1.0\n",
            "  (4, 13811)\t1.0\n",
            "  (4, 7201)\t1.0\n",
            "  (4, 15396)\t1.0\n",
            "  :\t:\n",
            "  (278852, 7201)\t1.0\n",
            "  (278852, 106)\t1.0\n",
            "  (278852, 15248)\t1.0\n",
            "  (278853, 13855)\t1.0\n",
            "  (278853, 10953)\t1.0\n",
            "  (278853, 10115)\t1.0\n",
            "  (278853, 15396)\t1.0\n",
            "  (278854, 13811)\t1.0\n",
            "  (278854, 7201)\t1.0\n",
            "  (278854, 14407)\t1.0\n",
            "  (278854, 13131)\t1.0\n",
            "  (278854, 15281)\t1.0\n",
            "  (278855, 10080)\t1.0\n",
            "  (278855, 2435)\t1.0\n",
            "  (278855, 1933)\t1.0\n",
            "  (278855, 15396)\t1.0\n",
            "  (278856, 13855)\t1.0\n",
            "  (278856, 13303)\t1.0\n",
            "  (278856, 7281)\t1.0\n",
            "  (278856, 15396)\t1.0\n",
            "  (278857, 9416)\t1.0\n",
            "  (278857, 106)\t1.0\n",
            "  (278857, 4045)\t1.0\n",
            "  (278857, 6633)\t1.0\n",
            "  (278857, 15396)\t1.0\n"
          ]
        }
      ],
      "source": [
        "print(df_user_transformed)"
      ]
    },
    {
      "cell_type": "markdown",
      "metadata": {
        "id": "P7nWY26DeP5h"
      },
      "source": []
    },
    {
      "cell_type": "markdown",
      "metadata": {
        "id": "VR88PcOXNeYt"
      },
      "source": [
        "##책 정보 벡터 변화"
      ]
    },
    {
      "cell_type": "code",
      "execution_count": null,
      "metadata": {
        "colab": {
          "base_uri": "https://localhost:8080/"
        },
        "id": "JhjOEMviufkz",
        "outputId": "200d54cd-af00-4428-e3a2-55b4f1d91c5a"
      },
      "outputs": [
        {
          "output_type": "stream",
          "name": "stdout",
          "text": [
            "  (0, 212539)\t1.0\n",
            "  (0, 713315)\t1.0\n",
            "  (0, 213085)\t1.0\n",
            "  (0, 1279241)\t1.0\n",
            "  (0, 1280628)\t1.0\n",
            "  (0, 1289651)\t1.0\n",
            "  (0, 1293828)\t1.0\n",
            "  (0, 1295439)\t1.0\n",
            "  (0, 1294168)\t1.0\n",
            "  (1, 211943)\t1.0\n",
            "  (1, 177332)\t1.0\n",
            "  (1, 211953)\t1.0\n",
            "  (1, 1283597)\t1.0\n",
            "  (1, 1267663)\t1.0\n",
            "  (1, 1289072)\t1.0\n",
            "  (1, 1289650)\t1.0\n",
            "  (1, 1292196)\t1.0\n",
            "  (1, 1290651)\t1.0\n",
            "  (2, 276675)\t1.0\n",
            "  (2, 524890)\t1.0\n",
            "  (2, 737692)\t1.0\n",
            "  (2, 276716)\t1.0\n",
            "  (2, 530780)\t1.0\n",
            "  (2, 276718)\t1.0\n",
            "  (2, 1268213)\t1.0\n",
            "  :\t:\n",
            "  (271378, 787012)\t1.0\n",
            "  (271378, 388385)\t1.0\n",
            "  (271378, 1225997)\t1.0\n",
            "  (271378, 667915)\t1.0\n",
            "  (271378, 173766)\t1.0\n",
            "  (271378, 909975)\t1.0\n",
            "  (271378, 1140884)\t1.0\n",
            "  (271378, 771349)\t1.0\n",
            "  (271378, 891505)\t1.0\n",
            "  (271378, 828790)\t1.0\n",
            "  (271378, 1226001)\t1.0\n",
            "  (271378, 228033)\t1.0\n",
            "  (271378, 777213)\t1.0\n",
            "  (271378, 1074533)\t1.0\n",
            "  (271378, 667916)\t1.0\n",
            "  (271378, 173767)\t1.0\n",
            "  (271378, 1268830)\t1.0\n",
            "  (271378, 1266749)\t1.0\n",
            "  (271378, 1289649)\t1.0\n",
            "  (271378, 1293252)\t1.0\n",
            "  (271378, 1292319)\t1.0\n",
            "  (271378, 1292404)\t1.0\n",
            "  (271378, 1294875)\t1.0\n",
            "  (271378, 1294677)\t1.0\n",
            "  (271378, 1292828)\t1.0\n"
          ]
        }
      ],
      "source": [
        "df_book = df_book.fillna('')\n",
        "\n",
        "book_transformers = [\n",
        "    ('title_pipeline', Pipeline([\n",
        "        ('selector', ItemSelector(key='Book-Title')),\n",
        "        ('title_vectorizer', CountVectorizer(min_df=1, ngram_range=(1, 3))),\n",
        "    ])),\n",
        "    ('author_pipeline', Pipeline([\n",
        "        ('selector', ItemSelector(key='Book-Author')),\n",
        "        ('author_vectorizer', CountVectorizer(min_df=2, ngram_range=(1, 1))),\n",
        "    ])),\n",
        "    ('year_pipeline', Pipeline([\n",
        "        ('selector', ItemSelector(key='Year-Of-Publication')),\n",
        "        ('year_vectorizer', OneHotEncoder(sparse_output=True)),\n",
        "    ])),\n",
        "    ('publisher_pipeline', Pipeline([\n",
        "        ('selector', ItemSelector(key='Publisher')),\n",
        "        ('publisher_vectorizer', CountVectorizer(min_df=2, ngram_range=(1, 1))),\n",
        "    ])),\n",
        "]\n",
        "\n",
        "book_preprocessor = FeatureUnion(book_transformers)\n",
        "\n",
        "df_book_transformed = book_preprocessor.fit_transform(df_book)\n",
        "print(df_book_transformed)"
      ]
    },
    {
      "cell_type": "markdown",
      "metadata": {
        "id": "64LU4x57wWf0"
      },
      "source": [
        "이제 LightFM모델을 사용해보겠습니다"
      ]
    },
    {
      "cell_type": "code",
      "execution_count": null,
      "metadata": {
        "colab": {
          "base_uri": "https://localhost:8080/"
        },
        "id": "1GSP3OeS3CJn",
        "outputId": "c8139709-2193-4e9b-a935-2fe56421ebdd"
      },
      "outputs": [
        {
          "output_type": "stream",
          "name": "stdout",
          "text": [
            "Requirement already satisfied: lightfm in /usr/local/lib/python3.10/dist-packages (1.17)\n",
            "Requirement already satisfied: numpy in /usr/local/lib/python3.10/dist-packages (from lightfm) (1.23.5)\n",
            "Requirement already satisfied: scipy>=0.17.0 in /usr/local/lib/python3.10/dist-packages (from lightfm) (1.11.4)\n",
            "Requirement already satisfied: requests in /usr/local/lib/python3.10/dist-packages (from lightfm) (2.31.0)\n",
            "Requirement already satisfied: scikit-learn in /usr/local/lib/python3.10/dist-packages (from lightfm) (1.2.2)\n",
            "Requirement already satisfied: charset-normalizer<4,>=2 in /usr/local/lib/python3.10/dist-packages (from requests->lightfm) (3.3.2)\n",
            "Requirement already satisfied: idna<4,>=2.5 in /usr/local/lib/python3.10/dist-packages (from requests->lightfm) (3.6)\n",
            "Requirement already satisfied: urllib3<3,>=1.21.1 in /usr/local/lib/python3.10/dist-packages (from requests->lightfm) (2.0.7)\n",
            "Requirement already satisfied: certifi>=2017.4.17 in /usr/local/lib/python3.10/dist-packages (from requests->lightfm) (2023.11.17)\n",
            "Requirement already satisfied: joblib>=1.1.1 in /usr/local/lib/python3.10/dist-packages (from scikit-learn->lightfm) (1.3.2)\n",
            "Requirement already satisfied: threadpoolctl>=2.0.0 in /usr/local/lib/python3.10/dist-packages (from scikit-learn->lightfm) (3.2.0)\n"
          ]
        }
      ],
      "source": [
        "pip install lightfm"
      ]
    },
    {
      "cell_type": "code",
      "execution_count": null,
      "metadata": {
        "colab": {
          "base_uri": "https://localhost:8080/"
        },
        "id": "OWqw2pOg3JRt",
        "outputId": "6a6a8ee1-ce15-4ff4-a85a-c574914fe910"
      },
      "outputs": [
        {
          "output_type": "execute_result",
          "data": {
            "text/plain": [
              "<lightfm.lightfm.LightFM at 0x7e513d73ffd0>"
            ]
          },
          "metadata": {},
          "execution_count": 13
        }
      ],
      "source": [
        "\n",
        "from lightfm import LightFM\n",
        "from lightfm.data import Dataset\n",
        "\n",
        "dataset = Dataset()\n",
        "dataset.fit((x['User-ID'] for index, x in df_BookRatings.iterrows()),\n",
        "            (x['ISBN'] for index, x in df_BookRatings.iterrows()),\n",
        "            user_features=((f\"user:{x['User-ID']}\", f\"age:{x['Age']}\") for index, x in df_user.iterrows()),\n",
        "            item_features=((f\"item:{x['ISBN']}\", f\"book:{x['Book-Title']}\") for index, x in df_book.iterrows()))\n",
        "\n",
        "\n",
        "(interactions, weights) = dataset.build_interactions((x['User-ID'], x['ISBN']) for index, x in df_BookRatings.iterrows())\n",
        "\n",
        "\n",
        "model = LightFM(loss='warp')\n",
        "\n",
        "model.fit(interactions, epochs=50)"
      ]
    },
    {
      "cell_type": "code",
      "execution_count": null,
      "metadata": {
        "colab": {
          "base_uri": "https://localhost:8080/"
        },
        "id": "qtqr5MGS3Zor",
        "outputId": "88a3a96e-9124-4ee8-9837-dee84993d31e"
      },
      "outputs": [
        {
          "output_type": "stream",
          "name": "stdout",
          "text": [
            "ISBM: 0195153448, 예측 점수: 0.7266203165054321\n"
          ]
        }
      ],
      "source": [
        "user_id = 2\n",
        "item_ids = ['0195153448']\n",
        "\n",
        "\n",
        "user_index = dataset.mapping()[0][user_id]\n",
        "item_indices = [dataset.mapping()[2][item_id] for item_id in item_ids]\n",
        "\n",
        "\n",
        "scores = model.predict(user_index, item_indices)\n",
        "\n",
        "for item_id, score in zip(item_ids, scores):\n",
        "    print(f\"ISBM: {item_id}, 예측 점수: {score}\")\n"
      ]
    },
    {
      "cell_type": "code",
      "source": [
        "import numpy as np\n",
        "\n",
        "user_id = 2\n",
        "\n",
        "user_index = dataset.mapping()[0][user_id]\n",
        "\n",
        "item_indices = np.arange(dataset.interactions_shape()[1])\n",
        "scores = model.predict(user_index, item_indices)\n",
        "\n",
        "sorted_item_indices = np.argsort(-scores)\n",
        "\n",
        "top_10_item_indices = sorted_item_indices[:10]\n",
        "\n",
        "top_10_item_ids = [list(dataset.mapping()[2].keys())[list(dataset.mapping()[2].values()).index(i)] for i in top_10_item_indices]\n",
        "\n",
        "for item_id, score in zip(top_10_item_ids, scores[top_10_item_indices]):\n",
        "    print(f\"ISBM: {item_id}, 예측 점수: {score}\")"
      ],
      "metadata": {
        "colab": {
          "base_uri": "https://localhost:8080/"
        },
        "id": "16DIBThuSJAx",
        "outputId": "7f3508cf-fefc-4fe1-cff3-f562e0ba51ca"
      },
      "execution_count": null,
      "outputs": [
        {
          "output_type": "stream",
          "name": "stdout",
          "text": [
            "ISBM: 0971880107, 예측 점수: 3.3782551288604736\n",
            "ISBM: 3257228007, 예측 점수: 2.243351936340332\n",
            "ISBM: 3257229534, 예측 점수: 2.11275577545166\n",
            "ISBM: 2253150711, 예측 점수: 2.0869810581207275\n",
            "ISBM: 3522128001, 예측 점수: 1.9241127967834473\n",
            "ISBM: 3379015180, 예측 점수: 1.7387800216674805\n",
            "ISBM: 2070360024, 예측 점수: 1.7284088134765625\n",
            "ISBM: 11238356, 예측 점수: 1.7207930088043213\n",
            "ISBM: 2253063339, 예측 점수: 1.696287989616394\n",
            "ISBM: 3453007867, 예측 점수: 1.6893401145935059\n"
          ]
        }
      ]
    },
    {
      "cell_type": "markdown",
      "source": [
        "##새로운 방법으로 한번 해보기\n"
      ],
      "metadata": {
        "id": "d94s-SqHry1n"
      }
    },
    {
      "cell_type": "code",
      "source": [
        "df = pd.merge(df_book, df_BookRatings, on='ISBN', how='left')\n",
        "df = pd.merge(df, df_user, on='User-ID', how='left')\n",
        "df"
      ],
      "metadata": {
        "colab": {
          "base_uri": "https://localhost:8080/",
          "height": 912
        },
        "id": "DWuGSe7Lpdds",
        "outputId": "a917e270-c4b4-4f5a-b73e-abc366022f2d"
      },
      "execution_count": null,
      "outputs": [
        {
          "output_type": "execute_result",
          "data": {
            "text/plain": [
              "               ISBN                                         Book-Title  \\\n",
              "0        0195153448                                   classic mytholog   \n",
              "1        0002005018                                       clara callan   \n",
              "2        0002005018                                       clara callan   \n",
              "3        0002005018                                       clara callan   \n",
              "4        0002005018                                       clara callan   \n",
              "...             ...                                                ...   \n",
              "1032379  0440400988                          there' a bat in bunk five   \n",
              "1032380  0525447644                              from one to one hundr   \n",
              "1032381  006008667X  lili dale : the true stori of the town that ta...   \n",
              "1032382  0192126040                           republ (world' classics)   \n",
              "1032383  0767409752  a guid tour of rene descartes' medit on first ...   \n",
              "\n",
              "                  Book-Author  Year-Of-Publication  \\\n",
              "0          Mark P. O. Morford                 2002   \n",
              "1        Richard Bruce Wright                 2001   \n",
              "2        Richard Bruce Wright                 2001   \n",
              "3        Richard Bruce Wright                 2001   \n",
              "4        Richard Bruce Wright                 2001   \n",
              "...                       ...                  ...   \n",
              "1032379        Paula Danziger                 1988   \n",
              "1032380            Teri Sloat                 1991   \n",
              "1032381      Christine Wicker                 2004   \n",
              "1032382                 Plato                 1996   \n",
              "1032383   Christopher  Biffle                 2000   \n",
              "\n",
              "                                                Publisher  \\\n",
              "0                                 Oxford University Press   \n",
              "1                                   HarperFlamingo Canada   \n",
              "2                                   HarperFlamingo Canada   \n",
              "3                                   HarperFlamingo Canada   \n",
              "4                                   HarperFlamingo Canada   \n",
              "...                                                   ...   \n",
              "1032379                   Random House Childrens Pub (Mm)   \n",
              "1032380                                      Dutton Books   \n",
              "1032381                                HarperSanFrancisco   \n",
              "1032382                           Oxford University Press   \n",
              "1032383  McGraw-Hill Humanities/Social Sciences/Languages   \n",
              "\n",
              "                                               Image-URL-S  \\\n",
              "0        http://images.amazon.com/images/P/0195153448.0...   \n",
              "1        http://images.amazon.com/images/P/0002005018.0...   \n",
              "2        http://images.amazon.com/images/P/0002005018.0...   \n",
              "3        http://images.amazon.com/images/P/0002005018.0...   \n",
              "4        http://images.amazon.com/images/P/0002005018.0...   \n",
              "...                                                    ...   \n",
              "1032379  http://images.amazon.com/images/P/0440400988.0...   \n",
              "1032380  http://images.amazon.com/images/P/0525447644.0...   \n",
              "1032381  http://images.amazon.com/images/P/006008667X.0...   \n",
              "1032382  http://images.amazon.com/images/P/0192126040.0...   \n",
              "1032383  http://images.amazon.com/images/P/0767409752.0...   \n",
              "\n",
              "                                               Image-URL-M  \\\n",
              "0        http://images.amazon.com/images/P/0195153448.0...   \n",
              "1        http://images.amazon.com/images/P/0002005018.0...   \n",
              "2        http://images.amazon.com/images/P/0002005018.0...   \n",
              "3        http://images.amazon.com/images/P/0002005018.0...   \n",
              "4        http://images.amazon.com/images/P/0002005018.0...   \n",
              "...                                                    ...   \n",
              "1032379  http://images.amazon.com/images/P/0440400988.0...   \n",
              "1032380  http://images.amazon.com/images/P/0525447644.0...   \n",
              "1032381  http://images.amazon.com/images/P/006008667X.0...   \n",
              "1032382  http://images.amazon.com/images/P/0192126040.0...   \n",
              "1032383  http://images.amazon.com/images/P/0767409752.0...   \n",
              "\n",
              "                                               Image-URL-L   User-ID  \\\n",
              "0        http://images.amazon.com/images/P/0195153448.0...       2.0   \n",
              "1        http://images.amazon.com/images/P/0002005018.0...       8.0   \n",
              "2        http://images.amazon.com/images/P/0002005018.0...   11400.0   \n",
              "3        http://images.amazon.com/images/P/0002005018.0...   11676.0   \n",
              "4        http://images.amazon.com/images/P/0002005018.0...   41385.0   \n",
              "...                                                    ...       ...   \n",
              "1032379  http://images.amazon.com/images/P/0440400988.0...  276463.0   \n",
              "1032380  http://images.amazon.com/images/P/0525447644.0...  276579.0   \n",
              "1032381  http://images.amazon.com/images/P/006008667X.0...  276680.0   \n",
              "1032382  http://images.amazon.com/images/P/0192126040.0...  276680.0   \n",
              "1032383  http://images.amazon.com/images/P/0767409752.0...  276680.0   \n",
              "\n",
              "         Book-Rating                          Location   Age  \n",
              "0                0.0         stockton, california, usa  18.0  \n",
              "1                5.0          timmins, ontario, canada   NaN  \n",
              "2                0.0           ottawa, ontario, canada  49.0  \n",
              "3                8.0                     n/a, n/a, n/a   NaN  \n",
              "4                0.0          sudbury, ontario, canada   NaN  \n",
              "...              ...                               ...   ...  \n",
              "1032379          7.0     providence, rhode island, usa  26.0  \n",
              "1032380          4.0                   orem, utah, usa  12.0  \n",
              "1032381          0.0  hopewell junction, new york, usa  55.0  \n",
              "1032382          0.0  hopewell junction, new york, usa  55.0  \n",
              "1032383          0.0  hopewell junction, new york, usa  55.0  \n",
              "\n",
              "[1032384 rows x 12 columns]"
            ],
            "text/html": [
              "\n",
              "  <div id=\"df-362b8eb4-86dd-474d-aac2-c9a2e6cea209\" class=\"colab-df-container\">\n",
              "    <div>\n",
              "<style scoped>\n",
              "    .dataframe tbody tr th:only-of-type {\n",
              "        vertical-align: middle;\n",
              "    }\n",
              "\n",
              "    .dataframe tbody tr th {\n",
              "        vertical-align: top;\n",
              "    }\n",
              "\n",
              "    .dataframe thead th {\n",
              "        text-align: right;\n",
              "    }\n",
              "</style>\n",
              "<table border=\"1\" class=\"dataframe\">\n",
              "  <thead>\n",
              "    <tr style=\"text-align: right;\">\n",
              "      <th></th>\n",
              "      <th>ISBN</th>\n",
              "      <th>Book-Title</th>\n",
              "      <th>Book-Author</th>\n",
              "      <th>Year-Of-Publication</th>\n",
              "      <th>Publisher</th>\n",
              "      <th>Image-URL-S</th>\n",
              "      <th>Image-URL-M</th>\n",
              "      <th>Image-URL-L</th>\n",
              "      <th>User-ID</th>\n",
              "      <th>Book-Rating</th>\n",
              "      <th>Location</th>\n",
              "      <th>Age</th>\n",
              "    </tr>\n",
              "  </thead>\n",
              "  <tbody>\n",
              "    <tr>\n",
              "      <th>0</th>\n",
              "      <td>0195153448</td>\n",
              "      <td>classic mytholog</td>\n",
              "      <td>Mark P. O. Morford</td>\n",
              "      <td>2002</td>\n",
              "      <td>Oxford University Press</td>\n",
              "      <td>http://images.amazon.com/images/P/0195153448.0...</td>\n",
              "      <td>http://images.amazon.com/images/P/0195153448.0...</td>\n",
              "      <td>http://images.amazon.com/images/P/0195153448.0...</td>\n",
              "      <td>2.0</td>\n",
              "      <td>0.0</td>\n",
              "      <td>stockton, california, usa</td>\n",
              "      <td>18.0</td>\n",
              "    </tr>\n",
              "    <tr>\n",
              "      <th>1</th>\n",
              "      <td>0002005018</td>\n",
              "      <td>clara callan</td>\n",
              "      <td>Richard Bruce Wright</td>\n",
              "      <td>2001</td>\n",
              "      <td>HarperFlamingo Canada</td>\n",
              "      <td>http://images.amazon.com/images/P/0002005018.0...</td>\n",
              "      <td>http://images.amazon.com/images/P/0002005018.0...</td>\n",
              "      <td>http://images.amazon.com/images/P/0002005018.0...</td>\n",
              "      <td>8.0</td>\n",
              "      <td>5.0</td>\n",
              "      <td>timmins, ontario, canada</td>\n",
              "      <td>NaN</td>\n",
              "    </tr>\n",
              "    <tr>\n",
              "      <th>2</th>\n",
              "      <td>0002005018</td>\n",
              "      <td>clara callan</td>\n",
              "      <td>Richard Bruce Wright</td>\n",
              "      <td>2001</td>\n",
              "      <td>HarperFlamingo Canada</td>\n",
              "      <td>http://images.amazon.com/images/P/0002005018.0...</td>\n",
              "      <td>http://images.amazon.com/images/P/0002005018.0...</td>\n",
              "      <td>http://images.amazon.com/images/P/0002005018.0...</td>\n",
              "      <td>11400.0</td>\n",
              "      <td>0.0</td>\n",
              "      <td>ottawa, ontario, canada</td>\n",
              "      <td>49.0</td>\n",
              "    </tr>\n",
              "    <tr>\n",
              "      <th>3</th>\n",
              "      <td>0002005018</td>\n",
              "      <td>clara callan</td>\n",
              "      <td>Richard Bruce Wright</td>\n",
              "      <td>2001</td>\n",
              "      <td>HarperFlamingo Canada</td>\n",
              "      <td>http://images.amazon.com/images/P/0002005018.0...</td>\n",
              "      <td>http://images.amazon.com/images/P/0002005018.0...</td>\n",
              "      <td>http://images.amazon.com/images/P/0002005018.0...</td>\n",
              "      <td>11676.0</td>\n",
              "      <td>8.0</td>\n",
              "      <td>n/a, n/a, n/a</td>\n",
              "      <td>NaN</td>\n",
              "    </tr>\n",
              "    <tr>\n",
              "      <th>4</th>\n",
              "      <td>0002005018</td>\n",
              "      <td>clara callan</td>\n",
              "      <td>Richard Bruce Wright</td>\n",
              "      <td>2001</td>\n",
              "      <td>HarperFlamingo Canada</td>\n",
              "      <td>http://images.amazon.com/images/P/0002005018.0...</td>\n",
              "      <td>http://images.amazon.com/images/P/0002005018.0...</td>\n",
              "      <td>http://images.amazon.com/images/P/0002005018.0...</td>\n",
              "      <td>41385.0</td>\n",
              "      <td>0.0</td>\n",
              "      <td>sudbury, ontario, canada</td>\n",
              "      <td>NaN</td>\n",
              "    </tr>\n",
              "    <tr>\n",
              "      <th>...</th>\n",
              "      <td>...</td>\n",
              "      <td>...</td>\n",
              "      <td>...</td>\n",
              "      <td>...</td>\n",
              "      <td>...</td>\n",
              "      <td>...</td>\n",
              "      <td>...</td>\n",
              "      <td>...</td>\n",
              "      <td>...</td>\n",
              "      <td>...</td>\n",
              "      <td>...</td>\n",
              "      <td>...</td>\n",
              "    </tr>\n",
              "    <tr>\n",
              "      <th>1032379</th>\n",
              "      <td>0440400988</td>\n",
              "      <td>there' a bat in bunk five</td>\n",
              "      <td>Paula Danziger</td>\n",
              "      <td>1988</td>\n",
              "      <td>Random House Childrens Pub (Mm)</td>\n",
              "      <td>http://images.amazon.com/images/P/0440400988.0...</td>\n",
              "      <td>http://images.amazon.com/images/P/0440400988.0...</td>\n",
              "      <td>http://images.amazon.com/images/P/0440400988.0...</td>\n",
              "      <td>276463.0</td>\n",
              "      <td>7.0</td>\n",
              "      <td>providence, rhode island, usa</td>\n",
              "      <td>26.0</td>\n",
              "    </tr>\n",
              "    <tr>\n",
              "      <th>1032380</th>\n",
              "      <td>0525447644</td>\n",
              "      <td>from one to one hundr</td>\n",
              "      <td>Teri Sloat</td>\n",
              "      <td>1991</td>\n",
              "      <td>Dutton Books</td>\n",
              "      <td>http://images.amazon.com/images/P/0525447644.0...</td>\n",
              "      <td>http://images.amazon.com/images/P/0525447644.0...</td>\n",
              "      <td>http://images.amazon.com/images/P/0525447644.0...</td>\n",
              "      <td>276579.0</td>\n",
              "      <td>4.0</td>\n",
              "      <td>orem, utah, usa</td>\n",
              "      <td>12.0</td>\n",
              "    </tr>\n",
              "    <tr>\n",
              "      <th>1032381</th>\n",
              "      <td>006008667X</td>\n",
              "      <td>lili dale : the true stori of the town that ta...</td>\n",
              "      <td>Christine Wicker</td>\n",
              "      <td>2004</td>\n",
              "      <td>HarperSanFrancisco</td>\n",
              "      <td>http://images.amazon.com/images/P/006008667X.0...</td>\n",
              "      <td>http://images.amazon.com/images/P/006008667X.0...</td>\n",
              "      <td>http://images.amazon.com/images/P/006008667X.0...</td>\n",
              "      <td>276680.0</td>\n",
              "      <td>0.0</td>\n",
              "      <td>hopewell junction, new york, usa</td>\n",
              "      <td>55.0</td>\n",
              "    </tr>\n",
              "    <tr>\n",
              "      <th>1032382</th>\n",
              "      <td>0192126040</td>\n",
              "      <td>republ (world' classics)</td>\n",
              "      <td>Plato</td>\n",
              "      <td>1996</td>\n",
              "      <td>Oxford University Press</td>\n",
              "      <td>http://images.amazon.com/images/P/0192126040.0...</td>\n",
              "      <td>http://images.amazon.com/images/P/0192126040.0...</td>\n",
              "      <td>http://images.amazon.com/images/P/0192126040.0...</td>\n",
              "      <td>276680.0</td>\n",
              "      <td>0.0</td>\n",
              "      <td>hopewell junction, new york, usa</td>\n",
              "      <td>55.0</td>\n",
              "    </tr>\n",
              "    <tr>\n",
              "      <th>1032383</th>\n",
              "      <td>0767409752</td>\n",
              "      <td>a guid tour of rene descartes' medit on first ...</td>\n",
              "      <td>Christopher  Biffle</td>\n",
              "      <td>2000</td>\n",
              "      <td>McGraw-Hill Humanities/Social Sciences/Languages</td>\n",
              "      <td>http://images.amazon.com/images/P/0767409752.0...</td>\n",
              "      <td>http://images.amazon.com/images/P/0767409752.0...</td>\n",
              "      <td>http://images.amazon.com/images/P/0767409752.0...</td>\n",
              "      <td>276680.0</td>\n",
              "      <td>0.0</td>\n",
              "      <td>hopewell junction, new york, usa</td>\n",
              "      <td>55.0</td>\n",
              "    </tr>\n",
              "  </tbody>\n",
              "</table>\n",
              "<p>1032384 rows × 12 columns</p>\n",
              "</div>\n",
              "    <div class=\"colab-df-buttons\">\n",
              "\n",
              "  <div class=\"colab-df-container\">\n",
              "    <button class=\"colab-df-convert\" onclick=\"convertToInteractive('df-362b8eb4-86dd-474d-aac2-c9a2e6cea209')\"\n",
              "            title=\"Convert this dataframe to an interactive table.\"\n",
              "            style=\"display:none;\">\n",
              "\n",
              "  <svg xmlns=\"http://www.w3.org/2000/svg\" height=\"24px\" viewBox=\"0 -960 960 960\">\n",
              "    <path d=\"M120-120v-720h720v720H120Zm60-500h600v-160H180v160Zm220 220h160v-160H400v160Zm0 220h160v-160H400v160ZM180-400h160v-160H180v160Zm440 0h160v-160H620v160ZM180-180h160v-160H180v160Zm440 0h160v-160H620v160Z\"/>\n",
              "  </svg>\n",
              "    </button>\n",
              "\n",
              "  <style>\n",
              "    .colab-df-container {\n",
              "      display:flex;\n",
              "      gap: 12px;\n",
              "    }\n",
              "\n",
              "    .colab-df-convert {\n",
              "      background-color: #E8F0FE;\n",
              "      border: none;\n",
              "      border-radius: 50%;\n",
              "      cursor: pointer;\n",
              "      display: none;\n",
              "      fill: #1967D2;\n",
              "      height: 32px;\n",
              "      padding: 0 0 0 0;\n",
              "      width: 32px;\n",
              "    }\n",
              "\n",
              "    .colab-df-convert:hover {\n",
              "      background-color: #E2EBFA;\n",
              "      box-shadow: 0px 1px 2px rgba(60, 64, 67, 0.3), 0px 1px 3px 1px rgba(60, 64, 67, 0.15);\n",
              "      fill: #174EA6;\n",
              "    }\n",
              "\n",
              "    .colab-df-buttons div {\n",
              "      margin-bottom: 4px;\n",
              "    }\n",
              "\n",
              "    [theme=dark] .colab-df-convert {\n",
              "      background-color: #3B4455;\n",
              "      fill: #D2E3FC;\n",
              "    }\n",
              "\n",
              "    [theme=dark] .colab-df-convert:hover {\n",
              "      background-color: #434B5C;\n",
              "      box-shadow: 0px 1px 3px 1px rgba(0, 0, 0, 0.15);\n",
              "      filter: drop-shadow(0px 1px 2px rgba(0, 0, 0, 0.3));\n",
              "      fill: #FFFFFF;\n",
              "    }\n",
              "  </style>\n",
              "\n",
              "    <script>\n",
              "      const buttonEl =\n",
              "        document.querySelector('#df-362b8eb4-86dd-474d-aac2-c9a2e6cea209 button.colab-df-convert');\n",
              "      buttonEl.style.display =\n",
              "        google.colab.kernel.accessAllowed ? 'block' : 'none';\n",
              "\n",
              "      async function convertToInteractive(key) {\n",
              "        const element = document.querySelector('#df-362b8eb4-86dd-474d-aac2-c9a2e6cea209');\n",
              "        const dataTable =\n",
              "          await google.colab.kernel.invokeFunction('convertToInteractive',\n",
              "                                                    [key], {});\n",
              "        if (!dataTable) return;\n",
              "\n",
              "        const docLinkHtml = 'Like what you see? Visit the ' +\n",
              "          '<a target=\"_blank\" href=https://colab.research.google.com/notebooks/data_table.ipynb>data table notebook</a>'\n",
              "          + ' to learn more about interactive tables.';\n",
              "        element.innerHTML = '';\n",
              "        dataTable['output_type'] = 'display_data';\n",
              "        await google.colab.output.renderOutput(dataTable, element);\n",
              "        const docLink = document.createElement('div');\n",
              "        docLink.innerHTML = docLinkHtml;\n",
              "        element.appendChild(docLink);\n",
              "      }\n",
              "    </script>\n",
              "  </div>\n",
              "\n",
              "\n",
              "<div id=\"df-bda06f79-bfb4-4e36-bcd5-34718dfafff6\">\n",
              "  <button class=\"colab-df-quickchart\" onclick=\"quickchart('df-bda06f79-bfb4-4e36-bcd5-34718dfafff6')\"\n",
              "            title=\"Suggest charts\"\n",
              "            style=\"display:none;\">\n",
              "\n",
              "<svg xmlns=\"http://www.w3.org/2000/svg\" height=\"24px\"viewBox=\"0 0 24 24\"\n",
              "     width=\"24px\">\n",
              "    <g>\n",
              "        <path d=\"M19 3H5c-1.1 0-2 .9-2 2v14c0 1.1.9 2 2 2h14c1.1 0 2-.9 2-2V5c0-1.1-.9-2-2-2zM9 17H7v-7h2v7zm4 0h-2V7h2v10zm4 0h-2v-4h2v4z\"/>\n",
              "    </g>\n",
              "</svg>\n",
              "  </button>\n",
              "\n",
              "<style>\n",
              "  .colab-df-quickchart {\n",
              "      --bg-color: #E8F0FE;\n",
              "      --fill-color: #1967D2;\n",
              "      --hover-bg-color: #E2EBFA;\n",
              "      --hover-fill-color: #174EA6;\n",
              "      --disabled-fill-color: #AAA;\n",
              "      --disabled-bg-color: #DDD;\n",
              "  }\n",
              "\n",
              "  [theme=dark] .colab-df-quickchart {\n",
              "      --bg-color: #3B4455;\n",
              "      --fill-color: #D2E3FC;\n",
              "      --hover-bg-color: #434B5C;\n",
              "      --hover-fill-color: #FFFFFF;\n",
              "      --disabled-bg-color: #3B4455;\n",
              "      --disabled-fill-color: #666;\n",
              "  }\n",
              "\n",
              "  .colab-df-quickchart {\n",
              "    background-color: var(--bg-color);\n",
              "    border: none;\n",
              "    border-radius: 50%;\n",
              "    cursor: pointer;\n",
              "    display: none;\n",
              "    fill: var(--fill-color);\n",
              "    height: 32px;\n",
              "    padding: 0;\n",
              "    width: 32px;\n",
              "  }\n",
              "\n",
              "  .colab-df-quickchart:hover {\n",
              "    background-color: var(--hover-bg-color);\n",
              "    box-shadow: 0 1px 2px rgba(60, 64, 67, 0.3), 0 1px 3px 1px rgba(60, 64, 67, 0.15);\n",
              "    fill: var(--button-hover-fill-color);\n",
              "  }\n",
              "\n",
              "  .colab-df-quickchart-complete:disabled,\n",
              "  .colab-df-quickchart-complete:disabled:hover {\n",
              "    background-color: var(--disabled-bg-color);\n",
              "    fill: var(--disabled-fill-color);\n",
              "    box-shadow: none;\n",
              "  }\n",
              "\n",
              "  .colab-df-spinner {\n",
              "    border: 2px solid var(--fill-color);\n",
              "    border-color: transparent;\n",
              "    border-bottom-color: var(--fill-color);\n",
              "    animation:\n",
              "      spin 1s steps(1) infinite;\n",
              "  }\n",
              "\n",
              "  @keyframes spin {\n",
              "    0% {\n",
              "      border-color: transparent;\n",
              "      border-bottom-color: var(--fill-color);\n",
              "      border-left-color: var(--fill-color);\n",
              "    }\n",
              "    20% {\n",
              "      border-color: transparent;\n",
              "      border-left-color: var(--fill-color);\n",
              "      border-top-color: var(--fill-color);\n",
              "    }\n",
              "    30% {\n",
              "      border-color: transparent;\n",
              "      border-left-color: var(--fill-color);\n",
              "      border-top-color: var(--fill-color);\n",
              "      border-right-color: var(--fill-color);\n",
              "    }\n",
              "    40% {\n",
              "      border-color: transparent;\n",
              "      border-right-color: var(--fill-color);\n",
              "      border-top-color: var(--fill-color);\n",
              "    }\n",
              "    60% {\n",
              "      border-color: transparent;\n",
              "      border-right-color: var(--fill-color);\n",
              "    }\n",
              "    80% {\n",
              "      border-color: transparent;\n",
              "      border-right-color: var(--fill-color);\n",
              "      border-bottom-color: var(--fill-color);\n",
              "    }\n",
              "    90% {\n",
              "      border-color: transparent;\n",
              "      border-bottom-color: var(--fill-color);\n",
              "    }\n",
              "  }\n",
              "</style>\n",
              "\n",
              "  <script>\n",
              "    async function quickchart(key) {\n",
              "      const quickchartButtonEl =\n",
              "        document.querySelector('#' + key + ' button');\n",
              "      quickchartButtonEl.disabled = true;  // To prevent multiple clicks.\n",
              "      quickchartButtonEl.classList.add('colab-df-spinner');\n",
              "      try {\n",
              "        const charts = await google.colab.kernel.invokeFunction(\n",
              "            'suggestCharts', [key], {});\n",
              "      } catch (error) {\n",
              "        console.error('Error during call to suggestCharts:', error);\n",
              "      }\n",
              "      quickchartButtonEl.classList.remove('colab-df-spinner');\n",
              "      quickchartButtonEl.classList.add('colab-df-quickchart-complete');\n",
              "    }\n",
              "    (() => {\n",
              "      let quickchartButtonEl =\n",
              "        document.querySelector('#df-bda06f79-bfb4-4e36-bcd5-34718dfafff6 button');\n",
              "      quickchartButtonEl.style.display =\n",
              "        google.colab.kernel.accessAllowed ? 'block' : 'none';\n",
              "    })();\n",
              "  </script>\n",
              "</div>\n",
              "\n",
              "  <div id=\"id_2da54f63-7c79-45af-acb5-a4b2073f346a\">\n",
              "    <style>\n",
              "      .colab-df-generate {\n",
              "        background-color: #E8F0FE;\n",
              "        border: none;\n",
              "        border-radius: 50%;\n",
              "        cursor: pointer;\n",
              "        display: none;\n",
              "        fill: #1967D2;\n",
              "        height: 32px;\n",
              "        padding: 0 0 0 0;\n",
              "        width: 32px;\n",
              "      }\n",
              "\n",
              "      .colab-df-generate:hover {\n",
              "        background-color: #E2EBFA;\n",
              "        box-shadow: 0px 1px 2px rgba(60, 64, 67, 0.3), 0px 1px 3px 1px rgba(60, 64, 67, 0.15);\n",
              "        fill: #174EA6;\n",
              "      }\n",
              "\n",
              "      [theme=dark] .colab-df-generate {\n",
              "        background-color: #3B4455;\n",
              "        fill: #D2E3FC;\n",
              "      }\n",
              "\n",
              "      [theme=dark] .colab-df-generate:hover {\n",
              "        background-color: #434B5C;\n",
              "        box-shadow: 0px 1px 3px 1px rgba(0, 0, 0, 0.15);\n",
              "        filter: drop-shadow(0px 1px 2px rgba(0, 0, 0, 0.3));\n",
              "        fill: #FFFFFF;\n",
              "      }\n",
              "    </style>\n",
              "    <button class=\"colab-df-generate\" onclick=\"generateWithVariable('df')\"\n",
              "            title=\"Generate code using this dataframe.\"\n",
              "            style=\"display:none;\">\n",
              "\n",
              "  <svg xmlns=\"http://www.w3.org/2000/svg\" height=\"24px\"viewBox=\"0 0 24 24\"\n",
              "       width=\"24px\">\n",
              "    <path d=\"M7,19H8.4L18.45,9,17,7.55,7,17.6ZM5,21V16.75L18.45,3.32a2,2,0,0,1,2.83,0l1.4,1.43a1.91,1.91,0,0,1,.58,1.4,1.91,1.91,0,0,1-.58,1.4L9.25,21ZM18.45,9,17,7.55Zm-12,3A5.31,5.31,0,0,0,4.9,8.1,5.31,5.31,0,0,0,1,6.5,5.31,5.31,0,0,0,4.9,4.9,5.31,5.31,0,0,0,6.5,1,5.31,5.31,0,0,0,8.1,4.9,5.31,5.31,0,0,0,12,6.5,5.46,5.46,0,0,0,6.5,12Z\"/>\n",
              "  </svg>\n",
              "    </button>\n",
              "    <script>\n",
              "      (() => {\n",
              "      const buttonEl =\n",
              "        document.querySelector('#id_2da54f63-7c79-45af-acb5-a4b2073f346a button.colab-df-generate');\n",
              "      buttonEl.style.display =\n",
              "        google.colab.kernel.accessAllowed ? 'block' : 'none';\n",
              "\n",
              "      buttonEl.onclick = () => {\n",
              "        google.colab.notebook.generateWithVariable('df');\n",
              "      }\n",
              "      })();\n",
              "    </script>\n",
              "  </div>\n",
              "\n",
              "    </div>\n",
              "  </div>\n"
            ]
          },
          "metadata": {},
          "execution_count": 16
        }
      ]
    },
    {
      "cell_type": "code",
      "source": [
        "df[df['User-ID']==11400]"
      ],
      "metadata": {
        "colab": {
          "base_uri": "https://localhost:8080/",
          "height": 947
        },
        "id": "7hZDg0vNr20b",
        "outputId": "1850c861-4fcb-4be2-ac65-d2f45110d616"
      },
      "execution_count": null,
      "outputs": [
        {
          "output_type": "execute_result",
          "data": {
            "text/plain": [
              "              ISBN                          Book-Title           Book-Author  \\\n",
              "2       0002005018                        clara callan  Richard Bruce Wright   \n",
              "8852    0786868716   the five peopl you meet in heaven           Mitch Albom   \n",
              "17944   0151008116                          life of pi           Yann Martel   \n",
              "28394   0671021001  she' come undon (oprah' book club)            Wally Lamb   \n",
              "30542   0312195516     the red tent (bestsel backlist)         Anita Diamant   \n",
              "...            ...                                 ...                   ...   \n",
              "362259  0380723085                         durabl good        Elizabeth Berg   \n",
              "397813  0312978383                      winter solstic     Rosamunde Pilcher   \n",
              "415359  0679449434                          joy school        ELIZABETH BERG   \n",
              "415376  0842371893    the sister circl (sister circle)     Vonette Z. Bright   \n",
              "415383  1551664992                        lost highway       Curtiss Matlock   \n",
              "\n",
              "        Year-Of-Publication                  Publisher  \\\n",
              "2                      2001      HarperFlamingo Canada   \n",
              "8852                   2003                   Hyperion   \n",
              "17944                  2002                   Harcourt   \n",
              "28394                  1998                     Pocket   \n",
              "30542                  1998                Picador USA   \n",
              "...                     ...                        ...   \n",
              "362259                 1994  Perennial (HarperCollins)   \n",
              "397813                 2001    St. Martin's Paperbacks   \n",
              "415359                 1997               Random House   \n",
              "415376                 2003   Tyndale House Publishers   \n",
              "415383                 1999                       Mira   \n",
              "\n",
              "                                              Image-URL-S  \\\n",
              "2       http://images.amazon.com/images/P/0002005018.0...   \n",
              "8852    http://images.amazon.com/images/P/0786868716.0...   \n",
              "17944   http://images.amazon.com/images/P/0151008116.0...   \n",
              "28394   http://images.amazon.com/images/P/0671021001.0...   \n",
              "30542   http://images.amazon.com/images/P/0312195516.0...   \n",
              "...                                                   ...   \n",
              "362259  http://images.amazon.com/images/P/0380723085.0...   \n",
              "397813  http://images.amazon.com/images/P/0312978383.0...   \n",
              "415359  http://images.amazon.com/images/P/0679449434.0...   \n",
              "415376  http://images.amazon.com/images/P/0842371893.0...   \n",
              "415383  http://images.amazon.com/images/P/1551664992.0...   \n",
              "\n",
              "                                              Image-URL-M  \\\n",
              "2       http://images.amazon.com/images/P/0002005018.0...   \n",
              "8852    http://images.amazon.com/images/P/0786868716.0...   \n",
              "17944   http://images.amazon.com/images/P/0151008116.0...   \n",
              "28394   http://images.amazon.com/images/P/0671021001.0...   \n",
              "30542   http://images.amazon.com/images/P/0312195516.0...   \n",
              "...                                                   ...   \n",
              "362259  http://images.amazon.com/images/P/0380723085.0...   \n",
              "397813  http://images.amazon.com/images/P/0312978383.0...   \n",
              "415359  http://images.amazon.com/images/P/0679449434.0...   \n",
              "415376  http://images.amazon.com/images/P/0842371893.0...   \n",
              "415383  http://images.amazon.com/images/P/1551664992.0...   \n",
              "\n",
              "                                              Image-URL-L  User-ID  \\\n",
              "2       http://images.amazon.com/images/P/0002005018.0...  11400.0   \n",
              "8852    http://images.amazon.com/images/P/0786868716.0...  11400.0   \n",
              "17944   http://images.amazon.com/images/P/0151008116.0...  11400.0   \n",
              "28394   http://images.amazon.com/images/P/0671021001.0...  11400.0   \n",
              "30542   http://images.amazon.com/images/P/0312195516.0...  11400.0   \n",
              "...                                                   ...      ...   \n",
              "362259  http://images.amazon.com/images/P/0380723085.0...  11400.0   \n",
              "397813  http://images.amazon.com/images/P/0312978383.0...  11400.0   \n",
              "415359  http://images.amazon.com/images/P/0679449434.0...  11400.0   \n",
              "415376  http://images.amazon.com/images/P/0842371893.0...  11400.0   \n",
              "415383  http://images.amazon.com/images/P/1551664992.0...  11400.0   \n",
              "\n",
              "        Book-Rating                 Location   Age  \n",
              "2               0.0  ottawa, ontario, canada  49.0  \n",
              "8852            9.0  ottawa, ontario, canada  49.0  \n",
              "17944           6.0  ottawa, ontario, canada  49.0  \n",
              "28394           0.0  ottawa, ontario, canada  49.0  \n",
              "30542           7.0  ottawa, ontario, canada  49.0  \n",
              "...             ...                      ...   ...  \n",
              "362259          0.0  ottawa, ontario, canada  49.0  \n",
              "397813          0.0  ottawa, ontario, canada  49.0  \n",
              "415359          8.0  ottawa, ontario, canada  49.0  \n",
              "415376          5.0  ottawa, ontario, canada  49.0  \n",
              "415383          0.0  ottawa, ontario, canada  49.0  \n",
              "\n",
              "[62 rows x 12 columns]"
            ],
            "text/html": [
              "\n",
              "  <div id=\"df-76a0bdfd-4312-4468-a898-ab8e25407f79\" class=\"colab-df-container\">\n",
              "    <div>\n",
              "<style scoped>\n",
              "    .dataframe tbody tr th:only-of-type {\n",
              "        vertical-align: middle;\n",
              "    }\n",
              "\n",
              "    .dataframe tbody tr th {\n",
              "        vertical-align: top;\n",
              "    }\n",
              "\n",
              "    .dataframe thead th {\n",
              "        text-align: right;\n",
              "    }\n",
              "</style>\n",
              "<table border=\"1\" class=\"dataframe\">\n",
              "  <thead>\n",
              "    <tr style=\"text-align: right;\">\n",
              "      <th></th>\n",
              "      <th>ISBN</th>\n",
              "      <th>Book-Title</th>\n",
              "      <th>Book-Author</th>\n",
              "      <th>Year-Of-Publication</th>\n",
              "      <th>Publisher</th>\n",
              "      <th>Image-URL-S</th>\n",
              "      <th>Image-URL-M</th>\n",
              "      <th>Image-URL-L</th>\n",
              "      <th>User-ID</th>\n",
              "      <th>Book-Rating</th>\n",
              "      <th>Location</th>\n",
              "      <th>Age</th>\n",
              "    </tr>\n",
              "  </thead>\n",
              "  <tbody>\n",
              "    <tr>\n",
              "      <th>2</th>\n",
              "      <td>0002005018</td>\n",
              "      <td>clara callan</td>\n",
              "      <td>Richard Bruce Wright</td>\n",
              "      <td>2001</td>\n",
              "      <td>HarperFlamingo Canada</td>\n",
              "      <td>http://images.amazon.com/images/P/0002005018.0...</td>\n",
              "      <td>http://images.amazon.com/images/P/0002005018.0...</td>\n",
              "      <td>http://images.amazon.com/images/P/0002005018.0...</td>\n",
              "      <td>11400.0</td>\n",
              "      <td>0.0</td>\n",
              "      <td>ottawa, ontario, canada</td>\n",
              "      <td>49.0</td>\n",
              "    </tr>\n",
              "    <tr>\n",
              "      <th>8852</th>\n",
              "      <td>0786868716</td>\n",
              "      <td>the five peopl you meet in heaven</td>\n",
              "      <td>Mitch Albom</td>\n",
              "      <td>2003</td>\n",
              "      <td>Hyperion</td>\n",
              "      <td>http://images.amazon.com/images/P/0786868716.0...</td>\n",
              "      <td>http://images.amazon.com/images/P/0786868716.0...</td>\n",
              "      <td>http://images.amazon.com/images/P/0786868716.0...</td>\n",
              "      <td>11400.0</td>\n",
              "      <td>9.0</td>\n",
              "      <td>ottawa, ontario, canada</td>\n",
              "      <td>49.0</td>\n",
              "    </tr>\n",
              "    <tr>\n",
              "      <th>17944</th>\n",
              "      <td>0151008116</td>\n",
              "      <td>life of pi</td>\n",
              "      <td>Yann Martel</td>\n",
              "      <td>2002</td>\n",
              "      <td>Harcourt</td>\n",
              "      <td>http://images.amazon.com/images/P/0151008116.0...</td>\n",
              "      <td>http://images.amazon.com/images/P/0151008116.0...</td>\n",
              "      <td>http://images.amazon.com/images/P/0151008116.0...</td>\n",
              "      <td>11400.0</td>\n",
              "      <td>6.0</td>\n",
              "      <td>ottawa, ontario, canada</td>\n",
              "      <td>49.0</td>\n",
              "    </tr>\n",
              "    <tr>\n",
              "      <th>28394</th>\n",
              "      <td>0671021001</td>\n",
              "      <td>she' come undon (oprah' book club)</td>\n",
              "      <td>Wally Lamb</td>\n",
              "      <td>1998</td>\n",
              "      <td>Pocket</td>\n",
              "      <td>http://images.amazon.com/images/P/0671021001.0...</td>\n",
              "      <td>http://images.amazon.com/images/P/0671021001.0...</td>\n",
              "      <td>http://images.amazon.com/images/P/0671021001.0...</td>\n",
              "      <td>11400.0</td>\n",
              "      <td>0.0</td>\n",
              "      <td>ottawa, ontario, canada</td>\n",
              "      <td>49.0</td>\n",
              "    </tr>\n",
              "    <tr>\n",
              "      <th>30542</th>\n",
              "      <td>0312195516</td>\n",
              "      <td>the red tent (bestsel backlist)</td>\n",
              "      <td>Anita Diamant</td>\n",
              "      <td>1998</td>\n",
              "      <td>Picador USA</td>\n",
              "      <td>http://images.amazon.com/images/P/0312195516.0...</td>\n",
              "      <td>http://images.amazon.com/images/P/0312195516.0...</td>\n",
              "      <td>http://images.amazon.com/images/P/0312195516.0...</td>\n",
              "      <td>11400.0</td>\n",
              "      <td>7.0</td>\n",
              "      <td>ottawa, ontario, canada</td>\n",
              "      <td>49.0</td>\n",
              "    </tr>\n",
              "    <tr>\n",
              "      <th>...</th>\n",
              "      <td>...</td>\n",
              "      <td>...</td>\n",
              "      <td>...</td>\n",
              "      <td>...</td>\n",
              "      <td>...</td>\n",
              "      <td>...</td>\n",
              "      <td>...</td>\n",
              "      <td>...</td>\n",
              "      <td>...</td>\n",
              "      <td>...</td>\n",
              "      <td>...</td>\n",
              "      <td>...</td>\n",
              "    </tr>\n",
              "    <tr>\n",
              "      <th>362259</th>\n",
              "      <td>0380723085</td>\n",
              "      <td>durabl good</td>\n",
              "      <td>Elizabeth Berg</td>\n",
              "      <td>1994</td>\n",
              "      <td>Perennial (HarperCollins)</td>\n",
              "      <td>http://images.amazon.com/images/P/0380723085.0...</td>\n",
              "      <td>http://images.amazon.com/images/P/0380723085.0...</td>\n",
              "      <td>http://images.amazon.com/images/P/0380723085.0...</td>\n",
              "      <td>11400.0</td>\n",
              "      <td>0.0</td>\n",
              "      <td>ottawa, ontario, canada</td>\n",
              "      <td>49.0</td>\n",
              "    </tr>\n",
              "    <tr>\n",
              "      <th>397813</th>\n",
              "      <td>0312978383</td>\n",
              "      <td>winter solstic</td>\n",
              "      <td>Rosamunde Pilcher</td>\n",
              "      <td>2001</td>\n",
              "      <td>St. Martin's Paperbacks</td>\n",
              "      <td>http://images.amazon.com/images/P/0312978383.0...</td>\n",
              "      <td>http://images.amazon.com/images/P/0312978383.0...</td>\n",
              "      <td>http://images.amazon.com/images/P/0312978383.0...</td>\n",
              "      <td>11400.0</td>\n",
              "      <td>0.0</td>\n",
              "      <td>ottawa, ontario, canada</td>\n",
              "      <td>49.0</td>\n",
              "    </tr>\n",
              "    <tr>\n",
              "      <th>415359</th>\n",
              "      <td>0679449434</td>\n",
              "      <td>joy school</td>\n",
              "      <td>ELIZABETH BERG</td>\n",
              "      <td>1997</td>\n",
              "      <td>Random House</td>\n",
              "      <td>http://images.amazon.com/images/P/0679449434.0...</td>\n",
              "      <td>http://images.amazon.com/images/P/0679449434.0...</td>\n",
              "      <td>http://images.amazon.com/images/P/0679449434.0...</td>\n",
              "      <td>11400.0</td>\n",
              "      <td>8.0</td>\n",
              "      <td>ottawa, ontario, canada</td>\n",
              "      <td>49.0</td>\n",
              "    </tr>\n",
              "    <tr>\n",
              "      <th>415376</th>\n",
              "      <td>0842371893</td>\n",
              "      <td>the sister circl (sister circle)</td>\n",
              "      <td>Vonette Z. Bright</td>\n",
              "      <td>2003</td>\n",
              "      <td>Tyndale House Publishers</td>\n",
              "      <td>http://images.amazon.com/images/P/0842371893.0...</td>\n",
              "      <td>http://images.amazon.com/images/P/0842371893.0...</td>\n",
              "      <td>http://images.amazon.com/images/P/0842371893.0...</td>\n",
              "      <td>11400.0</td>\n",
              "      <td>5.0</td>\n",
              "      <td>ottawa, ontario, canada</td>\n",
              "      <td>49.0</td>\n",
              "    </tr>\n",
              "    <tr>\n",
              "      <th>415383</th>\n",
              "      <td>1551664992</td>\n",
              "      <td>lost highway</td>\n",
              "      <td>Curtiss Matlock</td>\n",
              "      <td>1999</td>\n",
              "      <td>Mira</td>\n",
              "      <td>http://images.amazon.com/images/P/1551664992.0...</td>\n",
              "      <td>http://images.amazon.com/images/P/1551664992.0...</td>\n",
              "      <td>http://images.amazon.com/images/P/1551664992.0...</td>\n",
              "      <td>11400.0</td>\n",
              "      <td>0.0</td>\n",
              "      <td>ottawa, ontario, canada</td>\n",
              "      <td>49.0</td>\n",
              "    </tr>\n",
              "  </tbody>\n",
              "</table>\n",
              "<p>62 rows × 12 columns</p>\n",
              "</div>\n",
              "    <div class=\"colab-df-buttons\">\n",
              "\n",
              "  <div class=\"colab-df-container\">\n",
              "    <button class=\"colab-df-convert\" onclick=\"convertToInteractive('df-76a0bdfd-4312-4468-a898-ab8e25407f79')\"\n",
              "            title=\"Convert this dataframe to an interactive table.\"\n",
              "            style=\"display:none;\">\n",
              "\n",
              "  <svg xmlns=\"http://www.w3.org/2000/svg\" height=\"24px\" viewBox=\"0 -960 960 960\">\n",
              "    <path d=\"M120-120v-720h720v720H120Zm60-500h600v-160H180v160Zm220 220h160v-160H400v160Zm0 220h160v-160H400v160ZM180-400h160v-160H180v160Zm440 0h160v-160H620v160ZM180-180h160v-160H180v160Zm440 0h160v-160H620v160Z\"/>\n",
              "  </svg>\n",
              "    </button>\n",
              "\n",
              "  <style>\n",
              "    .colab-df-container {\n",
              "      display:flex;\n",
              "      gap: 12px;\n",
              "    }\n",
              "\n",
              "    .colab-df-convert {\n",
              "      background-color: #E8F0FE;\n",
              "      border: none;\n",
              "      border-radius: 50%;\n",
              "      cursor: pointer;\n",
              "      display: none;\n",
              "      fill: #1967D2;\n",
              "      height: 32px;\n",
              "      padding: 0 0 0 0;\n",
              "      width: 32px;\n",
              "    }\n",
              "\n",
              "    .colab-df-convert:hover {\n",
              "      background-color: #E2EBFA;\n",
              "      box-shadow: 0px 1px 2px rgba(60, 64, 67, 0.3), 0px 1px 3px 1px rgba(60, 64, 67, 0.15);\n",
              "      fill: #174EA6;\n",
              "    }\n",
              "\n",
              "    .colab-df-buttons div {\n",
              "      margin-bottom: 4px;\n",
              "    }\n",
              "\n",
              "    [theme=dark] .colab-df-convert {\n",
              "      background-color: #3B4455;\n",
              "      fill: #D2E3FC;\n",
              "    }\n",
              "\n",
              "    [theme=dark] .colab-df-convert:hover {\n",
              "      background-color: #434B5C;\n",
              "      box-shadow: 0px 1px 3px 1px rgba(0, 0, 0, 0.15);\n",
              "      filter: drop-shadow(0px 1px 2px rgba(0, 0, 0, 0.3));\n",
              "      fill: #FFFFFF;\n",
              "    }\n",
              "  </style>\n",
              "\n",
              "    <script>\n",
              "      const buttonEl =\n",
              "        document.querySelector('#df-76a0bdfd-4312-4468-a898-ab8e25407f79 button.colab-df-convert');\n",
              "      buttonEl.style.display =\n",
              "        google.colab.kernel.accessAllowed ? 'block' : 'none';\n",
              "\n",
              "      async function convertToInteractive(key) {\n",
              "        const element = document.querySelector('#df-76a0bdfd-4312-4468-a898-ab8e25407f79');\n",
              "        const dataTable =\n",
              "          await google.colab.kernel.invokeFunction('convertToInteractive',\n",
              "                                                    [key], {});\n",
              "        if (!dataTable) return;\n",
              "\n",
              "        const docLinkHtml = 'Like what you see? Visit the ' +\n",
              "          '<a target=\"_blank\" href=https://colab.research.google.com/notebooks/data_table.ipynb>data table notebook</a>'\n",
              "          + ' to learn more about interactive tables.';\n",
              "        element.innerHTML = '';\n",
              "        dataTable['output_type'] = 'display_data';\n",
              "        await google.colab.output.renderOutput(dataTable, element);\n",
              "        const docLink = document.createElement('div');\n",
              "        docLink.innerHTML = docLinkHtml;\n",
              "        element.appendChild(docLink);\n",
              "      }\n",
              "    </script>\n",
              "  </div>\n",
              "\n",
              "\n",
              "<div id=\"df-8aca173e-f6dc-4d36-a609-d2575e157ee7\">\n",
              "  <button class=\"colab-df-quickchart\" onclick=\"quickchart('df-8aca173e-f6dc-4d36-a609-d2575e157ee7')\"\n",
              "            title=\"Suggest charts\"\n",
              "            style=\"display:none;\">\n",
              "\n",
              "<svg xmlns=\"http://www.w3.org/2000/svg\" height=\"24px\"viewBox=\"0 0 24 24\"\n",
              "     width=\"24px\">\n",
              "    <g>\n",
              "        <path d=\"M19 3H5c-1.1 0-2 .9-2 2v14c0 1.1.9 2 2 2h14c1.1 0 2-.9 2-2V5c0-1.1-.9-2-2-2zM9 17H7v-7h2v7zm4 0h-2V7h2v10zm4 0h-2v-4h2v4z\"/>\n",
              "    </g>\n",
              "</svg>\n",
              "  </button>\n",
              "\n",
              "<style>\n",
              "  .colab-df-quickchart {\n",
              "      --bg-color: #E8F0FE;\n",
              "      --fill-color: #1967D2;\n",
              "      --hover-bg-color: #E2EBFA;\n",
              "      --hover-fill-color: #174EA6;\n",
              "      --disabled-fill-color: #AAA;\n",
              "      --disabled-bg-color: #DDD;\n",
              "  }\n",
              "\n",
              "  [theme=dark] .colab-df-quickchart {\n",
              "      --bg-color: #3B4455;\n",
              "      --fill-color: #D2E3FC;\n",
              "      --hover-bg-color: #434B5C;\n",
              "      --hover-fill-color: #FFFFFF;\n",
              "      --disabled-bg-color: #3B4455;\n",
              "      --disabled-fill-color: #666;\n",
              "  }\n",
              "\n",
              "  .colab-df-quickchart {\n",
              "    background-color: var(--bg-color);\n",
              "    border: none;\n",
              "    border-radius: 50%;\n",
              "    cursor: pointer;\n",
              "    display: none;\n",
              "    fill: var(--fill-color);\n",
              "    height: 32px;\n",
              "    padding: 0;\n",
              "    width: 32px;\n",
              "  }\n",
              "\n",
              "  .colab-df-quickchart:hover {\n",
              "    background-color: var(--hover-bg-color);\n",
              "    box-shadow: 0 1px 2px rgba(60, 64, 67, 0.3), 0 1px 3px 1px rgba(60, 64, 67, 0.15);\n",
              "    fill: var(--button-hover-fill-color);\n",
              "  }\n",
              "\n",
              "  .colab-df-quickchart-complete:disabled,\n",
              "  .colab-df-quickchart-complete:disabled:hover {\n",
              "    background-color: var(--disabled-bg-color);\n",
              "    fill: var(--disabled-fill-color);\n",
              "    box-shadow: none;\n",
              "  }\n",
              "\n",
              "  .colab-df-spinner {\n",
              "    border: 2px solid var(--fill-color);\n",
              "    border-color: transparent;\n",
              "    border-bottom-color: var(--fill-color);\n",
              "    animation:\n",
              "      spin 1s steps(1) infinite;\n",
              "  }\n",
              "\n",
              "  @keyframes spin {\n",
              "    0% {\n",
              "      border-color: transparent;\n",
              "      border-bottom-color: var(--fill-color);\n",
              "      border-left-color: var(--fill-color);\n",
              "    }\n",
              "    20% {\n",
              "      border-color: transparent;\n",
              "      border-left-color: var(--fill-color);\n",
              "      border-top-color: var(--fill-color);\n",
              "    }\n",
              "    30% {\n",
              "      border-color: transparent;\n",
              "      border-left-color: var(--fill-color);\n",
              "      border-top-color: var(--fill-color);\n",
              "      border-right-color: var(--fill-color);\n",
              "    }\n",
              "    40% {\n",
              "      border-color: transparent;\n",
              "      border-right-color: var(--fill-color);\n",
              "      border-top-color: var(--fill-color);\n",
              "    }\n",
              "    60% {\n",
              "      border-color: transparent;\n",
              "      border-right-color: var(--fill-color);\n",
              "    }\n",
              "    80% {\n",
              "      border-color: transparent;\n",
              "      border-right-color: var(--fill-color);\n",
              "      border-bottom-color: var(--fill-color);\n",
              "    }\n",
              "    90% {\n",
              "      border-color: transparent;\n",
              "      border-bottom-color: var(--fill-color);\n",
              "    }\n",
              "  }\n",
              "</style>\n",
              "\n",
              "  <script>\n",
              "    async function quickchart(key) {\n",
              "      const quickchartButtonEl =\n",
              "        document.querySelector('#' + key + ' button');\n",
              "      quickchartButtonEl.disabled = true;  // To prevent multiple clicks.\n",
              "      quickchartButtonEl.classList.add('colab-df-spinner');\n",
              "      try {\n",
              "        const charts = await google.colab.kernel.invokeFunction(\n",
              "            'suggestCharts', [key], {});\n",
              "      } catch (error) {\n",
              "        console.error('Error during call to suggestCharts:', error);\n",
              "      }\n",
              "      quickchartButtonEl.classList.remove('colab-df-spinner');\n",
              "      quickchartButtonEl.classList.add('colab-df-quickchart-complete');\n",
              "    }\n",
              "    (() => {\n",
              "      let quickchartButtonEl =\n",
              "        document.querySelector('#df-8aca173e-f6dc-4d36-a609-d2575e157ee7 button');\n",
              "      quickchartButtonEl.style.display =\n",
              "        google.colab.kernel.accessAllowed ? 'block' : 'none';\n",
              "    })();\n",
              "  </script>\n",
              "</div>\n",
              "\n",
              "    </div>\n",
              "  </div>\n"
            ]
          },
          "metadata": {},
          "execution_count": 17
        }
      ]
    },
    {
      "cell_type": "markdown",
      "source": [
        "##데이터셋 전처리2\n",
        "\n",
        "\n",
        "\n",
        "1.   쓸데없는 카테고리 삭제\n",
        "\n",
        "\n",
        "\n",
        "\n",
        "\n",
        "\n"
      ],
      "metadata": {
        "id": "I17f0aIVuFna"
      }
    },
    {
      "cell_type": "code",
      "source": [
        "df_new = df.copy()\n",
        "df_new.drop(['Image-URL-S', 'Image-URL-M', 'Image-URL-L'], axis=1, inplace=True)\n",
        "df_new = df_new.fillna(0)\n",
        "df_new = df_new.dropna()\n",
        "\n",
        "df_new\n"
      ],
      "metadata": {
        "colab": {
          "base_uri": "https://localhost:8080/",
          "height": 597
        },
        "id": "6uPj_9cHsYFy",
        "outputId": "24eef97c-b08d-4532-e33e-158c67a6db98"
      },
      "execution_count": null,
      "outputs": [
        {
          "output_type": "execute_result",
          "data": {
            "text/plain": [
              "               ISBN                                         Book-Title  \\\n",
              "0        0195153448                                   classic mytholog   \n",
              "1        0002005018                                       clara callan   \n",
              "2        0002005018                                       clara callan   \n",
              "3        0002005018                                       clara callan   \n",
              "4        0002005018                                       clara callan   \n",
              "...             ...                                                ...   \n",
              "1032379  0440400988                          there' a bat in bunk five   \n",
              "1032380  0525447644                              from one to one hundr   \n",
              "1032381  006008667X  lili dale : the true stori of the town that ta...   \n",
              "1032382  0192126040                           republ (world' classics)   \n",
              "1032383  0767409752  a guid tour of rene descartes' medit on first ...   \n",
              "\n",
              "                  Book-Author  Year-Of-Publication  \\\n",
              "0          Mark P. O. Morford                 2002   \n",
              "1        Richard Bruce Wright                 2001   \n",
              "2        Richard Bruce Wright                 2001   \n",
              "3        Richard Bruce Wright                 2001   \n",
              "4        Richard Bruce Wright                 2001   \n",
              "...                       ...                  ...   \n",
              "1032379        Paula Danziger                 1988   \n",
              "1032380            Teri Sloat                 1991   \n",
              "1032381      Christine Wicker                 2004   \n",
              "1032382                 Plato                 1996   \n",
              "1032383   Christopher  Biffle                 2000   \n",
              "\n",
              "                                                Publisher   User-ID  \\\n",
              "0                                 Oxford University Press       2.0   \n",
              "1                                   HarperFlamingo Canada       8.0   \n",
              "2                                   HarperFlamingo Canada   11400.0   \n",
              "3                                   HarperFlamingo Canada   11676.0   \n",
              "4                                   HarperFlamingo Canada   41385.0   \n",
              "...                                                   ...       ...   \n",
              "1032379                   Random House Childrens Pub (Mm)  276463.0   \n",
              "1032380                                      Dutton Books  276579.0   \n",
              "1032381                                HarperSanFrancisco  276680.0   \n",
              "1032382                           Oxford University Press  276680.0   \n",
              "1032383  McGraw-Hill Humanities/Social Sciences/Languages  276680.0   \n",
              "\n",
              "         Book-Rating                          Location   Age  \n",
              "0                0.0         stockton, california, usa  18.0  \n",
              "1                5.0          timmins, ontario, canada   0.0  \n",
              "2                0.0           ottawa, ontario, canada  49.0  \n",
              "3                8.0                     n/a, n/a, n/a   0.0  \n",
              "4                0.0          sudbury, ontario, canada   0.0  \n",
              "...              ...                               ...   ...  \n",
              "1032379          7.0     providence, rhode island, usa  26.0  \n",
              "1032380          4.0                   orem, utah, usa  12.0  \n",
              "1032381          0.0  hopewell junction, new york, usa  55.0  \n",
              "1032382          0.0  hopewell junction, new york, usa  55.0  \n",
              "1032383          0.0  hopewell junction, new york, usa  55.0  \n",
              "\n",
              "[1032384 rows x 9 columns]"
            ],
            "text/html": [
              "\n",
              "  <div id=\"df-ae59de48-4fe1-4fed-bd68-5fea8c765197\" class=\"colab-df-container\">\n",
              "    <div>\n",
              "<style scoped>\n",
              "    .dataframe tbody tr th:only-of-type {\n",
              "        vertical-align: middle;\n",
              "    }\n",
              "\n",
              "    .dataframe tbody tr th {\n",
              "        vertical-align: top;\n",
              "    }\n",
              "\n",
              "    .dataframe thead th {\n",
              "        text-align: right;\n",
              "    }\n",
              "</style>\n",
              "<table border=\"1\" class=\"dataframe\">\n",
              "  <thead>\n",
              "    <tr style=\"text-align: right;\">\n",
              "      <th></th>\n",
              "      <th>ISBN</th>\n",
              "      <th>Book-Title</th>\n",
              "      <th>Book-Author</th>\n",
              "      <th>Year-Of-Publication</th>\n",
              "      <th>Publisher</th>\n",
              "      <th>User-ID</th>\n",
              "      <th>Book-Rating</th>\n",
              "      <th>Location</th>\n",
              "      <th>Age</th>\n",
              "    </tr>\n",
              "  </thead>\n",
              "  <tbody>\n",
              "    <tr>\n",
              "      <th>0</th>\n",
              "      <td>0195153448</td>\n",
              "      <td>classic mytholog</td>\n",
              "      <td>Mark P. O. Morford</td>\n",
              "      <td>2002</td>\n",
              "      <td>Oxford University Press</td>\n",
              "      <td>2.0</td>\n",
              "      <td>0.0</td>\n",
              "      <td>stockton, california, usa</td>\n",
              "      <td>18.0</td>\n",
              "    </tr>\n",
              "    <tr>\n",
              "      <th>1</th>\n",
              "      <td>0002005018</td>\n",
              "      <td>clara callan</td>\n",
              "      <td>Richard Bruce Wright</td>\n",
              "      <td>2001</td>\n",
              "      <td>HarperFlamingo Canada</td>\n",
              "      <td>8.0</td>\n",
              "      <td>5.0</td>\n",
              "      <td>timmins, ontario, canada</td>\n",
              "      <td>0.0</td>\n",
              "    </tr>\n",
              "    <tr>\n",
              "      <th>2</th>\n",
              "      <td>0002005018</td>\n",
              "      <td>clara callan</td>\n",
              "      <td>Richard Bruce Wright</td>\n",
              "      <td>2001</td>\n",
              "      <td>HarperFlamingo Canada</td>\n",
              "      <td>11400.0</td>\n",
              "      <td>0.0</td>\n",
              "      <td>ottawa, ontario, canada</td>\n",
              "      <td>49.0</td>\n",
              "    </tr>\n",
              "    <tr>\n",
              "      <th>3</th>\n",
              "      <td>0002005018</td>\n",
              "      <td>clara callan</td>\n",
              "      <td>Richard Bruce Wright</td>\n",
              "      <td>2001</td>\n",
              "      <td>HarperFlamingo Canada</td>\n",
              "      <td>11676.0</td>\n",
              "      <td>8.0</td>\n",
              "      <td>n/a, n/a, n/a</td>\n",
              "      <td>0.0</td>\n",
              "    </tr>\n",
              "    <tr>\n",
              "      <th>4</th>\n",
              "      <td>0002005018</td>\n",
              "      <td>clara callan</td>\n",
              "      <td>Richard Bruce Wright</td>\n",
              "      <td>2001</td>\n",
              "      <td>HarperFlamingo Canada</td>\n",
              "      <td>41385.0</td>\n",
              "      <td>0.0</td>\n",
              "      <td>sudbury, ontario, canada</td>\n",
              "      <td>0.0</td>\n",
              "    </tr>\n",
              "    <tr>\n",
              "      <th>...</th>\n",
              "      <td>...</td>\n",
              "      <td>...</td>\n",
              "      <td>...</td>\n",
              "      <td>...</td>\n",
              "      <td>...</td>\n",
              "      <td>...</td>\n",
              "      <td>...</td>\n",
              "      <td>...</td>\n",
              "      <td>...</td>\n",
              "    </tr>\n",
              "    <tr>\n",
              "      <th>1032379</th>\n",
              "      <td>0440400988</td>\n",
              "      <td>there' a bat in bunk five</td>\n",
              "      <td>Paula Danziger</td>\n",
              "      <td>1988</td>\n",
              "      <td>Random House Childrens Pub (Mm)</td>\n",
              "      <td>276463.0</td>\n",
              "      <td>7.0</td>\n",
              "      <td>providence, rhode island, usa</td>\n",
              "      <td>26.0</td>\n",
              "    </tr>\n",
              "    <tr>\n",
              "      <th>1032380</th>\n",
              "      <td>0525447644</td>\n",
              "      <td>from one to one hundr</td>\n",
              "      <td>Teri Sloat</td>\n",
              "      <td>1991</td>\n",
              "      <td>Dutton Books</td>\n",
              "      <td>276579.0</td>\n",
              "      <td>4.0</td>\n",
              "      <td>orem, utah, usa</td>\n",
              "      <td>12.0</td>\n",
              "    </tr>\n",
              "    <tr>\n",
              "      <th>1032381</th>\n",
              "      <td>006008667X</td>\n",
              "      <td>lili dale : the true stori of the town that ta...</td>\n",
              "      <td>Christine Wicker</td>\n",
              "      <td>2004</td>\n",
              "      <td>HarperSanFrancisco</td>\n",
              "      <td>276680.0</td>\n",
              "      <td>0.0</td>\n",
              "      <td>hopewell junction, new york, usa</td>\n",
              "      <td>55.0</td>\n",
              "    </tr>\n",
              "    <tr>\n",
              "      <th>1032382</th>\n",
              "      <td>0192126040</td>\n",
              "      <td>republ (world' classics)</td>\n",
              "      <td>Plato</td>\n",
              "      <td>1996</td>\n",
              "      <td>Oxford University Press</td>\n",
              "      <td>276680.0</td>\n",
              "      <td>0.0</td>\n",
              "      <td>hopewell junction, new york, usa</td>\n",
              "      <td>55.0</td>\n",
              "    </tr>\n",
              "    <tr>\n",
              "      <th>1032383</th>\n",
              "      <td>0767409752</td>\n",
              "      <td>a guid tour of rene descartes' medit on first ...</td>\n",
              "      <td>Christopher  Biffle</td>\n",
              "      <td>2000</td>\n",
              "      <td>McGraw-Hill Humanities/Social Sciences/Languages</td>\n",
              "      <td>276680.0</td>\n",
              "      <td>0.0</td>\n",
              "      <td>hopewell junction, new york, usa</td>\n",
              "      <td>55.0</td>\n",
              "    </tr>\n",
              "  </tbody>\n",
              "</table>\n",
              "<p>1032384 rows × 9 columns</p>\n",
              "</div>\n",
              "    <div class=\"colab-df-buttons\">\n",
              "\n",
              "  <div class=\"colab-df-container\">\n",
              "    <button class=\"colab-df-convert\" onclick=\"convertToInteractive('df-ae59de48-4fe1-4fed-bd68-5fea8c765197')\"\n",
              "            title=\"Convert this dataframe to an interactive table.\"\n",
              "            style=\"display:none;\">\n",
              "\n",
              "  <svg xmlns=\"http://www.w3.org/2000/svg\" height=\"24px\" viewBox=\"0 -960 960 960\">\n",
              "    <path d=\"M120-120v-720h720v720H120Zm60-500h600v-160H180v160Zm220 220h160v-160H400v160Zm0 220h160v-160H400v160ZM180-400h160v-160H180v160Zm440 0h160v-160H620v160ZM180-180h160v-160H180v160Zm440 0h160v-160H620v160Z\"/>\n",
              "  </svg>\n",
              "    </button>\n",
              "\n",
              "  <style>\n",
              "    .colab-df-container {\n",
              "      display:flex;\n",
              "      gap: 12px;\n",
              "    }\n",
              "\n",
              "    .colab-df-convert {\n",
              "      background-color: #E8F0FE;\n",
              "      border: none;\n",
              "      border-radius: 50%;\n",
              "      cursor: pointer;\n",
              "      display: none;\n",
              "      fill: #1967D2;\n",
              "      height: 32px;\n",
              "      padding: 0 0 0 0;\n",
              "      width: 32px;\n",
              "    }\n",
              "\n",
              "    .colab-df-convert:hover {\n",
              "      background-color: #E2EBFA;\n",
              "      box-shadow: 0px 1px 2px rgba(60, 64, 67, 0.3), 0px 1px 3px 1px rgba(60, 64, 67, 0.15);\n",
              "      fill: #174EA6;\n",
              "    }\n",
              "\n",
              "    .colab-df-buttons div {\n",
              "      margin-bottom: 4px;\n",
              "    }\n",
              "\n",
              "    [theme=dark] .colab-df-convert {\n",
              "      background-color: #3B4455;\n",
              "      fill: #D2E3FC;\n",
              "    }\n",
              "\n",
              "    [theme=dark] .colab-df-convert:hover {\n",
              "      background-color: #434B5C;\n",
              "      box-shadow: 0px 1px 3px 1px rgba(0, 0, 0, 0.15);\n",
              "      filter: drop-shadow(0px 1px 2px rgba(0, 0, 0, 0.3));\n",
              "      fill: #FFFFFF;\n",
              "    }\n",
              "  </style>\n",
              "\n",
              "    <script>\n",
              "      const buttonEl =\n",
              "        document.querySelector('#df-ae59de48-4fe1-4fed-bd68-5fea8c765197 button.colab-df-convert');\n",
              "      buttonEl.style.display =\n",
              "        google.colab.kernel.accessAllowed ? 'block' : 'none';\n",
              "\n",
              "      async function convertToInteractive(key) {\n",
              "        const element = document.querySelector('#df-ae59de48-4fe1-4fed-bd68-5fea8c765197');\n",
              "        const dataTable =\n",
              "          await google.colab.kernel.invokeFunction('convertToInteractive',\n",
              "                                                    [key], {});\n",
              "        if (!dataTable) return;\n",
              "\n",
              "        const docLinkHtml = 'Like what you see? Visit the ' +\n",
              "          '<a target=\"_blank\" href=https://colab.research.google.com/notebooks/data_table.ipynb>data table notebook</a>'\n",
              "          + ' to learn more about interactive tables.';\n",
              "        element.innerHTML = '';\n",
              "        dataTable['output_type'] = 'display_data';\n",
              "        await google.colab.output.renderOutput(dataTable, element);\n",
              "        const docLink = document.createElement('div');\n",
              "        docLink.innerHTML = docLinkHtml;\n",
              "        element.appendChild(docLink);\n",
              "      }\n",
              "    </script>\n",
              "  </div>\n",
              "\n",
              "\n",
              "<div id=\"df-4474e4f5-e042-419b-b24b-3440c4028041\">\n",
              "  <button class=\"colab-df-quickchart\" onclick=\"quickchart('df-4474e4f5-e042-419b-b24b-3440c4028041')\"\n",
              "            title=\"Suggest charts\"\n",
              "            style=\"display:none;\">\n",
              "\n",
              "<svg xmlns=\"http://www.w3.org/2000/svg\" height=\"24px\"viewBox=\"0 0 24 24\"\n",
              "     width=\"24px\">\n",
              "    <g>\n",
              "        <path d=\"M19 3H5c-1.1 0-2 .9-2 2v14c0 1.1.9 2 2 2h14c1.1 0 2-.9 2-2V5c0-1.1-.9-2-2-2zM9 17H7v-7h2v7zm4 0h-2V7h2v10zm4 0h-2v-4h2v4z\"/>\n",
              "    </g>\n",
              "</svg>\n",
              "  </button>\n",
              "\n",
              "<style>\n",
              "  .colab-df-quickchart {\n",
              "      --bg-color: #E8F0FE;\n",
              "      --fill-color: #1967D2;\n",
              "      --hover-bg-color: #E2EBFA;\n",
              "      --hover-fill-color: #174EA6;\n",
              "      --disabled-fill-color: #AAA;\n",
              "      --disabled-bg-color: #DDD;\n",
              "  }\n",
              "\n",
              "  [theme=dark] .colab-df-quickchart {\n",
              "      --bg-color: #3B4455;\n",
              "      --fill-color: #D2E3FC;\n",
              "      --hover-bg-color: #434B5C;\n",
              "      --hover-fill-color: #FFFFFF;\n",
              "      --disabled-bg-color: #3B4455;\n",
              "      --disabled-fill-color: #666;\n",
              "  }\n",
              "\n",
              "  .colab-df-quickchart {\n",
              "    background-color: var(--bg-color);\n",
              "    border: none;\n",
              "    border-radius: 50%;\n",
              "    cursor: pointer;\n",
              "    display: none;\n",
              "    fill: var(--fill-color);\n",
              "    height: 32px;\n",
              "    padding: 0;\n",
              "    width: 32px;\n",
              "  }\n",
              "\n",
              "  .colab-df-quickchart:hover {\n",
              "    background-color: var(--hover-bg-color);\n",
              "    box-shadow: 0 1px 2px rgba(60, 64, 67, 0.3), 0 1px 3px 1px rgba(60, 64, 67, 0.15);\n",
              "    fill: var(--button-hover-fill-color);\n",
              "  }\n",
              "\n",
              "  .colab-df-quickchart-complete:disabled,\n",
              "  .colab-df-quickchart-complete:disabled:hover {\n",
              "    background-color: var(--disabled-bg-color);\n",
              "    fill: var(--disabled-fill-color);\n",
              "    box-shadow: none;\n",
              "  }\n",
              "\n",
              "  .colab-df-spinner {\n",
              "    border: 2px solid var(--fill-color);\n",
              "    border-color: transparent;\n",
              "    border-bottom-color: var(--fill-color);\n",
              "    animation:\n",
              "      spin 1s steps(1) infinite;\n",
              "  }\n",
              "\n",
              "  @keyframes spin {\n",
              "    0% {\n",
              "      border-color: transparent;\n",
              "      border-bottom-color: var(--fill-color);\n",
              "      border-left-color: var(--fill-color);\n",
              "    }\n",
              "    20% {\n",
              "      border-color: transparent;\n",
              "      border-left-color: var(--fill-color);\n",
              "      border-top-color: var(--fill-color);\n",
              "    }\n",
              "    30% {\n",
              "      border-color: transparent;\n",
              "      border-left-color: var(--fill-color);\n",
              "      border-top-color: var(--fill-color);\n",
              "      border-right-color: var(--fill-color);\n",
              "    }\n",
              "    40% {\n",
              "      border-color: transparent;\n",
              "      border-right-color: var(--fill-color);\n",
              "      border-top-color: var(--fill-color);\n",
              "    }\n",
              "    60% {\n",
              "      border-color: transparent;\n",
              "      border-right-color: var(--fill-color);\n",
              "    }\n",
              "    80% {\n",
              "      border-color: transparent;\n",
              "      border-right-color: var(--fill-color);\n",
              "      border-bottom-color: var(--fill-color);\n",
              "    }\n",
              "    90% {\n",
              "      border-color: transparent;\n",
              "      border-bottom-color: var(--fill-color);\n",
              "    }\n",
              "  }\n",
              "</style>\n",
              "\n",
              "  <script>\n",
              "    async function quickchart(key) {\n",
              "      const quickchartButtonEl =\n",
              "        document.querySelector('#' + key + ' button');\n",
              "      quickchartButtonEl.disabled = true;  // To prevent multiple clicks.\n",
              "      quickchartButtonEl.classList.add('colab-df-spinner');\n",
              "      try {\n",
              "        const charts = await google.colab.kernel.invokeFunction(\n",
              "            'suggestCharts', [key], {});\n",
              "      } catch (error) {\n",
              "        console.error('Error during call to suggestCharts:', error);\n",
              "      }\n",
              "      quickchartButtonEl.classList.remove('colab-df-spinner');\n",
              "      quickchartButtonEl.classList.add('colab-df-quickchart-complete');\n",
              "    }\n",
              "    (() => {\n",
              "      let quickchartButtonEl =\n",
              "        document.querySelector('#df-4474e4f5-e042-419b-b24b-3440c4028041 button');\n",
              "      quickchartButtonEl.style.display =\n",
              "        google.colab.kernel.accessAllowed ? 'block' : 'none';\n",
              "    })();\n",
              "  </script>\n",
              "</div>\n",
              "\n",
              "  <div id=\"id_79b00b30-91e5-47ac-b323-2a72b9c1b811\">\n",
              "    <style>\n",
              "      .colab-df-generate {\n",
              "        background-color: #E8F0FE;\n",
              "        border: none;\n",
              "        border-radius: 50%;\n",
              "        cursor: pointer;\n",
              "        display: none;\n",
              "        fill: #1967D2;\n",
              "        height: 32px;\n",
              "        padding: 0 0 0 0;\n",
              "        width: 32px;\n",
              "      }\n",
              "\n",
              "      .colab-df-generate:hover {\n",
              "        background-color: #E2EBFA;\n",
              "        box-shadow: 0px 1px 2px rgba(60, 64, 67, 0.3), 0px 1px 3px 1px rgba(60, 64, 67, 0.15);\n",
              "        fill: #174EA6;\n",
              "      }\n",
              "\n",
              "      [theme=dark] .colab-df-generate {\n",
              "        background-color: #3B4455;\n",
              "        fill: #D2E3FC;\n",
              "      }\n",
              "\n",
              "      [theme=dark] .colab-df-generate:hover {\n",
              "        background-color: #434B5C;\n",
              "        box-shadow: 0px 1px 3px 1px rgba(0, 0, 0, 0.15);\n",
              "        filter: drop-shadow(0px 1px 2px rgba(0, 0, 0, 0.3));\n",
              "        fill: #FFFFFF;\n",
              "      }\n",
              "    </style>\n",
              "    <button class=\"colab-df-generate\" onclick=\"generateWithVariable('df_new')\"\n",
              "            title=\"Generate code using this dataframe.\"\n",
              "            style=\"display:none;\">\n",
              "\n",
              "  <svg xmlns=\"http://www.w3.org/2000/svg\" height=\"24px\"viewBox=\"0 0 24 24\"\n",
              "       width=\"24px\">\n",
              "    <path d=\"M7,19H8.4L18.45,9,17,7.55,7,17.6ZM5,21V16.75L18.45,3.32a2,2,0,0,1,2.83,0l1.4,1.43a1.91,1.91,0,0,1,.58,1.4,1.91,1.91,0,0,1-.58,1.4L9.25,21ZM18.45,9,17,7.55Zm-12,3A5.31,5.31,0,0,0,4.9,8.1,5.31,5.31,0,0,0,1,6.5,5.31,5.31,0,0,0,4.9,4.9,5.31,5.31,0,0,0,6.5,1,5.31,5.31,0,0,0,8.1,4.9,5.31,5.31,0,0,0,12,6.5,5.46,5.46,0,0,0,6.5,12Z\"/>\n",
              "  </svg>\n",
              "    </button>\n",
              "    <script>\n",
              "      (() => {\n",
              "      const buttonEl =\n",
              "        document.querySelector('#id_79b00b30-91e5-47ac-b323-2a72b9c1b811 button.colab-df-generate');\n",
              "      buttonEl.style.display =\n",
              "        google.colab.kernel.accessAllowed ? 'block' : 'none';\n",
              "\n",
              "      buttonEl.onclick = () => {\n",
              "        google.colab.notebook.generateWithVariable('df_new');\n",
              "      }\n",
              "      })();\n",
              "    </script>\n",
              "  </div>\n",
              "\n",
              "    </div>\n",
              "  </div>\n"
            ]
          },
          "metadata": {},
          "execution_count": 53
        }
      ]
    },
    {
      "cell_type": "markdown",
      "source": [
        "## 데이터셋 전처리 3\n",
        "\n",
        "- 범주형(categorical) 데이터 정의\n",
        "- 범주형 데이터는 string or integer 형태여야 함"
      ],
      "metadata": {
        "id": "BokEPL8EwKb7"
      }
    },
    {
      "cell_type": "code",
      "source": [
        "\n",
        "categorical_features_names = [\n",
        "    'Book-Title',\n",
        "    'User-ID',\n",
        "    'Age',\n",
        "    'Book-Author',\n",
        "    'Publisher',\n",
        "    'Location',\n",
        "    'ISBN',\n",
        "    'Year-Of-Publication',\n",
        "    # 'Book-Rating',\n",
        "]\n",
        "\n",
        "categorical_str = ['Book-Title', 'Book-Author', 'Publisher', 'Location']\n",
        "\n",
        "df_new['Age'] = df_new['Age'].astype(int)\n",
        "df_new['User-ID']=df_new['User-ID'].astype(int)\n",
        "df_new['Year-Of-Publication']=df_new['Year-Of-Publication'].astype(int)\n",
        "\n",
        "\n",
        "\n",
        "\n",
        "for col in categorical_str:\n",
        "    df_new[col] = df_new[col].astype(str)  # 데이터를 문자열로 변환\n",
        "    df_new[col] = df_new[col].str.replace(',', '')  # comma 제거\n",
        "    df_new[col] = df_new[col].str.replace('[', '')  # square brackets 제거\n",
        "    df_new[col] = df_new[col].str.replace(']', '')  # square brackets 제거\n",
        "    df_new[col] = df_new[col].str.replace(\"'\", '')  # single quotes 제거\n",
        "\n",
        "\n",
        "df_new\n"
      ],
      "metadata": {
        "colab": {
          "base_uri": "https://localhost:8080/",
          "height": 688
        },
        "id": "-Yix3wtwwJwL",
        "outputId": "7fb01d65-6b66-4386-ca68-1c15a9a9297c"
      },
      "execution_count": null,
      "outputs": [
        {
          "output_type": "stream",
          "name": "stderr",
          "text": [
            "<ipython-input-59-511d6ca52910>:25: FutureWarning: The default value of regex will change from True to False in a future version. In addition, single character regular expressions will *not* be treated as literal strings when regex=True.\n",
            "  df_new[col] = df_new[col].str.replace('[', '')  # square brackets 제거\n",
            "<ipython-input-59-511d6ca52910>:26: FutureWarning: The default value of regex will change from True to False in a future version. In addition, single character regular expressions will *not* be treated as literal strings when regex=True.\n",
            "  df_new[col] = df_new[col].str.replace(']', '')  # square brackets 제거\n"
          ]
        },
        {
          "output_type": "execute_result",
          "data": {
            "text/plain": [
              "               ISBN                                         Book-Title  \\\n",
              "0        0195153448                                   classic mytholog   \n",
              "1        0002005018                                       clara callan   \n",
              "2        0002005018                                       clara callan   \n",
              "3        0002005018                                       clara callan   \n",
              "4        0002005018                                       clara callan   \n",
              "...             ...                                                ...   \n",
              "1032379  0440400988                           there a bat in bunk five   \n",
              "1032380  0525447644                              from one to one hundr   \n",
              "1032381  006008667X  lili dale : the true stori of the town that ta...   \n",
              "1032382  0192126040                            republ (world classics)   \n",
              "1032383  0767409752  a guid tour of rene descartes medit on first p...   \n",
              "\n",
              "                  Book-Author  Year-Of-Publication  \\\n",
              "0          Mark P. O. Morford                 2002   \n",
              "1        Richard Bruce Wright                 2001   \n",
              "2        Richard Bruce Wright                 2001   \n",
              "3        Richard Bruce Wright                 2001   \n",
              "4        Richard Bruce Wright                 2001   \n",
              "...                       ...                  ...   \n",
              "1032379        Paula Danziger                 1988   \n",
              "1032380            Teri Sloat                 1991   \n",
              "1032381      Christine Wicker                 2004   \n",
              "1032382                 Plato                 1996   \n",
              "1032383   Christopher  Biffle                 2000   \n",
              "\n",
              "                                                Publisher  User-ID  \\\n",
              "0                                 Oxford University Press        2   \n",
              "1                                   HarperFlamingo Canada        8   \n",
              "2                                   HarperFlamingo Canada    11400   \n",
              "3                                   HarperFlamingo Canada    11676   \n",
              "4                                   HarperFlamingo Canada    41385   \n",
              "...                                                   ...      ...   \n",
              "1032379                   Random House Childrens Pub (Mm)   276463   \n",
              "1032380                                      Dutton Books   276579   \n",
              "1032381                                HarperSanFrancisco   276680   \n",
              "1032382                           Oxford University Press   276680   \n",
              "1032383  McGraw-Hill Humanities/Social Sciences/Languages   276680   \n",
              "\n",
              "         Book-Rating                        Location  Age  \n",
              "0                0.0         stockton california usa   18  \n",
              "1                5.0          timmins ontario canada    0  \n",
              "2                0.0           ottawa ontario canada   49  \n",
              "3                8.0                     n/a n/a n/a    0  \n",
              "4                0.0          sudbury ontario canada    0  \n",
              "...              ...                             ...  ...  \n",
              "1032379          7.0     providence rhode island usa   26  \n",
              "1032380          4.0                   orem utah usa   12  \n",
              "1032381          0.0  hopewell junction new york usa   55  \n",
              "1032382          0.0  hopewell junction new york usa   55  \n",
              "1032383          0.0  hopewell junction new york usa   55  \n",
              "\n",
              "[1032384 rows x 9 columns]"
            ],
            "text/html": [
              "\n",
              "  <div id=\"df-c81ec2a5-333b-48de-aede-241902c1aaf4\" class=\"colab-df-container\">\n",
              "    <div>\n",
              "<style scoped>\n",
              "    .dataframe tbody tr th:only-of-type {\n",
              "        vertical-align: middle;\n",
              "    }\n",
              "\n",
              "    .dataframe tbody tr th {\n",
              "        vertical-align: top;\n",
              "    }\n",
              "\n",
              "    .dataframe thead th {\n",
              "        text-align: right;\n",
              "    }\n",
              "</style>\n",
              "<table border=\"1\" class=\"dataframe\">\n",
              "  <thead>\n",
              "    <tr style=\"text-align: right;\">\n",
              "      <th></th>\n",
              "      <th>ISBN</th>\n",
              "      <th>Book-Title</th>\n",
              "      <th>Book-Author</th>\n",
              "      <th>Year-Of-Publication</th>\n",
              "      <th>Publisher</th>\n",
              "      <th>User-ID</th>\n",
              "      <th>Book-Rating</th>\n",
              "      <th>Location</th>\n",
              "      <th>Age</th>\n",
              "    </tr>\n",
              "  </thead>\n",
              "  <tbody>\n",
              "    <tr>\n",
              "      <th>0</th>\n",
              "      <td>0195153448</td>\n",
              "      <td>classic mytholog</td>\n",
              "      <td>Mark P. O. Morford</td>\n",
              "      <td>2002</td>\n",
              "      <td>Oxford University Press</td>\n",
              "      <td>2</td>\n",
              "      <td>0.0</td>\n",
              "      <td>stockton california usa</td>\n",
              "      <td>18</td>\n",
              "    </tr>\n",
              "    <tr>\n",
              "      <th>1</th>\n",
              "      <td>0002005018</td>\n",
              "      <td>clara callan</td>\n",
              "      <td>Richard Bruce Wright</td>\n",
              "      <td>2001</td>\n",
              "      <td>HarperFlamingo Canada</td>\n",
              "      <td>8</td>\n",
              "      <td>5.0</td>\n",
              "      <td>timmins ontario canada</td>\n",
              "      <td>0</td>\n",
              "    </tr>\n",
              "    <tr>\n",
              "      <th>2</th>\n",
              "      <td>0002005018</td>\n",
              "      <td>clara callan</td>\n",
              "      <td>Richard Bruce Wright</td>\n",
              "      <td>2001</td>\n",
              "      <td>HarperFlamingo Canada</td>\n",
              "      <td>11400</td>\n",
              "      <td>0.0</td>\n",
              "      <td>ottawa ontario canada</td>\n",
              "      <td>49</td>\n",
              "    </tr>\n",
              "    <tr>\n",
              "      <th>3</th>\n",
              "      <td>0002005018</td>\n",
              "      <td>clara callan</td>\n",
              "      <td>Richard Bruce Wright</td>\n",
              "      <td>2001</td>\n",
              "      <td>HarperFlamingo Canada</td>\n",
              "      <td>11676</td>\n",
              "      <td>8.0</td>\n",
              "      <td>n/a n/a n/a</td>\n",
              "      <td>0</td>\n",
              "    </tr>\n",
              "    <tr>\n",
              "      <th>4</th>\n",
              "      <td>0002005018</td>\n",
              "      <td>clara callan</td>\n",
              "      <td>Richard Bruce Wright</td>\n",
              "      <td>2001</td>\n",
              "      <td>HarperFlamingo Canada</td>\n",
              "      <td>41385</td>\n",
              "      <td>0.0</td>\n",
              "      <td>sudbury ontario canada</td>\n",
              "      <td>0</td>\n",
              "    </tr>\n",
              "    <tr>\n",
              "      <th>...</th>\n",
              "      <td>...</td>\n",
              "      <td>...</td>\n",
              "      <td>...</td>\n",
              "      <td>...</td>\n",
              "      <td>...</td>\n",
              "      <td>...</td>\n",
              "      <td>...</td>\n",
              "      <td>...</td>\n",
              "      <td>...</td>\n",
              "    </tr>\n",
              "    <tr>\n",
              "      <th>1032379</th>\n",
              "      <td>0440400988</td>\n",
              "      <td>there a bat in bunk five</td>\n",
              "      <td>Paula Danziger</td>\n",
              "      <td>1988</td>\n",
              "      <td>Random House Childrens Pub (Mm)</td>\n",
              "      <td>276463</td>\n",
              "      <td>7.0</td>\n",
              "      <td>providence rhode island usa</td>\n",
              "      <td>26</td>\n",
              "    </tr>\n",
              "    <tr>\n",
              "      <th>1032380</th>\n",
              "      <td>0525447644</td>\n",
              "      <td>from one to one hundr</td>\n",
              "      <td>Teri Sloat</td>\n",
              "      <td>1991</td>\n",
              "      <td>Dutton Books</td>\n",
              "      <td>276579</td>\n",
              "      <td>4.0</td>\n",
              "      <td>orem utah usa</td>\n",
              "      <td>12</td>\n",
              "    </tr>\n",
              "    <tr>\n",
              "      <th>1032381</th>\n",
              "      <td>006008667X</td>\n",
              "      <td>lili dale : the true stori of the town that ta...</td>\n",
              "      <td>Christine Wicker</td>\n",
              "      <td>2004</td>\n",
              "      <td>HarperSanFrancisco</td>\n",
              "      <td>276680</td>\n",
              "      <td>0.0</td>\n",
              "      <td>hopewell junction new york usa</td>\n",
              "      <td>55</td>\n",
              "    </tr>\n",
              "    <tr>\n",
              "      <th>1032382</th>\n",
              "      <td>0192126040</td>\n",
              "      <td>republ (world classics)</td>\n",
              "      <td>Plato</td>\n",
              "      <td>1996</td>\n",
              "      <td>Oxford University Press</td>\n",
              "      <td>276680</td>\n",
              "      <td>0.0</td>\n",
              "      <td>hopewell junction new york usa</td>\n",
              "      <td>55</td>\n",
              "    </tr>\n",
              "    <tr>\n",
              "      <th>1032383</th>\n",
              "      <td>0767409752</td>\n",
              "      <td>a guid tour of rene descartes medit on first p...</td>\n",
              "      <td>Christopher  Biffle</td>\n",
              "      <td>2000</td>\n",
              "      <td>McGraw-Hill Humanities/Social Sciences/Languages</td>\n",
              "      <td>276680</td>\n",
              "      <td>0.0</td>\n",
              "      <td>hopewell junction new york usa</td>\n",
              "      <td>55</td>\n",
              "    </tr>\n",
              "  </tbody>\n",
              "</table>\n",
              "<p>1032384 rows × 9 columns</p>\n",
              "</div>\n",
              "    <div class=\"colab-df-buttons\">\n",
              "\n",
              "  <div class=\"colab-df-container\">\n",
              "    <button class=\"colab-df-convert\" onclick=\"convertToInteractive('df-c81ec2a5-333b-48de-aede-241902c1aaf4')\"\n",
              "            title=\"Convert this dataframe to an interactive table.\"\n",
              "            style=\"display:none;\">\n",
              "\n",
              "  <svg xmlns=\"http://www.w3.org/2000/svg\" height=\"24px\" viewBox=\"0 -960 960 960\">\n",
              "    <path d=\"M120-120v-720h720v720H120Zm60-500h600v-160H180v160Zm220 220h160v-160H400v160Zm0 220h160v-160H400v160ZM180-400h160v-160H180v160Zm440 0h160v-160H620v160ZM180-180h160v-160H180v160Zm440 0h160v-160H620v160Z\"/>\n",
              "  </svg>\n",
              "    </button>\n",
              "\n",
              "  <style>\n",
              "    .colab-df-container {\n",
              "      display:flex;\n",
              "      gap: 12px;\n",
              "    }\n",
              "\n",
              "    .colab-df-convert {\n",
              "      background-color: #E8F0FE;\n",
              "      border: none;\n",
              "      border-radius: 50%;\n",
              "      cursor: pointer;\n",
              "      display: none;\n",
              "      fill: #1967D2;\n",
              "      height: 32px;\n",
              "      padding: 0 0 0 0;\n",
              "      width: 32px;\n",
              "    }\n",
              "\n",
              "    .colab-df-convert:hover {\n",
              "      background-color: #E2EBFA;\n",
              "      box-shadow: 0px 1px 2px rgba(60, 64, 67, 0.3), 0px 1px 3px 1px rgba(60, 64, 67, 0.15);\n",
              "      fill: #174EA6;\n",
              "    }\n",
              "\n",
              "    .colab-df-buttons div {\n",
              "      margin-bottom: 4px;\n",
              "    }\n",
              "\n",
              "    [theme=dark] .colab-df-convert {\n",
              "      background-color: #3B4455;\n",
              "      fill: #D2E3FC;\n",
              "    }\n",
              "\n",
              "    [theme=dark] .colab-df-convert:hover {\n",
              "      background-color: #434B5C;\n",
              "      box-shadow: 0px 1px 3px 1px rgba(0, 0, 0, 0.15);\n",
              "      filter: drop-shadow(0px 1px 2px rgba(0, 0, 0, 0.3));\n",
              "      fill: #FFFFFF;\n",
              "    }\n",
              "  </style>\n",
              "\n",
              "    <script>\n",
              "      const buttonEl =\n",
              "        document.querySelector('#df-c81ec2a5-333b-48de-aede-241902c1aaf4 button.colab-df-convert');\n",
              "      buttonEl.style.display =\n",
              "        google.colab.kernel.accessAllowed ? 'block' : 'none';\n",
              "\n",
              "      async function convertToInteractive(key) {\n",
              "        const element = document.querySelector('#df-c81ec2a5-333b-48de-aede-241902c1aaf4');\n",
              "        const dataTable =\n",
              "          await google.colab.kernel.invokeFunction('convertToInteractive',\n",
              "                                                    [key], {});\n",
              "        if (!dataTable) return;\n",
              "\n",
              "        const docLinkHtml = 'Like what you see? Visit the ' +\n",
              "          '<a target=\"_blank\" href=https://colab.research.google.com/notebooks/data_table.ipynb>data table notebook</a>'\n",
              "          + ' to learn more about interactive tables.';\n",
              "        element.innerHTML = '';\n",
              "        dataTable['output_type'] = 'display_data';\n",
              "        await google.colab.output.renderOutput(dataTable, element);\n",
              "        const docLink = document.createElement('div');\n",
              "        docLink.innerHTML = docLinkHtml;\n",
              "        element.appendChild(docLink);\n",
              "      }\n",
              "    </script>\n",
              "  </div>\n",
              "\n",
              "\n",
              "<div id=\"df-e5bd3fe8-bbf6-450f-a055-60ae334de613\">\n",
              "  <button class=\"colab-df-quickchart\" onclick=\"quickchart('df-e5bd3fe8-bbf6-450f-a055-60ae334de613')\"\n",
              "            title=\"Suggest charts\"\n",
              "            style=\"display:none;\">\n",
              "\n",
              "<svg xmlns=\"http://www.w3.org/2000/svg\" height=\"24px\"viewBox=\"0 0 24 24\"\n",
              "     width=\"24px\">\n",
              "    <g>\n",
              "        <path d=\"M19 3H5c-1.1 0-2 .9-2 2v14c0 1.1.9 2 2 2h14c1.1 0 2-.9 2-2V5c0-1.1-.9-2-2-2zM9 17H7v-7h2v7zm4 0h-2V7h2v10zm4 0h-2v-4h2v4z\"/>\n",
              "    </g>\n",
              "</svg>\n",
              "  </button>\n",
              "\n",
              "<style>\n",
              "  .colab-df-quickchart {\n",
              "      --bg-color: #E8F0FE;\n",
              "      --fill-color: #1967D2;\n",
              "      --hover-bg-color: #E2EBFA;\n",
              "      --hover-fill-color: #174EA6;\n",
              "      --disabled-fill-color: #AAA;\n",
              "      --disabled-bg-color: #DDD;\n",
              "  }\n",
              "\n",
              "  [theme=dark] .colab-df-quickchart {\n",
              "      --bg-color: #3B4455;\n",
              "      --fill-color: #D2E3FC;\n",
              "      --hover-bg-color: #434B5C;\n",
              "      --hover-fill-color: #FFFFFF;\n",
              "      --disabled-bg-color: #3B4455;\n",
              "      --disabled-fill-color: #666;\n",
              "  }\n",
              "\n",
              "  .colab-df-quickchart {\n",
              "    background-color: var(--bg-color);\n",
              "    border: none;\n",
              "    border-radius: 50%;\n",
              "    cursor: pointer;\n",
              "    display: none;\n",
              "    fill: var(--fill-color);\n",
              "    height: 32px;\n",
              "    padding: 0;\n",
              "    width: 32px;\n",
              "  }\n",
              "\n",
              "  .colab-df-quickchart:hover {\n",
              "    background-color: var(--hover-bg-color);\n",
              "    box-shadow: 0 1px 2px rgba(60, 64, 67, 0.3), 0 1px 3px 1px rgba(60, 64, 67, 0.15);\n",
              "    fill: var(--button-hover-fill-color);\n",
              "  }\n",
              "\n",
              "  .colab-df-quickchart-complete:disabled,\n",
              "  .colab-df-quickchart-complete:disabled:hover {\n",
              "    background-color: var(--disabled-bg-color);\n",
              "    fill: var(--disabled-fill-color);\n",
              "    box-shadow: none;\n",
              "  }\n",
              "\n",
              "  .colab-df-spinner {\n",
              "    border: 2px solid var(--fill-color);\n",
              "    border-color: transparent;\n",
              "    border-bottom-color: var(--fill-color);\n",
              "    animation:\n",
              "      spin 1s steps(1) infinite;\n",
              "  }\n",
              "\n",
              "  @keyframes spin {\n",
              "    0% {\n",
              "      border-color: transparent;\n",
              "      border-bottom-color: var(--fill-color);\n",
              "      border-left-color: var(--fill-color);\n",
              "    }\n",
              "    20% {\n",
              "      border-color: transparent;\n",
              "      border-left-color: var(--fill-color);\n",
              "      border-top-color: var(--fill-color);\n",
              "    }\n",
              "    30% {\n",
              "      border-color: transparent;\n",
              "      border-left-color: var(--fill-color);\n",
              "      border-top-color: var(--fill-color);\n",
              "      border-right-color: var(--fill-color);\n",
              "    }\n",
              "    40% {\n",
              "      border-color: transparent;\n",
              "      border-right-color: var(--fill-color);\n",
              "      border-top-color: var(--fill-color);\n",
              "    }\n",
              "    60% {\n",
              "      border-color: transparent;\n",
              "      border-right-color: var(--fill-color);\n",
              "    }\n",
              "    80% {\n",
              "      border-color: transparent;\n",
              "      border-right-color: var(--fill-color);\n",
              "      border-bottom-color: var(--fill-color);\n",
              "    }\n",
              "    90% {\n",
              "      border-color: transparent;\n",
              "      border-bottom-color: var(--fill-color);\n",
              "    }\n",
              "  }\n",
              "</style>\n",
              "\n",
              "  <script>\n",
              "    async function quickchart(key) {\n",
              "      const quickchartButtonEl =\n",
              "        document.querySelector('#' + key + ' button');\n",
              "      quickchartButtonEl.disabled = true;  // To prevent multiple clicks.\n",
              "      quickchartButtonEl.classList.add('colab-df-spinner');\n",
              "      try {\n",
              "        const charts = await google.colab.kernel.invokeFunction(\n",
              "            'suggestCharts', [key], {});\n",
              "      } catch (error) {\n",
              "        console.error('Error during call to suggestCharts:', error);\n",
              "      }\n",
              "      quickchartButtonEl.classList.remove('colab-df-spinner');\n",
              "      quickchartButtonEl.classList.add('colab-df-quickchart-complete');\n",
              "    }\n",
              "    (() => {\n",
              "      let quickchartButtonEl =\n",
              "        document.querySelector('#df-e5bd3fe8-bbf6-450f-a055-60ae334de613 button');\n",
              "      quickchartButtonEl.style.display =\n",
              "        google.colab.kernel.accessAllowed ? 'block' : 'none';\n",
              "    })();\n",
              "  </script>\n",
              "</div>\n",
              "\n",
              "  <div id=\"id_b449cf6e-39ec-4683-9a3a-2b3302430333\">\n",
              "    <style>\n",
              "      .colab-df-generate {\n",
              "        background-color: #E8F0FE;\n",
              "        border: none;\n",
              "        border-radius: 50%;\n",
              "        cursor: pointer;\n",
              "        display: none;\n",
              "        fill: #1967D2;\n",
              "        height: 32px;\n",
              "        padding: 0 0 0 0;\n",
              "        width: 32px;\n",
              "      }\n",
              "\n",
              "      .colab-df-generate:hover {\n",
              "        background-color: #E2EBFA;\n",
              "        box-shadow: 0px 1px 2px rgba(60, 64, 67, 0.3), 0px 1px 3px 1px rgba(60, 64, 67, 0.15);\n",
              "        fill: #174EA6;\n",
              "      }\n",
              "\n",
              "      [theme=dark] .colab-df-generate {\n",
              "        background-color: #3B4455;\n",
              "        fill: #D2E3FC;\n",
              "      }\n",
              "\n",
              "      [theme=dark] .colab-df-generate:hover {\n",
              "        background-color: #434B5C;\n",
              "        box-shadow: 0px 1px 3px 1px rgba(0, 0, 0, 0.15);\n",
              "        filter: drop-shadow(0px 1px 2px rgba(0, 0, 0, 0.3));\n",
              "        fill: #FFFFFF;\n",
              "      }\n",
              "    </style>\n",
              "    <button class=\"colab-df-generate\" onclick=\"generateWithVariable('df_new')\"\n",
              "            title=\"Generate code using this dataframe.\"\n",
              "            style=\"display:none;\">\n",
              "\n",
              "  <svg xmlns=\"http://www.w3.org/2000/svg\" height=\"24px\"viewBox=\"0 0 24 24\"\n",
              "       width=\"24px\">\n",
              "    <path d=\"M7,19H8.4L18.45,9,17,7.55,7,17.6ZM5,21V16.75L18.45,3.32a2,2,0,0,1,2.83,0l1.4,1.43a1.91,1.91,0,0,1,.58,1.4,1.91,1.91,0,0,1-.58,1.4L9.25,21ZM18.45,9,17,7.55Zm-12,3A5.31,5.31,0,0,0,4.9,8.1,5.31,5.31,0,0,0,1,6.5,5.31,5.31,0,0,0,4.9,4.9,5.31,5.31,0,0,0,6.5,1,5.31,5.31,0,0,0,8.1,4.9,5.31,5.31,0,0,0,12,6.5,5.46,5.46,0,0,0,6.5,12Z\"/>\n",
              "  </svg>\n",
              "    </button>\n",
              "    <script>\n",
              "      (() => {\n",
              "      const buttonEl =\n",
              "        document.querySelector('#id_b449cf6e-39ec-4683-9a3a-2b3302430333 button.colab-df-generate');\n",
              "      buttonEl.style.display =\n",
              "        google.colab.kernel.accessAllowed ? 'block' : 'none';\n",
              "\n",
              "      buttonEl.onclick = () => {\n",
              "        google.colab.notebook.generateWithVariable('df_new');\n",
              "      }\n",
              "      })();\n",
              "    </script>\n",
              "  </div>\n",
              "\n",
              "    </div>\n",
              "  </div>\n"
            ]
          },
          "metadata": {},
          "execution_count": 59
        }
      ]
    },
    {
      "cell_type": "markdown",
      "source": [
        "## 데이터셋 전처리 4\n",
        "\n",
        "- 학습/테스트 데이터 나누기"
      ],
      "metadata": {
        "id": "GVRR5tMTvPIa"
      }
    },
    {
      "cell_type": "code",
      "source": [
        "from sklearn.model_selection import train_test_split\n",
        "\n",
        "train_data, test_data = train_test_split(df_new, test_size=0.2, random_state=42)\n",
        "\n",
        "print(train_data.shape)\n",
        "print(test_data.shape)"
      ],
      "metadata": {
        "colab": {
          "base_uri": "https://localhost:8080/"
        },
        "id": "2zOUCcyxvCLE",
        "outputId": "fbd21ca4-4347-48c7-e1d2-899166ddbfad"
      },
      "execution_count": null,
      "outputs": [
        {
          "output_type": "stream",
          "name": "stdout",
          "text": [
            "(825907, 9)\n",
            "(206477, 9)\n"
          ]
        }
      ]
    },
    {
      "cell_type": "markdown",
      "source": [
        "## CatBoost\n",
        "\n",
        "한글 설명\n",
        "\n",
        "https://dailyheumsi.tistory.com/136\n",
        "\n",
        "튜토리얼 노트북\n",
        "\n",
        "https://github.com/catboost/catboost/blob/master/catboost/tutorials/categorical_features/categorical_features_parameters.ipynb\n"
      ],
      "metadata": {
        "id": "5z9V5w-Losmt"
      }
    },
    {
      "cell_type": "code",
      "source": [
        "!pip install -q catboost"
      ],
      "metadata": {
        "id": "ObtxKhgjotoe"
      },
      "execution_count": null,
      "outputs": []
    },
    {
      "cell_type": "markdown",
      "source": [
        "### 데이터 형태 정의"
      ],
      "metadata": {
        "id": "rqQEhAjuBmjh"
      }
    },
    {
      "cell_type": "code",
      "source": [
        "from catboost import CatBoostRegressor, Pool\n",
        "\n",
        "train_pool = Pool(train_data.drop(['Book-Rating'], axis=1),\n",
        "                  label=train_data['Book-Rating'],\n",
        "                  cat_features=categorical_features_names)\n",
        "\n",
        "test_pool = Pool(test_data.drop(['Book-Rating'], 1),\n",
        "                 label=test_data['Book-Rating'],\n",
        "                 cat_features=categorical_features_names)"
      ],
      "metadata": {
        "colab": {
          "base_uri": "https://localhost:8080/"
        },
        "id": "VmL-Sm90pbr9",
        "outputId": "3bd2f5a6-3302-4c00-f41d-3df51ef380f1"
      },
      "execution_count": null,
      "outputs": [
        {
          "output_type": "stream",
          "name": "stderr",
          "text": [
            "<ipython-input-61-a6ec4b673885>:7: FutureWarning: In a future version of pandas all arguments of DataFrame.drop except for the argument 'labels' will be keyword-only.\n",
            "  test_pool = Pool(test_data.drop(['Book-Rating'], 1),\n"
          ]
        }
      ]
    },
    {
      "cell_type": "markdown",
      "source": [
        "### 모델 정의 및 학습"
      ],
      "metadata": {
        "id": "V47_N9lXBoLX"
      }
    },
    {
      "cell_type": "code",
      "source": [
        "model = CatBoostRegressor(\n",
        "    loss_function='RMSE',\n",
        "    eval_metric='MAE',\n",
        "    task_type='GPU',\n",
        "    depth=6,\n",
        "    learning_rate=0.01,\n",
        "    n_estimators=2000)\n",
        "\n",
        "model.fit(\n",
        "    train_pool,\n",
        "    eval_set=test_pool,\n",
        "    verbose=500,\n",
        "    plot=True)"
      ],
      "metadata": {
        "colab": {
          "base_uri": "https://localhost:8080/",
          "height": 177,
          "referenced_widgets": [
            "4713389312bc40958efd8d8c5b9739a2"
          ]
        },
        "id": "CAdH8zhfvqcV",
        "outputId": "8bbd04f0-7e3a-46ec-d641-e8434358d617"
      },
      "execution_count": null,
      "outputs": [
        {
          "output_type": "display_data",
          "data": {
            "text/plain": [
              "MetricVisualizer(layout=Layout(align_self='stretch', height='500px'))"
            ],
            "application/vnd.jupyter.widget-view+json": {
              "version_major": 2,
              "version_minor": 0,
              "model_id": "4713389312bc40958efd8d8c5b9739a2"
            }
          },
          "metadata": {}
        },
        {
          "output_type": "stream",
          "name": "stderr",
          "text": [
            "Default metric period is 5 because MAE is/are not implemented for GPU\n"
          ]
        },
        {
          "output_type": "stream",
          "name": "stdout",
          "text": [
            "0:\tlearn: 3.5651493\ttest: 3.5620260\tbest: 3.5620260 (0)\ttotal: 88.3ms\tremaining: 2m 56s\n",
            "500:\tlearn: 2.7340966\ttest: 2.6626519\tbest: 2.6626519 (500)\ttotal: 38.3s\tremaining: 1m 54s\n",
            "1000:\tlearn: 2.7019958\ttest: 2.6234233\tbest: 2.6234233 (1000)\ttotal: 1m 15s\tremaining: 1m 15s\n",
            "1500:\tlearn: 2.6895967\ttest: 2.6067837\tbest: 2.6067837 (1500)\ttotal: 1m 54s\tremaining: 38.2s\n",
            "1999:\tlearn: 2.6824948\ttest: 2.5980312\tbest: 2.5980312 (1999)\ttotal: 2m 34s\tremaining: 0us\n",
            "bestTest = 2.598031197\n",
            "bestIteration = 1999\n"
          ]
        },
        {
          "output_type": "execute_result",
          "data": {
            "text/plain": [
              "<catboost.core.CatBoostRegressor at 0x7e50b613c760>"
            ]
          },
          "metadata": {},
          "execution_count": 62
        }
      ]
    },
    {
      "cell_type": "markdown",
      "source": [
        "## 테스트"
      ],
      "metadata": {
        "id": "1Xe0bwcVBq5c"
      }
    },
    {
      "cell_type": "code",
      "source": [
        "test_data.iloc[0]"
      ],
      "metadata": {
        "colab": {
          "base_uri": "https://localhost:8080/"
        },
        "id": "BsWIFwrVBj5O",
        "outputId": "5c109487-5f99-43dc-d434-3747a384f4cb"
      },
      "execution_count": null,
      "outputs": [
        {
          "output_type": "execute_result",
          "data": {
            "text/plain": [
              "ISBN                                                          0060922001\n",
              "Book-Title             write past dark : envy fear distract and other...\n",
              "Book-Author                                              Bonnie Friedman\n",
              "Year-Of-Publication                                                 1994\n",
              "Publisher                                                      Perennial\n",
              "User-ID                                                           129716\n",
              "Book-Rating                                                          0.0\n",
              "Location                                         tallahassee florida usa\n",
              "Age                                                                   30\n",
              "Name: 974656, dtype: object"
            ]
          },
          "metadata": {},
          "execution_count": 63
        }
      ]
    },
    {
      "cell_type": "code",
      "source": [
        "model.predict(test_data.iloc[0].drop(['Book-Rating']))"
      ],
      "metadata": {
        "colab": {
          "base_uri": "https://localhost:8080/"
        },
        "id": "t0uGDFVuBtxR",
        "outputId": "8ea37ffe-c4e8-44d8-d51c-f121d95edb6f"
      },
      "execution_count": null,
      "outputs": [
        {
          "output_type": "execute_result",
          "data": {
            "text/plain": [
              "2.6637937815834505"
            ]
          },
          "metadata": {},
          "execution_count": 64
        }
      ]
    },
    {
      "cell_type": "code",
      "source": [
        "print(test_data.index)"
      ],
      "metadata": {
        "colab": {
          "base_uri": "https://localhost:8080/"
        },
        "id": "7JU3MRe5J1WG",
        "outputId": "16240481-d800-4daf-e8a2-21bc3f771919"
      },
      "execution_count": null,
      "outputs": [
        {
          "output_type": "stream",
          "name": "stdout",
          "text": [
            "Int64Index([ 974656,  833978,  962425,  199265,  597703,   35420,  232135,\n",
            "            1016025,  243887,  728108,\n",
            "            ...\n",
            "             351461,  932695,   42307,  871282,   87807,  645403,   41381,\n",
            "             239183,  304036,  370766],\n",
            "           dtype='int64', length=206477)\n"
          ]
        }
      ]
    },
    {
      "cell_type": "code",
      "source": [
        "i = 871282\n",
        "\n",
        "print(test_data.loc[i])\n",
        "\n",
        "print(model.predict(test_data.loc[i].drop(['Book-Rating'])))"
      ],
      "metadata": {
        "colab": {
          "base_uri": "https://localhost:8080/"
        },
        "id": "4Znioi6TBvD8",
        "outputId": "333557c0-3593-4796-9db7-7ef1ff962884"
      },
      "execution_count": null,
      "outputs": [
        {
          "output_type": "stream",
          "name": "stdout",
          "text": [
            "ISBN                                    0824603370\n",
            "Book-Title                      joy of irish humor\n",
            "Book-Author                         Henry Spalding\n",
            "Year-Of-Publication                           1989\n",
            "Publisher                               Book Sales\n",
            "User-ID                                      79441\n",
            "Book-Rating                                    8.0\n",
            "Location               spruce grove alberta canada\n",
            "Age                                             43\n",
            "Name: 871282, dtype: object\n",
            "7.670957094788633\n"
          ]
        }
      ]
    },
    {
      "cell_type": "markdown",
      "source": [
        "##점수가 왜이러는지\n"
      ],
      "metadata": {
        "id": "mCNvjS3cG4hG"
      }
    },
    {
      "cell_type": "code",
      "source": [
        "test_data[test_data['Book-Rating'] == 0].index"
      ],
      "metadata": {
        "colab": {
          "base_uri": "https://localhost:8080/"
        },
        "id": "cMs7AiQfG6p7",
        "outputId": "c510e2fd-ddbe-4ea8-f012-7c1b5a2219f0"
      },
      "execution_count": null,
      "outputs": [
        {
          "output_type": "execute_result",
          "data": {
            "text/plain": [
              "Int64Index([ 974656,  833978,  962425,  199265,   35420, 1016025,  243887,\n",
              "             728108,  617524,  706870,\n",
              "            ...\n",
              "             871361,  924845, 1024392,  475528,  679921,   42307,  645403,\n",
              "              41381,  304036,  370766],\n",
              "           dtype='int64', length=129651)"
            ]
          },
          "metadata": {},
          "execution_count": 37
        }
      ]
    },
    {
      "cell_type": "code",
      "source": [
        "model.get_feature_importance(prettified=True)"
      ],
      "metadata": {
        "colab": {
          "base_uri": "https://localhost:8080/",
          "height": 300
        },
        "id": "s8dS6UK3KvU_",
        "outputId": "fdc43498-58f6-4697-df7d-5675d79744f6"
      },
      "execution_count": null,
      "outputs": [
        {
          "output_type": "execute_result",
          "data": {
            "text/plain": [
              "            Feature Id  Importances\n",
              "0              User-ID    72.417887\n",
              "1          Book-Author    10.110532\n",
              "2             Location     5.820546\n",
              "3            Publisher     5.278326\n",
              "4                  Age     2.961407\n",
              "5  Year-Of-Publication     1.615944\n",
              "6           Book-Title     1.291066\n",
              "7                 ISBN     0.504293"
            ],
            "text/html": [
              "\n",
              "  <div id=\"df-ca80fd45-d8f9-49c9-a4e2-b43c3d71012b\" class=\"colab-df-container\">\n",
              "    <div>\n",
              "<style scoped>\n",
              "    .dataframe tbody tr th:only-of-type {\n",
              "        vertical-align: middle;\n",
              "    }\n",
              "\n",
              "    .dataframe tbody tr th {\n",
              "        vertical-align: top;\n",
              "    }\n",
              "\n",
              "    .dataframe thead th {\n",
              "        text-align: right;\n",
              "    }\n",
              "</style>\n",
              "<table border=\"1\" class=\"dataframe\">\n",
              "  <thead>\n",
              "    <tr style=\"text-align: right;\">\n",
              "      <th></th>\n",
              "      <th>Feature Id</th>\n",
              "      <th>Importances</th>\n",
              "    </tr>\n",
              "  </thead>\n",
              "  <tbody>\n",
              "    <tr>\n",
              "      <th>0</th>\n",
              "      <td>User-ID</td>\n",
              "      <td>72.417887</td>\n",
              "    </tr>\n",
              "    <tr>\n",
              "      <th>1</th>\n",
              "      <td>Book-Author</td>\n",
              "      <td>10.110532</td>\n",
              "    </tr>\n",
              "    <tr>\n",
              "      <th>2</th>\n",
              "      <td>Location</td>\n",
              "      <td>5.820546</td>\n",
              "    </tr>\n",
              "    <tr>\n",
              "      <th>3</th>\n",
              "      <td>Publisher</td>\n",
              "      <td>5.278326</td>\n",
              "    </tr>\n",
              "    <tr>\n",
              "      <th>4</th>\n",
              "      <td>Age</td>\n",
              "      <td>2.961407</td>\n",
              "    </tr>\n",
              "    <tr>\n",
              "      <th>5</th>\n",
              "      <td>Year-Of-Publication</td>\n",
              "      <td>1.615944</td>\n",
              "    </tr>\n",
              "    <tr>\n",
              "      <th>6</th>\n",
              "      <td>Book-Title</td>\n",
              "      <td>1.291066</td>\n",
              "    </tr>\n",
              "    <tr>\n",
              "      <th>7</th>\n",
              "      <td>ISBN</td>\n",
              "      <td>0.504293</td>\n",
              "    </tr>\n",
              "  </tbody>\n",
              "</table>\n",
              "</div>\n",
              "    <div class=\"colab-df-buttons\">\n",
              "\n",
              "  <div class=\"colab-df-container\">\n",
              "    <button class=\"colab-df-convert\" onclick=\"convertToInteractive('df-ca80fd45-d8f9-49c9-a4e2-b43c3d71012b')\"\n",
              "            title=\"Convert this dataframe to an interactive table.\"\n",
              "            style=\"display:none;\">\n",
              "\n",
              "  <svg xmlns=\"http://www.w3.org/2000/svg\" height=\"24px\" viewBox=\"0 -960 960 960\">\n",
              "    <path d=\"M120-120v-720h720v720H120Zm60-500h600v-160H180v160Zm220 220h160v-160H400v160Zm0 220h160v-160H400v160ZM180-400h160v-160H180v160Zm440 0h160v-160H620v160ZM180-180h160v-160H180v160Zm440 0h160v-160H620v160Z\"/>\n",
              "  </svg>\n",
              "    </button>\n",
              "\n",
              "  <style>\n",
              "    .colab-df-container {\n",
              "      display:flex;\n",
              "      gap: 12px;\n",
              "    }\n",
              "\n",
              "    .colab-df-convert {\n",
              "      background-color: #E8F0FE;\n",
              "      border: none;\n",
              "      border-radius: 50%;\n",
              "      cursor: pointer;\n",
              "      display: none;\n",
              "      fill: #1967D2;\n",
              "      height: 32px;\n",
              "      padding: 0 0 0 0;\n",
              "      width: 32px;\n",
              "    }\n",
              "\n",
              "    .colab-df-convert:hover {\n",
              "      background-color: #E2EBFA;\n",
              "      box-shadow: 0px 1px 2px rgba(60, 64, 67, 0.3), 0px 1px 3px 1px rgba(60, 64, 67, 0.15);\n",
              "      fill: #174EA6;\n",
              "    }\n",
              "\n",
              "    .colab-df-buttons div {\n",
              "      margin-bottom: 4px;\n",
              "    }\n",
              "\n",
              "    [theme=dark] .colab-df-convert {\n",
              "      background-color: #3B4455;\n",
              "      fill: #D2E3FC;\n",
              "    }\n",
              "\n",
              "    [theme=dark] .colab-df-convert:hover {\n",
              "      background-color: #434B5C;\n",
              "      box-shadow: 0px 1px 3px 1px rgba(0, 0, 0, 0.15);\n",
              "      filter: drop-shadow(0px 1px 2px rgba(0, 0, 0, 0.3));\n",
              "      fill: #FFFFFF;\n",
              "    }\n",
              "  </style>\n",
              "\n",
              "    <script>\n",
              "      const buttonEl =\n",
              "        document.querySelector('#df-ca80fd45-d8f9-49c9-a4e2-b43c3d71012b button.colab-df-convert');\n",
              "      buttonEl.style.display =\n",
              "        google.colab.kernel.accessAllowed ? 'block' : 'none';\n",
              "\n",
              "      async function convertToInteractive(key) {\n",
              "        const element = document.querySelector('#df-ca80fd45-d8f9-49c9-a4e2-b43c3d71012b');\n",
              "        const dataTable =\n",
              "          await google.colab.kernel.invokeFunction('convertToInteractive',\n",
              "                                                    [key], {});\n",
              "        if (!dataTable) return;\n",
              "\n",
              "        const docLinkHtml = 'Like what you see? Visit the ' +\n",
              "          '<a target=\"_blank\" href=https://colab.research.google.com/notebooks/data_table.ipynb>data table notebook</a>'\n",
              "          + ' to learn more about interactive tables.';\n",
              "        element.innerHTML = '';\n",
              "        dataTable['output_type'] = 'display_data';\n",
              "        await google.colab.output.renderOutput(dataTable, element);\n",
              "        const docLink = document.createElement('div');\n",
              "        docLink.innerHTML = docLinkHtml;\n",
              "        element.appendChild(docLink);\n",
              "      }\n",
              "    </script>\n",
              "  </div>\n",
              "\n",
              "\n",
              "<div id=\"df-2c3bb4d2-525b-4527-8d62-b6d444ea7512\">\n",
              "  <button class=\"colab-df-quickchart\" onclick=\"quickchart('df-2c3bb4d2-525b-4527-8d62-b6d444ea7512')\"\n",
              "            title=\"Suggest charts\"\n",
              "            style=\"display:none;\">\n",
              "\n",
              "<svg xmlns=\"http://www.w3.org/2000/svg\" height=\"24px\"viewBox=\"0 0 24 24\"\n",
              "     width=\"24px\">\n",
              "    <g>\n",
              "        <path d=\"M19 3H5c-1.1 0-2 .9-2 2v14c0 1.1.9 2 2 2h14c1.1 0 2-.9 2-2V5c0-1.1-.9-2-2-2zM9 17H7v-7h2v7zm4 0h-2V7h2v10zm4 0h-2v-4h2v4z\"/>\n",
              "    </g>\n",
              "</svg>\n",
              "  </button>\n",
              "\n",
              "<style>\n",
              "  .colab-df-quickchart {\n",
              "      --bg-color: #E8F0FE;\n",
              "      --fill-color: #1967D2;\n",
              "      --hover-bg-color: #E2EBFA;\n",
              "      --hover-fill-color: #174EA6;\n",
              "      --disabled-fill-color: #AAA;\n",
              "      --disabled-bg-color: #DDD;\n",
              "  }\n",
              "\n",
              "  [theme=dark] .colab-df-quickchart {\n",
              "      --bg-color: #3B4455;\n",
              "      --fill-color: #D2E3FC;\n",
              "      --hover-bg-color: #434B5C;\n",
              "      --hover-fill-color: #FFFFFF;\n",
              "      --disabled-bg-color: #3B4455;\n",
              "      --disabled-fill-color: #666;\n",
              "  }\n",
              "\n",
              "  .colab-df-quickchart {\n",
              "    background-color: var(--bg-color);\n",
              "    border: none;\n",
              "    border-radius: 50%;\n",
              "    cursor: pointer;\n",
              "    display: none;\n",
              "    fill: var(--fill-color);\n",
              "    height: 32px;\n",
              "    padding: 0;\n",
              "    width: 32px;\n",
              "  }\n",
              "\n",
              "  .colab-df-quickchart:hover {\n",
              "    background-color: var(--hover-bg-color);\n",
              "    box-shadow: 0 1px 2px rgba(60, 64, 67, 0.3), 0 1px 3px 1px rgba(60, 64, 67, 0.15);\n",
              "    fill: var(--button-hover-fill-color);\n",
              "  }\n",
              "\n",
              "  .colab-df-quickchart-complete:disabled,\n",
              "  .colab-df-quickchart-complete:disabled:hover {\n",
              "    background-color: var(--disabled-bg-color);\n",
              "    fill: var(--disabled-fill-color);\n",
              "    box-shadow: none;\n",
              "  }\n",
              "\n",
              "  .colab-df-spinner {\n",
              "    border: 2px solid var(--fill-color);\n",
              "    border-color: transparent;\n",
              "    border-bottom-color: var(--fill-color);\n",
              "    animation:\n",
              "      spin 1s steps(1) infinite;\n",
              "  }\n",
              "\n",
              "  @keyframes spin {\n",
              "    0% {\n",
              "      border-color: transparent;\n",
              "      border-bottom-color: var(--fill-color);\n",
              "      border-left-color: var(--fill-color);\n",
              "    }\n",
              "    20% {\n",
              "      border-color: transparent;\n",
              "      border-left-color: var(--fill-color);\n",
              "      border-top-color: var(--fill-color);\n",
              "    }\n",
              "    30% {\n",
              "      border-color: transparent;\n",
              "      border-left-color: var(--fill-color);\n",
              "      border-top-color: var(--fill-color);\n",
              "      border-right-color: var(--fill-color);\n",
              "    }\n",
              "    40% {\n",
              "      border-color: transparent;\n",
              "      border-right-color: var(--fill-color);\n",
              "      border-top-color: var(--fill-color);\n",
              "    }\n",
              "    60% {\n",
              "      border-color: transparent;\n",
              "      border-right-color: var(--fill-color);\n",
              "    }\n",
              "    80% {\n",
              "      border-color: transparent;\n",
              "      border-right-color: var(--fill-color);\n",
              "      border-bottom-color: var(--fill-color);\n",
              "    }\n",
              "    90% {\n",
              "      border-color: transparent;\n",
              "      border-bottom-color: var(--fill-color);\n",
              "    }\n",
              "  }\n",
              "</style>\n",
              "\n",
              "  <script>\n",
              "    async function quickchart(key) {\n",
              "      const quickchartButtonEl =\n",
              "        document.querySelector('#' + key + ' button');\n",
              "      quickchartButtonEl.disabled = true;  // To prevent multiple clicks.\n",
              "      quickchartButtonEl.classList.add('colab-df-spinner');\n",
              "      try {\n",
              "        const charts = await google.colab.kernel.invokeFunction(\n",
              "            'suggestCharts', [key], {});\n",
              "      } catch (error) {\n",
              "        console.error('Error during call to suggestCharts:', error);\n",
              "      }\n",
              "      quickchartButtonEl.classList.remove('colab-df-spinner');\n",
              "      quickchartButtonEl.classList.add('colab-df-quickchart-complete');\n",
              "    }\n",
              "    (() => {\n",
              "      let quickchartButtonEl =\n",
              "        document.querySelector('#df-2c3bb4d2-525b-4527-8d62-b6d444ea7512 button');\n",
              "      quickchartButtonEl.style.display =\n",
              "        google.colab.kernel.accessAllowed ? 'block' : 'none';\n",
              "    })();\n",
              "  </script>\n",
              "</div>\n",
              "\n",
              "    </div>\n",
              "  </div>\n"
            ]
          },
          "metadata": {},
          "execution_count": 68
        }
      ]
    },
    {
      "cell_type": "code",
      "source": [
        "book_names = df_new[['Book-Title']].drop_duplicates()\n",
        "\n",
        "book_names"
      ],
      "metadata": {
        "colab": {
          "base_uri": "https://localhost:8080/",
          "height": 423
        },
        "id": "GnH3Wk_jL-OI",
        "outputId": "e15a0296-6b15-4246-aa94-86ff24778a5f"
      },
      "execution_count": null,
      "outputs": [
        {
          "output_type": "execute_result",
          "data": {
            "text/plain": [
              "                                                Book-Title\n",
              "0                                         classic mytholog\n",
              "1                                             clara callan\n",
              "15                                       decis in normandi\n",
              "18       flu: the stori of the great influenza pandem o...\n",
              "29                                    the mummi of urumchi\n",
              "...                                                    ...\n",
              "1032378       flashpoints: promis and peril in a new world\n",
              "1032380                              from one to one hundr\n",
              "1032381  lili dale : the true stori of the town that ta...\n",
              "1032382                            republ (world classics)\n",
              "1032383  a guid tour of rene descartes medit on first p...\n",
              "\n",
              "[237511 rows x 1 columns]"
            ],
            "text/html": [
              "\n",
              "  <div id=\"df-fd84be01-6e16-47a9-9ba1-8a8664986982\" class=\"colab-df-container\">\n",
              "    <div>\n",
              "<style scoped>\n",
              "    .dataframe tbody tr th:only-of-type {\n",
              "        vertical-align: middle;\n",
              "    }\n",
              "\n",
              "    .dataframe tbody tr th {\n",
              "        vertical-align: top;\n",
              "    }\n",
              "\n",
              "    .dataframe thead th {\n",
              "        text-align: right;\n",
              "    }\n",
              "</style>\n",
              "<table border=\"1\" class=\"dataframe\">\n",
              "  <thead>\n",
              "    <tr style=\"text-align: right;\">\n",
              "      <th></th>\n",
              "      <th>Book-Title</th>\n",
              "    </tr>\n",
              "  </thead>\n",
              "  <tbody>\n",
              "    <tr>\n",
              "      <th>0</th>\n",
              "      <td>classic mytholog</td>\n",
              "    </tr>\n",
              "    <tr>\n",
              "      <th>1</th>\n",
              "      <td>clara callan</td>\n",
              "    </tr>\n",
              "    <tr>\n",
              "      <th>15</th>\n",
              "      <td>decis in normandi</td>\n",
              "    </tr>\n",
              "    <tr>\n",
              "      <th>18</th>\n",
              "      <td>flu: the stori of the great influenza pandem o...</td>\n",
              "    </tr>\n",
              "    <tr>\n",
              "      <th>29</th>\n",
              "      <td>the mummi of urumchi</td>\n",
              "    </tr>\n",
              "    <tr>\n",
              "      <th>...</th>\n",
              "      <td>...</td>\n",
              "    </tr>\n",
              "    <tr>\n",
              "      <th>1032378</th>\n",
              "      <td>flashpoints: promis and peril in a new world</td>\n",
              "    </tr>\n",
              "    <tr>\n",
              "      <th>1032380</th>\n",
              "      <td>from one to one hundr</td>\n",
              "    </tr>\n",
              "    <tr>\n",
              "      <th>1032381</th>\n",
              "      <td>lili dale : the true stori of the town that ta...</td>\n",
              "    </tr>\n",
              "    <tr>\n",
              "      <th>1032382</th>\n",
              "      <td>republ (world classics)</td>\n",
              "    </tr>\n",
              "    <tr>\n",
              "      <th>1032383</th>\n",
              "      <td>a guid tour of rene descartes medit on first p...</td>\n",
              "    </tr>\n",
              "  </tbody>\n",
              "</table>\n",
              "<p>237511 rows × 1 columns</p>\n",
              "</div>\n",
              "    <div class=\"colab-df-buttons\">\n",
              "\n",
              "  <div class=\"colab-df-container\">\n",
              "    <button class=\"colab-df-convert\" onclick=\"convertToInteractive('df-fd84be01-6e16-47a9-9ba1-8a8664986982')\"\n",
              "            title=\"Convert this dataframe to an interactive table.\"\n",
              "            style=\"display:none;\">\n",
              "\n",
              "  <svg xmlns=\"http://www.w3.org/2000/svg\" height=\"24px\" viewBox=\"0 -960 960 960\">\n",
              "    <path d=\"M120-120v-720h720v720H120Zm60-500h600v-160H180v160Zm220 220h160v-160H400v160Zm0 220h160v-160H400v160ZM180-400h160v-160H180v160Zm440 0h160v-160H620v160ZM180-180h160v-160H180v160Zm440 0h160v-160H620v160Z\"/>\n",
              "  </svg>\n",
              "    </button>\n",
              "\n",
              "  <style>\n",
              "    .colab-df-container {\n",
              "      display:flex;\n",
              "      gap: 12px;\n",
              "    }\n",
              "\n",
              "    .colab-df-convert {\n",
              "      background-color: #E8F0FE;\n",
              "      border: none;\n",
              "      border-radius: 50%;\n",
              "      cursor: pointer;\n",
              "      display: none;\n",
              "      fill: #1967D2;\n",
              "      height: 32px;\n",
              "      padding: 0 0 0 0;\n",
              "      width: 32px;\n",
              "    }\n",
              "\n",
              "    .colab-df-convert:hover {\n",
              "      background-color: #E2EBFA;\n",
              "      box-shadow: 0px 1px 2px rgba(60, 64, 67, 0.3), 0px 1px 3px 1px rgba(60, 64, 67, 0.15);\n",
              "      fill: #174EA6;\n",
              "    }\n",
              "\n",
              "    .colab-df-buttons div {\n",
              "      margin-bottom: 4px;\n",
              "    }\n",
              "\n",
              "    [theme=dark] .colab-df-convert {\n",
              "      background-color: #3B4455;\n",
              "      fill: #D2E3FC;\n",
              "    }\n",
              "\n",
              "    [theme=dark] .colab-df-convert:hover {\n",
              "      background-color: #434B5C;\n",
              "      box-shadow: 0px 1px 3px 1px rgba(0, 0, 0, 0.15);\n",
              "      filter: drop-shadow(0px 1px 2px rgba(0, 0, 0, 0.3));\n",
              "      fill: #FFFFFF;\n",
              "    }\n",
              "  </style>\n",
              "\n",
              "    <script>\n",
              "      const buttonEl =\n",
              "        document.querySelector('#df-fd84be01-6e16-47a9-9ba1-8a8664986982 button.colab-df-convert');\n",
              "      buttonEl.style.display =\n",
              "        google.colab.kernel.accessAllowed ? 'block' : 'none';\n",
              "\n",
              "      async function convertToInteractive(key) {\n",
              "        const element = document.querySelector('#df-fd84be01-6e16-47a9-9ba1-8a8664986982');\n",
              "        const dataTable =\n",
              "          await google.colab.kernel.invokeFunction('convertToInteractive',\n",
              "                                                    [key], {});\n",
              "        if (!dataTable) return;\n",
              "\n",
              "        const docLinkHtml = 'Like what you see? Visit the ' +\n",
              "          '<a target=\"_blank\" href=https://colab.research.google.com/notebooks/data_table.ipynb>data table notebook</a>'\n",
              "          + ' to learn more about interactive tables.';\n",
              "        element.innerHTML = '';\n",
              "        dataTable['output_type'] = 'display_data';\n",
              "        await google.colab.output.renderOutput(dataTable, element);\n",
              "        const docLink = document.createElement('div');\n",
              "        docLink.innerHTML = docLinkHtml;\n",
              "        element.appendChild(docLink);\n",
              "      }\n",
              "    </script>\n",
              "  </div>\n",
              "\n",
              "\n",
              "<div id=\"df-0cb64b6f-0bcb-44ec-8d5a-94eb91dbd928\">\n",
              "  <button class=\"colab-df-quickchart\" onclick=\"quickchart('df-0cb64b6f-0bcb-44ec-8d5a-94eb91dbd928')\"\n",
              "            title=\"Suggest charts\"\n",
              "            style=\"display:none;\">\n",
              "\n",
              "<svg xmlns=\"http://www.w3.org/2000/svg\" height=\"24px\"viewBox=\"0 0 24 24\"\n",
              "     width=\"24px\">\n",
              "    <g>\n",
              "        <path d=\"M19 3H5c-1.1 0-2 .9-2 2v14c0 1.1.9 2 2 2h14c1.1 0 2-.9 2-2V5c0-1.1-.9-2-2-2zM9 17H7v-7h2v7zm4 0h-2V7h2v10zm4 0h-2v-4h2v4z\"/>\n",
              "    </g>\n",
              "</svg>\n",
              "  </button>\n",
              "\n",
              "<style>\n",
              "  .colab-df-quickchart {\n",
              "      --bg-color: #E8F0FE;\n",
              "      --fill-color: #1967D2;\n",
              "      --hover-bg-color: #E2EBFA;\n",
              "      --hover-fill-color: #174EA6;\n",
              "      --disabled-fill-color: #AAA;\n",
              "      --disabled-bg-color: #DDD;\n",
              "  }\n",
              "\n",
              "  [theme=dark] .colab-df-quickchart {\n",
              "      --bg-color: #3B4455;\n",
              "      --fill-color: #D2E3FC;\n",
              "      --hover-bg-color: #434B5C;\n",
              "      --hover-fill-color: #FFFFFF;\n",
              "      --disabled-bg-color: #3B4455;\n",
              "      --disabled-fill-color: #666;\n",
              "  }\n",
              "\n",
              "  .colab-df-quickchart {\n",
              "    background-color: var(--bg-color);\n",
              "    border: none;\n",
              "    border-radius: 50%;\n",
              "    cursor: pointer;\n",
              "    display: none;\n",
              "    fill: var(--fill-color);\n",
              "    height: 32px;\n",
              "    padding: 0;\n",
              "    width: 32px;\n",
              "  }\n",
              "\n",
              "  .colab-df-quickchart:hover {\n",
              "    background-color: var(--hover-bg-color);\n",
              "    box-shadow: 0 1px 2px rgba(60, 64, 67, 0.3), 0 1px 3px 1px rgba(60, 64, 67, 0.15);\n",
              "    fill: var(--button-hover-fill-color);\n",
              "  }\n",
              "\n",
              "  .colab-df-quickchart-complete:disabled,\n",
              "  .colab-df-quickchart-complete:disabled:hover {\n",
              "    background-color: var(--disabled-bg-color);\n",
              "    fill: var(--disabled-fill-color);\n",
              "    box-shadow: none;\n",
              "  }\n",
              "\n",
              "  .colab-df-spinner {\n",
              "    border: 2px solid var(--fill-color);\n",
              "    border-color: transparent;\n",
              "    border-bottom-color: var(--fill-color);\n",
              "    animation:\n",
              "      spin 1s steps(1) infinite;\n",
              "  }\n",
              "\n",
              "  @keyframes spin {\n",
              "    0% {\n",
              "      border-color: transparent;\n",
              "      border-bottom-color: var(--fill-color);\n",
              "      border-left-color: var(--fill-color);\n",
              "    }\n",
              "    20% {\n",
              "      border-color: transparent;\n",
              "      border-left-color: var(--fill-color);\n",
              "      border-top-color: var(--fill-color);\n",
              "    }\n",
              "    30% {\n",
              "      border-color: transparent;\n",
              "      border-left-color: var(--fill-color);\n",
              "      border-top-color: var(--fill-color);\n",
              "      border-right-color: var(--fill-color);\n",
              "    }\n",
              "    40% {\n",
              "      border-color: transparent;\n",
              "      border-right-color: var(--fill-color);\n",
              "      border-top-color: var(--fill-color);\n",
              "    }\n",
              "    60% {\n",
              "      border-color: transparent;\n",
              "      border-right-color: var(--fill-color);\n",
              "    }\n",
              "    80% {\n",
              "      border-color: transparent;\n",
              "      border-right-color: var(--fill-color);\n",
              "      border-bottom-color: var(--fill-color);\n",
              "    }\n",
              "    90% {\n",
              "      border-color: transparent;\n",
              "      border-bottom-color: var(--fill-color);\n",
              "    }\n",
              "  }\n",
              "</style>\n",
              "\n",
              "  <script>\n",
              "    async function quickchart(key) {\n",
              "      const quickchartButtonEl =\n",
              "        document.querySelector('#' + key + ' button');\n",
              "      quickchartButtonEl.disabled = true;  // To prevent multiple clicks.\n",
              "      quickchartButtonEl.classList.add('colab-df-spinner');\n",
              "      try {\n",
              "        const charts = await google.colab.kernel.invokeFunction(\n",
              "            'suggestCharts', [key], {});\n",
              "      } catch (error) {\n",
              "        console.error('Error during call to suggestCharts:', error);\n",
              "      }\n",
              "      quickchartButtonEl.classList.remove('colab-df-spinner');\n",
              "      quickchartButtonEl.classList.add('colab-df-quickchart-complete');\n",
              "    }\n",
              "    (() => {\n",
              "      let quickchartButtonEl =\n",
              "        document.querySelector('#df-0cb64b6f-0bcb-44ec-8d5a-94eb91dbd928 button');\n",
              "      quickchartButtonEl.style.display =\n",
              "        google.colab.kernel.accessAllowed ? 'block' : 'none';\n",
              "    })();\n",
              "  </script>\n",
              "</div>\n",
              "\n",
              "  <div id=\"id_32099ef6-896a-4825-a2bf-aef1a89aef35\">\n",
              "    <style>\n",
              "      .colab-df-generate {\n",
              "        background-color: #E8F0FE;\n",
              "        border: none;\n",
              "        border-radius: 50%;\n",
              "        cursor: pointer;\n",
              "        display: none;\n",
              "        fill: #1967D2;\n",
              "        height: 32px;\n",
              "        padding: 0 0 0 0;\n",
              "        width: 32px;\n",
              "      }\n",
              "\n",
              "      .colab-df-generate:hover {\n",
              "        background-color: #E2EBFA;\n",
              "        box-shadow: 0px 1px 2px rgba(60, 64, 67, 0.3), 0px 1px 3px 1px rgba(60, 64, 67, 0.15);\n",
              "        fill: #174EA6;\n",
              "      }\n",
              "\n",
              "      [theme=dark] .colab-df-generate {\n",
              "        background-color: #3B4455;\n",
              "        fill: #D2E3FC;\n",
              "      }\n",
              "\n",
              "      [theme=dark] .colab-df-generate:hover {\n",
              "        background-color: #434B5C;\n",
              "        box-shadow: 0px 1px 3px 1px rgba(0, 0, 0, 0.15);\n",
              "        filter: drop-shadow(0px 1px 2px rgba(0, 0, 0, 0.3));\n",
              "        fill: #FFFFFF;\n",
              "      }\n",
              "    </style>\n",
              "    <button class=\"colab-df-generate\" onclick=\"generateWithVariable('book_names')\"\n",
              "            title=\"Generate code using this dataframe.\"\n",
              "            style=\"display:none;\">\n",
              "\n",
              "  <svg xmlns=\"http://www.w3.org/2000/svg\" height=\"24px\"viewBox=\"0 0 24 24\"\n",
              "       width=\"24px\">\n",
              "    <path d=\"M7,19H8.4L18.45,9,17,7.55,7,17.6ZM5,21V16.75L18.45,3.32a2,2,0,0,1,2.83,0l1.4,1.43a1.91,1.91,0,0,1,.58,1.4,1.91,1.91,0,0,1-.58,1.4L9.25,21ZM18.45,9,17,7.55Zm-12,3A5.31,5.31,0,0,0,4.9,8.1,5.31,5.31,0,0,0,1,6.5,5.31,5.31,0,0,0,4.9,4.9,5.31,5.31,0,0,0,6.5,1,5.31,5.31,0,0,0,8.1,4.9,5.31,5.31,0,0,0,12,6.5,5.46,5.46,0,0,0,6.5,12Z\"/>\n",
              "  </svg>\n",
              "    </button>\n",
              "    <script>\n",
              "      (() => {\n",
              "      const buttonEl =\n",
              "        document.querySelector('#id_32099ef6-896a-4825-a2bf-aef1a89aef35 button.colab-df-generate');\n",
              "      buttonEl.style.display =\n",
              "        google.colab.kernel.accessAllowed ? 'block' : 'none';\n",
              "\n",
              "      buttonEl.onclick = () => {\n",
              "        google.colab.notebook.generateWithVariable('book_names');\n",
              "      }\n",
              "      })();\n",
              "    </script>\n",
              "  </div>\n",
              "\n",
              "    </div>\n",
              "  </div>\n"
            ]
          },
          "metadata": {},
          "execution_count": 69
        }
      ]
    },
    {
      "cell_type": "code",
      "source": [
        "test_data.loc[i].to_dict()"
      ],
      "metadata": {
        "colab": {
          "base_uri": "https://localhost:8080/"
        },
        "id": "ISQChj3iLyZZ",
        "outputId": "f27d85e9-4f23-4391-8748-d98df2fae5e6"
      },
      "execution_count": null,
      "outputs": [
        {
          "output_type": "execute_result",
          "data": {
            "text/plain": [
              "{'ISBN': '0446670111',\n",
              " 'Book-Title': 'einstein dream',\n",
              " 'Book-Author': 'Alan Lightman',\n",
              " 'Year-Of-Publication': 1994,\n",
              " 'Publisher': 'Warner Books',\n",
              " 'User-ID': 168441,\n",
              " 'Book-Rating': 0.0,\n",
              " 'Location': 'hamilton ontario canada',\n",
              " 'Age': 53}"
            ]
          },
          "metadata": {},
          "execution_count": 34
        }
      ]
    },
    {
      "cell_type": "code",
      "source": [
        "reader = {\n",
        "    'ISBN': '0446670111',\n",
        "    'Book-Author': 'Alan Lightman',\n",
        "    'Year-Of-Publication': 1994,\n",
        "    'Publisher': 'Warner Books',\n",
        "    'User-ID': 168441,\n",
        "    'Location': 'hamilton ontario canada',\n",
        "    'Age': 53\n",
        "    }\n",
        "\n",
        "results = pd.DataFrame([], columns=['BOOK', 'SCORE'])\n",
        "\n",
        "for book in book_names['Book-Title']:\n",
        "    input = list(reader.values())\n",
        "    input.append(book)\n",
        "\n",
        "    score = model.predict(input)\n",
        "\n",
        "    results = pd.concat([results, pd.DataFrame([[book, score]], columns=['BOOK', 'SCORE'])])\n",
        "\n",
        "results.sort_values('SCORE', ascending=False)[:10]"
      ],
      "metadata": {
        "colab": {
          "base_uri": "https://localhost:8080/",
          "height": 363
        },
        "id": "8xZGan2tL0xO",
        "outputId": "edb3dac9-be6e-42b4-d901-a05ed63c5d3a"
      },
      "execution_count": null,
      "outputs": [
        {
          "output_type": "execute_result",
          "data": {
            "text/plain": [
              "                                                BOOK     SCORE\n",
              "0                                                 13  4.801333\n",
              "0                                                 48  4.698546\n",
              "0                                                 50  4.658986\n",
              "0                                   classic mytholog  4.586601\n",
              "0                 babi love: a tradit of calm parent  4.586601\n",
              "0    romanticism: an antholog (blackwel anthologies)  4.586601\n",
              "0  nichtrauchen und trotzdem schlank. die method ...  4.586601\n",
              "0  the complet dog book: a comprehensive practic ...  4.586601\n",
              "0  the patio garden month-by-month (month-by-mont...  4.586601\n",
              "0  sacr woman sacr dance: awaken spiritu through ...  4.586601"
            ],
            "text/html": [
              "\n",
              "  <div id=\"df-8e84c7a2-d719-4f17-803c-aadf54106869\" class=\"colab-df-container\">\n",
              "    <div>\n",
              "<style scoped>\n",
              "    .dataframe tbody tr th:only-of-type {\n",
              "        vertical-align: middle;\n",
              "    }\n",
              "\n",
              "    .dataframe tbody tr th {\n",
              "        vertical-align: top;\n",
              "    }\n",
              "\n",
              "    .dataframe thead th {\n",
              "        text-align: right;\n",
              "    }\n",
              "</style>\n",
              "<table border=\"1\" class=\"dataframe\">\n",
              "  <thead>\n",
              "    <tr style=\"text-align: right;\">\n",
              "      <th></th>\n",
              "      <th>BOOK</th>\n",
              "      <th>SCORE</th>\n",
              "    </tr>\n",
              "  </thead>\n",
              "  <tbody>\n",
              "    <tr>\n",
              "      <th>0</th>\n",
              "      <td>13</td>\n",
              "      <td>4.801333</td>\n",
              "    </tr>\n",
              "    <tr>\n",
              "      <th>0</th>\n",
              "      <td>48</td>\n",
              "      <td>4.698546</td>\n",
              "    </tr>\n",
              "    <tr>\n",
              "      <th>0</th>\n",
              "      <td>50</td>\n",
              "      <td>4.658986</td>\n",
              "    </tr>\n",
              "    <tr>\n",
              "      <th>0</th>\n",
              "      <td>classic mytholog</td>\n",
              "      <td>4.586601</td>\n",
              "    </tr>\n",
              "    <tr>\n",
              "      <th>0</th>\n",
              "      <td>babi love: a tradit of calm parent</td>\n",
              "      <td>4.586601</td>\n",
              "    </tr>\n",
              "    <tr>\n",
              "      <th>0</th>\n",
              "      <td>romanticism: an antholog (blackwel anthologies)</td>\n",
              "      <td>4.586601</td>\n",
              "    </tr>\n",
              "    <tr>\n",
              "      <th>0</th>\n",
              "      <td>nichtrauchen und trotzdem schlank. die method ...</td>\n",
              "      <td>4.586601</td>\n",
              "    </tr>\n",
              "    <tr>\n",
              "      <th>0</th>\n",
              "      <td>the complet dog book: a comprehensive practic ...</td>\n",
              "      <td>4.586601</td>\n",
              "    </tr>\n",
              "    <tr>\n",
              "      <th>0</th>\n",
              "      <td>the patio garden month-by-month (month-by-mont...</td>\n",
              "      <td>4.586601</td>\n",
              "    </tr>\n",
              "    <tr>\n",
              "      <th>0</th>\n",
              "      <td>sacr woman sacr dance: awaken spiritu through ...</td>\n",
              "      <td>4.586601</td>\n",
              "    </tr>\n",
              "  </tbody>\n",
              "</table>\n",
              "</div>\n",
              "    <div class=\"colab-df-buttons\">\n",
              "\n",
              "  <div class=\"colab-df-container\">\n",
              "    <button class=\"colab-df-convert\" onclick=\"convertToInteractive('df-8e84c7a2-d719-4f17-803c-aadf54106869')\"\n",
              "            title=\"Convert this dataframe to an interactive table.\"\n",
              "            style=\"display:none;\">\n",
              "\n",
              "  <svg xmlns=\"http://www.w3.org/2000/svg\" height=\"24px\" viewBox=\"0 -960 960 960\">\n",
              "    <path d=\"M120-120v-720h720v720H120Zm60-500h600v-160H180v160Zm220 220h160v-160H400v160Zm0 220h160v-160H400v160ZM180-400h160v-160H180v160Zm440 0h160v-160H620v160ZM180-180h160v-160H180v160Zm440 0h160v-160H620v160Z\"/>\n",
              "  </svg>\n",
              "    </button>\n",
              "\n",
              "  <style>\n",
              "    .colab-df-container {\n",
              "      display:flex;\n",
              "      gap: 12px;\n",
              "    }\n",
              "\n",
              "    .colab-df-convert {\n",
              "      background-color: #E8F0FE;\n",
              "      border: none;\n",
              "      border-radius: 50%;\n",
              "      cursor: pointer;\n",
              "      display: none;\n",
              "      fill: #1967D2;\n",
              "      height: 32px;\n",
              "      padding: 0 0 0 0;\n",
              "      width: 32px;\n",
              "    }\n",
              "\n",
              "    .colab-df-convert:hover {\n",
              "      background-color: #E2EBFA;\n",
              "      box-shadow: 0px 1px 2px rgba(60, 64, 67, 0.3), 0px 1px 3px 1px rgba(60, 64, 67, 0.15);\n",
              "      fill: #174EA6;\n",
              "    }\n",
              "\n",
              "    .colab-df-buttons div {\n",
              "      margin-bottom: 4px;\n",
              "    }\n",
              "\n",
              "    [theme=dark] .colab-df-convert {\n",
              "      background-color: #3B4455;\n",
              "      fill: #D2E3FC;\n",
              "    }\n",
              "\n",
              "    [theme=dark] .colab-df-convert:hover {\n",
              "      background-color: #434B5C;\n",
              "      box-shadow: 0px 1px 3px 1px rgba(0, 0, 0, 0.15);\n",
              "      filter: drop-shadow(0px 1px 2px rgba(0, 0, 0, 0.3));\n",
              "      fill: #FFFFFF;\n",
              "    }\n",
              "  </style>\n",
              "\n",
              "    <script>\n",
              "      const buttonEl =\n",
              "        document.querySelector('#df-8e84c7a2-d719-4f17-803c-aadf54106869 button.colab-df-convert');\n",
              "      buttonEl.style.display =\n",
              "        google.colab.kernel.accessAllowed ? 'block' : 'none';\n",
              "\n",
              "      async function convertToInteractive(key) {\n",
              "        const element = document.querySelector('#df-8e84c7a2-d719-4f17-803c-aadf54106869');\n",
              "        const dataTable =\n",
              "          await google.colab.kernel.invokeFunction('convertToInteractive',\n",
              "                                                    [key], {});\n",
              "        if (!dataTable) return;\n",
              "\n",
              "        const docLinkHtml = 'Like what you see? Visit the ' +\n",
              "          '<a target=\"_blank\" href=https://colab.research.google.com/notebooks/data_table.ipynb>data table notebook</a>'\n",
              "          + ' to learn more about interactive tables.';\n",
              "        element.innerHTML = '';\n",
              "        dataTable['output_type'] = 'display_data';\n",
              "        await google.colab.output.renderOutput(dataTable, element);\n",
              "        const docLink = document.createElement('div');\n",
              "        docLink.innerHTML = docLinkHtml;\n",
              "        element.appendChild(docLink);\n",
              "      }\n",
              "    </script>\n",
              "  </div>\n",
              "\n",
              "\n",
              "<div id=\"df-cb73bf19-bdb4-4025-aace-9631707f33f1\">\n",
              "  <button class=\"colab-df-quickchart\" onclick=\"quickchart('df-cb73bf19-bdb4-4025-aace-9631707f33f1')\"\n",
              "            title=\"Suggest charts\"\n",
              "            style=\"display:none;\">\n",
              "\n",
              "<svg xmlns=\"http://www.w3.org/2000/svg\" height=\"24px\"viewBox=\"0 0 24 24\"\n",
              "     width=\"24px\">\n",
              "    <g>\n",
              "        <path d=\"M19 3H5c-1.1 0-2 .9-2 2v14c0 1.1.9 2 2 2h14c1.1 0 2-.9 2-2V5c0-1.1-.9-2-2-2zM9 17H7v-7h2v7zm4 0h-2V7h2v10zm4 0h-2v-4h2v4z\"/>\n",
              "    </g>\n",
              "</svg>\n",
              "  </button>\n",
              "\n",
              "<style>\n",
              "  .colab-df-quickchart {\n",
              "      --bg-color: #E8F0FE;\n",
              "      --fill-color: #1967D2;\n",
              "      --hover-bg-color: #E2EBFA;\n",
              "      --hover-fill-color: #174EA6;\n",
              "      --disabled-fill-color: #AAA;\n",
              "      --disabled-bg-color: #DDD;\n",
              "  }\n",
              "\n",
              "  [theme=dark] .colab-df-quickchart {\n",
              "      --bg-color: #3B4455;\n",
              "      --fill-color: #D2E3FC;\n",
              "      --hover-bg-color: #434B5C;\n",
              "      --hover-fill-color: #FFFFFF;\n",
              "      --disabled-bg-color: #3B4455;\n",
              "      --disabled-fill-color: #666;\n",
              "  }\n",
              "\n",
              "  .colab-df-quickchart {\n",
              "    background-color: var(--bg-color);\n",
              "    border: none;\n",
              "    border-radius: 50%;\n",
              "    cursor: pointer;\n",
              "    display: none;\n",
              "    fill: var(--fill-color);\n",
              "    height: 32px;\n",
              "    padding: 0;\n",
              "    width: 32px;\n",
              "  }\n",
              "\n",
              "  .colab-df-quickchart:hover {\n",
              "    background-color: var(--hover-bg-color);\n",
              "    box-shadow: 0 1px 2px rgba(60, 64, 67, 0.3), 0 1px 3px 1px rgba(60, 64, 67, 0.15);\n",
              "    fill: var(--button-hover-fill-color);\n",
              "  }\n",
              "\n",
              "  .colab-df-quickchart-complete:disabled,\n",
              "  .colab-df-quickchart-complete:disabled:hover {\n",
              "    background-color: var(--disabled-bg-color);\n",
              "    fill: var(--disabled-fill-color);\n",
              "    box-shadow: none;\n",
              "  }\n",
              "\n",
              "  .colab-df-spinner {\n",
              "    border: 2px solid var(--fill-color);\n",
              "    border-color: transparent;\n",
              "    border-bottom-color: var(--fill-color);\n",
              "    animation:\n",
              "      spin 1s steps(1) infinite;\n",
              "  }\n",
              "\n",
              "  @keyframes spin {\n",
              "    0% {\n",
              "      border-color: transparent;\n",
              "      border-bottom-color: var(--fill-color);\n",
              "      border-left-color: var(--fill-color);\n",
              "    }\n",
              "    20% {\n",
              "      border-color: transparent;\n",
              "      border-left-color: var(--fill-color);\n",
              "      border-top-color: var(--fill-color);\n",
              "    }\n",
              "    30% {\n",
              "      border-color: transparent;\n",
              "      border-left-color: var(--fill-color);\n",
              "      border-top-color: var(--fill-color);\n",
              "      border-right-color: var(--fill-color);\n",
              "    }\n",
              "    40% {\n",
              "      border-color: transparent;\n",
              "      border-right-color: var(--fill-color);\n",
              "      border-top-color: var(--fill-color);\n",
              "    }\n",
              "    60% {\n",
              "      border-color: transparent;\n",
              "      border-right-color: var(--fill-color);\n",
              "    }\n",
              "    80% {\n",
              "      border-color: transparent;\n",
              "      border-right-color: var(--fill-color);\n",
              "      border-bottom-color: var(--fill-color);\n",
              "    }\n",
              "    90% {\n",
              "      border-color: transparent;\n",
              "      border-bottom-color: var(--fill-color);\n",
              "    }\n",
              "  }\n",
              "</style>\n",
              "\n",
              "  <script>\n",
              "    async function quickchart(key) {\n",
              "      const quickchartButtonEl =\n",
              "        document.querySelector('#' + key + ' button');\n",
              "      quickchartButtonEl.disabled = true;  // To prevent multiple clicks.\n",
              "      quickchartButtonEl.classList.add('colab-df-spinner');\n",
              "      try {\n",
              "        const charts = await google.colab.kernel.invokeFunction(\n",
              "            'suggestCharts', [key], {});\n",
              "      } catch (error) {\n",
              "        console.error('Error during call to suggestCharts:', error);\n",
              "      }\n",
              "      quickchartButtonEl.classList.remove('colab-df-spinner');\n",
              "      quickchartButtonEl.classList.add('colab-df-quickchart-complete');\n",
              "    }\n",
              "    (() => {\n",
              "      let quickchartButtonEl =\n",
              "        document.querySelector('#df-cb73bf19-bdb4-4025-aace-9631707f33f1 button');\n",
              "      quickchartButtonEl.style.display =\n",
              "        google.colab.kernel.accessAllowed ? 'block' : 'none';\n",
              "    })();\n",
              "  </script>\n",
              "</div>\n",
              "\n",
              "    </div>\n",
              "  </div>\n"
            ]
          },
          "metadata": {},
          "execution_count": 36
        }
      ]
    },
    {
      "cell_type": "code",
      "source": [
        "df_new = df_new[df_new['Book-Rating'] != 0]\n",
        "\n",
        "train_data, test_data = train_test_split(df_new, test_size=0.2, random_state=42)\n",
        "\n",
        "\n",
        "print(train_data.shape)\n",
        "print(test_data.shape)"
      ],
      "metadata": {
        "colab": {
          "base_uri": "https://localhost:8080/"
        },
        "id": "RMe_ytTeKmDA",
        "outputId": "be8cd471-ecd9-4534-f2b6-fb41796c97c5"
      },
      "execution_count": null,
      "outputs": [
        {
          "output_type": "stream",
          "name": "stdout",
          "text": [
            "(307081, 9)\n",
            "(76771, 9)\n"
          ]
        }
      ]
    },
    {
      "cell_type": "code",
      "source": [
        "train_pool = Pool(train_data.drop(['Book-Rating'], axis=1),\n",
        "                  label=train_data['Book-Rating'],\n",
        "                  cat_features=categorical_features_names)\n",
        "\n",
        "test_pool = Pool(test_data.drop(['Book-Rating'], 1),\n",
        "                 label=test_data['Book-Rating'],\n",
        "                 cat_features=categorical_features_names)"
      ],
      "metadata": {
        "colab": {
          "base_uri": "https://localhost:8080/"
        },
        "id": "PKS-hwrEKo4r",
        "outputId": "167c60ba-8359-4e12-d064-eadcea94c121"
      },
      "execution_count": null,
      "outputs": [
        {
          "output_type": "stream",
          "name": "stderr",
          "text": [
            "<ipython-input-71-29831af72980>:5: FutureWarning: In a future version of pandas all arguments of DataFrame.drop except for the argument 'labels' will be keyword-only.\n",
            "  test_pool = Pool(test_data.drop(['Book-Rating'], 1),\n"
          ]
        }
      ]
    },
    {
      "cell_type": "code",
      "source": [
        "model = CatBoostRegressor(\n",
        "    loss_function='RMSE',\n",
        "    eval_metric='MAE',\n",
        "    task_type='GPU',\n",
        "    depth=9,\n",
        "    learning_rate=0.01,\n",
        "    n_estimators=2500)\n",
        "\n",
        "model.fit(\n",
        "    train_pool,\n",
        "    eval_set=test_pool,\n",
        "    verbose=500,\n",
        "    plot=True)"
      ],
      "metadata": {
        "colab": {
          "base_uri": "https://localhost:8080/",
          "height": 195,
          "referenced_widgets": [
            "82dddbf10c2b4fa192d2f27f8a911729"
          ]
        },
        "id": "CKqM3b6GKyI_",
        "outputId": "8c3bc675-a1d3-4744-fa3a-8a0af4e9b0d2"
      },
      "execution_count": null,
      "outputs": [
        {
          "output_type": "display_data",
          "data": {
            "text/plain": [
              "MetricVisualizer(layout=Layout(align_self='stretch', height='500px'))"
            ],
            "application/vnd.jupyter.widget-view+json": {
              "version_major": 2,
              "version_minor": 0,
              "model_id": "82dddbf10c2b4fa192d2f27f8a911729"
            }
          },
          "metadata": {}
        },
        {
          "output_type": "stream",
          "name": "stderr",
          "text": [
            "Default metric period is 5 because MAE is/are not implemented for GPU\n"
          ]
        },
        {
          "output_type": "stream",
          "name": "stdout",
          "text": [
            "0:\tlearn: 1.4922262\ttest: 1.4902681\tbest: 1.4902681 (0)\ttotal: 158ms\tremaining: 6m 35s\n",
            "500:\tlearn: 1.2806278\ttest: 1.2399244\tbest: 1.2399244 (500)\ttotal: 28.8s\tremaining: 1m 54s\n",
            "1000:\tlearn: 1.2646578\ttest: 1.2298496\tbest: 1.2298496 (1000)\ttotal: 52.2s\tremaining: 1m 18s\n",
            "1500:\tlearn: 1.2559934\ttest: 1.2265125\tbest: 1.2265125 (1500)\ttotal: 1m 11s\tremaining: 47.7s\n",
            "2000:\tlearn: 1.2491644\ttest: 1.2246201\tbest: 1.2246201 (2000)\ttotal: 1m 35s\tremaining: 23.9s\n",
            "2499:\tlearn: 1.2429854\ttest: 1.2233134\tbest: 1.2233134 (2499)\ttotal: 1m 55s\tremaining: 0us\n",
            "bestTest = 1.223313389\n",
            "bestIteration = 2499\n"
          ]
        },
        {
          "output_type": "execute_result",
          "data": {
            "text/plain": [
              "<catboost.core.CatBoostRegressor at 0x7e50b613c4c0>"
            ]
          },
          "metadata": {},
          "execution_count": 72
        }
      ]
    },
    {
      "cell_type": "code",
      "source": [
        "test_data.iloc[0]\n"
      ],
      "metadata": {
        "colab": {
          "base_uri": "https://localhost:8080/"
        },
        "id": "mJUjzTDeLBcT",
        "outputId": "2406e634-0d50-4c6e-addd-458b3f815275"
      },
      "execution_count": null,
      "outputs": [
        {
          "output_type": "execute_result",
          "data": {
            "text/plain": [
              "ISBN                                0440226732\n",
              "Book-Title                             downriv\n",
              "Book-Author                         WILL HOBBS\n",
              "Year-Of-Publication                       1995\n",
              "Publisher                          Laurel Leaf\n",
              "User-ID                                 169192\n",
              "Book-Rating                                8.0\n",
              "Location               knoxville tennessee usa\n",
              "Age                                         35\n",
              "Name: 584898, dtype: object"
            ]
          },
          "metadata": {},
          "execution_count": 73
        }
      ]
    },
    {
      "cell_type": "code",
      "source": [
        "model.predict(test_data.iloc[0].drop(['Book-Rating']))"
      ],
      "metadata": {
        "colab": {
          "base_uri": "https://localhost:8080/"
        },
        "id": "iPPw4TgNLcKZ",
        "outputId": "9d2b0980-9b1d-4e42-a156-8f5f1937d974"
      },
      "execution_count": null,
      "outputs": [
        {
          "output_type": "execute_result",
          "data": {
            "text/plain": [
              "8.286020267935527"
            ]
          },
          "metadata": {},
          "execution_count": 74
        }
      ]
    },
    {
      "cell_type": "code",
      "source": [
        "reader = {\n",
        "    'ISBN': '',\n",
        "    'Book-Author': '',\n",
        "    'Year-Of-Publication': 1995,\n",
        "    'Publisher': '',\n",
        "    'User-ID': 169192,\n",
        "    'Location': 'knoxville tennessee usa',\n",
        "    'Age': 53\n",
        "    }\n",
        "\n",
        "results = pd.DataFrame([], columns=['BOOK', 'SCORE'])\n",
        "\n",
        "for book in book_names['Book-Title']:\n",
        "    input = list(reader.values())\n",
        "    input.append(book)\n",
        "\n",
        "    score = model.predict(input)\n",
        "\n",
        "    results = pd.concat([results, pd.DataFrame([[book, score]], columns=['BOOK', 'SCORE'])])\n",
        "\n",
        "results.sort_values('SCORE', ascending=False)[:10]"
      ],
      "metadata": {
        "colab": {
          "base_uri": "https://localhost:8080/",
          "height": 363
        },
        "id": "fi8AMMxkLI0A",
        "outputId": "123a039d-7e27-4194-8d10-b1d3aa230094"
      },
      "execution_count": null,
      "outputs": [
        {
          "output_type": "execute_result",
          "data": {
            "text/plain": [
              "                                                BOOK     SCORE\n",
              "0                                                 50  7.255903\n",
              "0                                   classic mytholog  7.218422\n",
              "0  telekom- aktionã?â¤r. ein frã?â¶hlich wã?â¶rte...  7.218422\n",
              "0                               la sombra del aguila  7.218422\n",
              "0    romanticism: an antholog (blackwel anthologies)  7.218422\n",
              "0  nichtrauchen und trotzdem schlank. die method ...  7.218422\n",
              "0  the complet dog book: a comprehensive practic ...  7.218422\n",
              "0  the patio garden month-by-month (month-by-mont...  7.218422\n",
              "0  sacr woman sacr dance: awaken spiritu through ...  7.218422\n",
              "0  7 key to comprehension: how to help your kid r...  7.218422"
            ],
            "text/html": [
              "\n",
              "  <div id=\"df-566f16b2-4991-486b-8284-525333bdb489\" class=\"colab-df-container\">\n",
              "    <div>\n",
              "<style scoped>\n",
              "    .dataframe tbody tr th:only-of-type {\n",
              "        vertical-align: middle;\n",
              "    }\n",
              "\n",
              "    .dataframe tbody tr th {\n",
              "        vertical-align: top;\n",
              "    }\n",
              "\n",
              "    .dataframe thead th {\n",
              "        text-align: right;\n",
              "    }\n",
              "</style>\n",
              "<table border=\"1\" class=\"dataframe\">\n",
              "  <thead>\n",
              "    <tr style=\"text-align: right;\">\n",
              "      <th></th>\n",
              "      <th>BOOK</th>\n",
              "      <th>SCORE</th>\n",
              "    </tr>\n",
              "  </thead>\n",
              "  <tbody>\n",
              "    <tr>\n",
              "      <th>0</th>\n",
              "      <td>50</td>\n",
              "      <td>7.255903</td>\n",
              "    </tr>\n",
              "    <tr>\n",
              "      <th>0</th>\n",
              "      <td>classic mytholog</td>\n",
              "      <td>7.218422</td>\n",
              "    </tr>\n",
              "    <tr>\n",
              "      <th>0</th>\n",
              "      <td>telekom- aktionã?â¤r. ein frã?â¶hlich wã?â¶rte...</td>\n",
              "      <td>7.218422</td>\n",
              "    </tr>\n",
              "    <tr>\n",
              "      <th>0</th>\n",
              "      <td>la sombra del aguila</td>\n",
              "      <td>7.218422</td>\n",
              "    </tr>\n",
              "    <tr>\n",
              "      <th>0</th>\n",
              "      <td>romanticism: an antholog (blackwel anthologies)</td>\n",
              "      <td>7.218422</td>\n",
              "    </tr>\n",
              "    <tr>\n",
              "      <th>0</th>\n",
              "      <td>nichtrauchen und trotzdem schlank. die method ...</td>\n",
              "      <td>7.218422</td>\n",
              "    </tr>\n",
              "    <tr>\n",
              "      <th>0</th>\n",
              "      <td>the complet dog book: a comprehensive practic ...</td>\n",
              "      <td>7.218422</td>\n",
              "    </tr>\n",
              "    <tr>\n",
              "      <th>0</th>\n",
              "      <td>the patio garden month-by-month (month-by-mont...</td>\n",
              "      <td>7.218422</td>\n",
              "    </tr>\n",
              "    <tr>\n",
              "      <th>0</th>\n",
              "      <td>sacr woman sacr dance: awaken spiritu through ...</td>\n",
              "      <td>7.218422</td>\n",
              "    </tr>\n",
              "    <tr>\n",
              "      <th>0</th>\n",
              "      <td>7 key to comprehension: how to help your kid r...</td>\n",
              "      <td>7.218422</td>\n",
              "    </tr>\n",
              "  </tbody>\n",
              "</table>\n",
              "</div>\n",
              "    <div class=\"colab-df-buttons\">\n",
              "\n",
              "  <div class=\"colab-df-container\">\n",
              "    <button class=\"colab-df-convert\" onclick=\"convertToInteractive('df-566f16b2-4991-486b-8284-525333bdb489')\"\n",
              "            title=\"Convert this dataframe to an interactive table.\"\n",
              "            style=\"display:none;\">\n",
              "\n",
              "  <svg xmlns=\"http://www.w3.org/2000/svg\" height=\"24px\" viewBox=\"0 -960 960 960\">\n",
              "    <path d=\"M120-120v-720h720v720H120Zm60-500h600v-160H180v160Zm220 220h160v-160H400v160Zm0 220h160v-160H400v160ZM180-400h160v-160H180v160Zm440 0h160v-160H620v160ZM180-180h160v-160H180v160Zm440 0h160v-160H620v160Z\"/>\n",
              "  </svg>\n",
              "    </button>\n",
              "\n",
              "  <style>\n",
              "    .colab-df-container {\n",
              "      display:flex;\n",
              "      gap: 12px;\n",
              "    }\n",
              "\n",
              "    .colab-df-convert {\n",
              "      background-color: #E8F0FE;\n",
              "      border: none;\n",
              "      border-radius: 50%;\n",
              "      cursor: pointer;\n",
              "      display: none;\n",
              "      fill: #1967D2;\n",
              "      height: 32px;\n",
              "      padding: 0 0 0 0;\n",
              "      width: 32px;\n",
              "    }\n",
              "\n",
              "    .colab-df-convert:hover {\n",
              "      background-color: #E2EBFA;\n",
              "      box-shadow: 0px 1px 2px rgba(60, 64, 67, 0.3), 0px 1px 3px 1px rgba(60, 64, 67, 0.15);\n",
              "      fill: #174EA6;\n",
              "    }\n",
              "\n",
              "    .colab-df-buttons div {\n",
              "      margin-bottom: 4px;\n",
              "    }\n",
              "\n",
              "    [theme=dark] .colab-df-convert {\n",
              "      background-color: #3B4455;\n",
              "      fill: #D2E3FC;\n",
              "    }\n",
              "\n",
              "    [theme=dark] .colab-df-convert:hover {\n",
              "      background-color: #434B5C;\n",
              "      box-shadow: 0px 1px 3px 1px rgba(0, 0, 0, 0.15);\n",
              "      filter: drop-shadow(0px 1px 2px rgba(0, 0, 0, 0.3));\n",
              "      fill: #FFFFFF;\n",
              "    }\n",
              "  </style>\n",
              "\n",
              "    <script>\n",
              "      const buttonEl =\n",
              "        document.querySelector('#df-566f16b2-4991-486b-8284-525333bdb489 button.colab-df-convert');\n",
              "      buttonEl.style.display =\n",
              "        google.colab.kernel.accessAllowed ? 'block' : 'none';\n",
              "\n",
              "      async function convertToInteractive(key) {\n",
              "        const element = document.querySelector('#df-566f16b2-4991-486b-8284-525333bdb489');\n",
              "        const dataTable =\n",
              "          await google.colab.kernel.invokeFunction('convertToInteractive',\n",
              "                                                    [key], {});\n",
              "        if (!dataTable) return;\n",
              "\n",
              "        const docLinkHtml = 'Like what you see? Visit the ' +\n",
              "          '<a target=\"_blank\" href=https://colab.research.google.com/notebooks/data_table.ipynb>data table notebook</a>'\n",
              "          + ' to learn more about interactive tables.';\n",
              "        element.innerHTML = '';\n",
              "        dataTable['output_type'] = 'display_data';\n",
              "        await google.colab.output.renderOutput(dataTable, element);\n",
              "        const docLink = document.createElement('div');\n",
              "        docLink.innerHTML = docLinkHtml;\n",
              "        element.appendChild(docLink);\n",
              "      }\n",
              "    </script>\n",
              "  </div>\n",
              "\n",
              "\n",
              "<div id=\"df-0cbc00f1-b473-416e-bb49-51b1a0d40b52\">\n",
              "  <button class=\"colab-df-quickchart\" onclick=\"quickchart('df-0cbc00f1-b473-416e-bb49-51b1a0d40b52')\"\n",
              "            title=\"Suggest charts\"\n",
              "            style=\"display:none;\">\n",
              "\n",
              "<svg xmlns=\"http://www.w3.org/2000/svg\" height=\"24px\"viewBox=\"0 0 24 24\"\n",
              "     width=\"24px\">\n",
              "    <g>\n",
              "        <path d=\"M19 3H5c-1.1 0-2 .9-2 2v14c0 1.1.9 2 2 2h14c1.1 0 2-.9 2-2V5c0-1.1-.9-2-2-2zM9 17H7v-7h2v7zm4 0h-2V7h2v10zm4 0h-2v-4h2v4z\"/>\n",
              "    </g>\n",
              "</svg>\n",
              "  </button>\n",
              "\n",
              "<style>\n",
              "  .colab-df-quickchart {\n",
              "      --bg-color: #E8F0FE;\n",
              "      --fill-color: #1967D2;\n",
              "      --hover-bg-color: #E2EBFA;\n",
              "      --hover-fill-color: #174EA6;\n",
              "      --disabled-fill-color: #AAA;\n",
              "      --disabled-bg-color: #DDD;\n",
              "  }\n",
              "\n",
              "  [theme=dark] .colab-df-quickchart {\n",
              "      --bg-color: #3B4455;\n",
              "      --fill-color: #D2E3FC;\n",
              "      --hover-bg-color: #434B5C;\n",
              "      --hover-fill-color: #FFFFFF;\n",
              "      --disabled-bg-color: #3B4455;\n",
              "      --disabled-fill-color: #666;\n",
              "  }\n",
              "\n",
              "  .colab-df-quickchart {\n",
              "    background-color: var(--bg-color);\n",
              "    border: none;\n",
              "    border-radius: 50%;\n",
              "    cursor: pointer;\n",
              "    display: none;\n",
              "    fill: var(--fill-color);\n",
              "    height: 32px;\n",
              "    padding: 0;\n",
              "    width: 32px;\n",
              "  }\n",
              "\n",
              "  .colab-df-quickchart:hover {\n",
              "    background-color: var(--hover-bg-color);\n",
              "    box-shadow: 0 1px 2px rgba(60, 64, 67, 0.3), 0 1px 3px 1px rgba(60, 64, 67, 0.15);\n",
              "    fill: var(--button-hover-fill-color);\n",
              "  }\n",
              "\n",
              "  .colab-df-quickchart-complete:disabled,\n",
              "  .colab-df-quickchart-complete:disabled:hover {\n",
              "    background-color: var(--disabled-bg-color);\n",
              "    fill: var(--disabled-fill-color);\n",
              "    box-shadow: none;\n",
              "  }\n",
              "\n",
              "  .colab-df-spinner {\n",
              "    border: 2px solid var(--fill-color);\n",
              "    border-color: transparent;\n",
              "    border-bottom-color: var(--fill-color);\n",
              "    animation:\n",
              "      spin 1s steps(1) infinite;\n",
              "  }\n",
              "\n",
              "  @keyframes spin {\n",
              "    0% {\n",
              "      border-color: transparent;\n",
              "      border-bottom-color: var(--fill-color);\n",
              "      border-left-color: var(--fill-color);\n",
              "    }\n",
              "    20% {\n",
              "      border-color: transparent;\n",
              "      border-left-color: var(--fill-color);\n",
              "      border-top-color: var(--fill-color);\n",
              "    }\n",
              "    30% {\n",
              "      border-color: transparent;\n",
              "      border-left-color: var(--fill-color);\n",
              "      border-top-color: var(--fill-color);\n",
              "      border-right-color: var(--fill-color);\n",
              "    }\n",
              "    40% {\n",
              "      border-color: transparent;\n",
              "      border-right-color: var(--fill-color);\n",
              "      border-top-color: var(--fill-color);\n",
              "    }\n",
              "    60% {\n",
              "      border-color: transparent;\n",
              "      border-right-color: var(--fill-color);\n",
              "    }\n",
              "    80% {\n",
              "      border-color: transparent;\n",
              "      border-right-color: var(--fill-color);\n",
              "      border-bottom-color: var(--fill-color);\n",
              "    }\n",
              "    90% {\n",
              "      border-color: transparent;\n",
              "      border-bottom-color: var(--fill-color);\n",
              "    }\n",
              "  }\n",
              "</style>\n",
              "\n",
              "  <script>\n",
              "    async function quickchart(key) {\n",
              "      const quickchartButtonEl =\n",
              "        document.querySelector('#' + key + ' button');\n",
              "      quickchartButtonEl.disabled = true;  // To prevent multiple clicks.\n",
              "      quickchartButtonEl.classList.add('colab-df-spinner');\n",
              "      try {\n",
              "        const charts = await google.colab.kernel.invokeFunction(\n",
              "            'suggestCharts', [key], {});\n",
              "      } catch (error) {\n",
              "        console.error('Error during call to suggestCharts:', error);\n",
              "      }\n",
              "      quickchartButtonEl.classList.remove('colab-df-spinner');\n",
              "      quickchartButtonEl.classList.add('colab-df-quickchart-complete');\n",
              "    }\n",
              "    (() => {\n",
              "      let quickchartButtonEl =\n",
              "        document.querySelector('#df-0cbc00f1-b473-416e-bb49-51b1a0d40b52 button');\n",
              "      quickchartButtonEl.style.display =\n",
              "        google.colab.kernel.accessAllowed ? 'block' : 'none';\n",
              "    })();\n",
              "  </script>\n",
              "</div>\n",
              "\n",
              "    </div>\n",
              "  </div>\n"
            ]
          },
          "metadata": {},
          "execution_count": 76
        }
      ]
    },
    {
      "cell_type": "code",
      "source": [
        "model.get_feature_importance(prettified=True)"
      ],
      "metadata": {
        "colab": {
          "base_uri": "https://localhost:8080/",
          "height": 300
        },
        "id": "JDsoiSmxTtJu",
        "outputId": "d1429c0b-63b8-470a-cd6a-f6bc16f8df77"
      },
      "execution_count": null,
      "outputs": [
        {
          "output_type": "execute_result",
          "data": {
            "text/plain": [
              "            Feature Id  Importances\n",
              "0              User-ID    40.519453\n",
              "1          Book-Author    12.582706\n",
              "2            Publisher    12.320673\n",
              "3             Location    10.519528\n",
              "4                  Age     9.397738\n",
              "5  Year-Of-Publication     8.788862\n",
              "6           Book-Title     4.323603\n",
              "7                 ISBN     1.547437"
            ],
            "text/html": [
              "\n",
              "  <div id=\"df-4bfd39ea-7c82-457d-becb-ed8ab97a3b36\" class=\"colab-df-container\">\n",
              "    <div>\n",
              "<style scoped>\n",
              "    .dataframe tbody tr th:only-of-type {\n",
              "        vertical-align: middle;\n",
              "    }\n",
              "\n",
              "    .dataframe tbody tr th {\n",
              "        vertical-align: top;\n",
              "    }\n",
              "\n",
              "    .dataframe thead th {\n",
              "        text-align: right;\n",
              "    }\n",
              "</style>\n",
              "<table border=\"1\" class=\"dataframe\">\n",
              "  <thead>\n",
              "    <tr style=\"text-align: right;\">\n",
              "      <th></th>\n",
              "      <th>Feature Id</th>\n",
              "      <th>Importances</th>\n",
              "    </tr>\n",
              "  </thead>\n",
              "  <tbody>\n",
              "    <tr>\n",
              "      <th>0</th>\n",
              "      <td>User-ID</td>\n",
              "      <td>40.519453</td>\n",
              "    </tr>\n",
              "    <tr>\n",
              "      <th>1</th>\n",
              "      <td>Book-Author</td>\n",
              "      <td>12.582706</td>\n",
              "    </tr>\n",
              "    <tr>\n",
              "      <th>2</th>\n",
              "      <td>Publisher</td>\n",
              "      <td>12.320673</td>\n",
              "    </tr>\n",
              "    <tr>\n",
              "      <th>3</th>\n",
              "      <td>Location</td>\n",
              "      <td>10.519528</td>\n",
              "    </tr>\n",
              "    <tr>\n",
              "      <th>4</th>\n",
              "      <td>Age</td>\n",
              "      <td>9.397738</td>\n",
              "    </tr>\n",
              "    <tr>\n",
              "      <th>5</th>\n",
              "      <td>Year-Of-Publication</td>\n",
              "      <td>8.788862</td>\n",
              "    </tr>\n",
              "    <tr>\n",
              "      <th>6</th>\n",
              "      <td>Book-Title</td>\n",
              "      <td>4.323603</td>\n",
              "    </tr>\n",
              "    <tr>\n",
              "      <th>7</th>\n",
              "      <td>ISBN</td>\n",
              "      <td>1.547437</td>\n",
              "    </tr>\n",
              "  </tbody>\n",
              "</table>\n",
              "</div>\n",
              "    <div class=\"colab-df-buttons\">\n",
              "\n",
              "  <div class=\"colab-df-container\">\n",
              "    <button class=\"colab-df-convert\" onclick=\"convertToInteractive('df-4bfd39ea-7c82-457d-becb-ed8ab97a3b36')\"\n",
              "            title=\"Convert this dataframe to an interactive table.\"\n",
              "            style=\"display:none;\">\n",
              "\n",
              "  <svg xmlns=\"http://www.w3.org/2000/svg\" height=\"24px\" viewBox=\"0 -960 960 960\">\n",
              "    <path d=\"M120-120v-720h720v720H120Zm60-500h600v-160H180v160Zm220 220h160v-160H400v160Zm0 220h160v-160H400v160ZM180-400h160v-160H180v160Zm440 0h160v-160H620v160ZM180-180h160v-160H180v160Zm440 0h160v-160H620v160Z\"/>\n",
              "  </svg>\n",
              "    </button>\n",
              "\n",
              "  <style>\n",
              "    .colab-df-container {\n",
              "      display:flex;\n",
              "      gap: 12px;\n",
              "    }\n",
              "\n",
              "    .colab-df-convert {\n",
              "      background-color: #E8F0FE;\n",
              "      border: none;\n",
              "      border-radius: 50%;\n",
              "      cursor: pointer;\n",
              "      display: none;\n",
              "      fill: #1967D2;\n",
              "      height: 32px;\n",
              "      padding: 0 0 0 0;\n",
              "      width: 32px;\n",
              "    }\n",
              "\n",
              "    .colab-df-convert:hover {\n",
              "      background-color: #E2EBFA;\n",
              "      box-shadow: 0px 1px 2px rgba(60, 64, 67, 0.3), 0px 1px 3px 1px rgba(60, 64, 67, 0.15);\n",
              "      fill: #174EA6;\n",
              "    }\n",
              "\n",
              "    .colab-df-buttons div {\n",
              "      margin-bottom: 4px;\n",
              "    }\n",
              "\n",
              "    [theme=dark] .colab-df-convert {\n",
              "      background-color: #3B4455;\n",
              "      fill: #D2E3FC;\n",
              "    }\n",
              "\n",
              "    [theme=dark] .colab-df-convert:hover {\n",
              "      background-color: #434B5C;\n",
              "      box-shadow: 0px 1px 3px 1px rgba(0, 0, 0, 0.15);\n",
              "      filter: drop-shadow(0px 1px 2px rgba(0, 0, 0, 0.3));\n",
              "      fill: #FFFFFF;\n",
              "    }\n",
              "  </style>\n",
              "\n",
              "    <script>\n",
              "      const buttonEl =\n",
              "        document.querySelector('#df-4bfd39ea-7c82-457d-becb-ed8ab97a3b36 button.colab-df-convert');\n",
              "      buttonEl.style.display =\n",
              "        google.colab.kernel.accessAllowed ? 'block' : 'none';\n",
              "\n",
              "      async function convertToInteractive(key) {\n",
              "        const element = document.querySelector('#df-4bfd39ea-7c82-457d-becb-ed8ab97a3b36');\n",
              "        const dataTable =\n",
              "          await google.colab.kernel.invokeFunction('convertToInteractive',\n",
              "                                                    [key], {});\n",
              "        if (!dataTable) return;\n",
              "\n",
              "        const docLinkHtml = 'Like what you see? Visit the ' +\n",
              "          '<a target=\"_blank\" href=https://colab.research.google.com/notebooks/data_table.ipynb>data table notebook</a>'\n",
              "          + ' to learn more about interactive tables.';\n",
              "        element.innerHTML = '';\n",
              "        dataTable['output_type'] = 'display_data';\n",
              "        await google.colab.output.renderOutput(dataTable, element);\n",
              "        const docLink = document.createElement('div');\n",
              "        docLink.innerHTML = docLinkHtml;\n",
              "        element.appendChild(docLink);\n",
              "      }\n",
              "    </script>\n",
              "  </div>\n",
              "\n",
              "\n",
              "<div id=\"df-5add375e-80a3-46d3-9405-108a6e7db196\">\n",
              "  <button class=\"colab-df-quickchart\" onclick=\"quickchart('df-5add375e-80a3-46d3-9405-108a6e7db196')\"\n",
              "            title=\"Suggest charts\"\n",
              "            style=\"display:none;\">\n",
              "\n",
              "<svg xmlns=\"http://www.w3.org/2000/svg\" height=\"24px\"viewBox=\"0 0 24 24\"\n",
              "     width=\"24px\">\n",
              "    <g>\n",
              "        <path d=\"M19 3H5c-1.1 0-2 .9-2 2v14c0 1.1.9 2 2 2h14c1.1 0 2-.9 2-2V5c0-1.1-.9-2-2-2zM9 17H7v-7h2v7zm4 0h-2V7h2v10zm4 0h-2v-4h2v4z\"/>\n",
              "    </g>\n",
              "</svg>\n",
              "  </button>\n",
              "\n",
              "<style>\n",
              "  .colab-df-quickchart {\n",
              "      --bg-color: #E8F0FE;\n",
              "      --fill-color: #1967D2;\n",
              "      --hover-bg-color: #E2EBFA;\n",
              "      --hover-fill-color: #174EA6;\n",
              "      --disabled-fill-color: #AAA;\n",
              "      --disabled-bg-color: #DDD;\n",
              "  }\n",
              "\n",
              "  [theme=dark] .colab-df-quickchart {\n",
              "      --bg-color: #3B4455;\n",
              "      --fill-color: #D2E3FC;\n",
              "      --hover-bg-color: #434B5C;\n",
              "      --hover-fill-color: #FFFFFF;\n",
              "      --disabled-bg-color: #3B4455;\n",
              "      --disabled-fill-color: #666;\n",
              "  }\n",
              "\n",
              "  .colab-df-quickchart {\n",
              "    background-color: var(--bg-color);\n",
              "    border: none;\n",
              "    border-radius: 50%;\n",
              "    cursor: pointer;\n",
              "    display: none;\n",
              "    fill: var(--fill-color);\n",
              "    height: 32px;\n",
              "    padding: 0;\n",
              "    width: 32px;\n",
              "  }\n",
              "\n",
              "  .colab-df-quickchart:hover {\n",
              "    background-color: var(--hover-bg-color);\n",
              "    box-shadow: 0 1px 2px rgba(60, 64, 67, 0.3), 0 1px 3px 1px rgba(60, 64, 67, 0.15);\n",
              "    fill: var(--button-hover-fill-color);\n",
              "  }\n",
              "\n",
              "  .colab-df-quickchart-complete:disabled,\n",
              "  .colab-df-quickchart-complete:disabled:hover {\n",
              "    background-color: var(--disabled-bg-color);\n",
              "    fill: var(--disabled-fill-color);\n",
              "    box-shadow: none;\n",
              "  }\n",
              "\n",
              "  .colab-df-spinner {\n",
              "    border: 2px solid var(--fill-color);\n",
              "    border-color: transparent;\n",
              "    border-bottom-color: var(--fill-color);\n",
              "    animation:\n",
              "      spin 1s steps(1) infinite;\n",
              "  }\n",
              "\n",
              "  @keyframes spin {\n",
              "    0% {\n",
              "      border-color: transparent;\n",
              "      border-bottom-color: var(--fill-color);\n",
              "      border-left-color: var(--fill-color);\n",
              "    }\n",
              "    20% {\n",
              "      border-color: transparent;\n",
              "      border-left-color: var(--fill-color);\n",
              "      border-top-color: var(--fill-color);\n",
              "    }\n",
              "    30% {\n",
              "      border-color: transparent;\n",
              "      border-left-color: var(--fill-color);\n",
              "      border-top-color: var(--fill-color);\n",
              "      border-right-color: var(--fill-color);\n",
              "    }\n",
              "    40% {\n",
              "      border-color: transparent;\n",
              "      border-right-color: var(--fill-color);\n",
              "      border-top-color: var(--fill-color);\n",
              "    }\n",
              "    60% {\n",
              "      border-color: transparent;\n",
              "      border-right-color: var(--fill-color);\n",
              "    }\n",
              "    80% {\n",
              "      border-color: transparent;\n",
              "      border-right-color: var(--fill-color);\n",
              "      border-bottom-color: var(--fill-color);\n",
              "    }\n",
              "    90% {\n",
              "      border-color: transparent;\n",
              "      border-bottom-color: var(--fill-color);\n",
              "    }\n",
              "  }\n",
              "</style>\n",
              "\n",
              "  <script>\n",
              "    async function quickchart(key) {\n",
              "      const quickchartButtonEl =\n",
              "        document.querySelector('#' + key + ' button');\n",
              "      quickchartButtonEl.disabled = true;  // To prevent multiple clicks.\n",
              "      quickchartButtonEl.classList.add('colab-df-spinner');\n",
              "      try {\n",
              "        const charts = await google.colab.kernel.invokeFunction(\n",
              "            'suggestCharts', [key], {});\n",
              "      } catch (error) {\n",
              "        console.error('Error during call to suggestCharts:', error);\n",
              "      }\n",
              "      quickchartButtonEl.classList.remove('colab-df-spinner');\n",
              "      quickchartButtonEl.classList.add('colab-df-quickchart-complete');\n",
              "    }\n",
              "    (() => {\n",
              "      let quickchartButtonEl =\n",
              "        document.querySelector('#df-5add375e-80a3-46d3-9405-108a6e7db196 button');\n",
              "      quickchartButtonEl.style.display =\n",
              "        google.colab.kernel.accessAllowed ? 'block' : 'none';\n",
              "    })();\n",
              "  </script>\n",
              "</div>\n",
              "\n",
              "    </div>\n",
              "  </div>\n"
            ]
          },
          "metadata": {},
          "execution_count": 77
        }
      ]
    }
  ],
  "metadata": {
    "colab": {
      "provenance": [],
      "gpuType": "T4",
      "authorship_tag": "ABX9TyPvn6iL0YaXnr192OnXNcoK",
      "include_colab_link": true
    },
    "kernelspec": {
      "display_name": "Python 3",
      "name": "python3"
    },
    "language_info": {
      "name": "python"
    },
    "accelerator": "GPU",
    "widgets": {
      "application/vnd.jupyter.widget-state+json": {
        "4713389312bc40958efd8d8c5b9739a2": {
          "model_module": "catboost-widget",
          "model_name": "CatboostWidgetModel",
          "model_module_version": "^1.0.0",
          "state": {
            "_dom_classes": [],
            "_model_module": "catboost-widget",
            "_model_module_version": "^1.0.0",
            "_model_name": "CatboostWidgetModel",
            "_view_count": null,
            "_view_module": "catboost-widget",
            "_view_module_version": "^1.0.0",
            "_view_name": "CatboostWidgetView",
            "data": {
              "catboost_info": {
                "path": "catboost_info",
                "name": "catboost_info",
                "content": {
                  "passed_iterations": 1999,
                  "total_iterations": 2000,
                  "data": {
                    "iterations": [
                      {
                        "learn": [
                          3.565149284,
                          3.846505283
                        ],
                        "iteration": 0,
                        "passed_time": 0.08829174301,
                        "remaining_time": 176.4951943,
                        "test": [
                          3.562025976,
                          3.842847292
                        ]
                      },
                      {
                        "learn": [
                          3.529891683,
                          3.812085325
                        ],
                        "iteration": 5,
                        "passed_time": 0.438850797,
                        "remaining_time": 145.8447482,
                        "test": [
                          3.523969982,
                          3.806329301
                        ]
                      },
                      {
                        "learn": [
                          3.496212951,
                          3.780259353
                        ],
                        "iteration": 10,
                        "passed_time": 0.7426836289,
                        "remaining_time": 134.2907035,
                        "test": [
                          3.487973237,
                          3.772721716
                        ]
                      },
                      {
                        "learn": [
                          3.464279574,
                          3.750992848
                        ],
                        "iteration": 15,
                        "passed_time": 1.052704576,
                        "remaining_time": 130.5353674,
                        "test": [
                          3.453661304,
                          3.741724533
                        ]
                      },
                      {
                        "learn": [
                          3.433909024,
                          3.724046228
                        ],
                        "iteration": 20,
                        "passed_time": 1.368367367,
                        "remaining_time": 128.9523342,
                        "test": [
                          3.421059912,
                          3.713278727
                        ]
                      },
                      {
                        "learn": [
                          3.404272818,
                          3.698667919
                        ],
                        "iteration": 25,
                        "passed_time": 1.673501896,
                        "remaining_time": 127.0574132,
                        "test": [
                          3.389221923,
                          3.686364544
                        ]
                      },
                      {
                        "learn": [
                          3.376397706,
                          3.675658672
                        ],
                        "iteration": 30,
                        "passed_time": 1.990461101,
                        "remaining_time": 126.4263842,
                        "test": [
                          3.359329974,
                          3.662033758
                        ]
                      },
                      {
                        "learn": [
                          3.349863241,
                          3.654557188
                        ],
                        "iteration": 35,
                        "passed_time": 2.301471403,
                        "remaining_time": 125.558051,
                        "test": [
                          3.330733871,
                          3.639527689
                        ]
                      },
                      {
                        "learn": [
                          3.324024073,
                          3.634792308
                        ],
                        "iteration": 40,
                        "passed_time": 2.618884278,
                        "remaining_time": 125.1315683,
                        "test": [
                          3.302950208,
                          3.618534081
                        ]
                      },
                      {
                        "learn": [
                          3.29904396,
                          3.616295547
                        ],
                        "iteration": 45,
                        "passed_time": 2.929422333,
                        "remaining_time": 124.4367661,
                        "test": [
                          3.276172407,
                          3.598827416
                        ]
                      },
                      {
                        "learn": [
                          3.274786992,
                          3.59901665
                        ],
                        "iteration": 50,
                        "passed_time": 3.227551343,
                        "remaining_time": 123.3430895,
                        "test": [
                          3.249842597,
                          3.580173448
                        ]
                      },
                      {
                        "learn": [
                          3.252263269,
                          3.58362234
                        ],
                        "iteration": 55,
                        "passed_time": 3.527003258,
                        "remaining_time": 122.4373988,
                        "test": [
                          3.225600793,
                          3.563736242
                        ]
                      },
                      {
                        "learn": [
                          3.231119242,
                          3.569594155
                        ],
                        "iteration": 60,
                        "passed_time": 3.854993804,
                        "remaining_time": 122.5382457,
                        "test": [
                          3.202870659,
                          3.548699687
                        ]
                      },
                      {
                        "learn": [
                          3.210776153,
                          3.556547412
                        ],
                        "iteration": 65,
                        "passed_time": 4.171304103,
                        "remaining_time": 122.2318505,
                        "test": [
                          3.181061632,
                          3.534696999
                        ]
                      },
                      {
                        "learn": [
                          3.191010005,
                          3.544425995
                        ],
                        "iteration": 70,
                        "passed_time": 4.487259436,
                        "remaining_time": 121.9144148,
                        "test": [
                          3.159771427,
                          3.521623788
                        ]
                      },
                      {
                        "learn": [
                          3.171741189,
                          3.532996799
                        ],
                        "iteration": 75,
                        "passed_time": 4.799271754,
                        "remaining_time": 121.4973534,
                        "test": [
                          3.138935874,
                          3.509257209
                        ]
                      },
                      {
                        "learn": [
                          3.153416184,
                          3.522519211
                        ],
                        "iteration": 80,
                        "passed_time": 5.108912552,
                        "remaining_time": 121.0370764,
                        "test": [
                          3.119159458,
                          3.497952476
                        ]
                      },
                      {
                        "learn": [
                          3.135803426,
                          3.512915064
                        ],
                        "iteration": 85,
                        "passed_time": 5.414763161,
                        "remaining_time": 120.5099615,
                        "test": [
                          3.100244519,
                          3.487547025
                        ]
                      },
                      {
                        "learn": [
                          3.119472592,
                          3.504275672
                        ],
                        "iteration": 90,
                        "passed_time": 5.748832051,
                        "remaining_time": 120.5991251,
                        "test": [
                          3.082685965,
                          3.478189915
                        ]
                      },
                      {
                        "learn": [
                          3.103944512,
                          3.496410632
                        ],
                        "iteration": 95,
                        "passed_time": 6.297069817,
                        "remaining_time": 124.8918847,
                        "test": [
                          3.065925321,
                          3.469622326
                        ]
                      },
                      {
                        "learn": [
                          3.089216461,
                          3.489055204
                        ],
                        "iteration": 100,
                        "passed_time": 6.917925977,
                        "remaining_time": 130.0707072,
                        "test": [
                          3.049944727,
                          3.461537603
                        ]
                      },
                      {
                        "learn": [
                          3.074937917,
                          3.482160984
                        ],
                        "iteration": 105,
                        "passed_time": 7.289921235,
                        "remaining_time": 130.2557624,
                        "test": [
                          3.034625527,
                          3.454017484
                        ]
                      },
                      {
                        "learn": [
                          3.061045311,
                          3.475506541
                        ],
                        "iteration": 110,
                        "passed_time": 7.608884083,
                        "remaining_time": 129.4881264,
                        "test": [
                          3.019650494,
                          3.446686995
                        ]
                      },
                      {
                        "learn": [
                          3.047947287,
                          3.469192899
                        ],
                        "iteration": 115,
                        "passed_time": 7.969903781,
                        "remaining_time": 129.4422304,
                        "test": [
                          3.005559941,
                          3.439668617
                        ]
                      },
                      {
                        "learn": [
                          3.035853916,
                          3.463672547
                        ],
                        "iteration": 120,
                        "passed_time": 8.44580608,
                        "remaining_time": 131.1542944,
                        "test": [
                          2.992599963,
                          3.433558327
                        ]
                      },
                      {
                        "learn": [
                          3.024292687,
                          3.45863405
                        ],
                        "iteration": 125,
                        "passed_time": 8.750640328,
                        "remaining_time": 130.1484125,
                        "test": [
                          2.980230546,
                          3.428032693
                        ]
                      },
                      {
                        "learn": [
                          3.013161591,
                          3.453743159
                        ],
                        "iteration": 130,
                        "passed_time": 9.163070202,
                        "remaining_time": 130.7311314,
                        "test": [
                          2.968355737,
                          3.422595425
                        ]
                      },
                      {
                        "learn": [
                          3.002669489,
                          3.449432449
                        ],
                        "iteration": 135,
                        "passed_time": 9.570882637,
                        "remaining_time": 131.1773914,
                        "test": [
                          2.95707603,
                          3.41782213
                        ]
                      },
                      {
                        "learn": [
                          2.991886798,
                          3.444318108
                        ],
                        "iteration": 140,
                        "passed_time": 9.914092458,
                        "remaining_time": 130.7113325,
                        "test": [
                          2.945324721,
                          3.411600668
                        ]
                      },
                      {
                        "learn": [
                          2.981618088,
                          3.439580232
                        ],
                        "iteration": 145,
                        "passed_time": 10.25563445,
                        "remaining_time": 130.2325087,
                        "test": [
                          2.93421059,
                          3.405892773
                        ]
                      },
                      {
                        "learn": [
                          2.972247783,
                          3.435666219
                        ],
                        "iteration": 150,
                        "passed_time": 10.57980899,
                        "remaining_time": 129.5501114,
                        "test": [
                          2.924094149,
                          3.401287736
                        ]
                      },
                      {
                        "learn": [
                          2.962047785,
                          3.430564883
                        ],
                        "iteration": 155,
                        "passed_time": 10.95695937,
                        "remaining_time": 129.5168787,
                        "test": [
                          2.912851068,
                          3.394781328
                        ]
                      },
                      {
                        "learn": [
                          2.953439068,
                          3.42714264
                        ],
                        "iteration": 160,
                        "passed_time": 11.28450136,
                        "remaining_time": 128.8956397,
                        "test": [
                          2.903615778,
                          3.390781507
                        ]
                      },
                      {
                        "learn": [
                          2.944362682,
                          3.422759164
                        ],
                        "iteration": 165,
                        "passed_time": 11.64059119,
                        "remaining_time": 128.6074954,
                        "test": [
                          2.8935962,
                          3.385147421
                        ]
                      },
                      {
                        "learn": [
                          2.936201352,
                          3.419171352
                        ],
                        "iteration": 170,
                        "passed_time": 11.99923315,
                        "remaining_time": 128.342675,
                        "test": [
                          2.88463485,
                          3.380570177
                        ]
                      },
                      {
                        "learn": [
                          2.928073318,
                          3.415922369
                        ],
                        "iteration": 175,
                        "passed_time": 12.34636581,
                        "remaining_time": 127.9532457,
                        "test": [
                          2.875872979,
                          3.376623087
                        ]
                      },
                      {
                        "learn": [
                          2.919721591,
                          3.412252677
                        ],
                        "iteration": 180,
                        "passed_time": 12.70650437,
                        "remaining_time": 127.6968588,
                        "test": [
                          2.866743632,
                          3.371936065
                        ]
                      },
                      {
                        "learn": [
                          2.911784257,
                          3.408680803
                        ],
                        "iteration": 185,
                        "passed_time": 13.09328106,
                        "remaining_time": 127.6946874,
                        "test": [
                          2.857903665,
                          3.367220765
                        ]
                      },
                      {
                        "learn": [
                          2.904082724,
                          3.405308923
                        ],
                        "iteration": 190,
                        "passed_time": 13.46289176,
                        "remaining_time": 127.5097968,
                        "test": [
                          2.849373356,
                          3.362815713
                        ]
                      },
                      {
                        "learn": [
                          2.896863085,
                          3.402427138
                        ],
                        "iteration": 195,
                        "passed_time": 13.83920837,
                        "remaining_time": 127.3772036,
                        "test": [
                          2.841451469,
                          3.35907269
                        ]
                      },
                      {
                        "learn": [
                          2.890463454,
                          3.400204062
                        ],
                        "iteration": 200,
                        "passed_time": 14.18309375,
                        "remaining_time": 126.9422172,
                        "test": [
                          2.834454624,
                          3.356340605
                        ]
                      },
                      {
                        "learn": [
                          2.883699981,
                          3.397490972
                        ],
                        "iteration": 205,
                        "passed_time": 14.56508425,
                        "remaining_time": 126.8435007,
                        "test": [
                          2.826991021,
                          3.352751421
                        ]
                      },
                      {
                        "learn": [
                          2.877429904,
                          3.39533242
                        ],
                        "iteration": 210,
                        "passed_time": 14.93064644,
                        "remaining_time": 126.5920686,
                        "test": [
                          2.820100726,
                          3.350015084
                        ]
                      },
                      {
                        "learn": [
                          2.871167698,
                          3.393051704
                        ],
                        "iteration": 215,
                        "passed_time": 15.28025922,
                        "remaining_time": 126.2036225,
                        "test": [
                          2.81314081,
                          3.34709076
                        ]
                      },
                      {
                        "learn": [
                          2.865259345,
                          3.390878721
                        ],
                        "iteration": 220,
                        "passed_time": 15.73770687,
                        "remaining_time": 126.6849797,
                        "test": [
                          2.806798396,
                          3.344297296
                        ]
                      },
                      {
                        "learn": [
                          2.859512935,
                          3.388839222
                        ],
                        "iteration": 225,
                        "passed_time": 16.17971303,
                        "remaining_time": 127.0035881,
                        "test": [
                          2.800503809,
                          3.341669984
                        ]
                      },
                      {
                        "learn": [
                          2.854002024,
                          3.3870457
                        ],
                        "iteration": 230,
                        "passed_time": 16.61061933,
                        "remaining_time": 127.2042667,
                        "test": [
                          2.794506168,
                          3.339470277
                        ]
                      },
                      {
                        "learn": [
                          2.848786243,
                          3.385504267
                        ],
                        "iteration": 235,
                        "passed_time": 17.04799151,
                        "remaining_time": 127.4265128,
                        "test": [
                          2.788927762,
                          3.337626467
                        ]
                      },
                      {
                        "learn": [
                          2.843733616,
                          3.383692696
                        ],
                        "iteration": 240,
                        "passed_time": 17.40945839,
                        "remaining_time": 127.0673748,
                        "test": [
                          2.783112344,
                          3.335075405
                        ]
                      },
                      {
                        "learn": [
                          2.838646785,
                          3.382050748
                        ],
                        "iteration": 245,
                        "passed_time": 17.77077079,
                        "remaining_time": 126.7070405,
                        "test": [
                          2.777306613,
                          3.33287516
                        ]
                      },
                      {
                        "learn": [
                          2.834135684,
                          3.380797499
                        ],
                        "iteration": 250,
                        "passed_time": 18.09716582,
                        "remaining_time": 126.1033586,
                        "test": [
                          2.772466485,
                          3.331315751
                        ]
                      },
                      {
                        "learn": [
                          2.829680279,
                          3.379480909
                        ],
                        "iteration": 255,
                        "passed_time": 18.43624449,
                        "remaining_time": 125.5969156,
                        "test": [
                          2.767583678,
                          3.329644522
                        ]
                      },
                      {
                        "learn": [
                          2.825309629,
                          3.378105562
                        ],
                        "iteration": 260,
                        "passed_time": 18.79786566,
                        "remaining_time": 125.2470819,
                        "test": [
                          2.762667876,
                          3.327867125
                        ]
                      },
                      {
                        "learn": [
                          2.821206564,
                          3.376847802
                        ],
                        "iteration": 265,
                        "passed_time": 19.16060301,
                        "remaining_time": 124.9040813,
                        "test": [
                          2.758131354,
                          3.326237481
                        ]
                      },
                      {
                        "learn": [
                          2.81689706,
                          3.375470665
                        ],
                        "iteration": 270,
                        "passed_time": 19.51610534,
                        "remaining_time": 124.5141923,
                        "test": [
                          2.753358425,
                          3.324358287
                        ]
                      },
                      {
                        "learn": [
                          2.813068239,
                          3.374282433
                        ],
                        "iteration": 275,
                        "passed_time": 19.90042412,
                        "remaining_time": 124.3055478,
                        "test": [
                          2.749077076,
                          3.32279561
                        ]
                      },
                      {
                        "learn": [
                          2.809156176,
                          3.373066322
                        ],
                        "iteration": 280,
                        "passed_time": 20.43036965,
                        "remaining_time": 124.981514,
                        "test": [
                          2.744765761,
                          3.321207407
                        ]
                      },
                      {
                        "learn": [
                          2.805672733,
                          3.37190956
                        ],
                        "iteration": 285,
                        "passed_time": 21.0358024,
                        "remaining_time": 126.0677109,
                        "test": [
                          2.740758656,
                          3.319624463
                        ]
                      },
                      {
                        "learn": [
                          2.802013423,
                          3.370796223
                        ],
                        "iteration": 290,
                        "passed_time": 21.54076909,
                        "remaining_time": 126.5057538,
                        "test": [
                          2.736637434,
                          3.318097324
                        ]
                      },
                      {
                        "learn": [
                          2.798635016,
                          3.369798577
                        ],
                        "iteration": 295,
                        "passed_time": 21.95763908,
                        "remaining_time": 126.4047871,
                        "test": [
                          2.732828596,
                          3.316748546
                        ]
                      },
                      {
                        "learn": [
                          2.795497556,
                          3.368809801
                        ],
                        "iteration": 300,
                        "passed_time": 22.6140943,
                        "remaining_time": 127.6456685,
                        "test": [
                          2.729289764,
                          3.315414191
                        ]
                      },
                      {
                        "learn": [
                          2.792468159,
                          3.367917083
                        ],
                        "iteration": 305,
                        "passed_time": 23.28890714,
                        "remaining_time": 128.9261722,
                        "test": [
                          2.725817222,
                          3.314238039
                        ]
                      },
                      {
                        "learn": [
                          2.789445422,
                          3.366991225
                        ],
                        "iteration": 310,
                        "passed_time": 23.66995694,
                        "remaining_time": 128.5484157,
                        "test": [
                          2.722496937,
                          3.313018345
                        ]
                      },
                      {
                        "learn": [
                          2.78657252,
                          3.366126442
                        ],
                        "iteration": 315,
                        "passed_time": 24.06001591,
                        "remaining_time": 128.2185658,
                        "test": [
                          2.719171203,
                          3.311816117
                        ]
                      },
                      {
                        "learn": [
                          2.783650581,
                          3.365312166
                        ],
                        "iteration": 320,
                        "passed_time": 24.43393877,
                        "remaining_time": 127.8024398,
                        "test": [
                          2.716013164,
                          3.310716219
                        ]
                      },
                      {
                        "learn": [
                          2.781041328,
                          3.364643798
                        ],
                        "iteration": 325,
                        "passed_time": 24.78376302,
                        "remaining_time": 127.2638629,
                        "test": [
                          2.713033716,
                          3.309887764
                        ]
                      },
                      {
                        "learn": [
                          2.778464767,
                          3.36396684
                        ],
                        "iteration": 330,
                        "passed_time": 25.13877907,
                        "remaining_time": 126.757167,
                        "test": [
                          2.710249507,
                          3.309025805
                        ]
                      },
                      {
                        "learn": [
                          2.776019879,
                          3.363301625
                        ],
                        "iteration": 335,
                        "passed_time": 25.49870978,
                        "remaining_time": 126.2793246,
                        "test": [
                          2.707587286,
                          3.308165085
                        ]
                      },
                      {
                        "learn": [
                          2.774023891,
                          3.36282243
                        ],
                        "iteration": 340,
                        "passed_time": 25.83376199,
                        "remaining_time": 125.6839036,
                        "test": [
                          2.705386677,
                          3.307599749
                        ]
                      },
                      {
                        "learn": [
                          2.772001872,
                          3.362299054
                        ],
                        "iteration": 345,
                        "passed_time": 26.20284307,
                        "remaining_time": 125.2586776,
                        "test": [
                          2.70308739,
                          3.306889329
                        ]
                      },
                      {
                        "learn": [
                          2.770261967,
                          3.361899851
                        ],
                        "iteration": 350,
                        "passed_time": 26.52402151,
                        "remaining_time": 124.6100042,
                        "test": [
                          2.701229737,
                          3.30645762
                        ]
                      },
                      {
                        "learn": [
                          2.768496332,
                          3.361438106
                        ],
                        "iteration": 355,
                        "passed_time": 26.85265354,
                        "remaining_time": 124.0049506,
                        "test": [
                          2.699248585,
                          3.305934111
                        ]
                      },
                      {
                        "learn": [
                          2.766843906,
                          3.361026372
                        ],
                        "iteration": 360,
                        "passed_time": 27.20362304,
                        "remaining_time": 123.50897,
                        "test": [
                          2.6975332,
                          3.305459787
                        ]
                      },
                      {
                        "learn": [
                          2.765137903,
                          3.360581441
                        ],
                        "iteration": 365,
                        "passed_time": 27.54399986,
                        "remaining_time": 122.9696606,
                        "test": [
                          2.695731546,
                          3.304963048
                        ]
                      },
                      {
                        "learn": [
                          2.763573865,
                          3.360177169
                        ],
                        "iteration": 370,
                        "passed_time": 27.87830011,
                        "remaining_time": 122.409032,
                        "test": [
                          2.694103944,
                          3.304464768
                        ]
                      },
                      {
                        "learn": [
                          2.761883602,
                          3.359790688
                        ],
                        "iteration": 375,
                        "passed_time": 28.24016637,
                        "remaining_time": 121.9734845,
                        "test": [
                          2.692326203,
                          3.303992615
                        ]
                      },
                      {
                        "learn": [
                          2.760533268,
                          3.35941984
                        ],
                        "iteration": 380,
                        "passed_time": 28.55926181,
                        "remaining_time": 121.358123,
                        "test": [
                          2.690861755,
                          3.303554663
                        ]
                      },
                      {
                        "learn": [
                          2.759019478,
                          3.359006597
                        ],
                        "iteration": 385,
                        "passed_time": 28.90086426,
                        "remaining_time": 120.8445464,
                        "test": [
                          2.68919238,
                          3.303008517
                        ]
                      },
                      {
                        "learn": [
                          2.757631307,
                          3.358646297
                        ],
                        "iteration": 390,
                        "passed_time": 29.24976746,
                        "remaining_time": 120.3654114,
                        "test": [
                          2.687774546,
                          3.302593349
                        ]
                      },
                      {
                        "learn": [
                          2.756319719,
                          3.358322913
                        ],
                        "iteration": 395,
                        "passed_time": 29.57236946,
                        "remaining_time": 119.7830318,
                        "test": [
                          2.686395761,
                          3.302205261
                        ]
                      },
                      {
                        "learn": [
                          2.75498452,
                          3.357935137
                        ],
                        "iteration": 400,
                        "passed_time": 29.90605461,
                        "remaining_time": 119.251325,
                        "test": [
                          2.685088109,
                          3.301755338
                        ]
                      },
                      {
                        "learn": [
                          2.753534599,
                          3.35749196
                        ],
                        "iteration": 405,
                        "passed_time": 30.28434052,
                        "remaining_time": 118.8996029,
                        "test": [
                          2.683401481,
                          3.301144158
                        ]
                      },
                      {
                        "learn": [
                          2.752384651,
                          3.357161612
                        ],
                        "iteration": 410,
                        "passed_time": 30.62230561,
                        "remaining_time": 118.391347,
                        "test": [
                          2.682275144,
                          3.300770573
                        ]
                      },
                      {
                        "learn": [
                          2.75106156,
                          3.356787949
                        ],
                        "iteration": 415,
                        "passed_time": 30.96565467,
                        "remaining_time": 117.9076851,
                        "test": [
                          2.68090211,
                          3.300323206
                        ]
                      },
                      {
                        "learn": [
                          2.750084755,
                          3.356493606
                        ],
                        "iteration": 420,
                        "passed_time": 31.30094832,
                        "remaining_time": 117.3971435,
                        "test": [
                          2.679913501,
                          3.300007316
                        ]
                      },
                      {
                        "learn": [
                          2.748809491,
                          3.356151255
                        ],
                        "iteration": 425,
                        "passed_time": 31.6347519,
                        "remaining_time": 116.8852101,
                        "test": [
                          2.678512316,
                          3.299583514
                        ]
                      },
                      {
                        "learn": [
                          2.747690418,
                          3.355887704
                        ],
                        "iteration": 430,
                        "passed_time": 31.97049868,
                        "remaining_time": 116.3844836,
                        "test": [
                          2.677384164,
                          3.29929526
                        ]
                      },
                      {
                        "learn": [
                          2.74651353,
                          3.355560085
                        ],
                        "iteration": 435,
                        "passed_time": 32.32205817,
                        "remaining_time": 115.9442637,
                        "test": [
                          2.67610436,
                          3.298865494
                        ]
                      },
                      {
                        "learn": [
                          2.745298502,
                          3.355177763
                        ],
                        "iteration": 440,
                        "passed_time": 32.66407522,
                        "remaining_time": 115.4723203,
                        "test": [
                          2.674804579,
                          3.298364274
                        ]
                      },
                      {
                        "learn": [
                          2.744293849,
                          3.354891579
                        ],
                        "iteration": 445,
                        "passed_time": 32.99320784,
                        "remaining_time": 114.9583968,
                        "test": [
                          2.673687021,
                          3.298000837
                        ]
                      },
                      {
                        "learn": [
                          2.743235013,
                          3.354563142
                        ],
                        "iteration": 450,
                        "passed_time": 33.34357214,
                        "remaining_time": 114.5214928,
                        "test": [
                          2.672505897,
                          3.297591464
                        ]
                      },
                      {
                        "learn": [
                          2.742091119,
                          3.354222218
                        ],
                        "iteration": 455,
                        "passed_time": 33.76884735,
                        "remaining_time": 114.3401323,
                        "test": [
                          2.67129087,
                          3.29715101
                        ]
                      },
                      {
                        "learn": [
                          2.741182119,
                          3.353946603
                        ],
                        "iteration": 460,
                        "passed_time": 34.25571288,
                        "remaining_time": 114.3590935,
                        "test": [
                          2.670296813,
                          3.296839407
                        ]
                      },
                      {
                        "learn": [
                          2.740221054,
                          3.353664285
                        ],
                        "iteration": 465,
                        "passed_time": 34.92125056,
                        "remaining_time": 114.9553613,
                        "test": [
                          2.669300636,
                          3.296489208
                        ]
                      },
                      {
                        "learn": [
                          2.739182499,
                          3.353323812
                        ],
                        "iteration": 470,
                        "passed_time": 35.56425077,
                        "remaining_time": 115.4516761,
                        "test": [
                          2.668075318,
                          3.296076341
                        ]
                      },
                      {
                        "learn": [
                          2.738211748,
                          3.353011109
                        ],
                        "iteration": 475,
                        "passed_time": 36.34396881,
                        "remaining_time": 116.3617825,
                        "test": [
                          2.667090342,
                          3.295715591
                        ]
                      },
                      {
                        "learn": [
                          2.737281256,
                          3.35269928
                        ],
                        "iteration": 480,
                        "passed_time": 36.845907,
                        "remaining_time": 116.3595275,
                        "test": [
                          2.666020913,
                          3.29533588
                        ]
                      },
                      {
                        "learn": [
                          2.736413119,
                          3.35241758
                        ],
                        "iteration": 485,
                        "passed_time": 37.25943725,
                        "remaining_time": 116.0715802,
                        "test": [
                          2.665112519,
                          3.295011795
                        ]
                      },
                      {
                        "learn": [
                          2.735428141,
                          3.352119241
                        ],
                        "iteration": 490,
                        "passed_time": 37.62081258,
                        "remaining_time": 115.6207865,
                        "test": [
                          2.664034614,
                          3.294635861
                        ]
                      },
                      {
                        "learn": [
                          2.734717105,
                          3.351873073
                        ],
                        "iteration": 495,
                        "passed_time": 37.9612873,
                        "remaining_time": 115.1084195,
                        "test": [
                          2.663270606,
                          3.294354709
                        ]
                      },
                      {
                        "learn": [
                          2.734096575,
                          3.351641518
                        ],
                        "iteration": 500,
                        "passed_time": 38.26702445,
                        "remaining_time": 114.4955482,
                        "test": [
                          2.662651893,
                          3.29409816
                        ]
                      },
                      {
                        "learn": [
                          2.733331961,
                          3.351401999
                        ],
                        "iteration": 505,
                        "passed_time": 38.61485169,
                        "remaining_time": 114.0130206,
                        "test": [
                          2.661770742,
                          3.293806302
                        ]
                      },
                      {
                        "learn": [
                          2.732590958,
                          3.351168785
                        ],
                        "iteration": 510,
                        "passed_time": 38.93588396,
                        "remaining_time": 113.4550513,
                        "test": [
                          2.661036096,
                          3.293538682
                        ]
                      },
                      {
                        "learn": [
                          2.731981022,
                          3.350931942
                        ],
                        "iteration": 515,
                        "passed_time": 39.28470415,
                        "remaining_time": 112.981591,
                        "test": [
                          2.660281472,
                          3.293303577
                        ]
                      },
                      {
                        "learn": [
                          2.731328709,
                          3.350697793
                        ],
                        "iteration": 520,
                        "passed_time": 39.62887483,
                        "remaining_time": 112.4973241,
                        "test": [
                          2.65954168,
                          3.29299786
                        ]
                      },
                      {
                        "learn": [
                          2.730557436,
                          3.350430922
                        ],
                        "iteration": 525,
                        "passed_time": 39.99427407,
                        "remaining_time": 112.0752091,
                        "test": [
                          2.65852825,
                          3.292653872
                        ]
                      },
                      {
                        "learn": [
                          2.73006192,
                          3.350250406
                        ],
                        "iteration": 530,
                        "passed_time": 40.33574987,
                        "remaining_time": 111.5879784,
                        "test": [
                          2.658057556,
                          3.292469085
                        ]
                      },
                      {
                        "learn": [
                          2.729495875,
                          3.350058496
                        ],
                        "iteration": 535,
                        "passed_time": 40.66611532,
                        "remaining_time": 111.0731209,
                        "test": [
                          2.657531166,
                          3.292279875
                        ]
                      },
                      {
                        "learn": [
                          2.729094801,
                          3.349882116
                        ],
                        "iteration": 540,
                        "passed_time": 41.00125086,
                        "remaining_time": 110.5745379,
                        "test": [
                          2.657022634,
                          3.292063254
                        ]
                      },
                      {
                        "learn": [
                          2.728477601,
                          3.349628916
                        ],
                        "iteration": 545,
                        "passed_time": 41.35295111,
                        "remaining_time": 110.1230603,
                        "test": [
                          2.656375771,
                          3.291753376
                        ]
                      },
                      {
                        "learn": [
                          2.727851925,
                          3.349408412
                        ],
                        "iteration": 550,
                        "passed_time": 41.70549419,
                        "remaining_time": 109.6756099,
                        "test": [
                          2.655627201,
                          3.291476944
                        ]
                      },
                      {
                        "learn": [
                          2.72719719,
                          3.349140173
                        ],
                        "iteration": 555,
                        "passed_time": 42.08198272,
                        "remaining_time": 109.2920558,
                        "test": [
                          2.65491677,
                          3.291212997
                        ]
                      },
                      {
                        "learn": [
                          2.726699556,
                          3.348944584
                        ],
                        "iteration": 560,
                        "passed_time": 42.43318558,
                        "remaining_time": 108.8437684,
                        "test": [
                          2.654463935,
                          3.290996306
                        ]
                      },
                      {
                        "learn": [
                          2.726069945,
                          3.348728012
                        ],
                        "iteration": 565,
                        "passed_time": 42.75416583,
                        "remaining_time": 108.3206251,
                        "test": [
                          2.653731408,
                          3.290759547
                        ]
                      },
                      {
                        "learn": [
                          2.725536895,
                          3.348490815
                        ],
                        "iteration": 570,
                        "passed_time": 43.10223129,
                        "remaining_time": 107.8688065,
                        "test": [
                          2.653058513,
                          3.29051854
                        ]
                      },
                      {
                        "learn": [
                          2.72496631,
                          3.348276384
                        ],
                        "iteration": 575,
                        "passed_time": 43.43535745,
                        "remaining_time": 107.3818559,
                        "test": [
                          2.652408924,
                          3.290298859
                        ]
                      },
                      {
                        "learn": [
                          2.72448714,
                          3.348083095
                        ],
                        "iteration": 580,
                        "passed_time": 43.77156978,
                        "remaining_time": 106.9050904,
                        "test": [
                          2.651974554,
                          3.290095724
                        ]
                      },
                      {
                        "learn": [
                          2.724050347,
                          3.347913664
                        ],
                        "iteration": 585,
                        "passed_time": 44.10937485,
                        "remaining_time": 106.4345666,
                        "test": [
                          2.651573178,
                          3.289929011
                        ]
                      },
                      {
                        "learn": [
                          2.723553923,
                          3.347741331
                        ],
                        "iteration": 590,
                        "passed_time": 44.43066787,
                        "remaining_time": 105.9269222,
                        "test": [
                          2.651092192,
                          3.28975953
                        ]
                      },
                      {
                        "learn": [
                          2.722945501,
                          3.347519798
                        ],
                        "iteration": 595,
                        "passed_time": 44.77570545,
                        "remaining_time": 105.4783397,
                        "test": [
                          2.650442301,
                          3.289490476
                        ]
                      },
                      {
                        "learn": [
                          2.722367954,
                          3.347294453
                        ],
                        "iteration": 600,
                        "passed_time": 45.11702512,
                        "remaining_time": 105.0228255,
                        "test": [
                          2.649750335,
                          3.289252689
                        ]
                      },
                      {
                        "learn": [
                          2.721869714,
                          3.347041961
                        ],
                        "iteration": 605,
                        "passed_time": 45.47720104,
                        "remaining_time": 104.6125714,
                        "test": [
                          2.649065634,
                          3.288947148
                        ]
                      },
                      {
                        "learn": [
                          2.721564292,
                          3.346884778
                        ],
                        "iteration": 610,
                        "passed_time": 45.80620917,
                        "remaining_time": 104.1322824,
                        "test": [
                          2.648774137,
                          3.288794183
                        ]
                      },
                      {
                        "learn": [
                          2.721150505,
                          3.346692132
                        ],
                        "iteration": 615,
                        "passed_time": 46.15538529,
                        "remaining_time": 103.6997617,
                        "test": [
                          2.648279833,
                          3.288589666
                        ]
                      },
                      {
                        "learn": [
                          2.720822986,
                          3.346529142
                        ],
                        "iteration": 620,
                        "passed_time": 46.47331186,
                        "remaining_time": 103.1991901,
                        "test": [
                          2.648001957,
                          3.288433923
                        ]
                      },
                      {
                        "learn": [
                          2.720527856,
                          3.34638098
                        ],
                        "iteration": 625,
                        "passed_time": 46.81616696,
                        "remaining_time": 102.7562514,
                        "test": [
                          2.647724383,
                          3.288285536
                        ]
                      },
                      {
                        "learn": [
                          2.720128598,
                          3.34622666
                        ],
                        "iteration": 630,
                        "passed_time": 47.15930686,
                        "remaining_time": 102.3155168,
                        "test": [
                          2.647306964,
                          3.28811597
                        ]
                      },
                      {
                        "learn": [
                          2.719812279,
                          3.346065458
                        ],
                        "iteration": 635,
                        "passed_time": 47.52207536,
                        "remaining_time": 101.9184132,
                        "test": [
                          2.647012137,
                          3.287943633
                        ]
                      },
                      {
                        "learn": [
                          2.719454188,
                          3.345940977
                        ],
                        "iteration": 640,
                        "passed_time": 47.98731368,
                        "remaining_time": 101.7390941,
                        "test": [
                          2.64667584,
                          3.287829657
                        ]
                      },
                      {
                        "learn": [
                          2.718997115,
                          3.345720411
                        ],
                        "iteration": 645,
                        "passed_time": 48.67001725,
                        "remaining_time": 102.0111507,
                        "test": [
                          2.646002339,
                          3.287564128
                        ]
                      },
                      {
                        "learn": [
                          2.718647499,
                          3.34557547
                        ],
                        "iteration": 650,
                        "passed_time": 49.02798389,
                        "remaining_time": 101.5956225,
                        "test": [
                          2.645632141,
                          3.287387343
                        ]
                      },
                      {
                        "learn": [
                          2.718251268,
                          3.3453737
                        ],
                        "iteration": 655,
                        "passed_time": 49.50501486,
                        "remaining_time": 101.4249085,
                        "test": [
                          2.645049751,
                          3.287165058
                        ]
                      },
                      {
                        "learn": [
                          2.7179407,
                          3.345233269
                        ],
                        "iteration": 660,
                        "passed_time": 50.00814614,
                        "remaining_time": 101.3024322,
                        "test": [
                          2.644706493,
                          3.287051424
                        ]
                      },
                      {
                        "learn": [
                          2.71749967,
                          3.345043242
                        ],
                        "iteration": 665,
                        "passed_time": 50.39524991,
                        "remaining_time": 100.9418369,
                        "test": [
                          2.644167994,
                          3.286859876
                        ]
                      },
                      {
                        "learn": [
                          2.717114033,
                          3.344866418
                        ],
                        "iteration": 670,
                        "passed_time": 50.79578116,
                        "remaining_time": 100.6074414,
                        "test": [
                          2.643661885,
                          3.286653396
                        ]
                      },
                      {
                        "learn": [
                          2.716760785,
                          3.344693203
                        ],
                        "iteration": 675,
                        "passed_time": 51.19381628,
                        "remaining_time": 100.2671786,
                        "test": [
                          2.643144575,
                          3.28649443
                        ]
                      },
                      {
                        "learn": [
                          2.716383019,
                          3.344500069
                        ],
                        "iteration": 680,
                        "passed_time": 51.64214531,
                        "remaining_time": 100.0234797,
                        "test": [
                          2.642569754,
                          3.286268953
                        ]
                      },
                      {
                        "learn": [
                          2.716148731,
                          3.34436485
                        ],
                        "iteration": 685,
                        "passed_time": 51.98717052,
                        "remaining_time": 99.5789243,
                        "test": [
                          2.642201371,
                          3.286118811
                        ]
                      },
                      {
                        "learn": [
                          2.715899611,
                          3.344201748
                        ],
                        "iteration": 690,
                        "passed_time": 52.34587917,
                        "remaining_time": 99.16173058,
                        "test": [
                          2.641990391,
                          3.285978058
                        ]
                      },
                      {
                        "learn": [
                          2.715553628,
                          3.344040448
                        ],
                        "iteration": 695,
                        "passed_time": 52.68900711,
                        "remaining_time": 98.71618574,
                        "test": [
                          2.641543307,
                          3.28578092
                        ]
                      },
                      {
                        "learn": [
                          2.715196142,
                          3.343881493
                        ],
                        "iteration": 700,
                        "passed_time": 53.05051261,
                        "remaining_time": 98.30615675,
                        "test": [
                          2.641087748,
                          3.285591693
                        ]
                      },
                      {
                        "learn": [
                          2.714969724,
                          3.343707685
                        ],
                        "iteration": 705,
                        "passed_time": 53.39662975,
                        "remaining_time": 97.86861033,
                        "test": [
                          2.640827429,
                          3.28542899
                        ]
                      },
                      {
                        "learn": [
                          2.71477509,
                          3.343577142
                        ],
                        "iteration": 710,
                        "passed_time": 53.72388532,
                        "remaining_time": 97.39815496,
                        "test": [
                          2.640643692,
                          3.285294841
                        ]
                      },
                      {
                        "learn": [
                          2.714518402,
                          3.343445145
                        ],
                        "iteration": 715,
                        "passed_time": 54.04345916,
                        "remaining_time": 96.91592398,
                        "test": [
                          2.640439674,
                          3.285190725
                        ]
                      },
                      {
                        "learn": [
                          2.714125501,
                          3.34327729
                        ],
                        "iteration": 720,
                        "passed_time": 54.4008411,
                        "remaining_time": 96.50301771,
                        "test": [
                          2.640014384,
                          3.285023763
                        ]
                      },
                      {
                        "learn": [
                          2.713748642,
                          3.343109788
                        ],
                        "iteration": 725,
                        "passed_time": 54.76304682,
                        "remaining_time": 96.09934111,
                        "test": [
                          2.639556101,
                          3.284800765
                        ]
                      },
                      {
                        "learn": [
                          2.713347568,
                          3.342910405
                        ],
                        "iteration": 730,
                        "passed_time": 55.11476296,
                        "remaining_time": 95.67802216,
                        "test": [
                          2.639045148,
                          3.284570012
                        ]
                      },
                      {
                        "learn": [
                          2.713049108,
                          3.342734011
                        ],
                        "iteration": 735,
                        "passed_time": 55.46151837,
                        "remaining_time": 95.24912937,
                        "test": [
                          2.638693414,
                          3.284381821
                        ]
                      },
                      {
                        "learn": [
                          2.712901392,
                          3.34262625
                        ],
                        "iteration": 740,
                        "passed_time": 55.78758847,
                        "remaining_time": 94.78619958,
                        "test": [
                          2.63851119,
                          3.284288551
                        ]
                      },
                      {
                        "learn": [
                          2.712663169,
                          3.342491136
                        ],
                        "iteration": 745,
                        "passed_time": 56.16246746,
                        "remaining_time": 94.40715039,
                        "test": [
                          2.638236946,
                          3.28413924
                        ]
                      },
                      {
                        "learn": [
                          2.71228177,
                          3.342307112
                        ],
                        "iteration": 750,
                        "passed_time": 56.5275408,
                        "remaining_time": 94.01184881,
                        "test": [
                          2.637706318,
                          3.283939042
                        ]
                      },
                      {
                        "learn": [
                          2.71204385,
                          3.342157314
                        ],
                        "iteration": 755,
                        "passed_time": 56.877559,
                        "remaining_time": 93.59217381,
                        "test": [
                          2.637383341,
                          3.283757268
                        ]
                      },
                      {
                        "learn": [
                          2.711841043,
                          3.342006422
                        ],
                        "iteration": 760,
                        "passed_time": 57.19927878,
                        "remaining_time": 93.12734088,
                        "test": [
                          2.63718689,
                          3.283613279
                        ]
                      },
                      {
                        "learn": [
                          2.711560139,
                          3.341847008
                        ],
                        "iteration": 765,
                        "passed_time": 57.55946277,
                        "remaining_time": 92.7263408,
                        "test": [
                          2.636705299,
                          3.283448819
                        ]
                      },
                      {
                        "learn": [
                          2.711244426,
                          3.341684508
                        ],
                        "iteration": 770,
                        "passed_time": 57.91597471,
                        "remaining_time": 92.32001675,
                        "test": [
                          2.63629696,
                          3.283239912
                        ]
                      },
                      {
                        "learn": [
                          2.710965339,
                          3.341567836
                        ],
                        "iteration": 775,
                        "passed_time": 58.24025765,
                        "remaining_time": 91.86349917,
                        "test": [
                          2.63602423,
                          3.283106227
                        ]
                      },
                      {
                        "learn": [
                          2.710499185,
                          3.341396262
                        ],
                        "iteration": 780,
                        "passed_time": 58.61078066,
                        "remaining_time": 91.48084716,
                        "test": [
                          2.635393409,
                          3.282906888
                        ]
                      },
                      {
                        "learn": [
                          2.710236443,
                          3.341222325
                        ],
                        "iteration": 785,
                        "passed_time": 58.98100799,
                        "remaining_time": 91.09789274,
                        "test": [
                          2.635038043,
                          3.282734278
                        ]
                      },
                      {
                        "learn": [
                          2.709878957,
                          3.341071934
                        ],
                        "iteration": 790,
                        "passed_time": 59.32230669,
                        "remaining_time": 90.67088343,
                        "test": [
                          2.634534052,
                          3.282570326
                        ]
                      },
                      {
                        "learn": [
                          2.70961561,
                          3.340954878
                        ],
                        "iteration": 795,
                        "passed_time": 59.6986814,
                        "remaining_time": 90.29800553,
                        "test": [
                          2.634122081,
                          3.282415957
                        ]
                      },
                      {
                        "learn": [
                          2.709400998,
                          3.340847966
                        ],
                        "iteration": 800,
                        "passed_time": 60.0465909,
                        "remaining_time": 89.88247502,
                        "test": [
                          2.63394682,
                          3.282334436
                        ]
                      },
                      {
                        "learn": [
                          2.709105565,
                          3.340690672
                        ],
                        "iteration": 805,
                        "passed_time": 60.40181496,
                        "remaining_time": 89.47861918,
                        "test": [
                          2.633628685,
                          3.282191492
                        ]
                      },
                      {
                        "learn": [
                          2.708883688,
                          3.340547869
                        ],
                        "iteration": 810,
                        "passed_time": 60.7464325,
                        "remaining_time": 89.05981288,
                        "test": [
                          2.633354744,
                          3.282021795
                        ]
                      },
                      {
                        "learn": [
                          2.708672405,
                          3.340429344
                        ],
                        "iteration": 815,
                        "passed_time": 61.08928514,
                        "remaining_time": 88.63935492,
                        "test": [
                          2.632971227,
                          3.281897099
                        ]
                      },
                      {
                        "learn": [
                          2.708520148,
                          3.340339814
                        ],
                        "iteration": 820,
                        "passed_time": 61.49246649,
                        "remaining_time": 88.30647745,
                        "test": [
                          2.632813522,
                          3.281800807
                        ]
                      },
                      {
                        "learn": [
                          2.708255288,
                          3.340179053
                        ],
                        "iteration": 825,
                        "passed_time": 61.94687028,
                        "remaining_time": 88.04555171,
                        "test": [
                          2.63252384,
                          3.281673336
                        ]
                      },
                      {
                        "learn": [
                          2.708031292,
                          3.340035321
                        ],
                        "iteration": 830,
                        "passed_time": 62.63238499,
                        "remaining_time": 88.10741042,
                        "test": [
                          2.632268061,
                          3.281571318
                        ]
                      },
                      {
                        "learn": [
                          2.707844225,
                          3.339886871
                        ],
                        "iteration": 835,
                        "passed_time": 63.29422863,
                        "remaining_time": 88.12737096,
                        "test": [
                          2.6320704,
                          3.281453062
                        ]
                      },
                      {
                        "learn": [
                          2.707592986,
                          3.33976361
                        ],
                        "iteration": 840,
                        "passed_time": 63.97102324,
                        "remaining_time": 88.1598287,
                        "test": [
                          2.631729563,
                          3.281326869
                        ]
                      },
                      {
                        "learn": [
                          2.707457983,
                          3.339660829
                        ],
                        "iteration": 845,
                        "passed_time": 64.34337588,
                        "remaining_time": 87.76862383,
                        "test": [
                          2.631546129,
                          3.281220413
                        ]
                      },
                      {
                        "learn": [
                          2.707337206,
                          3.339528859
                        ],
                        "iteration": 850,
                        "passed_time": 64.79552899,
                        "remaining_time": 87.4853852,
                        "test": [
                          2.631425352,
                          3.281108787
                        ]
                      },
                      {
                        "learn": [
                          2.707087178,
                          3.339370778
                        ],
                        "iteration": 855,
                        "passed_time": 65.27834138,
                        "remaining_time": 87.24114783,
                        "test": [
                          2.631041532,
                          3.280990514
                        ]
                      },
                      {
                        "learn": [
                          2.706879225,
                          3.339265265
                        ],
                        "iteration": 860,
                        "passed_time": 65.66110003,
                        "remaining_time": 86.86178041,
                        "test": [
                          2.630791505,
                          3.28088663
                        ]
                      },
                      {
                        "learn": [
                          2.706628591,
                          3.339122038
                        ],
                        "iteration": 865,
                        "passed_time": 65.98556024,
                        "remaining_time": 86.40603384,
                        "test": [
                          2.630449457,
                          3.280723325
                        ]
                      },
                      {
                        "learn": [
                          2.706497826,
                          3.339016699
                        ],
                        "iteration": 870,
                        "passed_time": 66.33766225,
                        "remaining_time": 85.9876242,
                        "test": [
                          2.630206996,
                          3.280628474
                        ]
                      },
                      {
                        "learn": [
                          2.706349807,
                          3.338904286
                        ],
                        "iteration": 875,
                        "passed_time": 66.70333722,
                        "remaining_time": 85.58738703,
                        "test": [
                          2.629973617,
                          3.280503726
                        ]
                      },
                      {
                        "learn": [
                          2.706230544,
                          3.338796401
                        ],
                        "iteration": 880,
                        "passed_time": 67.03077916,
                        "remaining_time": 85.13898057,
                        "test": [
                          2.629773231,
                          3.280383217
                        ]
                      },
                      {
                        "learn": [
                          2.705984148,
                          3.338691596
                        ],
                        "iteration": 885,
                        "passed_time": 67.39434099,
                        "remaining_time": 84.73735425,
                        "test": [
                          2.629406968,
                          3.280263257
                        ]
                      },
                      {
                        "learn": [
                          2.705864583,
                          3.338618339
                        ],
                        "iteration": 890,
                        "passed_time": 67.74987852,
                        "remaining_time": 84.32616754,
                        "test": [
                          2.629297391,
                          3.280215457
                        ]
                      },
                      {
                        "learn": [
                          2.705618792,
                          3.338506818
                        ],
                        "iteration": 895,
                        "passed_time": 68.12245192,
                        "remaining_time": 83.93659254,
                        "test": [
                          2.628970781,
                          3.280099367
                        ]
                      },
                      {
                        "learn": [
                          2.70552314,
                          3.338423584
                        ],
                        "iteration": 900,
                        "passed_time": 68.47033066,
                        "remaining_time": 83.51708479,
                        "test": [
                          2.628845465,
                          3.280004314
                        ]
                      },
                      {
                        "learn": [
                          2.705207427,
                          3.338266175
                        ],
                        "iteration": 905,
                        "passed_time": 68.82312946,
                        "remaining_time": 83.10430865,
                        "test": [
                          2.628406554,
                          3.279860161
                        ]
                      },
                      {
                        "learn": [
                          2.704998263,
                          3.33817296
                        ],
                        "iteration": 910,
                        "passed_time": 69.16316949,
                        "remaining_time": 82.67693915,
                        "test": [
                          2.628094776,
                          3.279789281
                        ]
                      },
                      {
                        "learn": [
                          2.704784558,
                          3.338054533
                        ],
                        "iteration": 915,
                        "passed_time": 69.5061984,
                        "remaining_time": 82.25406011,
                        "test": [
                          2.627806911,
                          3.279695512
                        ]
                      },
                      {
                        "learn": [
                          2.704587199,
                          3.337930117
                        ],
                        "iteration": 920,
                        "passed_time": 69.86711713,
                        "remaining_time": 81.85300693,
                        "test": [
                          2.6274803,
                          3.279552637
                        ]
                      },
                      {
                        "learn": [
                          2.704362598,
                          3.337812951
                        ],
                        "iteration": 925,
                        "passed_time": 70.23483702,
                        "remaining_time": 81.46027534,
                        "test": [
                          2.627121604,
                          3.279394988
                        ]
                      },
                      {
                        "learn": [
                          2.704196114,
                          3.337670206
                        ],
                        "iteration": 930,
                        "passed_time": 70.59632875,
                        "remaining_time": 81.06066105,
                        "test": [
                          2.626893371,
                          3.279248223
                        ]
                      },
                      {
                        "learn": [
                          2.704012679,
                          3.337553393
                        ],
                        "iteration": 935,
                        "passed_time": 70.9333882,
                        "remaining_time": 80.6336806,
                        "test": [
                          2.626604295,
                          3.27916053
                        ]
                      },
                      {
                        "learn": [
                          2.703874952,
                          3.337453991
                        ],
                        "iteration": 940,
                        "passed_time": 71.29973459,
                        "remaining_time": 80.24061522,
                        "test": [
                          2.626418742,
                          3.279040342
                        ]
                      },
                      {
                        "learn": [
                          2.703828337,
                          3.337364199
                        ],
                        "iteration": 945,
                        "passed_time": 71.63428053,
                        "remaining_time": 79.81240135,
                        "test": [
                          2.626393012,
                          3.2789892
                        ]
                      },
                      {
                        "learn": [
                          2.703718457,
                          3.337279303
                        ],
                        "iteration": 950,
                        "passed_time": 72.00124596,
                        "remaining_time": 79.42093271,
                        "test": [
                          2.626188692,
                          3.278891899
                        ]
                      },
                      {
                        "learn": [
                          2.703608276,
                          3.337197671
                        ],
                        "iteration": 955,
                        "passed_time": 72.35343038,
                        "remaining_time": 79.01357878,
                        "test": [
                          2.62607851,
                          3.278805305
                        ]
                      },
                      {
                        "learn": [
                          2.703440581,
                          3.337075218
                        ],
                        "iteration": 960,
                        "passed_time": 72.70223124,
                        "remaining_time": 78.60314075,
                        "test": [
                          2.625832417,
                          3.278696182
                        ]
                      },
                      {
                        "learn": [
                          2.703253817,
                          3.336939698
                        ],
                        "iteration": 965,
                        "passed_time": 73.07072047,
                        "remaining_time": 78.21441508,
                        "test": [
                          2.625388058,
                          3.278533321
                        ]
                      },
                      {
                        "learn": [
                          2.703012869,
                          3.336847172
                        ],
                        "iteration": 970,
                        "passed_time": 73.43542986,
                        "remaining_time": 77.8218922,
                        "test": [
                          2.625089598,
                          3.278427882
                        ]
                      },
                      {
                        "learn": [
                          2.702804311,
                          3.336719989
                        ],
                        "iteration": 975,
                        "passed_time": 73.77391492,
                        "remaining_time": 77.40214024,
                        "test": [
                          2.624646752,
                          3.278314683
                        ]
                      },
                      {
                        "learn": [
                          2.702676573,
                          3.33663798
                        ],
                        "iteration": 980,
                        "passed_time": 74.10722255,
                        "remaining_time": 76.97783871,
                        "test": [
                          2.624476334,
                          3.278214039
                        ]
                      },
                      {
                        "learn": [
                          2.702487992,
                          3.336527482
                        ],
                        "iteration": 985,
                        "passed_time": 74.45194227,
                        "remaining_time": 76.56619621,
                        "test": [
                          2.624183323,
                          3.27810545
                        ]
                      },
                      {
                        "learn": [
                          2.702324233,
                          3.336408452
                        ],
                        "iteration": 990,
                        "passed_time": 74.81232929,
                        "remaining_time": 76.17118088,
                        "test": [
                          2.623876994,
                          3.278007384
                        ]
                      },
                      {
                        "learn": [
                          2.702137771,
                          3.336292684
                        ],
                        "iteration": 995,
                        "passed_time": 75.15841975,
                        "remaining_time": 75.76210184,
                        "test": [
                          2.623557345,
                          3.277917811
                        ]
                      },
                      {
                        "learn": [
                          2.701995806,
                          3.336196147
                        ],
                        "iteration": 1000,
                        "passed_time": 75.75243908,
                        "remaining_time": 75.60108556,
                        "test": [
                          2.623423251,
                          3.277852616
                        ]
                      },
                      {
                        "learn": [
                          2.701815398,
                          3.336101059
                        ],
                        "iteration": 1005,
                        "passed_time": 76.46820842,
                        "remaining_time": 75.55606279,
                        "test": [
                          2.623182606,
                          3.277758236
                        ]
                      },
                      {
                        "learn": [
                          2.701644374,
                          3.335958241
                        ],
                        "iteration": 1010,
                        "passed_time": 76.94319802,
                        "remaining_time": 75.26886533,
                        "test": [
                          2.622978891,
                          3.277609921
                        ]
                      },
                      {
                        "learn": [
                          2.701361049,
                          3.335830843
                        ],
                        "iteration": 1015,
                        "passed_time": 77.41829109,
                        "remaining_time": 74.97991971,
                        "test": [
                          2.622512737,
                          3.277491707
                        ]
                      },
                      {
                        "learn": [
                          2.701216965,
                          3.335731389
                        ],
                        "iteration": 1020,
                        "passed_time": 77.97032835,
                        "remaining_time": 74.76292993,
                        "test": [
                          2.622356546,
                          3.27739547
                        ]
                      },
                      {
                        "learn": [
                          2.701064406,
                          3.335641551
                        ],
                        "iteration": 1025,
                        "passed_time": 78.52341307,
                        "remaining_time": 74.54366893,
                        "test": [
                          2.622215489,
                          3.277294243
                        ]
                      },
                      {
                        "learn": [
                          2.700934548,
                          3.335567683
                        ],
                        "iteration": 1030,
                        "passed_time": 79.0736261,
                        "remaining_time": 74.31847109,
                        "test": [
                          2.622055362,
                          3.277224971
                        ]
                      },
                      {
                        "learn": [
                          2.700735979,
                          3.335430831
                        ],
                        "iteration": 1035,
                        "passed_time": 79.44674419,
                        "remaining_time": 73.92534884,
                        "test": [
                          2.621728146,
                          3.277073491
                        ]
                      },
                      {
                        "learn": [
                          2.700546793,
                          3.335321927
                        ],
                        "iteration": 1040,
                        "passed_time": 79.78304626,
                        "remaining_time": 73.49850275,
                        "test": [
                          2.621443308,
                          3.276986109
                        ]
                      },
                      {
                        "learn": [
                          2.700421476,
                          3.335208481
                        ],
                        "iteration": 1045,
                        "passed_time": 80.13325489,
                        "remaining_time": 73.0852057,
                        "test": [
                          2.621335246,
                          3.276898171
                        ]
                      },
                      {
                        "learn": [
                          2.700304332,
                          3.335117177
                        ],
                        "iteration": 1050,
                        "passed_time": 80.48273931,
                        "remaining_time": 72.671855,
                        "test": [
                          2.621231118,
                          3.276817806
                        ]
                      },
                      {
                        "learn": [
                          2.700217155,
                          3.335055278
                        ],
                        "iteration": 1055,
                        "passed_time": 80.81172494,
                        "remaining_time": 72.24078441,
                        "test": [
                          2.621107617,
                          3.276749447
                        ]
                      },
                      {
                        "learn": [
                          2.700025548,
                          3.334966148
                        ],
                        "iteration": 1060,
                        "passed_time": 81.16823886,
                        "remaining_time": 71.83503891,
                        "test": [
                          2.620792207,
                          3.276674251
                        ]
                      },
                      {
                        "learn": [
                          2.699868448,
                          3.334841979
                        ],
                        "iteration": 1065,
                        "passed_time": 81.55251228,
                        "remaining_time": 71.45407737,
                        "test": [
                          2.620451673,
                          3.27655508
                        ]
                      },
                      {
                        "learn": [
                          2.69977219,
                          3.334761013
                        ],
                        "iteration": 1070,
                        "passed_time": 81.8825839,
                        "remaining_time": 71.02606951,
                        "test": [
                          2.620387198,
                          3.276480803
                        ]
                      },
                      {
                        "learn": [
                          2.699629922,
                          3.334687488
                        ],
                        "iteration": 1075,
                        "passed_time": 82.23202921,
                        "remaining_time": 70.61560873,
                        "test": [
                          2.620216477,
                          3.276392297
                        ]
                      },
                      {
                        "learn": [
                          2.699479784,
                          3.334582009
                        ],
                        "iteration": 1080,
                        "passed_time": 82.59318156,
                        "remaining_time": 70.21566499,
                        "test": [
                          2.6199722,
                          3.276300832
                        ]
                      },
                      {
                        "learn": [
                          2.699342965,
                          3.334493593
                        ],
                        "iteration": 1085,
                        "passed_time": 82.93428871,
                        "remaining_time": 69.79920799,
                        "test": [
                          2.619793004,
                          3.276204561
                        ]
                      },
                      {
                        "learn": [
                          2.699240653,
                          3.334413708
                        ],
                        "iteration": 1090,
                        "passed_time": 83.27449287,
                        "remaining_time": 69.38268929,
                        "test": [
                          2.619592618,
                          3.276119189
                        ]
                      },
                      {
                        "learn": [
                          2.699035424,
                          3.334292968
                        ],
                        "iteration": 1095,
                        "passed_time": 83.6207057,
                        "remaining_time": 68.97182295,
                        "test": [
                          2.619298094,
                          3.276004802
                        ]
                      },
                      {
                        "learn": [
                          2.698886194,
                          3.33419946
                        ],
                        "iteration": 1100,
                        "passed_time": 83.97957733,
                        "remaining_time": 68.57188012,
                        "test": [
                          2.619195479,
                          3.275916468
                        ]
                      },
                      {
                        "learn": [
                          2.698687625,
                          3.334111216
                        ],
                        "iteration": 1105,
                        "passed_time": 84.3167434,
                        "remaining_time": 68.15476365,
                        "test": [
                          2.618856459,
                          3.275842916
                        ]
                      },
                      {
                        "learn": [
                          2.698416408,
                          3.334001905
                        ],
                        "iteration": 1110,
                        "passed_time": 84.67512292,
                        "remaining_time": 67.75534138,
                        "test": [
                          2.618520162,
                          3.275734988
                        ]
                      },
                      {
                        "learn": [
                          2.698318334,
                          3.333939622
                        ],
                        "iteration": 1115,
                        "passed_time": 85.02448332,
                        "remaining_time": 67.3491427,
                        "test": [
                          2.618422088,
                          3.275682316
                        ]
                      },
                      {
                        "learn": [
                          2.698246594,
                          3.333874432
                        ],
                        "iteration": 1120,
                        "passed_time": 85.34920721,
                        "remaining_time": 66.92413304,
                        "test": [
                          2.618319777,
                          3.275623544
                        ]
                      },
                      {
                        "learn": [
                          2.698149428,
                          3.333801614
                        ],
                        "iteration": 1125,
                        "passed_time": 85.68736089,
                        "remaining_time": 66.5104382,
                        "test": [
                          2.618237443,
                          3.275568838
                        ]
                      },
                      {
                        "learn": [
                          2.697988696,
                          3.333717717
                        ],
                        "iteration": 1130,
                        "passed_time": 86.03580246,
                        "remaining_time": 66.10531595,
                        "test": [
                          2.61793414,
                          3.275485113
                        ]
                      },
                      {
                        "learn": [
                          2.697851877,
                          3.333649617
                        ],
                        "iteration": 1135,
                        "passed_time": 86.36692716,
                        "remaining_time": 65.68752206,
                        "test": [
                          2.617774922,
                          3.275418575
                        ]
                      },
                      {
                        "learn": [
                          2.697668745,
                          3.333525218
                        ],
                        "iteration": 1140,
                        "passed_time": 86.73138902,
                        "remaining_time": 65.2955856,
                        "test": [
                          2.617440139,
                          3.275315069
                        ]
                      },
                      {
                        "learn": [
                          2.697503472,
                          3.333423516
                        ],
                        "iteration": 1145,
                        "passed_time": 87.10036072,
                        "remaining_time": 64.90724961,
                        "test": [
                          2.61719344,
                          3.275226901
                        ]
                      },
                      {
                        "learn": [
                          2.697463819,
                          3.333354684
                        ],
                        "iteration": 1150,
                        "passed_time": 87.44252853,
                        "remaining_time": 64.49931079,
                        "test": [
                          2.617058135,
                          3.275164239
                        ]
                      },
                      {
                        "learn": [
                          2.697325788,
                          3.33326351
                        ],
                        "iteration": 1155,
                        "passed_time": 87.79432067,
                        "remaining_time": 64.09896769,
                        "test": [
                          2.616898008,
                          3.275065531
                        ]
                      },
                      {
                        "learn": [
                          2.697228017,
                          3.333203938
                        ],
                        "iteration": 1160,
                        "passed_time": 88.14968143,
                        "remaining_time": 63.70162164,
                        "test": [
                          2.616759373,
                          3.274996951
                        ]
                      },
                      {
                        "learn": [
                          2.697085447,
                          3.333125111
                        ],
                        "iteration": 1165,
                        "passed_time": 88.47554528,
                        "remaining_time": 63.28353753,
                        "test": [
                          2.616595614,
                          3.274908775
                        ]
                      },
                      {
                        "learn": [
                          2.697053058,
                          3.333060632
                        ],
                        "iteration": 1170,
                        "passed_time": 88.79949469,
                        "remaining_time": 62.86488565,
                        "test": [
                          2.616493907,
                          3.27484204
                        ]
                      },
                      {
                        "learn": [
                          2.697027026,
                          3.333005778
                        ],
                        "iteration": 1175,
                        "passed_time": 89.15582205,
                        "remaining_time": 62.46972565,
                        "test": [
                          2.616518123,
                          3.274800261
                        ]
                      },
                      {
                        "learn": [
                          2.696841775,
                          3.332922951
                        ],
                        "iteration": 1180,
                        "passed_time": 89.64898264,
                        "remaining_time": 62.16978559,
                        "test": [
                          2.616297457,
                          3.274735558
                        ]
                      },
                      {
                        "learn": [
                          2.696787592,
                          3.332836307
                        ],
                        "iteration": 1185,
                        "passed_time": 90.29914366,
                        "remaining_time": 61.97597212,
                        "test": [
                          2.616241761,
                          3.274671963
                        ]
                      },
                      {
                        "learn": [
                          2.696668632,
                          3.332740579
                        ],
                        "iteration": 1190,
                        "passed_time": 90.67443183,
                        "remaining_time": 61.59161659,
                        "test": [
                          2.616127946,
                          3.274585996
                        ]
                      },
                      {
                        "learn": [
                          2.696538775,
                          3.332668099
                        ],
                        "iteration": 1195,
                        "passed_time": 91.28908003,
                        "remaining_time": 61.36824444,
                        "test": [
                          2.615949658,
                          3.27452813
                        ]
                      },
                      {
                        "learn": [
                          2.696356551,
                          3.332589623
                        ],
                        "iteration": 1200,
                        "passed_time": 91.8457881,
                        "remaining_time": 61.10306802,
                        "test": [
                          2.615685403,
                          3.274458799
                        ]
                      },
                      {
                        "learn": [
                          2.696227905,
                          3.332520774
                        ],
                        "iteration": 1205,
                        "passed_time": 92.26288297,
                        "remaining_time": 60.74355645,
                        "test": [
                          2.61550318,
                          3.274390761
                        ]
                      },
                      {
                        "learn": [
                          2.696140122,
                          3.332445565
                        ],
                        "iteration": 1210,
                        "passed_time": 92.78638867,
                        "remaining_time": 60.45289898,
                        "test": [
                          2.615365755,
                          3.274293693
                        ]
                      },
                      {
                        "learn": [
                          2.695946396,
                          3.332357455
                        ],
                        "iteration": 1215,
                        "passed_time": 93.23234333,
                        "remaining_time": 60.11032662,
                        "test": [
                          2.615090301,
                          3.274196808
                        ]
                      },
                      {
                        "learn": [
                          2.695806247,
                          3.332248269
                        ],
                        "iteration": 1220,
                        "passed_time": 93.58603919,
                        "remaining_time": 59.7080463,
                        "test": [
                          2.61484784,
                          3.274095297
                        ]
                      },
                      {
                        "learn": [
                          2.695727546,
                          3.332177777
                        ],
                        "iteration": 1225,
                        "passed_time": 93.92767891,
                        "remaining_time": 59.29855096,
                        "test": [
                          2.614785485,
                          3.274022814
                        ]
                      },
                      {
                        "learn": [
                          2.695625537,
                          3.332102742
                        ],
                        "iteration": 1230,
                        "passed_time": 94.2895225,
                        "remaining_time": 58.90222811,
                        "test": [
                          2.614717983,
                          3.273953288
                        ]
                      },
                      {
                        "learn": [
                          2.695519895,
                          3.332038788
                        ],
                        "iteration": 1235,
                        "passed_time": 94.62031236,
                        "remaining_time": 58.48698919,
                        "test": [
                          2.61455937,
                          3.273892636
                        ]
                      },
                      {
                        "learn": [
                          2.69538126,
                          3.331923595
                        ],
                        "iteration": 1240,
                        "passed_time": 94.96084255,
                        "remaining_time": 58.07838799,
                        "test": [
                          2.61428785,
                          3.273776507
                        ]
                      },
                      {
                        "learn": [
                          2.695212052,
                          3.331819663
                        ],
                        "iteration": 1245,
                        "passed_time": 95.32243239,
                        "remaining_time": 57.68307706,
                        "test": [
                          2.614060222,
                          3.273687003
                        ]
                      },
                      {
                        "learn": [
                          2.695031947,
                          3.331743712
                        ],
                        "iteration": 1250,
                        "passed_time": 95.66694114,
                        "remaining_time": 57.27780888,
                        "test": [
                          2.613844399,
                          3.273622463
                        ]
                      },
                      {
                        "learn": [
                          2.694932662,
                          3.331680114
                        ],
                        "iteration": 1255,
                        "passed_time": 96.01687503,
                        "remaining_time": 56.87623807,
                        "test": [
                          2.613693959,
                          3.273564024
                        ]
                      },
                      {
                        "learn": [
                          2.694769205,
                          3.331593075
                        ],
                        "iteration": 1260,
                        "passed_time": 96.39234946,
                        "remaining_time": 56.49004461,
                        "test": [
                          2.613477833,
                          3.273492269
                        ]
                      },
                      {
                        "learn": [
                          2.694670526,
                          3.331500581
                        ],
                        "iteration": 1265,
                        "passed_time": 96.72860227,
                        "remaining_time": 56.08119595,
                        "test": [
                          2.613342225,
                          3.273397949
                        ]
                      },
                      {
                        "learn": [
                          2.694554895,
                          3.331426439
                        ],
                        "iteration": 1270,
                        "passed_time": 97.07611642,
                        "remaining_time": 55.67937755,
                        "test": [
                          2.613174833,
                          3.273315833
                        ]
                      },
                      {
                        "learn": [
                          2.694423525,
                          3.331355567
                        ],
                        "iteration": 1275,
                        "passed_time": 97.42598617,
                        "remaining_time": 55.27932131,
                        "test": [
                          2.613036198,
                          3.273264972
                        ]
                      },
                      {
                        "learn": [
                          2.694338164,
                          3.331284693
                        ],
                        "iteration": 1280,
                        "passed_time": 97.75772882,
                        "remaining_time": 54.86948245,
                        "test": [
                          2.612888482,
                          3.27319099
                        ]
                      },
                      {
                        "learn": [
                          2.694218296,
                          3.331212909
                        ],
                        "iteration": 1285,
                        "passed_time": 98.13118579,
                        "remaining_time": 54.48341108,
                        "test": [
                          2.612722603,
                          3.273123481
                        ]
                      },
                      {
                        "learn": [
                          2.694032137,
                          3.331132218
                        ],
                        "iteration": 1290,
                        "passed_time": 98.52486772,
                        "remaining_time": 54.1085447,
                        "test": [
                          2.612455019,
                          3.273015648
                        ]
                      },
                      {
                        "learn": [
                          2.693996418,
                          3.331072789
                        ],
                        "iteration": 1295,
                        "passed_time": 98.86732419,
                        "remaining_time": 53.70570697,
                        "test": [
                          2.612393572,
                          3.272970886
                        ]
                      },
                      {
                        "learn": [
                          2.69389108,
                          3.33099791
                        ],
                        "iteration": 1300,
                        "passed_time": 99.17002019,
                        "remaining_time": 53.28197088,
                        "test": [
                          2.612257963,
                          3.272899303
                        ]
                      },
                      {
                        "learn": [
                          2.693812681,
                          3.330929936
                        ],
                        "iteration": 1305,
                        "passed_time": 99.5054446,
                        "remaining_time": 52.87655326,
                        "test": [
                          2.612142938,
                          3.272866377
                        ]
                      },
                      {
                        "learn": [
                          2.693759709,
                          3.330853237
                        ],
                        "iteration": 1310,
                        "passed_time": 99.85275504,
                        "remaining_time": 52.47791626,
                        "test": [
                          2.612134463,
                          3.272816064
                        ]
                      },
                      {
                        "learn": [
                          2.693624403,
                          3.330739276
                        ],
                        "iteration": 1315,
                        "passed_time": 100.1900178,
                        "remaining_time": 52.07444696,
                        "test": [
                          2.611882619,
                          3.272727089
                        ]
                      },
                      {
                        "learn": [
                          2.693446417,
                          3.330672751
                        ],
                        "iteration": 1320,
                        "passed_time": 100.5519273,
                        "remaining_time": 51.68414734,
                        "test": [
                          2.611681023,
                          3.27266142
                        ]
                      },
                      {
                        "learn": [
                          2.693363478,
                          3.330613495
                        ],
                        "iteration": 1325,
                        "passed_time": 100.8923146,
                        "remaining_time": 51.2831222,
                        "test": [
                          2.611565392,
                          3.272618133
                        ]
                      },
                      {
                        "learn": [
                          2.693207891,
                          3.330542787
                        ],
                        "iteration": 1330,
                        "passed_time": 101.2594118,
                        "remaining_time": 50.89597783,
                        "test": [
                          2.611343818,
                          3.272550242
                        ]
                      },
                      {
                        "learn": [
                          2.693091353,
                          3.33047535
                        ],
                        "iteration": 1335,
                        "passed_time": 101.632546,
                        "remaining_time": 50.51198393,
                        "test": [
                          2.611225766,
                          3.272479945
                        ]
                      },
                      {
                        "learn": [
                          2.692999333,
                          3.330396641
                        ],
                        "iteration": 1340,
                        "passed_time": 102.0035836,
                        "remaining_time": 50.1270407,
                        "test": [
                          2.61113526,
                          3.27241538
                        ]
                      },
                      {
                        "learn": [
                          2.692854038,
                          3.330339562
                        ],
                        "iteration": 1345,
                        "passed_time": 102.3704704,
                        "remaining_time": 49.74018396,
                        "test": [
                          2.610943955,
                          3.272359325
                        ]
                      },
                      {
                        "learn": [
                          2.692725392,
                          3.330257577
                        ],
                        "iteration": 1350,
                        "passed_time": 102.7106896,
                        "remaining_time": 49.34066438,
                        "test": [
                          2.610782617,
                          3.272288098
                        ]
                      },
                      {
                        "learn": [
                          2.692515017,
                          3.330182862
                        ],
                        "iteration": 1355,
                        "passed_time": 103.0846129,
                        "remaining_time": 48.957589,
                        "test": [
                          2.610531379,
                          3.272225381
                        ]
                      },
                      {
                        "learn": [
                          2.692421181,
                          3.330106691
                        ],
                        "iteration": 1360,
                        "passed_time": 103.7729049,
                        "remaining_time": 48.72217947,
                        "test": [
                          2.610463272,
                          3.272151561
                        ]
                      },
                      {
                        "learn": [
                          2.692305853,
                          3.330038154
                        ],
                        "iteration": 1365,
                        "passed_time": 104.3860816,
                        "remaining_time": 48.44859133,
                        "test": [
                          2.61034855,
                          3.272097906
                        ]
                      },
                      {
                        "learn": [
                          2.692207476,
                          3.329970524
                        ],
                        "iteration": 1370,
                        "passed_time": 105.2241804,
                        "remaining_time": 48.27571808,
                        "test": [
                          2.610136662,
                          3.272026119
                        ]
                      },
                      {
                        "learn": [
                          2.692037966,
                          3.329900711
                        ],
                        "iteration": 1375,
                        "passed_time": 105.991189,
                        "remaining_time": 48.06577177,
                        "test": [
                          2.609905704,
                          3.271943413
                        ]
                      },
                      {
                        "learn": [
                          2.692004366,
                          3.329859078
                        ],
                        "iteration": 1380,
                        "passed_time": 106.4583349,
                        "remaining_time": 47.71738543,
                        "test": [
                          2.60989632,
                          3.271913994
                        ]
                      },
                      {
                        "learn": [
                          2.69188813,
                          3.329767627
                        ],
                        "iteration": 1385,
                        "passed_time": 106.8380454,
                        "remaining_time": 47.32940827,
                        "test": [
                          2.609708345,
                          3.271830176
                        ]
                      },
                      {
                        "learn": [
                          2.691796716,
                          3.329698537
                        ],
                        "iteration": 1390,
                        "passed_time": 107.1946579,
                        "remaining_time": 46.93137792,
                        "test": [
                          2.609566986,
                          3.271755237
                        ]
                      },
                      {
                        "learn": [
                          2.691689561,
                          3.329627264
                        ],
                        "iteration": 1395,
                        "passed_time": 107.5481003,
                        "remaining_time": 46.53227262,
                        "test": [
                          2.60939354,
                          3.271681036
                        ]
                      },
                      {
                        "learn": [
                          2.691592092,
                          3.329575445
                        ],
                        "iteration": 1400,
                        "passed_time": 107.8829207,
                        "remaining_time": 46.1255314,
                        "test": [
                          2.609313325,
                          3.271636996
                        ]
                      },
                      {
                        "learn": [
                          2.691489478,
                          3.329511079
                        ],
                        "iteration": 1405,
                        "passed_time": 108.245138,
                        "remaining_time": 45.73087621,
                        "test": [
                          2.609169242,
                          3.271584628
                        ]
                      },
                      {
                        "learn": [
                          2.69138989,
                          3.329459258
                        ],
                        "iteration": 1410,
                        "passed_time": 108.5905772,
                        "remaining_time": 45.3294472,
                        "test": [
                          2.609044833,
                          3.271539292
                        ]
                      },
                      {
                        "learn": [
                          2.691333588,
                          3.329403799
                        ],
                        "iteration": 1415,
                        "passed_time": 108.944998,
                        "remaining_time": 44.93211781,
                        "test": [
                          2.608962802,
                          3.271504873
                        ]
                      },
                      {
                        "learn": [
                          2.691203731,
                          3.329329611
                        ],
                        "iteration": 1420,
                        "passed_time": 109.2873662,
                        "remaining_time": 44.53017948,
                        "test": [
                          2.608836275,
                          3.271446211
                        ]
                      },
                      {
                        "learn": [
                          2.691116857,
                          3.32926324
                        ],
                        "iteration": 1425,
                        "passed_time": 109.6272275,
                        "remaining_time": 44.12764976,
                        "test": [
                          2.608730028,
                          3.271385513
                        ]
                      },
                      {
                        "learn": [
                          2.691032707,
                          3.329183774
                        ],
                        "iteration": 1430,
                        "passed_time": 109.976554,
                        "remaining_time": 43.72932162,
                        "test": [
                          2.608627414,
                          3.271326849
                        ]
                      },
                      {
                        "learn": [
                          2.690861683,
                          3.329100852
                        ],
                        "iteration": 1435,
                        "passed_time": 110.3399986,
                        "remaining_time": 43.33687969,
                        "test": [
                          2.608336824,
                          3.27125708
                        ]
                      },
                      {
                        "learn": [
                          2.690793879,
                          3.329048843
                        ],
                        "iteration": 1440,
                        "passed_time": 110.6783472,
                        "remaining_time": 42.93490361,
                        "test": [
                          2.608243291,
                          3.271209333
                        ]
                      },
                      {
                        "learn": [
                          2.690741209,
                          3.329007198
                        ],
                        "iteration": 1445,
                        "passed_time": 111.0195728,
                        "remaining_time": 42.5344698,
                        "test": [
                          2.608206967,
                          3.271172875
                        ]
                      },
                      {
                        "learn": [
                          2.69062346,
                          3.328956824
                        ],
                        "iteration": 1450,
                        "passed_time": 111.354167,
                        "remaining_time": 42.131935,
                        "test": [
                          2.608061975,
                          3.271122165
                        ]
                      },
                      {
                        "learn": [
                          2.690499051,
                          3.328868804
                        ],
                        "iteration": 1455,
                        "passed_time": 111.6756145,
                        "remaining_time": 41.72495485,
                        "test": [
                          2.607838888,
                          3.271057389
                        ]
                      },
                      {
                        "learn": [
                          2.69030593,
                          3.328812608
                        ],
                        "iteration": 1460,
                        "passed_time": 112.0452305,
                        "remaining_time": 41.33633074,
                        "test": [
                          2.607620038,
                          3.270995388
                        ]
                      },
                      {
                        "learn": [
                          2.690205132,
                          3.328739134
                        ],
                        "iteration": 1465,
                        "passed_time": 112.3826618,
                        "remaining_time": 40.93611283,
                        "test": [
                          2.607456884,
                          3.270934126
                        ]
                      },
                      {
                        "learn": [
                          2.690147317,
                          3.328699304
                        ],
                        "iteration": 1470,
                        "passed_time": 112.7159829,
                        "remaining_time": 40.5348436,
                        "test": [
                          2.607384842,
                          3.270901737
                        ]
                      },
                      {
                        "learn": [
                          2.690037135,
                          3.328640741
                        ],
                        "iteration": 1475,
                        "passed_time": 113.1002537,
                        "remaining_time": 40.15212258,
                        "test": [
                          2.607297968,
                          3.270862313
                        ]
                      },
                      {
                        "learn": [
                          2.689985071,
                          3.328573083
                        ],
                        "iteration": 1480,
                        "passed_time": 113.4507819,
                        "remaining_time": 39.75756639,
                        "test": [
                          2.607260131,
                          3.270799753
                        ]
                      },
                      {
                        "learn": [
                          2.689919386,
                          3.328509971
                        ],
                        "iteration": 1485,
                        "passed_time": 113.7750942,
                        "remaining_time": 39.35423852,
                        "test": [
                          2.607213213,
                          3.270767547
                        ]
                      },
                      {
                        "learn": [
                          2.689770156,
                          3.328431033
                        ],
                        "iteration": 1490,
                        "passed_time": 114.1485955,
                        "remaining_time": 38.96823282,
                        "test": [
                          2.606989217,
                          3.270699803
                        ]
                      },
                      {
                        "learn": [
                          2.689699022,
                          3.328384288
                        ],
                        "iteration": 1495,
                        "passed_time": 114.4700448,
                        "remaining_time": 38.56477445,
                        "test": [
                          2.606933218,
                          3.270669817
                        ]
                      },
                      {
                        "learn": [
                          2.68959671,
                          3.328332268
                        ],
                        "iteration": 1500,
                        "passed_time": 114.7844316,
                        "remaining_time": 38.15951456,
                        "test": [
                          2.606783685,
                          3.270620211
                        ]
                      },
                      {
                        "learn": [
                          2.689489252,
                          3.32826424
                        ],
                        "iteration": 1505,
                        "passed_time": 115.1351317,
                        "remaining_time": 37.76676963,
                        "test": [
                          2.606613872,
                          3.270577082
                        ]
                      },
                      {
                        "learn": [
                          2.68947442,
                          3.328213127
                        ],
                        "iteration": 1510,
                        "passed_time": 115.4656773,
                        "remaining_time": 37.36778042,
                        "test": [
                          2.606600856,
                          3.270534138
                        ]
                      },
                      {
                        "learn": [
                          2.689354855,
                          3.328153827
                        ],
                        "iteration": 1515,
                        "passed_time": 115.8001053,
                        "remaining_time": 36.97048217,
                        "test": [
                          2.606471605,
                          3.270474718
                        ]
                      },
                      {
                        "learn": [
                          2.689264651,
                          3.328096346
                        ],
                        "iteration": 1520,
                        "passed_time": 116.1755427,
                        "remaining_time": 36.58651215,
                        "test": [
                          2.606401682,
                          3.270414002
                        ]
                      },
                      {
                        "learn": [
                          2.689212284,
                          3.328026494
                        ],
                        "iteration": 1525,
                        "passed_time": 116.5233011,
                        "remaining_time": 36.19400048,
                        "test": [
                          2.606343866,
                          3.270366057
                        ]
                      },
                      {
                        "learn": [
                          2.689107854,
                          3.327940087
                        ],
                        "iteration": 1530,
                        "passed_time": 116.8862774,
                        "remaining_time": 35.80644292,
                        "test": [
                          2.606172237,
                          3.270296638
                        ]
                      },
                      {
                        "learn": [
                          2.689048222,
                          3.327893153
                        ],
                        "iteration": 1535,
                        "passed_time": 117.4522491,
                        "remaining_time": 35.48036692,
                        "test": [
                          2.606085968,
                          3.270243694
                        ]
                      },
                      {
                        "learn": [
                          2.689008871,
                          3.3278293
                        ],
                        "iteration": 1540,
                        "passed_time": 118.2115878,
                        "remaining_time": 35.21033019,
                        "test": [
                          2.606013018,
                          3.27020815
                        ]
                      },
                      {
                        "learn": [
                          2.688914127,
                          3.327793098
                        ],
                        "iteration": 1545,
                        "passed_time": 118.9278169,
                        "remaining_time": 34.92446888,
                        "test": [
                          2.605949452,
                          3.270181863
                        ]
                      },
                      {
                        "learn": [
                          2.688833307,
                          3.327743797
                        ],
                        "iteration": 1550,
                        "passed_time": 119.5246312,
                        "remaining_time": 34.60126332,
                        "test": [
                          2.60581566,
                          3.270129101
                        ]
                      },
                      {
                        "learn": [
                          2.688740681,
                          3.327674483
                        ],
                        "iteration": 1555,
                        "passed_time": 120.0487207,
                        "remaining_time": 34.25554754,
                        "test": [
                          2.605710019,
                          3.270073747
                        ]
                      },
                      {
                        "learn": [
                          2.688637159,
                          3.327635551
                        ],
                        "iteration": 1560,
                        "passed_time": 120.548996,
                        "remaining_time": 33.90199183,
                        "test": [
                          2.60560135,
                          3.270048014
                        ]
                      },
                      {
                        "learn": [
                          2.688592965,
                          3.327567872
                        ],
                        "iteration": 1565,
                        "passed_time": 120.8910481,
                        "remaining_time": 33.50364936,
                        "test": [
                          2.605526887,
                          3.269980625
                        ]
                      },
                      {
                        "learn": [
                          2.688461897,
                          3.327491096
                        ],
                        "iteration": 1570,
                        "passed_time": 121.2498238,
                        "remaining_time": 33.11023195,
                        "test": [
                          2.605368879,
                          3.269912494
                        ]
                      },
                      {
                        "learn": [
                          2.688412255,
                          3.32743706
                        ],
                        "iteration": 1575,
                        "passed_time": 121.5966834,
                        "remaining_time": 32.71382852,
                        "test": [
                          2.60528261,
                          3.269858988
                        ]
                      },
                      {
                        "learn": [
                          2.688355045,
                          3.327372834
                        ],
                        "iteration": 1580,
                        "passed_time": 121.9534988,
                        "remaining_time": 32.32037697,
                        "test": [
                          2.605102808,
                          3.26980474
                        ]
                      },
                      {
                        "learn": [
                          2.688233663,
                          3.327317887
                        ],
                        "iteration": 1585,
                        "passed_time": 122.3292005,
                        "remaining_time": 31.93208639,
                        "test": [
                          2.60490999,
                          3.269750306
                        ]
                      },
                      {
                        "learn": [
                          2.688129838,
                          3.327271308
                        ],
                        "iteration": 1590,
                        "passed_time": 122.6742801,
                        "remaining_time": 31.53600287,
                        "test": [
                          2.604820089,
                          3.269706981
                        ]
                      },
                      {
                        "learn": [
                          2.688045991,
                          3.327219088
                        ],
                        "iteration": 1595,
                        "passed_time": 123.0126696,
                        "remaining_time": 31.13854543,
                        "test": [
                          2.604760155,
                          3.269656619
                        ]
                      },
                      {
                        "learn": [
                          2.68802238,
                          3.327185609
                        ],
                        "iteration": 1600,
                        "passed_time": 123.3372044,
                        "remaining_time": 30.73800409,
                        "test": [
                          2.604739571,
                          3.269636067
                        ]
                      },
                      {
                        "learn": [
                          2.687912198,
                          3.327146852
                        ],
                        "iteration": 1605,
                        "passed_time": 123.66997,
                        "remaining_time": 30.33995529,
                        "test": [
                          2.604626665,
                          3.269599406
                        ]
                      },
                      {
                        "learn": [
                          2.687864675,
                          3.327081347
                        ],
                        "iteration": 1610,
                        "passed_time": 124.0198126,
                        "remaining_time": 29.94643521,
                        "test": [
                          2.604574904,
                          3.269548857
                        ]
                      },
                      {
                        "learn": [
                          2.687773866,
                          3.327034947
                        ],
                        "iteration": 1615,
                        "passed_time": 124.3781848,
                        "remaining_time": 29.55521222,
                        "test": [
                          2.604482884,
                          3.269523119
                        ]
                      },
                      {
                        "learn": [
                          2.687699099,
                          3.326971988
                        ],
                        "iteration": 1620,
                        "passed_time": 124.6961128,
                        "remaining_time": 29.15473582,
                        "test": [
                          2.604465025,
                          3.269469977
                        ]
                      },
                      {
                        "learn": [
                          2.687685175,
                          3.32693887
                        ],
                        "iteration": 1625,
                        "passed_time": 125.0277584,
                        "remaining_time": 28.75792228,
                        "test": [
                          2.60447562,
                          3.269446091
                        ]
                      },
                      {
                        "learn": [
                          2.687584074,
                          3.326869903
                        ],
                        "iteration": 1630,
                        "passed_time": 125.411989,
                        "remaining_time": 28.37340523,
                        "test": [
                          2.604302779,
                          3.269387948
                        ]
                      },
                      {
                        "learn": [
                          2.687498108,
                          3.326818223
                        ],
                        "iteration": 1635,
                        "passed_time": 125.7521453,
                        "remaining_time": 27.97908367,
                        "test": [
                          2.604213484,
                          3.269344618
                        ]
                      },
                      {
                        "learn": [
                          2.687338284,
                          3.326737062
                        ],
                        "iteration": 1640,
                        "passed_time": 126.1276295,
                        "remaining_time": 27.59282083,
                        "test": [
                          2.603973445,
                          3.269260363
                        ]
                      },
                      {
                        "learn": [
                          2.687238696,
                          3.326681922
                        ],
                        "iteration": 1645,
                        "passed_time": 126.4655214,
                        "remaining_time": 27.19853862,
                        "test": [
                          2.603832085,
                          3.269227216
                        ]
                      },
                      {
                        "learn": [
                          2.687149703,
                          3.326618773
                        ],
                        "iteration": 1650,
                        "passed_time": 126.788599,
                        "remaining_time": 26.80146641,
                        "test": [
                          2.603732498,
                          3.269163513
                        ]
                      },
                      {
                        "learn": [
                          2.687007738,
                          3.326567453
                        ],
                        "iteration": 1655,
                        "passed_time": 127.136936,
                        "remaining_time": 26.41008815,
                        "test": [
                          2.603553604,
                          3.269109254
                        ]
                      },
                      {
                        "learn": [
                          2.686913599,
                          3.326494475
                        ],
                        "iteration": 1660,
                        "passed_time": 127.5155719,
                        "remaining_time": 26.02515285,
                        "test": [
                          2.603451898,
                          3.269046475
                        ]
                      },
                      {
                        "learn": [
                          2.68686093,
                          3.326454619
                        ],
                        "iteration": 1665,
                        "passed_time": 127.8467189,
                        "remaining_time": 25.63073476,
                        "test": [
                          2.60339045,
                          3.269017586
                        ]
                      },
                      {
                        "learn": [
                          2.686785861,
                          3.326404024
                        ],
                        "iteration": 1670,
                        "passed_time": 128.1747476,
                        "remaining_time": 25.23608137,
                        "test": [
                          2.603262409,
                          3.268975917
                        ]
                      },
                      {
                        "learn": [
                          2.686629972,
                          3.326327038
                        ],
                        "iteration": 1675,
                        "passed_time": 128.5544031,
                        "remaining_time": 24.85180585,
                        "test": [
                          2.603062327,
                          3.268901098
                        ]
                      },
                      {
                        "learn": [
                          2.686604242,
                          3.326277898
                        ],
                        "iteration": 1680,
                        "passed_time": 128.8824228,
                        "remaining_time": 24.45775899,
                        "test": [
                          2.603050521,
                          3.268866466
                        ]
                      },
                      {
                        "learn": [
                          2.686544611,
                          3.326239495
                        ],
                        "iteration": 1685,
                        "passed_time": 129.1998543,
                        "remaining_time": 24.06213182,
                        "test": [
                          2.602995733,
                          3.26883776
                        ]
                      },
                      {
                        "learn": [
                          2.686447142,
                          3.326190171
                        ],
                        "iteration": 1690,
                        "passed_time": 129.5595625,
                        "remaining_time": 23.67469238,
                        "test": [
                          2.602873141,
                          3.26878331
                        ]
                      },
                      {
                        "learn": [
                          2.686357847,
                          3.326131564
                        ],
                        "iteration": 1695,
                        "passed_time": 129.890267,
                        "remaining_time": 23.28221766,
                        "test": [
                          2.602769316,
                          3.268746269
                        ]
                      },
                      {
                        "learn": [
                          2.686288832,
                          3.32608151
                        ],
                        "iteration": 1700,
                        "passed_time": 130.2162299,
                        "remaining_time": 22.88927263,
                        "test": [
                          2.602679415,
                          3.268721081
                        ]
                      },
                      {
                        "learn": [
                          2.686245849,
                          3.326041467
                        ],
                        "iteration": 1705,
                        "passed_time": 130.5792448,
                        "remaining_time": 22.50310549,
                        "test": [
                          2.602639761,
                          3.268692188
                        ]
                      },
                      {
                        "learn": [
                          2.68623707,
                          3.325984495
                        ],
                        "iteration": 1710,
                        "passed_time": 131.0732472,
                        "remaining_time": 22.13919839,
                        "test": [
                          2.602560455,
                          3.268636254
                        ]
                      },
                      {
                        "learn": [
                          2.686188336,
                          3.325924428
                        ],
                        "iteration": 1715,
                        "passed_time": 131.6238805,
                        "remaining_time": 21.78390564,
                        "test": [
                          2.602407593,
                          3.268574578
                        ]
                      },
                      {
                        "learn": [
                          2.686095408,
                          3.325861083
                        ],
                        "iteration": 1720,
                        "passed_time": 132.3603619,
                        "remaining_time": 21.45760661,
                        "test": [
                          2.602229304,
                          3.268515493
                        ]
                      },
                      {
                        "learn": [
                          2.686034263,
                          3.325813028
                        ],
                        "iteration": 1725,
                        "passed_time": 133.0947688,
                        "remaining_time": 21.12860176,
                        "test": [
                          2.602192375,
                          3.268459741
                        ]
                      },
                      {
                        "learn": [
                          2.685974632,
                          3.325768248
                        ],
                        "iteration": 1730,
                        "passed_time": 133.8360593,
                        "remaining_time": 20.79832464,
                        "test": [
                          2.602167554,
                          3.268423993
                        ]
                      },
                      {
                        "learn": [
                          2.685885336,
                          3.325732934
                        ],
                        "iteration": 1735,
                        "passed_time": 134.3835839,
                        "remaining_time": 20.43621322,
                        "test": [
                          2.602093393,
                          3.26839695
                        ]
                      },
                      {
                        "learn": [
                          2.685838418,
                          3.325689974
                        ],
                        "iteration": 1740,
                        "passed_time": 134.7575438,
                        "remaining_time": 20.04721645,
                        "test": [
                          2.602066756,
                          3.268362312
                        ]
                      },
                      {
                        "learn": [
                          2.685743976,
                          3.325641916
                        ],
                        "iteration": 1745,
                        "passed_time": 135.0739853,
                        "remaining_time": 19.64993829,
                        "test": [
                          2.601971709,
                          3.26833175
                        ]
                      },
                      {
                        "learn": [
                          2.685605038,
                          3.32556109
                        ],
                        "iteration": 1750,
                        "passed_time": 135.4183729,
                        "remaining_time": 19.25709586,
                        "test": [
                          2.601794934,
                          3.268260065
                        ]
                      },
                      {
                        "learn": [
                          2.685553882,
                          3.325526319
                        ],
                        "iteration": 1755,
                        "passed_time": 135.7820297,
                        "remaining_time": 18.86720686,
                        "test": [
                          2.601723497,
                          3.268235243
                        ]
                      },
                      {
                        "learn": [
                          2.685462467,
                          3.325454957
                        ],
                        "iteration": 1760,
                        "passed_time": 136.1323351,
                        "remaining_time": 18.4756548,
                        "test": [
                          2.601600905,
                          3.26818986
                        ]
                      },
                      {
                        "learn": [
                          2.685383161,
                          3.325412904
                        ],
                        "iteration": 1765,
                        "passed_time": 136.4787048,
                        "remaining_time": 18.08381479,
                        "test": [
                          2.60154309,
                          3.268149293
                        ]
                      },
                      {
                        "learn": [
                          2.685350469,
                          3.325368847
                        ],
                        "iteration": 1770,
                        "passed_time": 136.8113581,
                        "remaining_time": 17.69045794,
                        "test": [
                          2.601522506,
                          3.268124285
                        ]
                      },
                      {
                        "learn": [
                          2.685315356,
                          3.325332254
                        ],
                        "iteration": 1775,
                        "passed_time": 137.1364098,
                        "remaining_time": 17.29648412,
                        "test": [
                          2.601513123,
                          3.268100389
                        ]
                      },
                      {
                        "learn": [
                          2.685283573,
                          3.325297845
                        ],
                        "iteration": 1780,
                        "passed_time": 137.4495996,
                        "remaining_time": 16.9014387,
                        "test": [
                          2.601524928,
                          3.268091497
                        ]
                      },
                      {
                        "learn": [
                          2.685187618,
                          3.325237402
                        ],
                        "iteration": 1785,
                        "passed_time": 137.7965406,
                        "remaining_time": 16.51089568,
                        "test": [
                          2.601369644,
                          3.268054818
                        ]
                      },
                      {
                        "learn": [
                          2.685103468,
                          3.325170767
                        ],
                        "iteration": 1790,
                        "passed_time": 138.1245032,
                        "remaining_time": 16.11838144,
                        "test": [
                          2.601140805,
                          3.267993131
                        ]
                      },
                      {
                        "learn": [
                          2.68504081,
                          3.325131623
                        ],
                        "iteration": 1795,
                        "passed_time": 138.4370863,
                        "remaining_time": 15.72447974,
                        "test": [
                          2.601095098,
                          3.267962009
                        ]
                      },
                      {
                        "learn": [
                          2.684924877,
                          3.325072997
                        ],
                        "iteration": 1800,
                        "passed_time": 138.8219686,
                        "remaining_time": 15.33901818,
                        "test": [
                          2.600937393,
                          3.267908286
                        ]
                      },
                      {
                        "learn": [
                          2.68486918,
                          3.325037857
                        ],
                        "iteration": 1805,
                        "passed_time": 139.1501635,
                        "remaining_time": 14.9474705,
                        "test": [
                          2.600894107,
                          3.267888278
                        ]
                      },
                      {
                        "learn": [
                          2.684784728,
                          3.32499416
                        ],
                        "iteration": 1810,
                        "passed_time": 139.507654,
                        "remaining_time": 14.55932998,
                        "test": [
                          2.600769698,
                          3.267852153
                        ]
                      },
                      {
                        "learn": [
                          2.684719648,
                          3.324964846
                        ],
                        "iteration": 1815,
                        "passed_time": 139.8777248,
                        "remaining_time": 14.17263291,
                        "test": [
                          2.600692813,
                          3.267829922
                        ]
                      },
                      {
                        "learn": [
                          2.684658805,
                          3.324916959
                        ],
                        "iteration": 1820,
                        "passed_time": 140.2084764,
                        "remaining_time": 13.78216215,
                        "test": [
                          2.600673441,
                          3.267786756
                        ]
                      },
                      {
                        "learn": [
                          2.684632773,
                          3.324893653
                        ],
                        "iteration": 1825,
                        "passed_time": 140.5317678,
                        "remaining_time": 13.39130755,
                        "test": [
                          2.600661333,
                          3.267773232
                        ]
                      },
                      {
                        "learn": [
                          2.684614612,
                          3.324848315
                        ],
                        "iteration": 1830,
                        "passed_time": 140.9057494,
                        "remaining_time": 13.00550063,
                        "test": [
                          2.600611085,
                          3.267729695
                        ]
                      },
                      {
                        "learn": [
                          2.684549229,
                          3.324799517
                        ],
                        "iteration": 1835,
                        "passed_time": 141.265784,
                        "remaining_time": 12.6185123,
                        "test": [
                          2.600494244,
                          3.267693569
                        ]
                      },
                      {
                        "learn": [
                          2.684513511,
                          3.324753995
                        ],
                        "iteration": 1840,
                        "passed_time": 141.5942722,
                        "remaining_time": 12.22894583,
                        "test": [
                          2.600467001,
                          3.267652995
                        ]
                      },
                      {
                        "learn": [
                          2.684441771,
                          3.324717396
                        ],
                        "iteration": 1845,
                        "passed_time": 141.9540147,
                        "remaining_time": 11.84231759,
                        "test": [
                          2.600401921,
                          3.267620017
                        ]
                      },
                      {
                        "learn": [
                          2.684337643,
                          3.324669142
                        ],
                        "iteration": 1850,
                        "passed_time": 142.303022,
                        "remaining_time": 11.45497043,
                        "test": [
                          2.600247848,
                          3.267574255
                        ]
                      },
                      {
                        "learn": [
                          2.684282552,
                          3.324626714
                        ],
                        "iteration": 1855,
                        "passed_time": 142.6455391,
                        "remaining_time": 11.06732631,
                        "test": [
                          2.600176412,
                          3.267539423
                        ]
                      },
                      {
                        "learn": [
                          2.684253796,
                          3.324585925
                        ],
                        "iteration": 1860,
                        "passed_time": 142.9942145,
                        "remaining_time": 10.68038464,
                        "test": [
                          2.600159158,
                          3.26752071
                        ]
                      },
                      {
                        "learn": [
                          2.68420597,
                          3.324549141
                        ],
                        "iteration": 1865,
                        "passed_time": 143.3138325,
                        "remaining_time": 10.29156139,
                        "test": [
                          2.600098013,
                          3.267485322
                        ]
                      },
                      {
                        "learn": [
                          2.684101237,
                          3.324513996
                        ],
                        "iteration": 1870,
                        "passed_time": 143.6530373,
                        "remaining_time": 9.90445848,
                        "test": [
                          2.600001453,
                          3.267459383
                        ]
                      },
                      {
                        "learn": [
                          2.684028892,
                          3.3244814
                        ],
                        "iteration": 1875,
                        "passed_time": 144.0129281,
                        "remaining_time": 9.51897819,
                        "test": [
                          2.599907011,
                          3.267436409
                        ]
                      },
                      {
                        "learn": [
                          2.684001649,
                          3.32443988
                        ],
                        "iteration": 1880,
                        "passed_time": 144.3454732,
                        "remaining_time": 9.131903938,
                        "test": [
                          2.599860699,
                          3.267400464
                        ]
                      },
                      {
                        "learn": [
                          2.683948677,
                          3.324399271
                        ],
                        "iteration": 1885,
                        "passed_time": 144.7157783,
                        "remaining_time": 8.747401235,
                        "test": [
                          2.599861304,
                          3.267372486
                        ]
                      },
                      {
                        "learn": [
                          2.683866646,
                          3.324363213
                        ],
                        "iteration": 1890,
                        "passed_time": 145.2168675,
                        "remaining_time": 8.370512196,
                        "test": [
                          2.599745674,
                          3.267343026
                        ]
                      },
                      {
                        "learn": [
                          2.683840614,
                          3.324318232
                        ],
                        "iteration": 1895,
                        "passed_time": 145.9841607,
                        "remaining_time": 8.007569994,
                        "test": [
                          2.599689372,
                          3.267310971
                        ]
                      },
                      {
                        "learn": [
                          2.683751924,
                          3.324273433
                        ],
                        "iteration": 1900,
                        "passed_time": 146.702248,
                        "remaining_time": 7.63993822,
                        "test": [
                          2.599542261,
                          3.267275395
                        ]
                      },
                      {
                        "learn": [
                          2.683699557,
                          3.324229907
                        ],
                        "iteration": 1905,
                        "passed_time": 147.4767858,
                        "remaining_time": 7.273251765,
                        "test": [
                          2.599450241,
                          3.267235928
                        ]
                      },
                      {
                        "learn": [
                          2.683606023,
                          3.324175636
                        ],
                        "iteration": 1910,
                        "passed_time": 148.0508797,
                        "remaining_time": 6.895095915,
                        "test": [
                          2.599347022,
                          3.267200537
                        ]
                      },
                      {
                        "learn": [
                          2.683556986,
                          3.324146315
                        ],
                        "iteration": 1915,
                        "passed_time": 148.5495756,
                        "remaining_time": 6.512611874,
                        "test": [
                          2.599311909,
                          3.267179043
                        ]
                      },
                      {
                        "learn": [
                          2.683493723,
                          3.32410042
                        ],
                        "iteration": 1920,
                        "passed_time": 148.9041323,
                        "remaining_time": 6.123595238,
                        "test": [
                          2.599198397,
                          3.267132904
                        ]
                      },
                      {
                        "learn": [
                          2.683465572,
                          3.324060353
                        ],
                        "iteration": 1925,
                        "passed_time": 149.26213,
                        "remaining_time": 5.73488973,
                        "test": [
                          2.599138161,
                          3.267101403
                        ]
                      },
                      {
                        "learn": [
                          2.683341466,
                          3.324013911
                        ],
                        "iteration": 1930,
                        "passed_time": 149.5947254,
                        "remaining_time": 5.345435553,
                        "test": [
                          2.599018898,
                          3.267069161
                        ]
                      },
                      {
                        "learn": [
                          2.68326004,
                          3.323981856
                        ],
                        "iteration": 1935,
                        "passed_time": 149.9598175,
                        "remaining_time": 4.95734934,
                        "test": [
                          2.598935354,
                          3.267039698
                        ]
                      },
                      {
                        "learn": [
                          2.683223111,
                          3.323939966
                        ],
                        "iteration": 1940,
                        "passed_time": 150.3238319,
                        "remaining_time": 4.569348831,
                        "test": [
                          2.598910835,
                          3.266997077
                        ]
                      },
                      {
                        "learn": [
                          2.683157123,
                          3.323886783
                        ],
                        "iteration": 1945,
                        "passed_time": 150.6748715,
                        "remaining_time": 4.181111542,
                        "test": [
                          2.598820329,
                          3.266947415
                        ]
                      },
                      {
                        "learn": [
                          2.683122918,
                          3.323848535
                        ],
                        "iteration": 1950,
                        "passed_time": 150.9895796,
                        "remaining_time": 3.792152435,
                        "test": [
                          2.598800048,
                          3.266928328
                        ]
                      },
                      {
                        "learn": [
                          2.683083568,
                          3.323821396
                        ],
                        "iteration": 1955,
                        "passed_time": 151.3464355,
                        "remaining_time": 3.404521045,
                        "test": [
                          2.59873739,
                          3.266906276
                        ]
                      },
                      {
                        "learn": [
                          2.683028477,
                          3.323787154
                        ],
                        "iteration": 1960,
                        "passed_time": 151.6604348,
                        "remaining_time": 3.016194267,
                        "test": [
                          2.598689563,
                          3.266882742
                        ]
                      },
                      {
                        "learn": [
                          2.682940997,
                          3.323743622
                        ],
                        "iteration": 1965,
                        "passed_time": 152.0379599,
                        "remaining_time": 2.629344169,
                        "test": [
                          2.598574539,
                          3.266839193
                        ]
                      },
                      {
                        "learn": [
                          2.682862296,
                          3.323693533
                        ],
                        "iteration": 1970,
                        "passed_time": 152.3986673,
                        "remaining_time": 2.242293939,
                        "test": [
                          2.598527318,
                          3.266798609
                        ]
                      },
                      {
                        "learn": [
                          2.682809929,
                          3.323671675
                        ],
                        "iteration": 1975,
                        "passed_time": 152.7525492,
                        "remaining_time": 1.85529412,
                        "test": [
                          2.598490389,
                          3.266783783
                        ]
                      },
                      {
                        "learn": [
                          2.682742427,
                          3.323641074
                        ],
                        "iteration": 1980,
                        "passed_time": 153.1000955,
                        "remaining_time": 1.468400714,
                        "test": [
                          2.59838172,
                          3.266750796
                        ]
                      },
                      {
                        "learn": [
                          2.682591684,
                          3.323588797
                        ],
                        "iteration": 1985,
                        "passed_time": 153.4736346,
                        "remaining_time": 1.081888663,
                        "test": [
                          2.598212815,
                          3.266716697
                        ]
                      },
                      {
                        "learn": [
                          2.682580787,
                          3.323559471
                        ],
                        "iteration": 1990,
                        "passed_time": 153.7841063,
                        "remaining_time": 0.6951566835,
                        "test": [
                          2.598215842,
                          3.266705763
                        ]
                      },
                      {
                        "learn": [
                          2.682527815,
                          3.323508832
                        ],
                        "iteration": 1995,
                        "passed_time": 154.1497481,
                        "remaining_time": 0.3089173309,
                        "test": [
                          2.598108688,
                          3.266658691
                        ]
                      },
                      {
                        "learn": [
                          2.682494821,
                          3.323459468
                        ],
                        "iteration": 1999,
                        "passed_time": 154.4377577,
                        "remaining_time": 0,
                        "test": [
                          2.598031197,
                          3.266628483
                        ]
                      }
                    ],
                    "meta": {
                      "test_sets": [
                        "test"
                      ],
                      "test_metrics": [
                        {
                          "best_value": "Min",
                          "name": "MAE"
                        },
                        {
                          "best_value": "Min",
                          "name": "RMSE"
                        }
                      ],
                      "learn_metrics": [
                        {
                          "best_value": "Min",
                          "name": "MAE"
                        },
                        {
                          "best_value": "Min",
                          "name": "RMSE"
                        }
                      ],
                      "launch_mode": "Train",
                      "parameters": "",
                      "iteration_count": 2000,
                      "learn_sets": [
                        "learn"
                      ],
                      "name": "experiment"
                    }
                  }
                }
              }
            },
            "layout": "IPY_MODEL_bced22c68f8d400c84bb841a69e9f362"
          }
        },
        "82dddbf10c2b4fa192d2f27f8a911729": {
          "model_module": "catboost-widget",
          "model_name": "CatboostWidgetModel",
          "model_module_version": "^1.0.0",
          "state": {
            "_dom_classes": [],
            "_model_module": "catboost-widget",
            "_model_module_version": "^1.0.0",
            "_model_name": "CatboostWidgetModel",
            "_view_count": null,
            "_view_module": "catboost-widget",
            "_view_module_version": "^1.0.0",
            "_view_name": "CatboostWidgetView",
            "data": {
              "catboost_info": {
                "path": "catboost_info",
                "name": "catboost_info",
                "content": {
                  "passed_iterations": 2499,
                  "total_iterations": 2500,
                  "data": {
                    "iterations": [
                      {
                        "learn": [
                          1.492226196,
                          1.838649688
                        ],
                        "iteration": 0,
                        "passed_time": 0.1581667391,
                        "remaining_time": 395.2586809,
                        "test": [
                          1.490268135,
                          1.83972287
                        ]
                      },
                      {
                        "learn": [
                          1.481897997,
                          1.827414241
                        ],
                        "iteration": 5,
                        "passed_time": 1.008862104,
                        "remaining_time": 419.3503478,
                        "test": [
                          1.478129661,
                          1.826583739
                        ]
                      },
                      {
                        "learn": [
                          1.471862371,
                          1.816932807
                        ],
                        "iteration": 10,
                        "passed_time": 1.688933996,
                        "remaining_time": 382.1597015,
                        "test": [
                          1.466229008,
                          1.814252254
                        ]
                      },
                      {
                        "learn": [
                          1.462286009,
                          1.807248743
                        ],
                        "iteration": 15,
                        "passed_time": 2.134887767,
                        "remaining_time": 331.4413259,
                        "test": [
                          1.455009053,
                          1.802992386
                        ]
                      },
                      {
                        "learn": [
                          1.453180106,
                          1.79834443
                        ],
                        "iteration": 20,
                        "passed_time": 2.639410755,
                        "remaining_time": 311.5761554,
                        "test": [
                          1.444312163,
                          1.792564796
                        ]
                      },
                      {
                        "learn": [
                          1.444182988,
                          1.789844804
                        ],
                        "iteration": 25,
                        "passed_time": 3.068983383,
                        "remaining_time": 292.0255726,
                        "test": [
                          1.433661067,
                          1.782560424
                        ]
                      },
                      {
                        "learn": [
                          1.435713419,
                          1.782014484
                        ],
                        "iteration": 30,
                        "passed_time": 3.235859246,
                        "remaining_time": 257.7205316,
                        "test": [
                          1.423638056,
                          1.773320854
                        ]
                      },
                      {
                        "learn": [
                          1.427386524,
                          1.774549529
                        ],
                        "iteration": 35,
                        "passed_time": 3.396194144,
                        "remaining_time": 232.4506214,
                        "test": [
                          1.413739909,
                          1.764500044
                        ]
                      },
                      {
                        "learn": [
                          1.418932525,
                          1.766935263
                        ],
                        "iteration": 40,
                        "passed_time": 3.55970994,
                        "remaining_time": 213.4957742,
                        "test": [
                          1.403506451,
                          1.755414118
                        ]
                      },
                      {
                        "learn": [
                          1.411545834,
                          1.760183474
                        ],
                        "iteration": 45,
                        "passed_time": 3.71911923,
                        "remaining_time": 198.4069259,
                        "test": [
                          1.39465932,
                          1.7473621
                        ]
                      },
                      {
                        "learn": [
                          1.404747953,
                          1.753939906
                        ],
                        "iteration": 50,
                        "passed_time": 3.897450279,
                        "remaining_time": 187.154034,
                        "test": [
                          1.386496651,
                          1.739870843
                        ]
                      },
                      {
                        "learn": [
                          1.398541122,
                          1.748059929
                        ],
                        "iteration": 55,
                        "passed_time": 4.052303504,
                        "remaining_time": 176.8541029,
                        "test": [
                          1.379139747,
                          1.732890365
                        ]
                      },
                      {
                        "learn": [
                          1.392535581,
                          1.742078094
                        ],
                        "iteration": 60,
                        "passed_time": 4.367540151,
                        "remaining_time": 174.630007,
                        "test": [
                          1.371937727,
                          1.725652802
                        ]
                      },
                      {
                        "learn": [
                          1.387301315,
                          1.73668868
                        ],
                        "iteration": 65,
                        "passed_time": 4.768888686,
                        "remaining_time": 175.8708343,
                        "test": [
                          1.365726682,
                          1.719134738
                        ]
                      },
                      {
                        "learn": [
                          1.382515118,
                          1.731593172
                        ],
                        "iteration": 70,
                        "passed_time": 5.183017106,
                        "remaining_time": 177.3175852,
                        "test": [
                          1.360038906,
                          1.712973901
                        ]
                      },
                      {
                        "learn": [
                          1.378291477,
                          1.727079206
                        ],
                        "iteration": 75,
                        "passed_time": 6.07212804,
                        "remaining_time": 193.6689259,
                        "test": [
                          1.355090138,
                          1.707540776
                        ]
                      },
                      {
                        "learn": [
                          1.374483239,
                          1.722943044
                        ],
                        "iteration": 80,
                        "passed_time": 7.053599246,
                        "remaining_time": 210.6500812,
                        "test": [
                          1.350626783,
                          1.702566808
                        ]
                      },
                      {
                        "learn": [
                          1.370747559,
                          1.718897637
                        ],
                        "iteration": 85,
                        "passed_time": 8.1521696,
                        "remaining_time": 228.8295048,
                        "test": [
                          1.346242193,
                          1.697696895
                        ]
                      },
                      {
                        "learn": [
                          1.367280131,
                          1.715133919
                        ],
                        "iteration": 90,
                        "passed_time": 8.690584706,
                        "remaining_time": 230.0617424,
                        "test": [
                          1.342074563,
                          1.693049209
                        ]
                      },
                      {
                        "learn": [
                          1.364011959,
                          1.711746138
                        ],
                        "iteration": 95,
                        "passed_time": 9.615711347,
                        "remaining_time": 240.7934383,
                        "test": [
                          1.33824723,
                          1.688967126
                        ]
                      },
                      {
                        "learn": [
                          1.360917498,
                          1.708505856
                        ],
                        "iteration": 100,
                        "passed_time": 10.22358212,
                        "remaining_time": 242.8353813,
                        "test": [
                          1.33460002,
                          1.685053803
                        ]
                      },
                      {
                        "learn": [
                          1.357870867,
                          1.705502166
                        ],
                        "iteration": 105,
                        "passed_time": 10.87810887,
                        "remaining_time": 245.6810627,
                        "test": [
                          1.33102384,
                          1.681365313
                        ]
                      },
                      {
                        "learn": [
                          1.3551739,
                          1.7026952
                        ],
                        "iteration": 110,
                        "passed_time": 11.35927544,
                        "remaining_time": 244.4802615,
                        "test": [
                          1.327846167,
                          1.677962091
                        ]
                      },
                      {
                        "learn": [
                          1.352553764,
                          1.700071148
                        ],
                        "iteration": 115,
                        "passed_time": 11.74524211,
                        "remaining_time": 241.3849759,
                        "test": [
                          1.324723243,
                          1.674749262
                        ]
                      },
                      {
                        "learn": [
                          1.350038141,
                          1.697679412
                        ],
                        "iteration": 120,
                        "passed_time": 12.11152288,
                        "remaining_time": 238.1265532,
                        "test": [
                          1.321767721,
                          1.671818077
                        ]
                      },
                      {
                        "learn": [
                          1.347703049,
                          1.69541822
                        ],
                        "iteration": 125,
                        "passed_time": 12.34634548,
                        "remaining_time": 232.6208268,
                        "test": [
                          1.318992523,
                          1.669031923
                        ]
                      },
                      {
                        "learn": [
                          1.345244109,
                          1.693163384
                        ],
                        "iteration": 130,
                        "passed_time": 12.7666938,
                        "remaining_time": 230.8725009,
                        "test": [
                          1.316082184,
                          1.666300657
                        ]
                      },
                      {
                        "learn": [
                          1.342974757,
                          1.691124715
                        ],
                        "iteration": 135,
                        "passed_time": 13.22709357,
                        "remaining_time": 229.9180089,
                        "test": [
                          1.313426762,
                          1.663837222
                        ]
                      },
                      {
                        "learn": [
                          1.340780812,
                          1.689204199
                        ],
                        "iteration": 140,
                        "passed_time": 13.38335473,
                        "remaining_time": 223.9101689,
                        "test": [
                          1.310851123,
                          1.661524975
                        ]
                      },
                      {
                        "learn": [
                          1.338674792,
                          1.68726479
                        ],
                        "iteration": 145,
                        "passed_time": 13.54696592,
                        "remaining_time": 218.4216286,
                        "test": [
                          1.308155912,
                          1.658990533
                        ]
                      },
                      {
                        "learn": [
                          1.336456016,
                          1.685286497
                        ],
                        "iteration": 150,
                        "passed_time": 13.70577554,
                        "remaining_time": 213.2110381,
                        "test": [
                          1.305327187,
                          1.656420943
                        ]
                      },
                      {
                        "learn": [
                          1.334458681,
                          1.683531603
                        ],
                        "iteration": 155,
                        "passed_time": 13.88319007,
                        "remaining_time": 208.6038303,
                        "test": [
                          1.302783298,
                          1.654126874
                        ]
                      },
                      {
                        "learn": [
                          1.332683702,
                          1.682005044
                        ],
                        "iteration": 160,
                        "passed_time": 14.0390957,
                        "remaining_time": 203.9592848,
                        "test": [
                          1.300677298,
                          1.652299734
                        ]
                      },
                      {
                        "learn": [
                          1.330674358,
                          1.680234307
                        ],
                        "iteration": 165,
                        "passed_time": 14.22491118,
                        "remaining_time": 200.0056788,
                        "test": [
                          1.298107562,
                          1.650000676
                        ]
                      },
                      {
                        "learn": [
                          1.328799649,
                          1.678613512
                        ],
                        "iteration": 170,
                        "passed_time": 14.39400859,
                        "remaining_time": 196.0447135,
                        "test": [
                          1.295733211,
                          1.647929256
                        ]
                      },
                      {
                        "learn": [
                          1.327118293,
                          1.677170217
                        ],
                        "iteration": 175,
                        "passed_time": 14.55922767,
                        "remaining_time": 192.2479836,
                        "test": [
                          1.293561574,
                          1.646052519
                        ]
                      },
                      {
                        "learn": [
                          1.325445587,
                          1.675805595
                        ],
                        "iteration": 180,
                        "passed_time": 14.73758735,
                        "remaining_time": 188.820249,
                        "test": [
                          1.291407949,
                          1.644279535
                        ]
                      },
                      {
                        "learn": [
                          1.323846965,
                          1.674463867
                        ],
                        "iteration": 185,
                        "passed_time": 14.9289858,
                        "remaining_time": 185.7294254,
                        "test": [
                          1.289306021,
                          1.642488714
                        ]
                      },
                      {
                        "learn": [
                          1.322280603,
                          1.673227014
                        ],
                        "iteration": 190,
                        "passed_time": 15.11046656,
                        "remaining_time": 182.6705094,
                        "test": [
                          1.287330686,
                          1.640937322
                        ]
                      },
                      {
                        "learn": [
                          1.320766142,
                          1.671949988
                        ],
                        "iteration": 195,
                        "passed_time": 15.27237133,
                        "remaining_time": 179.5282833,
                        "test": [
                          1.285287881,
                          1.639187922
                        ]
                      },
                      {
                        "learn": [
                          1.319278037,
                          1.670709751
                        ],
                        "iteration": 200,
                        "passed_time": 15.46409155,
                        "remaining_time": 176.8753556,
                        "test": [
                          1.283285274,
                          1.637521359
                        ]
                      },
                      {
                        "learn": [
                          1.317859844,
                          1.669540581
                        ],
                        "iteration": 205,
                        "passed_time": 15.90334629,
                        "remaining_time": 177.0984291,
                        "test": [
                          1.281441926,
                          1.635986094
                        ]
                      },
                      {
                        "learn": [
                          1.316418449,
                          1.668397552
                        ],
                        "iteration": 210,
                        "passed_time": 16.18060618,
                        "remaining_time": 175.5327372,
                        "test": [
                          1.279558484,
                          1.634490728
                        ]
                      },
                      {
                        "learn": [
                          1.315167558,
                          1.667468088
                        ],
                        "iteration": 215,
                        "passed_time": 16.34051881,
                        "remaining_time": 172.7858563,
                        "test": [
                          1.277968019,
                          1.633296328
                        ]
                      },
                      {
                        "learn": [
                          1.313928573,
                          1.666473377
                        ],
                        "iteration": 220,
                        "passed_time": 16.51614432,
                        "remaining_time": 170.3180675,
                        "test": [
                          1.276349163,
                          1.631980088
                        ]
                      },
                      {
                        "learn": [
                          1.312692844,
                          1.665557748
                        ],
                        "iteration": 225,
                        "passed_time": 16.73120309,
                        "remaining_time": 168.3484771,
                        "test": [
                          1.274748929,
                          1.630811805
                        ]
                      },
                      {
                        "learn": [
                          1.311539545,
                          1.664677378
                        ],
                        "iteration": 230,
                        "passed_time": 17.13965547,
                        "remaining_time": 168.3544514,
                        "test": [
                          1.273270099,
                          1.629720615
                        ]
                      },
                      {
                        "learn": [
                          1.310362433,
                          1.663800639
                        ],
                        "iteration": 235,
                        "passed_time": 17.39673498,
                        "remaining_time": 166.8907119,
                        "test": [
                          1.27171403,
                          1.628572956
                        ]
                      },
                      {
                        "learn": [
                          1.309331862,
                          1.662985123
                        ],
                        "iteration": 240,
                        "passed_time": 17.56807184,
                        "remaining_time": 164.6733372,
                        "test": [
                          1.27034022,
                          1.627507527
                        ]
                      },
                      {
                        "learn": [
                          1.308240436,
                          1.662131432
                        ],
                        "iteration": 245,
                        "passed_time": 17.7364739,
                        "remaining_time": 162.5122446,
                        "test": [
                          1.268854165,
                          1.626331838
                        ]
                      },
                      {
                        "learn": [
                          1.3073099,
                          1.661396074
                        ],
                        "iteration": 250,
                        "passed_time": 17.91523291,
                        "remaining_time": 160.5233419,
                        "test": [
                          1.267671468,
                          1.625418524
                        ]
                      },
                      {
                        "learn": [
                          1.306375293,
                          1.66072455
                        ],
                        "iteration": 255,
                        "passed_time": 18.07517402,
                        "remaining_time": 158.4401973,
                        "test": [
                          1.266504442,
                          1.624590702
                        ]
                      },
                      {
                        "learn": [
                          1.30548129,
                          1.660030256
                        ],
                        "iteration": 260,
                        "passed_time": 18.25984301,
                        "remaining_time": 156.6428678,
                        "test": [
                          1.265305462,
                          1.62368092
                        ]
                      },
                      {
                        "learn": [
                          1.3045765,
                          1.659415458
                        ],
                        "iteration": 265,
                        "passed_time": 18.54487575,
                        "remaining_time": 155.7490693,
                        "test": [
                          1.264230329,
                          1.622976241
                        ]
                      },
                      {
                        "learn": [
                          1.303731141,
                          1.658764972
                        ],
                        "iteration": 270,
                        "passed_time": 18.88419798,
                        "remaining_time": 155.3242705,
                        "test": [
                          1.263096579,
                          1.622109407
                        ]
                      },
                      {
                        "learn": [
                          1.30291336,
                          1.658140192
                        ],
                        "iteration": 275,
                        "passed_time": 19.33921373,
                        "remaining_time": 155.8348236,
                        "test": [
                          1.261999872,
                          1.621268158
                        ]
                      },
                      {
                        "learn": [
                          1.302129568,
                          1.657561591
                        ],
                        "iteration": 280,
                        "passed_time": 19.73038284,
                        "remaining_time": 155.806831,
                        "test": [
                          1.260999942,
                          1.620533104
                        ]
                      },
                      {
                        "learn": [
                          1.301322574,
                          1.657009688
                        ],
                        "iteration": 285,
                        "passed_time": 20.09756212,
                        "remaining_time": 155.5804284,
                        "test": [
                          1.25994567,
                          1.619826051
                        ]
                      },
                      {
                        "learn": [
                          1.300513138,
                          1.656477813
                        ],
                        "iteration": 290,
                        "passed_time": 20.52026265,
                        "remaining_time": 155.7706536,
                        "test": [
                          1.258942688,
                          1.619157278
                        ]
                      },
                      {
                        "learn": [
                          1.299695968,
                          1.655858746
                        ],
                        "iteration": 295,
                        "passed_time": 21.09976819,
                        "remaining_time": 157.1077334,
                        "test": [
                          1.258051645,
                          1.618502817
                        ]
                      },
                      {
                        "learn": [
                          1.29897639,
                          1.655305538
                        ],
                        "iteration": 300,
                        "passed_time": 21.60916392,
                        "remaining_time": 157.8689417,
                        "test": [
                          1.25713913,
                          1.617816955
                        ]
                      },
                      {
                        "learn": [
                          1.298290598,
                          1.654748024
                        ],
                        "iteration": 305,
                        "passed_time": 21.83539821,
                        "remaining_time": 156.558378,
                        "test": [
                          1.256460264,
                          1.617284403
                        ]
                      },
                      {
                        "learn": [
                          1.29759524,
                          1.65421776
                        ],
                        "iteration": 310,
                        "passed_time": 22.04758001,
                        "remaining_time": 155.1837706,
                        "test": [
                          1.255750361,
                          1.616749032
                        ]
                      },
                      {
                        "learn": [
                          1.296925424,
                          1.65367711
                        ],
                        "iteration": 315,
                        "passed_time": 22.35767463,
                        "remaining_time": 154.5226626,
                        "test": [
                          1.255001482,
                          1.616141451
                        ]
                      },
                      {
                        "learn": [
                          1.296332442,
                          1.65322234
                        ],
                        "iteration": 320,
                        "passed_time": 22.53086228,
                        "remaining_time": 152.943143,
                        "test": [
                          1.254408098,
                          1.615711581
                        ]
                      },
                      {
                        "learn": [
                          1.295668732,
                          1.652735735
                        ],
                        "iteration": 325,
                        "passed_time": 22.71380128,
                        "remaining_time": 151.4717913,
                        "test": [
                          1.253722821,
                          1.615225524
                        ]
                      },
                      {
                        "learn": [
                          1.295037283,
                          1.652285263
                        ],
                        "iteration": 330,
                        "passed_time": 22.88352886,
                        "remaining_time": 149.9527918,
                        "test": [
                          1.253087816,
                          1.614803477
                        ]
                      },
                      {
                        "learn": [
                          1.29443046,
                          1.651813846
                        ],
                        "iteration": 335,
                        "passed_time": 23.06829613,
                        "remaining_time": 148.570812,
                        "test": [
                          1.252454337,
                          1.614332907
                        ]
                      },
                      {
                        "learn": [
                          1.293782728,
                          1.651345005
                        ],
                        "iteration": 340,
                        "passed_time": 23.22975976,
                        "remaining_time": 147.0763969,
                        "test": [
                          1.251796943,
                          1.61387935
                        ]
                      },
                      {
                        "learn": [
                          1.293219053,
                          1.650942851
                        ],
                        "iteration": 345,
                        "passed_time": 23.41278286,
                        "remaining_time": 145.7547234,
                        "test": [
                          1.251235615,
                          1.613506398
                        ]
                      },
                      {
                        "learn": [
                          1.292582413,
                          1.6504454
                        ],
                        "iteration": 350,
                        "passed_time": 23.59071474,
                        "remaining_time": 144.434319,
                        "test": [
                          1.250659836,
                          1.613045354
                        ]
                      },
                      {
                        "learn": [
                          1.291990448,
                          1.650040251
                        ],
                        "iteration": 355,
                        "passed_time": 23.75313021,
                        "remaining_time": 143.0525595,
                        "test": [
                          1.250067775,
                          1.612664826
                        ]
                      },
                      {
                        "learn": [
                          1.291455268,
                          1.649687623
                        ],
                        "iteration": 360,
                        "passed_time": 23.92566806,
                        "remaining_time": 141.764554,
                        "test": [
                          1.249498814,
                          1.61229235
                        ]
                      },
                      {
                        "learn": [
                          1.290977686,
                          1.64932986
                        ],
                        "iteration": 365,
                        "passed_time": 24.08802574,
                        "remaining_time": 140.4476692,
                        "test": [
                          1.248994575,
                          1.611933993
                        ]
                      },
                      {
                        "learn": [
                          1.290430294,
                          1.648894937
                        ],
                        "iteration": 370,
                        "passed_time": 24.26289397,
                        "remaining_time": 139.2336961,
                        "test": [
                          1.248521068,
                          1.611562359
                        ]
                      },
                      {
                        "learn": [
                          1.289956579,
                          1.648563113
                        ],
                        "iteration": 375,
                        "passed_time": 24.44779336,
                        "remaining_time": 138.1040242,
                        "test": [
                          1.248029143,
                          1.611233271
                        ]
                      },
                      {
                        "learn": [
                          1.289480829,
                          1.648188497
                        ],
                        "iteration": 380,
                        "passed_time": 24.61420232,
                        "remaining_time": 136.8963116,
                        "test": [
                          1.247622597,
                          1.610905064
                        ]
                      },
                      {
                        "learn": [
                          1.288990425,
                          1.647797492
                        ],
                        "iteration": 385,
                        "passed_time": 24.78219468,
                        "remaining_time": 135.7242475,
                        "test": [
                          1.24715367,
                          1.610533572
                        ]
                      },
                      {
                        "learn": [
                          1.288515998,
                          1.647417513
                        ],
                        "iteration": 390,
                        "passed_time": 24.97350562,
                        "remaining_time": 134.7036403,
                        "test": [
                          1.246737253,
                          1.610227342
                        ]
                      },
                      {
                        "learn": [
                          1.288117793,
                          1.647112824
                        ],
                        "iteration": 395,
                        "passed_time": 25.13859029,
                        "remaining_time": 133.5646312,
                        "test": [
                          1.246332233,
                          1.609943177
                        ]
                      },
                      {
                        "learn": [
                          1.287675625,
                          1.646760867
                        ],
                        "iteration": 400,
                        "passed_time": 25.30637948,
                        "remaining_time": 132.4640662,
                        "test": [
                          1.2458918,
                          1.609600418
                        ]
                      },
                      {
                        "learn": [
                          1.287288716,
                          1.646479605
                        ],
                        "iteration": 405,
                        "passed_time": 25.49458126,
                        "remaining_time": 131.4917565,
                        "test": [
                          1.245530946,
                          1.609348455
                        ]
                      },
                      {
                        "learn": [
                          1.286787932,
                          1.646091779
                        ],
                        "iteration": 410,
                        "passed_time": 25.66186099,
                        "remaining_time": 130.4321839,
                        "test": [
                          1.245119821,
                          1.609033651
                        ]
                      },
                      {
                        "learn": [
                          1.286372122,
                          1.645809352
                        ],
                        "iteration": 415,
                        "passed_time": 25.82850445,
                        "remaining_time": 129.3908732,
                        "test": [
                          1.244686816,
                          1.608766608
                        ]
                      },
                      {
                        "learn": [
                          1.286058178,
                          1.645579381
                        ],
                        "iteration": 420,
                        "passed_time": 26.0043332,
                        "remaining_time": 128.4156977,
                        "test": [
                          1.244363208,
                          1.608543363
                        ]
                      },
                      {
                        "learn": [
                          1.285653561,
                          1.645281959
                        ],
                        "iteration": 425,
                        "passed_time": 26.1702862,
                        "remaining_time": 127.4112056,
                        "test": [
                          1.243980271,
                          1.608263899
                        ]
                      },
                      {
                        "learn": [
                          1.285225844,
                          1.644938581
                        ],
                        "iteration": 430,
                        "passed_time": 26.3378174,
                        "remaining_time": 126.4337452,
                        "test": [
                          1.243669078,
                          1.608013942
                        ]
                      },
                      {
                        "learn": [
                          1.284853386,
                          1.644650449
                        ],
                        "iteration": 435,
                        "passed_time": 26.5306715,
                        "remaining_time": 125.5947385,
                        "test": [
                          1.243374268,
                          1.607790276
                        ]
                      },
                      {
                        "learn": [
                          1.28450362,
                          1.644361338
                        ],
                        "iteration": 440,
                        "passed_time": 26.69127129,
                        "remaining_time": 124.6197905,
                        "test": [
                          1.24312454,
                          1.607589748
                        ]
                      },
                      {
                        "learn": [
                          1.284160775,
                          1.644100215
                        ],
                        "iteration": 445,
                        "passed_time": 26.85609859,
                        "remaining_time": 123.6825707,
                        "test": [
                          1.24283604,
                          1.607381977
                        ]
                      },
                      {
                        "learn": [
                          1.283822916,
                          1.643818622
                        ],
                        "iteration": 450,
                        "passed_time": 27.03979462,
                        "remaining_time": 122.8482022,
                        "test": [
                          1.242588042,
                          1.607175129
                        ]
                      },
                      {
                        "learn": [
                          1.283418707,
                          1.643492276
                        ],
                        "iteration": 455,
                        "passed_time": 27.2126779,
                        "remaining_time": 121.9796351,
                        "test": [
                          1.242296591,
                          1.606924052
                        ]
                      },
                      {
                        "learn": [
                          1.283081459,
                          1.643223026
                        ],
                        "iteration": 460,
                        "passed_time": 27.379217,
                        "remaining_time": 121.0980986,
                        "test": [
                          1.242030886,
                          1.606706315
                        ]
                      },
                      {
                        "learn": [
                          1.282722535,
                          1.642944628
                        ],
                        "iteration": 465,
                        "passed_time": 27.57111026,
                        "remaining_time": 120.3425714,
                        "test": [
                          1.241691198,
                          1.606458079
                        ]
                      },
                      {
                        "learn": [
                          1.282423652,
                          1.642685944
                        ],
                        "iteration": 470,
                        "passed_time": 27.73284992,
                        "remaining_time": 119.4691136,
                        "test": [
                          1.241430378,
                          1.606229001
                        ]
                      },
                      {
                        "learn": [
                          1.282081417,
                          1.642418298
                        ],
                        "iteration": 475,
                        "passed_time": 27.89824664,
                        "remaining_time": 118.626158,
                        "test": [
                          1.241111756,
                          1.605996216
                        ]
                      },
                      {
                        "learn": [
                          1.281754753,
                          1.642187975
                        ],
                        "iteration": 480,
                        "passed_time": 28.08064388,
                        "remaining_time": 117.8686487,
                        "test": [
                          1.240794152,
                          1.605765044
                        ]
                      },
                      {
                        "learn": [
                          1.281474289,
                          1.641989167
                        ],
                        "iteration": 485,
                        "passed_time": 28.24472585,
                        "remaining_time": 117.0470738,
                        "test": [
                          1.240515319,
                          1.605580108
                        ]
                      },
                      {
                        "learn": [
                          1.281094911,
                          1.641667601
                        ],
                        "iteration": 490,
                        "passed_time": 28.41888581,
                        "remaining_time": 116.2801254,
                        "test": [
                          1.240266303,
                          1.605354709
                        ]
                      },
                      {
                        "learn": [
                          1.280885275,
                          1.641477719
                        ],
                        "iteration": 495,
                        "passed_time": 28.60057483,
                        "remaining_time": 115.5555483,
                        "test": [
                          1.240118135,
                          1.605232614
                        ]
                      },
                      {
                        "learn": [
                          1.280627811,
                          1.641263262
                        ],
                        "iteration": 500,
                        "passed_time": 28.75942074,
                        "remaining_time": 114.7506628,
                        "test": [
                          1.239924377,
                          1.605077606
                        ]
                      },
                      {
                        "learn": [
                          1.28027021,
                          1.640971136
                        ],
                        "iteration": 505,
                        "passed_time": 28.93086755,
                        "remaining_time": 114.0082014,
                        "test": [
                          1.239664371,
                          1.604854419
                        ]
                      },
                      {
                        "learn": [
                          1.279997887,
                          1.640739246
                        ],
                        "iteration": 510,
                        "passed_time": 29.12383437,
                        "remaining_time": 113.3606782,
                        "test": [
                          1.239440491,
                          1.604676037
                        ]
                      },
                      {
                        "learn": [
                          1.279728313,
                          1.64052891
                        ],
                        "iteration": 515,
                        "passed_time": 29.28430778,
                        "remaining_time": 112.5970284,
                        "test": [
                          1.239231163,
                          1.604522116
                        ]
                      },
                      {
                        "learn": [
                          1.27950209,
                          1.640320532
                        ],
                        "iteration": 520,
                        "passed_time": 29.45503367,
                        "remaining_time": 111.8838995,
                        "test": [
                          1.23909368,
                          1.604387781
                        ]
                      },
                      {
                        "learn": [
                          1.279193743,
                          1.64004071
                        ],
                        "iteration": 525,
                        "passed_time": 29.63048487,
                        "remaining_time": 111.1988159,
                        "test": [
                          1.23892516,
                          1.604216452
                        ]
                      },
                      {
                        "learn": [
                          1.278946251,
                          1.639849026
                        ],
                        "iteration": 530,
                        "passed_time": 29.79185524,
                        "remaining_time": 110.4711167,
                        "test": [
                          1.238710337,
                          1.604051956
                        ]
                      },
                      {
                        "learn": [
                          1.278667721,
                          1.639632556
                        ],
                        "iteration": 535,
                        "passed_time": 29.95707832,
                        "remaining_time": 109.7681004,
                        "test": [
                          1.238506911,
                          1.603895755
                        ]
                      },
                      {
                        "learn": [
                          1.278469178,
                          1.639491909
                        ],
                        "iteration": 540,
                        "passed_time": 30.14080633,
                        "remaining_time": 109.1420325,
                        "test": [
                          1.238338187,
                          1.603784591
                        ]
                      },
                      {
                        "learn": [
                          1.278253641,
                          1.639322137
                        ],
                        "iteration": 545,
                        "passed_time": 30.30176696,
                        "remaining_time": 108.4425873,
                        "test": [
                          1.238164171,
                          1.603648924
                        ]
                      },
                      {
                        "learn": [
                          1.278046855,
                          1.639136267
                        ],
                        "iteration": 550,
                        "passed_time": 30.4768075,
                        "remaining_time": 107.8027184,
                        "test": [
                          1.23803717,
                          1.603535204
                        ]
                      },
                      {
                        "learn": [
                          1.277777178,
                          1.638918585
                        ],
                        "iteration": 555,
                        "passed_time": 30.65003143,
                        "remaining_time": 107.1648581,
                        "test": [
                          1.237848195,
                          1.603387902
                        ]
                      },
                      {
                        "learn": [
                          1.277517068,
                          1.638698886
                        ],
                        "iteration": 560,
                        "passed_time": 30.81537,
                        "remaining_time": 106.5080257,
                        "test": [
                          1.237680386,
                          1.603250932
                        ]
                      },
                      {
                        "learn": [
                          1.277252887,
                          1.638464501
                        ],
                        "iteration": 565,
                        "passed_time": 30.98510993,
                        "remaining_time": 105.8749163,
                        "test": [
                          1.237518786,
                          1.603106714
                        ]
                      },
                      {
                        "learn": [
                          1.277031956,
                          1.638280273
                        ],
                        "iteration": 570,
                        "passed_time": 31.16096421,
                        "remaining_time": 105.2705779,
                        "test": [
                          1.237352911,
                          1.602969213
                        ]
                      },
                      {
                        "learn": [
                          1.276826188,
                          1.638104597
                        ],
                        "iteration": 575,
                        "passed_time": 31.31802455,
                        "remaining_time": 104.6109014,
                        "test": [
                          1.237175537,
                          1.602842366
                        ]
                      },
                      {
                        "learn": [
                          1.276626932,
                          1.637926418
                        ],
                        "iteration": 580,
                        "passed_time": 31.49491905,
                        "remaining_time": 104.0253867,
                        "test": [
                          1.237017294,
                          1.602706492
                        ]
                      },
                      {
                        "learn": [
                          1.276453932,
                          1.63778724
                        ],
                        "iteration": 585,
                        "passed_time": 31.66351089,
                        "remaining_time": 103.4197267,
                        "test": [
                          1.236861392,
                          1.602598547
                        ]
                      },
                      {
                        "learn": [
                          1.276248673,
                          1.637595354
                        ],
                        "iteration": 590,
                        "passed_time": 31.82687172,
                        "remaining_time": 102.8045653,
                        "test": [
                          1.236715972,
                          1.602469131
                        ]
                      },
                      {
                        "learn": [
                          1.276060307,
                          1.637424391
                        ],
                        "iteration": 595,
                        "passed_time": 31.99087029,
                        "remaining_time": 102.1990219,
                        "test": [
                          1.236608916,
                          1.602382636
                        ]
                      },
                      {
                        "learn": [
                          1.275827876,
                          1.637214313
                        ],
                        "iteration": 600,
                        "passed_time": 32.18004202,
                        "remaining_time": 101.6803657,
                        "test": [
                          1.236460138,
                          1.602247358
                        ]
                      },
                      {
                        "learn": [
                          1.275625466,
                          1.637047474
                        ],
                        "iteration": 605,
                        "passed_time": 32.33820143,
                        "remaining_time": 101.0702203,
                        "test": [
                          1.236319704,
                          1.602138176
                        ]
                      },
                      {
                        "learn": [
                          1.275419291,
                          1.636877946
                        ],
                        "iteration": 610,
                        "passed_time": 32.69790769,
                        "remaining_time": 101.0905853,
                        "test": [
                          1.236152608,
                          1.602012533
                        ]
                      },
                      {
                        "learn": [
                          1.275216779,
                          1.636722949
                        ],
                        "iteration": 615,
                        "passed_time": 33.32821478,
                        "remaining_time": 101.9323971,
                        "test": [
                          1.23597096,
                          1.601873286
                        ]
                      },
                      {
                        "learn": [
                          1.275016404,
                          1.636540639
                        ],
                        "iteration": 620,
                        "passed_time": 33.87087835,
                        "remaining_time": 102.4853147,
                        "test": [
                          1.235847521,
                          1.601753214
                        ]
                      },
                      {
                        "learn": [
                          1.274846457,
                          1.636378458
                        ],
                        "iteration": 625,
                        "passed_time": 34.28024441,
                        "remaining_time": 102.6216901,
                        "test": [
                          1.235736191,
                          1.601650288
                        ]
                      },
                      {
                        "learn": [
                          1.274691266,
                          1.636237656
                        ],
                        "iteration": 630,
                        "passed_time": 34.72048033,
                        "remaining_time": 102.8408522,
                        "test": [
                          1.2356617,
                          1.601585225
                        ]
                      },
                      {
                        "learn": [
                          1.274523558,
                          1.636093857
                        ],
                        "iteration": 635,
                        "passed_time": 35.18538168,
                        "remaining_time": 103.1219363,
                        "test": [
                          1.235496945,
                          1.601465067
                        ]
                      },
                      {
                        "learn": [
                          1.274354832,
                          1.63592989
                        ],
                        "iteration": 640,
                        "passed_time": 35.72533166,
                        "remaining_time": 103.6090352,
                        "test": [
                          1.235429374,
                          1.601392053
                        ]
                      },
                      {
                        "learn": [
                          1.27420534,
                          1.635788365
                        ],
                        "iteration": 645,
                        "passed_time": 36.34719348,
                        "remaining_time": 104.31532,
                        "test": [
                          1.235347047,
                          1.601322786
                        ]
                      },
                      {
                        "learn": [
                          1.273994687,
                          1.635595374
                        ],
                        "iteration": 650,
                        "passed_time": 36.93606495,
                        "remaining_time": 104.9075024,
                        "test": [
                          1.235173845,
                          1.601168162
                        ]
                      },
                      {
                        "learn": [
                          1.273846518,
                          1.635446166
                        ],
                        "iteration": 655,
                        "passed_time": 37.40814255,
                        "remaining_time": 105.1533763,
                        "test": [
                          1.235115026,
                          1.601106003
                        ]
                      },
                      {
                        "learn": [
                          1.27364594,
                          1.635276409
                        ],
                        "iteration": 660,
                        "passed_time": 37.81454017,
                        "remaining_time": 105.2056571,
                        "test": [
                          1.234928391,
                          1.600959685
                        ]
                      },
                      {
                        "learn": [
                          1.273406385,
                          1.635066304
                        ],
                        "iteration": 665,
                        "passed_time": 38.00817231,
                        "remaining_time": 104.6651472,
                        "test": [
                          1.234658921,
                          1.600765294
                        ]
                      },
                      {
                        "learn": [
                          1.273231757,
                          1.634914808
                        ],
                        "iteration": 670,
                        "passed_time": 38.19220744,
                        "remaining_time": 104.1036474,
                        "test": [
                          1.234503426,
                          1.600646537
                        ]
                      },
                      {
                        "learn": [
                          1.27310506,
                          1.634804943
                        ],
                        "iteration": 675,
                        "passed_time": 38.35220924,
                        "remaining_time": 103.4828841,
                        "test": [
                          1.234415298,
                          1.600586074
                        ]
                      },
                      {
                        "learn": [
                          1.272941117,
                          1.634669421
                        ],
                        "iteration": 680,
                        "passed_time": 38.52084439,
                        "remaining_time": 102.8919471,
                        "test": [
                          1.234309057,
                          1.600503865
                        ]
                      },
                      {
                        "learn": [
                          1.272728734,
                          1.634470072
                        ],
                        "iteration": 685,
                        "passed_time": 38.6864015,
                        "remaining_time": 102.2990267,
                        "test": [
                          1.234208108,
                          1.600391002
                        ]
                      },
                      {
                        "learn": [
                          1.272583516,
                          1.634331721
                        ],
                        "iteration": 690,
                        "passed_time": 38.8735572,
                        "remaining_time": 101.768835,
                        "test": [
                          1.234127307,
                          1.600311135
                        ]
                      },
                      {
                        "learn": [
                          1.272441453,
                          1.634205626
                        ],
                        "iteration": 695,
                        "passed_time": 39.03762549,
                        "remaining_time": 101.1837304,
                        "test": [
                          1.234030733,
                          1.600228784
                        ]
                      },
                      {
                        "learn": [
                          1.272272116,
                          1.634059094
                        ],
                        "iteration": 700,
                        "passed_time": 39.21747133,
                        "remaining_time": 100.6451226,
                        "test": [
                          1.233885313,
                          1.600121944
                        ]
                      },
                      {
                        "learn": [
                          1.272153968,
                          1.633931794
                        ],
                        "iteration": 705,
                        "passed_time": 39.38006467,
                        "remaining_time": 100.0677564,
                        "test": [
                          1.233832396,
                          1.600070238
                        ]
                      },
                      {
                        "learn": [
                          1.272038058,
                          1.63382697
                        ],
                        "iteration": 710,
                        "passed_time": 39.54475667,
                        "remaining_time": 99.50150447,
                        "test": [
                          1.233768285,
                          1.600028326
                        ]
                      },
                      {
                        "learn": [
                          1.271880017,
                          1.63368925
                        ],
                        "iteration": 715,
                        "passed_time": 39.70739025,
                        "remaining_time": 98.93573212,
                        "test": [
                          1.233670083,
                          1.599948059
                        ]
                      },
                      {
                        "learn": [
                          1.271693584,
                          1.633505293
                        ],
                        "iteration": 720,
                        "passed_time": 39.88515952,
                        "remaining_time": 98.41289708,
                        "test": [
                          1.233587044,
                          1.599857166
                        ]
                      },
                      {
                        "learn": [
                          1.271551928,
                          1.633367359
                        ],
                        "iteration": 725,
                        "passed_time": 40.05089081,
                        "remaining_time": 97.86539985,
                        "test": [
                          1.233480497,
                          1.599768303
                        ]
                      },
                      {
                        "learn": [
                          1.271385237,
                          1.633209598
                        ],
                        "iteration": 730,
                        "passed_time": 40.23153834,
                        "remaining_time": 97.35922205,
                        "test": [
                          1.233372526,
                          1.599678226
                        ]
                      },
                      {
                        "learn": [
                          1.271244802,
                          1.633076686
                        ],
                        "iteration": 735,
                        "passed_time": 40.40267665,
                        "remaining_time": 96.83467611,
                        "test": [
                          1.233285213,
                          1.599603922
                        ]
                      },
                      {
                        "learn": [
                          1.271096938,
                          1.63294258
                        ],
                        "iteration": 740,
                        "passed_time": 40.56920112,
                        "remaining_time": 96.30394705,
                        "test": [
                          1.233195661,
                          1.59953375
                        ]
                      },
                      {
                        "learn": [
                          1.270920783,
                          1.632790138
                        ],
                        "iteration": 745,
                        "passed_time": 40.73725226,
                        "remaining_time": 95.78168962,
                        "test": [
                          1.233073748,
                          1.599437425
                        ]
                      },
                      {
                        "learn": [
                          1.270747173,
                          1.6326312
                        ],
                        "iteration": 750,
                        "passed_time": 40.91329712,
                        "remaining_time": 95.28276519,
                        "test": [
                          1.232980532,
                          1.59936241
                        ]
                      },
                      {
                        "learn": [
                          1.270550461,
                          1.632460963
                        ],
                        "iteration": 755,
                        "passed_time": 41.08815666,
                        "remaining_time": 94.78537726,
                        "test": [
                          1.232824121,
                          1.599236931
                        ]
                      },
                      {
                        "learn": [
                          1.270397102,
                          1.63231041
                        ],
                        "iteration": 760,
                        "passed_time": 41.26890002,
                        "remaining_time": 94.30567298,
                        "test": [
                          1.232727344,
                          1.59914447
                        ]
                      },
                      {
                        "learn": [
                          1.270253309,
                          1.63216508
                        ],
                        "iteration": 765,
                        "passed_time": 41.43307338,
                        "remaining_time": 93.79236194,
                        "test": [
                          1.232638708,
                          1.599067723
                        ]
                      },
                      {
                        "learn": [
                          1.270110533,
                          1.632011755
                        ],
                        "iteration": 770,
                        "passed_time": 41.60598599,
                        "remaining_time": 93.30317741,
                        "test": [
                          1.232543355,
                          1.598993582
                        ]
                      },
                      {
                        "learn": [
                          1.270014772,
                          1.631902318
                        ],
                        "iteration": 775,
                        "passed_time": 41.76348561,
                        "remaining_time": 92.78382628,
                        "test": [
                          1.232502039,
                          1.598951959
                        ]
                      },
                      {
                        "learn": [
                          1.269863855,
                          1.631743542
                        ],
                        "iteration": 780,
                        "passed_time": 41.9423708,
                        "remaining_time": 92.3161785,
                        "test": [
                          1.232449224,
                          1.598878767
                        ]
                      },
                      {
                        "learn": [
                          1.269751914,
                          1.631627663
                        ],
                        "iteration": 785,
                        "passed_time": 42.10370912,
                        "remaining_time": 91.81394074,
                        "test": [
                          1.232383586,
                          1.598819829
                        ]
                      },
                      {
                        "learn": [
                          1.269609342,
                          1.631502856
                        ],
                        "iteration": 790,
                        "passed_time": 42.29257883,
                        "remaining_time": 91.37549585,
                        "test": [
                          1.232283858,
                          1.598734473
                        ]
                      },
                      {
                        "learn": [
                          1.269479388,
                          1.631380721
                        ],
                        "iteration": 795,
                        "passed_time": 42.45914047,
                        "remaining_time": 90.89243136,
                        "test": [
                          1.23222341,
                          1.598683295
                        ]
                      },
                      {
                        "learn": [
                          1.269369991,
                          1.631281098
                        ],
                        "iteration": 800,
                        "passed_time": 42.62301926,
                        "remaining_time": 90.40762762,
                        "test": [
                          1.232168662,
                          1.598646439
                        ]
                      },
                      {
                        "learn": [
                          1.269228029,
                          1.631143849
                        ],
                        "iteration": 805,
                        "passed_time": 42.78648096,
                        "remaining_time": 89.92592896,
                        "test": [
                          1.232087251,
                          1.598577943
                        ]
                      },
                      {
                        "learn": [
                          1.269075688,
                          1.630992113
                        ],
                        "iteration": 810,
                        "passed_time": 42.97114648,
                        "remaining_time": 89.49231369,
                        "test": [
                          1.232014795,
                          1.598504606
                        ]
                      },
                      {
                        "learn": [
                          1.268930775,
                          1.63085509
                        ],
                        "iteration": 815,
                        "passed_time": 43.13464504,
                        "remaining_time": 89.01806648,
                        "test": [
                          1.231901939,
                          1.598420698
                        ]
                      },
                      {
                        "learn": [
                          1.268812015,
                          1.630749693
                        ],
                        "iteration": 820,
                        "passed_time": 43.32099409,
                        "remaining_time": 88.59433504,
                        "test": [
                          1.231829585,
                          1.598366136
                        ]
                      },
                      {
                        "learn": [
                          1.268718799,
                          1.6306461
                        ],
                        "iteration": 825,
                        "passed_time": 43.48718697,
                        "remaining_time": 88.13262831,
                        "test": [
                          1.23178084,
                          1.598321504
                        ]
                      },
                      {
                        "learn": [
                          1.268527074,
                          1.630469727
                        ],
                        "iteration": 830,
                        "passed_time": 43.65775942,
                        "remaining_time": 87.68327373,
                        "test": [
                          1.231684572,
                          1.598218548
                        ]
                      },
                      {
                        "learn": [
                          1.268397121,
                          1.630339712
                        ],
                        "iteration": 835,
                        "passed_time": 43.82462301,
                        "remaining_time": 87.22987163,
                        "test": [
                          1.231598683,
                          1.598138
                        ]
                      },
                      {
                        "learn": [
                          1.268274087,
                          1.630214182
                        ],
                        "iteration": 840,
                        "passed_time": 44.00081571,
                        "remaining_time": 86.79827974,
                        "test": [
                          1.231537828,
                          1.598088395
                        ]
                      },
                      {
                        "learn": [
                          1.268134975,
                          1.63006698
                        ],
                        "iteration": 845,
                        "passed_time": 44.1658768,
                        "remaining_time": 86.34794354,
                        "test": [
                          1.23146578,
                          1.598014781
                        ]
                      },
                      {
                        "learn": [
                          1.268051121,
                          1.629972021
                        ],
                        "iteration": 850,
                        "passed_time": 44.3464866,
                        "remaining_time": 85.9310886,
                        "test": [
                          1.23142884,
                          1.597972241
                        ]
                      },
                      {
                        "learn": [
                          1.267926968,
                          1.629843778
                        ],
                        "iteration": 855,
                        "passed_time": 44.50835593,
                        "remaining_time": 85.48100135,
                        "test": [
                          1.231369613,
                          1.597925943
                        ]
                      },
                      {
                        "learn": [
                          1.267826933,
                          1.629732072
                        ],
                        "iteration": 860,
                        "passed_time": 44.67731298,
                        "remaining_time": 85.04775375,
                        "test": [
                          1.231335624,
                          1.597879007
                        ]
                      },
                      {
                        "learn": [
                          1.267691077,
                          1.629585825
                        ],
                        "iteration": 865,
                        "passed_time": 44.85022538,
                        "remaining_time": 84.62502109,
                        "test": [
                          1.231290848,
                          1.597827229
                        ]
                      },
                      {
                        "learn": [
                          1.267583003,
                          1.629468418
                        ],
                        "iteration": 870,
                        "passed_time": 45.02582238,
                        "remaining_time": 84.21017757,
                        "test": [
                          1.231264288,
                          1.597783474
                        ]
                      },
                      {
                        "learn": [
                          1.267450099,
                          1.6293372
                        ],
                        "iteration": 875,
                        "passed_time": 45.18839008,
                        "remaining_time": 83.77391038,
                        "test": [
                          1.231207402,
                          1.597729145
                        ]
                      },
                      {
                        "learn": [
                          1.267321468,
                          1.629214403
                        ],
                        "iteration": 880,
                        "passed_time": 45.37829044,
                        "remaining_time": 83.39097869,
                        "test": [
                          1.231116527,
                          1.597665005
                        ]
                      },
                      {
                        "learn": [
                          1.267209323,
                          1.629093534
                        ],
                        "iteration": 885,
                        "passed_time": 45.54168575,
                        "remaining_time": 82.96194222,
                        "test": [
                          1.231091696,
                          1.5976301
                        ]
                      },
                      {
                        "learn": [
                          1.267072959,
                          1.628952415
                        ],
                        "iteration": 890,
                        "passed_time": 45.70937693,
                        "remaining_time": 82.54364475,
                        "test": [
                          1.231048956,
                          1.597576339
                        ]
                      },
                      {
                        "learn": [
                          1.266990631,
                          1.628860515
                        ],
                        "iteration": 895,
                        "passed_time": 45.8905617,
                        "remaining_time": 82.15230019,
                        "test": [
                          1.231016697,
                          1.597541368
                        ]
                      },
                      {
                        "learn": [
                          1.266872686,
                          1.628743556
                        ],
                        "iteration": 900,
                        "passed_time": 46.07869488,
                        "remaining_time": 81.77561945,
                        "test": [
                          1.23094709,
                          1.597482317
                        ]
                      },
                      {
                        "learn": [
                          1.266774585,
                          1.628644834
                        ],
                        "iteration": 905,
                        "passed_time": 46.2403023,
                        "remaining_time": 81.35435085,
                        "test": [
                          1.230892036,
                          1.597430908
                        ]
                      },
                      {
                        "learn": [
                          1.266641884,
                          1.628494802
                        ],
                        "iteration": 910,
                        "passed_time": 46.41744242,
                        "remaining_time": 80.96302525,
                        "test": [
                          1.230854689,
                          1.59738109
                        ]
                      },
                      {
                        "learn": [
                          1.266496665,
                          1.628361005
                        ],
                        "iteration": 915,
                        "passed_time": 46.65499981,
                        "remaining_time": 80.67851495,
                        "test": [
                          1.230783556,
                          1.59732216
                        ]
                      },
                      {
                        "learn": [
                          1.266419121,
                          1.628274822
                        ],
                        "iteration": 920,
                        "passed_time": 47.17179654,
                        "remaining_time": 80.87325379,
                        "test": [
                          1.230757606,
                          1.597297186
                        ]
                      },
                      {
                        "learn": [
                          1.266305755,
                          1.628168759
                        ],
                        "iteration": 925,
                        "passed_time": 47.65460007,
                        "remaining_time": 81.00252754,
                        "test": [
                          1.230684133,
                          1.59723717
                        ]
                      },
                      {
                        "learn": [
                          1.266175191,
                          1.628051187
                        ],
                        "iteration": 930,
                        "passed_time": 48.17073419,
                        "remaining_time": 81.18139844,
                        "test": [
                          1.230576365,
                          1.597158675
                        ]
                      },
                      {
                        "learn": [
                          1.266059383,
                          1.627940046
                        ],
                        "iteration": 935,
                        "passed_time": 48.78637581,
                        "remaining_time": 81.51911513,
                        "test": [
                          1.230503197,
                          1.597108466
                        ]
                      },
                      {
                        "learn": [
                          1.265971763,
                          1.627832461
                        ],
                        "iteration": 940,
                        "passed_time": 49.54621826,
                        "remaining_time": 82.08560496,
                        "test": [
                          1.230482335,
                          1.597070363
                        ]
                      },
                      {
                        "learn": [
                          1.265860127,
                          1.627716178
                        ],
                        "iteration": 945,
                        "passed_time": 50.05663074,
                        "remaining_time": 82.22833421,
                        "test": [
                          1.23042952,
                          1.597024357
                        ]
                      },
                      {
                        "learn": [
                          1.265751646,
                          1.62758363
                        ],
                        "iteration": 950,
                        "passed_time": 50.45834947,
                        "remaining_time": 82.18715386,
                        "test": [
                          1.230401739,
                          1.596988227
                        ]
                      },
                      {
                        "learn": [
                          1.26561579,
                          1.627466517
                        ],
                        "iteration": 955,
                        "passed_time": 50.66503657,
                        "remaining_time": 81.82721388,
                        "test": [
                          1.230317682,
                          1.596926415
                        ]
                      },
                      {
                        "learn": [
                          1.265559209,
                          1.627398233
                        ],
                        "iteration": 960,
                        "passed_time": 50.82146025,
                        "remaining_time": 81.38837391,
                        "test": [
                          1.230293259,
                          1.596901435
                        ]
                      },
                      {
                        "learn": [
                          1.265450728,
                          1.627274039
                        ],
                        "iteration": 965,
                        "passed_time": 50.99400825,
                        "remaining_time": 80.97806279,
                        "test": [
                          1.23025988,
                          1.596847904
                        ]
                      },
                      {
                        "learn": [
                          1.26533838,
                          1.627144833
                        ],
                        "iteration": 970,
                        "passed_time": 51.17381837,
                        "remaining_time": 80.58163572,
                        "test": [
                          1.230221108,
                          1.596796666
                        ]
                      },
                      {
                        "learn": [
                          1.265237124,
                          1.627040134
                        ],
                        "iteration": 975,
                        "passed_time": 51.33251059,
                        "remaining_time": 80.15445301,
                        "test": [
                          1.230178469,
                          1.596762252
                        ]
                      },
                      {
                        "learn": [
                          1.265107679,
                          1.626907594
                        ],
                        "iteration": 980,
                        "passed_time": 51.51855158,
                        "remaining_time": 79.77235458,
                        "test": [
                          1.230132472,
                          1.596703682
                        ]
                      },
                      {
                        "learn": [
                          1.264992583,
                          1.626799252
                        ],
                        "iteration": 985,
                        "passed_time": 51.68556947,
                        "remaining_time": 79.36303466,
                        "test": [
                          1.230045464,
                          1.596635613
                        ]
                      },
                      {
                        "learn": [
                          1.264854794,
                          1.62667176
                        ],
                        "iteration": 990,
                        "passed_time": 51.85844373,
                        "remaining_time": 78.96507729,
                        "test": [
                          1.229932201,
                          1.596557661
                        ]
                      },
                      {
                        "learn": [
                          1.264764834,
                          1.626579982
                        ],
                        "iteration": 995,
                        "passed_time": 52.02139983,
                        "remaining_time": 78.55440296,
                        "test": [
                          1.229888646,
                          1.596515083
                        ]
                      },
                      {
                        "learn": [
                          1.264657778,
                          1.626459668
                        ],
                        "iteration": 1000,
                        "passed_time": 52.19927598,
                        "remaining_time": 78.16854614,
                        "test": [
                          1.229849569,
                          1.596479834
                        ]
                      },
                      {
                        "learn": [
                          1.264583184,
                          1.626385648
                        ],
                        "iteration": 1005,
                        "passed_time": 52.36061673,
                        "remaining_time": 77.76020019,
                        "test": [
                          1.229807744,
                          1.596445795
                        ]
                      },
                      {
                        "learn": [
                          1.264475212,
                          1.62627239
                        ],
                        "iteration": 1010,
                        "passed_time": 52.5481916,
                        "remaining_time": 77.39293501,
                        "test": [
                          1.229763273,
                          1.596402831
                        ]
                      },
                      {
                        "learn": [
                          1.264384234,
                          1.626186034
                        ],
                        "iteration": 1015,
                        "passed_time": 52.7170546,
                        "remaining_time": 77.00010731,
                        "test": [
                          1.229709949,
                          1.596356551
                        ]
                      },
                      {
                        "learn": [
                          1.264287863,
                          1.626072136
                        ],
                        "iteration": 1020,
                        "passed_time": 52.89715481,
                        "remaining_time": 76.62575119,
                        "test": [
                          1.229683185,
                          1.596324358
                        ]
                      },
                      {
                        "learn": [
                          1.264207164,
                          1.625985081
                        ],
                        "iteration": 1025,
                        "passed_time": 53.05794876,
                        "remaining_time": 76.22555211,
                        "test": [
                          1.22965866,
                          1.596300197
                        ]
                      },
                      {
                        "learn": [
                          1.264100718,
                          1.625874612
                        ],
                        "iteration": 1030,
                        "passed_time": 53.237501,
                        "remaining_time": 75.85440249,
                        "test": [
                          1.229607778,
                          1.596251173
                        ]
                      },
                      {
                        "learn": [
                          1.263992033,
                          1.625776655
                        ],
                        "iteration": 1035,
                        "passed_time": 53.4016737,
                        "remaining_time": 75.46336901,
                        "test": [
                          1.229553742,
                          1.596208777
                        ]
                      },
                      {
                        "learn": [
                          1.263871238,
                          1.625657658
                        ],
                        "iteration": 1040,
                        "passed_time": 53.58777997,
                        "remaining_time": 75.1052555,
                        "test": [
                          1.229504997,
                          1.596153247
                        ]
                      },
                      {
                        "learn": [
                          1.263789013,
                          1.625567325
                        ],
                        "iteration": 1045,
                        "passed_time": 53.74868036,
                        "remaining_time": 74.71374879,
                        "test": [
                          1.229482609,
                          1.596133419
                        ]
                      },
                      {
                        "learn": [
                          1.263681345,
                          1.62544487
                        ],
                        "iteration": 1050,
                        "passed_time": 53.92151794,
                        "remaining_time": 74.3408939,
                        "test": [
                          1.229448823,
                          1.596094145
                        ]
                      },
                      {
                        "learn": [
                          1.263565944,
                          1.625310885
                        ],
                        "iteration": 1055,
                        "passed_time": 54.08816259,
                        "remaining_time": 73.96146476,
                        "test": [
                          1.229425113,
                          1.596047919
                        ]
                      },
                      {
                        "learn": [
                          1.263464485,
                          1.625205254
                        ],
                        "iteration": 1060,
                        "passed_time": 54.26057671,
                        "remaining_time": 73.59186605,
                        "test": [
                          1.229379115,
                          1.59600775
                        ]
                      },
                      {
                        "learn": [
                          1.263382056,
                          1.625114019
                        ],
                        "iteration": 1065,
                        "passed_time": 54.42386149,
                        "remaining_time": 73.21183618,
                        "test": [
                          1.229358661,
                          1.595981417
                        ]
                      },
                      {
                        "learn": [
                          1.263289043,
                          1.625006247
                        ],
                        "iteration": 1070,
                        "passed_time": 54.61018985,
                        "remaining_time": 72.86457638,
                        "test": [
                          1.229347162,
                          1.595959227
                        ]
                      },
                      {
                        "learn": [
                          1.263168248,
                          1.624885127
                        ],
                        "iteration": 1075,
                        "passed_time": 54.77295621,
                        "remaining_time": 72.48762978,
                        "test": [
                          1.229284882,
                          1.595902222
                        ]
                      },
                      {
                        "learn": [
                          1.26311187,
                          1.624814292
                        ],
                        "iteration": 1080,
                        "passed_time": 54.93437003,
                        "remaining_time": 72.11088906,
                        "test": [
                          1.229271449,
                          1.5958829
                        ]
                      },
                      {
                        "learn": [
                          1.263026184,
                          1.62471815
                        ],
                        "iteration": 1085,
                        "passed_time": 55.09529164,
                        "remaining_time": 71.73549022,
                        "test": [
                          1.22925303,
                          1.595860773
                        ]
                      },
                      {
                        "learn": [
                          1.26292676,
                          1.624599953
                        ],
                        "iteration": 1090,
                        "passed_time": 55.27272503,
                        "remaining_time": 71.38338182,
                        "test": [
                          1.229222399,
                          1.595834692
                        ]
                      },
                      {
                        "learn": [
                          1.262792838,
                          1.624480996
                        ],
                        "iteration": 1095,
                        "passed_time": 55.44307834,
                        "remaining_time": 71.02379744,
                        "test": [
                          1.22912898,
                          1.595759572
                        ]
                      },
                      {
                        "learn": [
                          1.262679981,
                          1.624367167
                        ],
                        "iteration": 1100,
                        "passed_time": 55.63464159,
                        "remaining_time": 70.69288245,
                        "test": [
                          1.229074842,
                          1.595710594
                        ]
                      },
                      {
                        "learn": [
                          1.262563868,
                          1.624253956
                        ],
                        "iteration": 1105,
                        "passed_time": 55.80277719,
                        "remaining_time": 70.33369928,
                        "test": [
                          1.229026504,
                          1.595664167
                        ]
                      },
                      {
                        "learn": [
                          1.262469125,
                          1.62414832
                        ],
                        "iteration": 1110,
                        "passed_time": 55.96733259,
                        "remaining_time": 69.97175965,
                        "test": [
                          1.228986002,
                          1.595618312
                        ]
                      },
                      {
                        "learn": [
                          1.262366749,
                          1.624055835
                        ],
                        "iteration": 1115,
                        "passed_time": 56.13563024,
                        "remaining_time": 69.61622962,
                        "test": [
                          1.228914259,
                          1.595564866
                        ]
                      },
                      {
                        "learn": [
                          1.26227567,
                          1.62396723
                        ],
                        "iteration": 1120,
                        "passed_time": 56.33427804,
                        "remaining_time": 69.29970509,
                        "test": [
                          1.228874367,
                          1.595527874
                        ]
                      },
                      {
                        "learn": [
                          1.262191307,
                          1.623873607
                        ],
                        "iteration": 1125,
                        "passed_time": 56.4935241,
                        "remaining_time": 68.93614752,
                        "test": [
                          1.228850351,
                          1.595505742
                        ]
                      },
                      {
                        "learn": [
                          1.262104807,
                          1.623777848
                        ],
                        "iteration": 1130,
                        "passed_time": 56.68542354,
                        "remaining_time": 68.61392115,
                        "test": [
                          1.228806491,
                          1.595464219
                        ]
                      },
                      {
                        "learn": [
                          1.26200925,
                          1.623663531
                        ],
                        "iteration": 1135,
                        "passed_time": 56.85133735,
                        "remaining_time": 68.26164097,
                        "test": [
                          1.228769958,
                          1.595422568
                        ]
                      },
                      {
                        "learn": [
                          1.261939439,
                          1.623579793
                        ],
                        "iteration": 1140,
                        "passed_time": 57.01457572,
                        "remaining_time": 67.90780755,
                        "test": [
                          1.22873719,
                          1.595386976
                        ]
                      },
                      {
                        "learn": [
                          1.261851413,
                          1.623490536
                        ],
                        "iteration": 1145,
                        "passed_time": 57.20584317,
                        "remaining_time": 67.58875363,
                        "test": [
                          1.228675012,
                          1.595335946
                        ]
                      },
                      {
                        "learn": [
                          1.261762776,
                          1.623392434
                        ],
                        "iteration": 1150,
                        "passed_time": 57.37273024,
                        "remaining_time": 67.24223553,
                        "test": [
                          1.228652217,
                          1.595300671
                        ]
                      },
                      {
                        "learn": [
                          1.261709248,
                          1.623339025
                        ],
                        "iteration": 1155,
                        "passed_time": 57.53673959,
                        "remaining_time": 66.89392561,
                        "test": [
                          1.22863217,
                          1.595286254
                        ]
                      },
                      {
                        "learn": [
                          1.26160901,
                          1.623240789
                        ],
                        "iteration": 1160,
                        "passed_time": 57.73049367,
                        "remaining_time": 66.5815082,
                        "test": [
                          1.22857508,
                          1.595234839
                        ]
                      },
                      {
                        "learn": [
                          1.261500935,
                          1.623136591
                        ],
                        "iteration": 1165,
                        "passed_time": 57.90054873,
                        "remaining_time": 66.24299486,
                        "test": [
                          1.228509748,
                          1.595173087
                        ]
                      },
                      {
                        "learn": [
                          1.261414232,
                          1.62304129
                        ],
                        "iteration": 1170,
                        "passed_time": 58.06576158,
                        "remaining_time": 65.90042455,
                        "test": [
                          1.228472096,
                          1.595140806
                        ]
                      },
                      {
                        "learn": [
                          1.26133282,
                          1.622948052
                        ],
                        "iteration": 1175,
                        "passed_time": 58.24786937,
                        "remaining_time": 65.57838354,
                        "test": [
                          1.228457645,
                          1.595121284
                        ]
                      },
                      {
                        "learn": [
                          1.261220065,
                          1.622821449
                        ],
                        "iteration": 1180,
                        "passed_time": 58.41648813,
                        "remaining_time": 65.24246218,
                        "test": [
                          1.228425997,
                          1.595089067
                        ]
                      },
                      {
                        "learn": [
                          1.261146489,
                          1.62275228
                        ],
                        "iteration": 1185,
                        "passed_time": 58.58982837,
                        "remaining_time": 64.91318253,
                        "test": [
                          1.228378575,
                          1.595056402
                        ]
                      },
                      {
                        "learn": [
                          1.261046454,
                          1.622647298
                        ],
                        "iteration": 1190,
                        "passed_time": 58.76893,
                        "remaining_time": 64.59154439,
                        "test": [
                          1.228329321,
                          1.595015123
                        ]
                      },
                      {
                        "learn": [
                          1.260976338,
                          1.622563822
                        ],
                        "iteration": 1195,
                        "passed_time": 58.93134132,
                        "remaining_time": 64.25290057,
                        "test": [
                          1.228303168,
                          1.594997386
                        ]
                      },
                      {
                        "learn": [
                          1.26090897,
                          1.622483101
                        ],
                        "iteration": 1200,
                        "passed_time": 59.0964932,
                        "remaining_time": 63.91868831,
                        "test": [
                          1.228289633,
                          1.594984881
                        ]
                      },
                      {
                        "learn": [
                          1.260785224,
                          1.622357528
                        ],
                        "iteration": 1205,
                        "passed_time": 59.28291658,
                        "remaining_time": 63.60870154,
                        "test": [
                          1.228243941,
                          1.594935752
                        ]
                      },
                      {
                        "learn": [
                          1.260702286,
                          1.622263247
                        ],
                        "iteration": 1210,
                        "passed_time": 59.45073426,
                        "remaining_time": 63.27993101,
                        "test": [
                          1.228225319,
                          1.594910805
                        ]
                      },
                      {
                        "learn": [
                          1.260625963,
                          1.622178622
                        ],
                        "iteration": 1215,
                        "passed_time": 59.64544285,
                        "remaining_time": 62.9808788,
                        "test": [
                          1.228177388,
                          1.594871436
                        ]
                      },
                      {
                        "learn": [
                          1.260554829,
                          1.622091169
                        ],
                        "iteration": 1220,
                        "passed_time": 59.80736567,
                        "remaining_time": 62.648338,
                        "test": [
                          1.228172198,
                          1.594855804
                        ]
                      },
                      {
                        "learn": [
                          1.260462325,
                          1.621989972
                        ],
                        "iteration": 1225,
                        "passed_time": 59.97074766,
                        "remaining_time": 62.31870515,
                        "test": [
                          1.228140142,
                          1.594827664
                        ]
                      },
                      {
                        "learn": [
                          1.260378878,
                          1.621892407
                        ],
                        "iteration": 1230,
                        "passed_time": 60.14092961,
                        "remaining_time": 61.99743272,
                        "test": [
                          1.228124674,
                          1.594797227
                        ]
                      },
                      {
                        "learn": [
                          1.260300519,
                          1.621808328
                        ],
                        "iteration": 1235,
                        "passed_time": 60.32666736,
                        "remaining_time": 61.69329089,
                        "test": [
                          1.228100455,
                          1.594777255
                        ]
                      },
                      {
                        "learn": [
                          1.260220329,
                          1.621718408
                        ],
                        "iteration": 1240,
                        "passed_time": 60.49618386,
                        "remaining_time": 61.37364664,
                        "test": [
                          1.228080204,
                          1.594755495
                        ]
                      },
                      {
                        "learn": [
                          1.260133218,
                          1.621614238
                        ],
                        "iteration": 1245,
                        "passed_time": 60.71450987,
                        "remaining_time": 61.10433016,
                        "test": [
                          1.228050082,
                          1.594723334
                        ]
                      },
                      {
                        "learn": [
                          1.260052213,
                          1.621527696
                        ],
                        "iteration": 1250,
                        "passed_time": 61.04422716,
                        "remaining_time": 60.94663447,
                        "test": [
                          1.228024335,
                          1.594701765
                        ]
                      },
                      {
                        "learn": [
                          1.259983115,
                          1.621441965
                        ],
                        "iteration": 1255,
                        "passed_time": 61.43462907,
                        "remaining_time": 60.84767401,
                        "test": [
                          1.228001744,
                          1.594682174
                        ]
                      },
                      {
                        "learn": [
                          1.25989112,
                          1.621351586
                        ],
                        "iteration": 1260,
                        "passed_time": 62.04660937,
                        "remaining_time": 60.964115,
                        "test": [
                          1.227955543,
                          1.594645225
                        ]
                      },
                      {
                        "learn": [
                          1.259794749,
                          1.621240425
                        ],
                        "iteration": 1265,
                        "passed_time": 62.5800946,
                        "remaining_time": 60.99829126,
                        "test": [
                          1.227925014,
                          1.594607701
                        ]
                      },
                      {
                        "learn": [
                          1.259723106,
                          1.621160517
                        ],
                        "iteration": 1270,
                        "passed_time": 62.83938653,
                        "remaining_time": 60.76286864,
                        "test": [
                          1.227908223,
                          1.594593406
                        ]
                      },
                      {
                        "learn": [
                          1.259649531,
                          1.621084183
                        ],
                        "iteration": 1275,
                        "passed_time": 63.14933166,
                        "remaining_time": 60.57584793,
                        "test": [
                          1.22788095,
                          1.594575345
                        ]
                      },
                      {
                        "learn": [
                          1.259587759,
                          1.621023729
                        ],
                        "iteration": 1280,
                        "passed_time": 63.61738241,
                        "remaining_time": 60.53832096,
                        "test": [
                          1.227858969,
                          1.594558944
                        ]
                      },
                      {
                        "learn": [
                          1.259499428,
                          1.620928053
                        ],
                        "iteration": 1285,
                        "passed_time": 64.13919447,
                        "remaining_time": 60.54819758,
                        "test": [
                          1.227816432,
                          1.594515993
                        ]
                      },
                      {
                        "learn": [
                          1.259424834,
                          1.620840721
                        ],
                        "iteration": 1290,
                        "passed_time": 64.34552365,
                        "remaining_time": 60.25851131,
                        "test": [
                          1.227804729,
                          1.594497485
                        ]
                      },
                      {
                        "learn": [
                          1.259322866,
                          1.620726448
                        ],
                        "iteration": 1295,
                        "passed_time": 64.52994674,
                        "remaining_time": 59.94911718,
                        "test": [
                          1.227778271,
                          1.594466275
                        ]
                      },
                      {
                        "learn": [
                          1.259240233,
                          1.620642747
                        ],
                        "iteration": 1300,
                        "passed_time": 64.72128386,
                        "remaining_time": 59.64705561,
                        "test": [
                          1.227735123,
                          1.594425747
                        ]
                      },
                      {
                        "learn": [
                          1.259153021,
                          1.620544034
                        ],
                        "iteration": 1305,
                        "passed_time": 64.95329869,
                        "remaining_time": 59.38303111,
                        "test": [
                          1.227719757,
                          1.594405004
                        ]
                      },
                      {
                        "learn": [
                          1.259083922,
                          1.620458503
                        ],
                        "iteration": 1310,
                        "passed_time": 65.11337875,
                        "remaining_time": 59.05401017,
                        "test": [
                          1.227704696,
                          1.594377367
                        ]
                      },
                      {
                        "learn": [
                          1.258999458,
                          1.620367252
                        ],
                        "iteration": 1315,
                        "passed_time": 65.27585259,
                        "remaining_time": 58.72842664,
                        "test": [
                          1.227667348,
                          1.594350113
                        ]
                      },
                      {
                        "learn": [
                          1.25891825,
                          1.620275117
                        ],
                        "iteration": 1320,
                        "passed_time": 65.45422415,
                        "remaining_time": 58.41826667,
                        "test": [
                          1.227645978,
                          1.594324518
                        ]
                      },
                      {
                        "learn": [
                          1.258807631,
                          1.620150252
                        ],
                        "iteration": 1325,
                        "passed_time": 65.61845791,
                        "remaining_time": 58.09658339,
                        "test": [
                          1.227598149,
                          1.594288008
                        ]
                      },
                      {
                        "learn": [
                          1.258716654,
                          1.620043028
                        ],
                        "iteration": 1330,
                        "passed_time": 65.77774009,
                        "remaining_time": 57.77173416,
                        "test": [
                          1.227558359,
                          1.594253475
                        ]
                      },
                      {
                        "learn": [
                          1.258619876,
                          1.619938813
                        ],
                        "iteration": 1335,
                        "passed_time": 65.96179476,
                        "remaining_time": 57.46970741,
                        "test": [
                          1.22753241,
                          1.594230304
                        ]
                      },
                      {
                        "learn": [
                          1.2585521,
                          1.619861103
                        ],
                        "iteration": 1340,
                        "passed_time": 66.13186089,
                        "remaining_time": 57.15647037,
                        "test": [
                          1.227493129,
                          1.594202281
                        ]
                      },
                      {
                        "learn": [
                          1.258466618,
                          1.619759263
                        ],
                        "iteration": 1345,
                        "passed_time": 66.29477614,
                        "remaining_time": 56.83816617,
                        "test": [
                          1.227460056,
                          1.594172598
                        ]
                      },
                      {
                        "learn": [
                          1.25838022,
                          1.619662632
                        ],
                        "iteration": 1350,
                        "passed_time": 66.47322165,
                        "remaining_time": 56.53422033,
                        "test": [
                          1.227434411,
                          1.594142085
                        ]
                      },
                      {
                        "learn": [
                          1.258300741,
                          1.619576238
                        ],
                        "iteration": 1355,
                        "passed_time": 66.66291135,
                        "remaining_time": 56.24068627,
                        "test": [
                          1.227400422,
                          1.594114699
                        ]
                      },
                      {
                        "learn": [
                          1.258228692,
                          1.619495305
                        ],
                        "iteration": 1360,
                        "passed_time": 66.8312933,
                        "remaining_time": 55.93008308,
                        "test": [
                          1.227371827,
                          1.594092931
                        ]
                      },
                      {
                        "learn": [
                          1.258135476,
                          1.619393066
                        ],
                        "iteration": 1365,
                        "passed_time": 67.02214064,
                        "remaining_time": 55.63917093,
                        "test": [
                          1.227342417,
                          1.594068736
                        ]
                      },
                      {
                        "learn": [
                          1.258070957,
                          1.619323876
                        ],
                        "iteration": 1370,
                        "passed_time": 67.18316712,
                        "remaining_time": 55.32443157,
                        "test": [
                          1.227330205,
                          1.594058585
                        ]
                      },
                      {
                        "learn": [
                          1.258003996,
                          1.619245005
                        ],
                        "iteration": 1375,
                        "passed_time": 67.34805291,
                        "remaining_time": 55.01396182,
                        "test": [
                          1.22732471,
                          1.594045115
                        ]
                      },
                      {
                        "learn": [
                          1.257927367,
                          1.619161165
                        ],
                        "iteration": 1380,
                        "passed_time": 67.52651866,
                        "remaining_time": 54.71554987,
                        "test": [
                          1.227293469,
                          1.594020345
                        ]
                      },
                      {
                        "learn": [
                          1.257857455,
                          1.619079898
                        ],
                        "iteration": 1385,
                        "passed_time": 67.68739695,
                        "remaining_time": 54.40386739,
                        "test": [
                          1.227257342,
                          1.593986765
                        ]
                      },
                      {
                        "learn": [
                          1.257763017,
                          1.618990329
                        ],
                        "iteration": 1390,
                        "passed_time": 67.85638575,
                        "remaining_time": 54.0997353,
                        "test": [
                          1.227210022,
                          1.593950183
                        ]
                      },
                      {
                        "learn": [
                          1.257687813,
                          1.618901133
                        ],
                        "iteration": 1395,
                        "passed_time": 68.02849711,
                        "remaining_time": 53.79904069,
                        "test": [
                          1.227191705,
                          1.593926241
                        ]
                      },
                      {
                        "learn": [
                          1.257623803,
                          1.618829722
                        ],
                        "iteration": 1400,
                        "passed_time": 68.19360712,
                        "remaining_time": 53.49377176,
                        "test": [
                          1.227149066,
                          1.593896298
                        ]
                      },
                      {
                        "learn": [
                          1.257522038,
                          1.618723354
                        ],
                        "iteration": 1405,
                        "passed_time": 68.36286627,
                        "remaining_time": 53.19272809,
                        "test": [
                          1.227095233,
                          1.593852435
                        ]
                      },
                      {
                        "learn": [
                          1.257455993,
                          1.618648226
                        ],
                        "iteration": 1410,
                        "passed_time": 68.54870868,
                        "remaining_time": 52.90541726,
                        "test": [
                          1.227081698,
                          1.593834877
                        ]
                      },
                      {
                        "learn": [
                          1.257374785,
                          1.618553918
                        ],
                        "iteration": 1415,
                        "passed_time": 68.71081281,
                        "remaining_time": 52.60065049,
                        "test": [
                          1.227062872,
                          1.593816105
                        ]
                      },
                      {
                        "learn": [
                          1.257305992,
                          1.618479851
                        ],
                        "iteration": 1420,
                        "passed_time": 68.87965294,
                        "remaining_time": 52.30200248,
                        "test": [
                          1.227040688,
                          1.593802441
                        ]
                      },
                      {
                        "learn": [
                          1.257223155,
                          1.618383269
                        ],
                        "iteration": 1425,
                        "passed_time": 69.05860572,
                        "remaining_time": 52.01188117,
                        "test": [
                          1.227006902,
                          1.593768281
                        ]
                      },
                      {
                        "learn": [
                          1.257124545,
                          1.618279953
                        ],
                        "iteration": 1430,
                        "passed_time": 69.22170071,
                        "remaining_time": 51.71069047,
                        "test": [
                          1.226959887,
                          1.59372748
                        ]
                      },
                      {
                        "learn": [
                          1.257048527,
                          1.618187322
                        ],
                        "iteration": 1435,
                        "passed_time": 69.38585629,
                        "remaining_time": 51.41124728,
                        "test": [
                          1.22693984,
                          1.59371273
                        ]
                      },
                      {
                        "learn": [
                          1.256961213,
                          1.618094182
                        ],
                        "iteration": 1440,
                        "passed_time": 69.55824883,
                        "remaining_time": 51.11879633,
                        "test": [
                          1.226890179,
                          1.593661583
                        ]
                      },
                      {
                        "learn": [
                          1.256864333,
                          1.617982608
                        ],
                        "iteration": 1445,
                        "passed_time": 69.72102814,
                        "remaining_time": 50.82016851,
                        "test": [
                          1.226841333,
                          1.593620715
                        ]
                      },
                      {
                        "learn": [
                          1.25680531,
                          1.617913421
                        ],
                        "iteration": 1450,
                        "passed_time": 69.88323665,
                        "remaining_time": 50.52206426,
                        "test": [
                          1.226838381,
                          1.593611583
                        ]
                      },
                      {
                        "learn": [
                          1.256708837,
                          1.617815485
                        ],
                        "iteration": 1455,
                        "passed_time": 70.08157346,
                        "remaining_time": 50.25079855,
                        "test": [
                          1.226772337,
                          1.593566436
                        ]
                      },
                      {
                        "learn": [
                          1.25664849,
                          1.617739371
                        ],
                        "iteration": 1460,
                        "passed_time": 70.24482606,
                        "remaining_time": 49.95508164,
                        "test": [
                          1.226750458,
                          1.593541147
                        ]
                      },
                      {
                        "learn": [
                          1.256563924,
                          1.617651049
                        ],
                        "iteration": 1465,
                        "passed_time": 70.41062624,
                        "remaining_time": 49.66206516,
                        "test": [
                          1.226721964,
                          1.593512282
                        ]
                      },
                      {
                        "learn": [
                          1.256490551,
                          1.617575305
                        ],
                        "iteration": 1470,
                        "passed_time": 70.58954123,
                        "remaining_time": 49.37908764,
                        "test": [
                          1.226691536,
                          1.593486929
                        ]
                      },
                      {
                        "learn": [
                          1.256397335,
                          1.61747458
                        ],
                        "iteration": 1475,
                        "passed_time": 70.75282812,
                        "remaining_time": 49.0859729,
                        "test": [
                          1.226655512,
                          1.593453018
                        ]
                      },
                      {
                        "learn": [
                          1.256317348,
                          1.617386936
                        ],
                        "iteration": 1480,
                        "passed_time": 70.91635897,
                        "remaining_time": 48.79390263,
                        "test": [
                          1.226619488,
                          1.593424854
                        ]
                      },
                      {
                        "learn": [
                          1.256238786,
                          1.61730042
                        ],
                        "iteration": 1485,
                        "passed_time": 71.10321065,
                        "remaining_time": 48.51861077,
                        "test": [
                          1.22659079,
                          1.593394582
                        ]
                      },
                      {
                        "learn": [
                          1.25616521,
                          1.617216542
                        ],
                        "iteration": 1490,
                        "passed_time": 71.27121288,
                        "remaining_time": 48.23115613,
                        "test": [
                          1.226580817,
                          1.593387429
                        ]
                      },
                      {
                        "learn": [
                          1.25608217,
                          1.617127311
                        ],
                        "iteration": 1495,
                        "passed_time": 71.4370683,
                        "remaining_time": 47.9430592,
                        "test": [
                          1.226541435,
                          1.593349939
                        ]
                      },
                      {
                        "learn": [
                          1.255993431,
                          1.617028886
                        ],
                        "iteration": 1500,
                        "passed_time": 71.62534553,
                        "remaining_time": 47.67069966,
                        "test": [
                          1.226512534,
                          1.593321517
                        ]
                      },
                      {
                        "learn": [
                          1.255920567,
                          1.616939896
                        ],
                        "iteration": 1505,
                        "passed_time": 71.79939962,
                        "remaining_time": 47.38951077,
                        "test": [
                          1.226503172,
                          1.593307147
                        ]
                      },
                      {
                        "learn": [
                          1.255841394,
                          1.61684958
                        ],
                        "iteration": 1510,
                        "passed_time": 71.9651596,
                        "remaining_time": 47.10360215,
                        "test": [
                          1.22647885,
                          1.593277192
                        ]
                      },
                      {
                        "learn": [
                          1.255760797,
                          1.616755293
                        ],
                        "iteration": 1515,
                        "passed_time": 72.14304861,
                        "remaining_time": 46.82635873,
                        "test": [
                          1.22645809,
                          1.593258733
                        ]
                      },
                      {
                        "learn": [
                          1.255694853,
                          1.616686683
                        ],
                        "iteration": 1520,
                        "passed_time": 72.34359303,
                        "remaining_time": 46.56435081,
                        "test": [
                          1.226422982,
                          1.593231651
                        ]
                      },
                      {
                        "learn": [
                          1.25562718,
                          1.616612152
                        ],
                        "iteration": 1525,
                        "passed_time": 72.50365373,
                        "remaining_time": 46.27690612,
                        "test": [
                          1.226403342,
                          1.593212936
                        ]
                      },
                      {
                        "learn": [
                          1.25554994,
                          1.616522573
                        ],
                        "iteration": 1530,
                        "passed_time": 72.68074599,
                        "remaining_time": 46.00107307,
                        "test": [
                          1.226381462,
                          1.593185087
                        ]
                      },
                      {
                        "learn": [
                          1.255497226,
                          1.61646327
                        ],
                        "iteration": 1535,
                        "passed_time": 72.85731134,
                        "remaining_time": 45.72555217,
                        "test": [
                          1.226370879,
                          1.593176528
                        ]
                      },
                      {
                        "learn": [
                          1.255418053,
                          1.61637469
                        ],
                        "iteration": 1540,
                        "passed_time": 73.0284394,
                        "remaining_time": 45.44728967,
                        "test": [
                          1.226338315,
                          1.593158835
                        ]
                      },
                      {
                        "learn": [
                          1.255354145,
                          1.616299453
                        ],
                        "iteration": 1545,
                        "passed_time": 73.20751382,
                        "remaining_time": 45.17462366,
                        "test": [
                          1.226317657,
                          1.593139161
                        ]
                      },
                      {
                        "learn": [
                          1.255292578,
                          1.616231642
                        ],
                        "iteration": 1550,
                        "passed_time": 73.36847074,
                        "remaining_time": 44.89147565,
                        "test": [
                          1.226286415,
                          1.59312019
                        ]
                      },
                      {
                        "learn": [
                          1.255220121,
                          1.616153186
                        ],
                        "iteration": 1555,
                        "passed_time": 73.53489738,
                        "remaining_time": 44.61243131,
                        "test": [
                          1.22626016,
                          1.593099557
                        ]
                      },
                      {
                        "learn": [
                          1.255165677,
                          1.616093178
                        ],
                        "iteration": 1560,
                        "passed_time": 73.71466799,
                        "remaining_time": 44.34213532,
                        "test": [
                          1.226236856,
                          1.593086399
                        ]
                      },
                      {
                        "learn": [
                          1.255101158,
                          1.616013897
                        ],
                        "iteration": 1565,
                        "passed_time": 73.8810901,
                        "remaining_time": 44.06445604,
                        "test": [
                          1.226228817,
                          1.593070557
                        ]
                      },
                      {
                        "learn": [
                          1.255030228,
                          1.615921765
                        ],
                        "iteration": 1570,
                        "passed_time": 74.04133587,
                        "remaining_time": 43.78383261,
                        "test": [
                          1.226215384,
                          1.593053437
                        ]
                      },
                      {
                        "learn": [
                          1.254934773,
                          1.615819741
                        ],
                        "iteration": 1575,
                        "passed_time": 74.2417072,
                        "remaining_time": 43.52749838,
                        "test": [
                          1.226185262,
                          1.593020028
                        ]
                      },
                      {
                        "learn": [
                          1.254852751,
                          1.615723126
                        ],
                        "iteration": 1580,
                        "passed_time": 74.4098954,
                        "remaining_time": 43.2528108,
                        "test": [
                          1.226164808,
                          1.592997286
                        ]
                      },
                      {
                        "learn": [
                          1.254761366,
                          1.615622349
                        ],
                        "iteration": 1585,
                        "passed_time": 74.60363905,
                        "remaining_time": 42.99352212,
                        "test": [
                          1.226143946,
                          1.592972244
                        ]
                      },
                      {
                        "learn": [
                          1.254693489,
                          1.615552619
                        ],
                        "iteration": 1590,
                        "passed_time": 74.77417123,
                        "remaining_time": 42.72138382,
                        "test": [
                          1.226119217,
                          1.592951418
                        ]
                      },
                      {
                        "learn": [
                          1.254642607,
                          1.615490698
                        ],
                        "iteration": 1595,
                        "passed_time": 75.17953124,
                        "remaining_time": 42.58289238,
                        "test": [
                          1.226102223,
                          1.592935127
                        ]
                      },
                      {
                        "learn": [
                          1.254546541,
                          1.615378126
                        ],
                        "iteration": 1600,
                        "passed_time": 75.83537262,
                        "remaining_time": 42.58338537,
                        "test": [
                          1.226087569,
                          1.592916537
                        ]
                      },
                      {
                        "learn": [
                          1.254479987,
                          1.615303346
                        ],
                        "iteration": 1605,
                        "passed_time": 76.53171816,
                        "remaining_time": 42.60233875,
                        "test": [
                          1.226068234,
                          1.592899927
                        ]
                      },
                      {
                        "learn": [
                          1.254400203,
                          1.615215584
                        ],
                        "iteration": 1610,
                        "passed_time": 76.97781166,
                        "remaining_time": 42.47875516,
                        "test": [
                          1.226040758,
                          1.592881144
                        ]
                      },
                      {
                        "learn": [
                          1.25431757,
                          1.61511635
                        ],
                        "iteration": 1615,
                        "passed_time": 77.58285296,
                        "remaining_time": 42.44012501,
                        "test": [
                          1.226033939,
                          1.592865684
                        ]
                      },
                      {
                        "learn": [
                          1.254232597,
                          1.615024798
                        ],
                        "iteration": 1620,
                        "passed_time": 78.14635393,
                        "remaining_time": 42.37547508,
                        "test": [
                          1.225968098,
                          1.592816106
                        ]
                      },
                      {
                        "learn": [
                          1.254159937,
                          1.614939982
                        ],
                        "iteration": 1625,
                        "passed_time": 78.46804088,
                        "remaining_time": 42.17777843,
                        "test": [
                          1.225942963,
                          1.592790806
                        ]
                      },
                      {
                        "learn": [
                          1.254106205,
                          1.614882323
                        ],
                        "iteration": 1630,
                        "passed_time": 78.7769573,
                        "remaining_time": 41.97251741,
                        "test": [
                          1.225929326,
                          1.592774706
                        ]
                      },
                      {
                        "learn": [
                          1.254063769,
                          1.614829199
                        ],
                        "iteration": 1635,
                        "passed_time": 79.05869226,
                        "remaining_time": 41.7522678,
                        "test": [
                          1.225911416,
                          1.592759691
                        ]
                      },
                      {
                        "learn": [
                          1.253995485,
                          1.614750739
                        ],
                        "iteration": 1640,
                        "passed_time": 79.2229267,
                        "remaining_time": 41.47013652,
                        "test": [
                          1.225892081,
                          1.592742824
                        ]
                      },
                      {
                        "learn": [
                          1.253933816,
                          1.614676182
                        ],
                        "iteration": 1645,
                        "passed_time": 79.41048528,
                        "remaining_time": 41.20082286,
                        "test": [
                          1.225877223,
                          1.592727362
                        ]
                      },
                      {
                        "learn": [
                          1.253880898,
                          1.614605088
                        ],
                        "iteration": 1650,
                        "passed_time": 79.58019575,
                        "remaining_time": 40.92282628,
                        "test": [
                          1.225864198,
                          1.592715031
                        ]
                      },
                      {
                        "learn": [
                          1.253814853,
                          1.614530399
                        ],
                        "iteration": 1655,
                        "passed_time": 79.76557336,
                        "remaining_time": 40.65346855,
                        "test": [
                          1.225845677,
                          1.59269976
                        ]
                      },
                      {
                        "learn": [
                          1.253758475,
                          1.614463837
                        ],
                        "iteration": 1660,
                        "passed_time": 79.92968022,
                        "remaining_time": 40.37387219,
                        "test": [
                          1.225811688,
                          1.592678036
                        ]
                      },
                      {
                        "learn": [
                          1.253686731,
                          1.614375841
                        ],
                        "iteration": 1665,
                        "passed_time": 80.09664978,
                        "remaining_time": 40.09640211,
                        "test": [
                          1.225789198,
                          1.592659826
                        ]
                      },
                      {
                        "learn": [
                          1.253611527,
                          1.614292756
                        ],
                        "iteration": 1670,
                        "passed_time": 80.27057228,
                        "remaining_time": 39.82304274,
                        "test": [
                          1.225771491,
                          1.592639124
                        ]
                      },
                      {
                        "learn": [
                          1.25353846,
                          1.614203237
                        ],
                        "iteration": 1675,
                        "passed_time": 80.46225446,
                        "remaining_time": 39.55900816,
                        "test": [
                          1.22576335,
                          1.592629411
                        ]
                      },
                      {
                        "learn": [
                          1.253461627,
                          1.61411012
                        ],
                        "iteration": 1680,
                        "passed_time": 80.6320313,
                        "remaining_time": 39.28473149,
                        "test": [
                          1.22574605,
                          1.592615418
                        ]
                      },
                      {
                        "learn": [
                          1.253380724,
                          1.614027778
                        ],
                        "iteration": 1685,
                        "passed_time": 80.80821859,
                        "remaining_time": 39.01416959,
                        "test": [
                          1.22570565,
                          1.592591904
                        ]
                      },
                      {
                        "learn": [
                          1.253309082,
                          1.613943037
                        ],
                        "iteration": 1690,
                        "passed_time": 80.978086,
                        "remaining_time": 38.74114227,
                        "test": [
                          1.225686823,
                          1.592571712
                        ]
                      },
                      {
                        "learn": [
                          1.253251687,
                          1.613875379
                        ],
                        "iteration": 1695,
                        "passed_time": 81.15747734,
                        "remaining_time": 38.47323808,
                        "test": [
                          1.225682448,
                          1.592557909
                        ]
                      },
                      {
                        "learn": [
                          1.253192256,
                          1.613804629
                        ],
                        "iteration": 1700,
                        "passed_time": 81.32537401,
                        "remaining_time": 38.20045493,
                        "test": [
                          1.225668302,
                          1.592545832
                        ]
                      },
                      {
                        "learn": [
                          1.253134352,
                          1.613735388
                        ],
                        "iteration": 1705,
                        "passed_time": 81.53165389,
                        "remaining_time": 37.94615076,
                        "test": [
                          1.225657516,
                          1.592533436
                        ]
                      },
                      {
                        "learn": [
                          1.253084793,
                          1.613671758
                        ],
                        "iteration": 1710,
                        "passed_time": 81.69400584,
                        "remaining_time": 37.67187061,
                        "test": [
                          1.225650799,
                          1.592531199
                        ]
                      },
                      {
                        "learn": [
                          1.253017425,
                          1.61359053
                        ],
                        "iteration": 1715,
                        "passed_time": 82.03722376,
                        "remaining_time": 37.48087612,
                        "test": [
                          1.225638384,
                          1.592517269
                        ]
                      },
                      {
                        "learn": [
                          1.252961352,
                          1.613518064
                        ],
                        "iteration": 1720,
                        "passed_time": 82.31514459,
                        "remaining_time": 37.25944081,
                        "test": [
                          1.225634619,
                          1.592510431
                        ]
                      },
                      {
                        "learn": [
                          1.252901718,
                          1.613450325
                        ],
                        "iteration": 1725,
                        "passed_time": 82.53117748,
                        "remaining_time": 37.00992548,
                        "test": [
                          1.225612434,
                          1.592494712
                        ]
                      },
                      {
                        "learn": [
                          1.252829669,
                          1.613366941
                        ],
                        "iteration": 1730,
                        "passed_time": 83.01233147,
                        "remaining_time": 36.87838411,
                        "test": [
                          1.225595643,
                          1.592486724
                        ]
                      },
                      {
                        "learn": [
                          1.252766168,
                          1.613285192
                        ],
                        "iteration": 1735,
                        "passed_time": 83.49685537,
                        "remaining_time": 36.74631192,
                        "test": [
                          1.22557468,
                          1.592462441
                        ]
                      },
                      {
                        "learn": [
                          1.252694016,
                          1.613205963
                        ],
                        "iteration": 1740,
                        "passed_time": 83.79178624,
                        "remaining_time": 36.52956103,
                        "test": [
                          1.22555158,
                          1.59244327
                        ]
                      },
                      {
                        "learn": [
                          1.252623188,
                          1.613125594
                        ],
                        "iteration": 1745,
                        "passed_time": 83.98294232,
                        "remaining_time": 36.26754783,
                        "test": [
                          1.225540894,
                          1.592432725
                        ]
                      },
                      {
                        "learn": [
                          1.252545135,
                          1.613037146
                        ],
                        "iteration": 1750,
                        "passed_time": 84.19135342,
                        "remaining_time": 36.01332022,
                        "test": [
                          1.225514029,
                          1.592411189
                        ]
                      },
                      {
                        "learn": [
                          1.252477665,
                          1.612951532
                        ],
                        "iteration": 1755,
                        "passed_time": 84.68283916,
                        "remaining_time": 35.87928948,
                        "test": [
                          1.225509856,
                          1.592398792
                        ]
                      },
                      {
                        "learn": [
                          1.252395032,
                          1.61286257
                        ],
                        "iteration": 1760,
                        "passed_time": 84.84615952,
                        "remaining_time": 35.60551498,
                        "test": [
                          1.225501308,
                          1.592389589
                        ]
                      },
                      {
                        "learn": [
                          1.252319115,
                          1.612767797
                        ],
                        "iteration": 1765,
                        "passed_time": 85.02847741,
                        "remaining_time": 35.34026185,
                        "test": [
                          1.225488893,
                          1.592378278
                        ]
                      },
                      {
                        "learn": [
                          1.252266401,
                          1.612705012
                        ],
                        "iteration": 1770,
                        "passed_time": 85.18664131,
                        "remaining_time": 35.06553445,
                        "test": [
                          1.225484416,
                          1.592373037
                        ]
                      },
                      {
                        "learn": [
                          1.252189772,
                          1.612609347
                        ],
                        "iteration": 1775,
                        "passed_time": 85.3503716,
                        "remaining_time": 34.79373257,
                        "test": [
                          1.225477496,
                          1.592358978
                        ]
                      },
                      {
                        "learn": [
                          1.252125355,
                          1.61254056
                        ],
                        "iteration": 1780,
                        "passed_time": 85.52662586,
                        "remaining_time": 34.52759348,
                        "test": [
                          1.225441166,
                          1.592336163
                        ]
                      },
                      {
                        "learn": [
                          1.252048218,
                          1.612447914
                        ],
                        "iteration": 1785,
                        "passed_time": 85.71608233,
                        "remaining_time": 34.2672356,
                        "test": [
                          1.225436078,
                          1.592322997
                        ]
                      },
                      {
                        "learn": [
                          1.251959886,
                          1.612353433
                        ],
                        "iteration": 1790,
                        "passed_time": 85.89187574,
                        "remaining_time": 34.00186483,
                        "test": [
                          1.225407889,
                          1.592303952
                        ]
                      },
                      {
                        "learn": [
                          1.251890381,
                          1.612274284
                        ],
                        "iteration": 1795,
                        "passed_time": 86.0585564,
                        "remaining_time": 33.73342077,
                        "test": [
                          1.225385196,
                          1.592282926
                        ]
                      },
                      {
                        "learn": [
                          1.251818535,
                          1.612193175
                        ],
                        "iteration": 1800,
                        "passed_time": 86.2264854,
                        "remaining_time": 33.46602626,
                        "test": [
                          1.225352835,
                          1.592262091
                        ]
                      },
                      {
                        "learn": [
                          1.251751268,
                          1.612114333
                        ],
                        "iteration": 1805,
                        "passed_time": 86.38902904,
                        "remaining_time": 33.19711304,
                        "test": [
                          1.225331668,
                          1.592248861
                        ]
                      },
                      {
                        "learn": [
                          1.251668025,
                          1.612016802
                        ],
                        "iteration": 1810,
                        "passed_time": 86.55785385,
                        "remaining_time": 32.93117687,
                        "test": [
                          1.225303378,
                          1.592214285
                        ]
                      },
                      {
                        "learn": [
                          1.251576233,
                          1.611916488
                        ],
                        "iteration": 1815,
                        "passed_time": 86.74878694,
                        "remaining_time": 32.67410257,
                        "test": [
                          1.225283941,
                          1.592195877
                        ]
                      },
                      {
                        "learn": [
                          1.251496958,
                          1.61183435
                        ],
                        "iteration": 1820,
                        "passed_time": 86.92646573,
                        "remaining_time": 32.41244933,
                        "test": [
                          1.225245474,
                          1.592166221
                        ]
                      },
                      {
                        "learn": [
                          1.251414224,
                          1.611729541
                        ],
                        "iteration": 1825,
                        "passed_time": 87.09028213,
                        "remaining_time": 32.14613919,
                        "test": [
                          1.225229497,
                          1.592144937
                        ]
                      },
                      {
                        "learn": [
                          1.251349298,
                          1.611664505
                        ],
                        "iteration": 1830,
                        "passed_time": 87.26144053,
                        "remaining_time": 31.88307139,
                        "test": [
                          1.225205583,
                          1.592127041
                        ]
                      },
                      {
                        "learn": [
                          1.251259847,
                          1.611566126
                        ],
                        "iteration": 1835,
                        "passed_time": 87.43268497,
                        "remaining_time": 31.6205353,
                        "test": [
                          1.22516905,
                          1.592110358
                        ]
                      },
                      {
                        "learn": [
                          1.251185864,
                          1.611477213
                        ],
                        "iteration": 1840,
                        "passed_time": 87.65978438,
                        "remaining_time": 31.37848881,
                        "test": [
                          1.225153276,
                          1.592085302
                        ]
                      },
                      {
                        "learn": [
                          1.251123075,
                          1.611413431
                        ],
                        "iteration": 1845,
                        "passed_time": 87.82509025,
                        "remaining_time": 31.11463111,
                        "test": [
                          1.225129871,
                          1.592068747
                        ]
                      },
                      {
                        "learn": [
                          1.251059879,
                          1.611344909
                        ],
                        "iteration": 1850,
                        "passed_time": 88.00468838,
                        "remaining_time": 30.85631699,
                        "test": [
                          1.225116438,
                          1.592047846
                        ]
                      },
                      {
                        "learn": [
                          1.250998617,
                          1.611267795
                        ],
                        "iteration": 1855,
                        "passed_time": 88.16792607,
                        "remaining_time": 30.59275021,
                        "test": [
                          1.225109315,
                          1.592028606
                        ]
                      },
                      {
                        "learn": [
                          1.250924125,
                          1.611176402
                        ],
                        "iteration": 1860,
                        "passed_time": 88.33102681,
                        "remaining_time": 30.32967551,
                        "test": [
                          1.225089471,
                          1.592000225
                        ]
                      },
                      {
                        "learn": [
                          1.250849633,
                          1.611093027
                        ],
                        "iteration": 1865,
                        "passed_time": 88.49159424,
                        "remaining_time": 30.06627586,
                        "test": [
                          1.225081533,
                          1.591988079
                        ]
                      },
                      {
                        "learn": [
                          1.250773819,
                          1.611005604
                        ],
                        "iteration": 1870,
                        "passed_time": 88.68271007,
                        "remaining_time": 29.81369569,
                        "test": [
                          1.22506403,
                          1.591964108
                        ]
                      },
                      {
                        "learn": [
                          1.250699937,
                          1.610925694
                        ],
                        "iteration": 1875,
                        "passed_time": 88.84979317,
                        "remaining_time": 29.55344933,
                        "test": [
                          1.225043473,
                          1.591948511
                        ]
                      },
                      {
                        "learn": [
                          1.250646613,
                          1.610866311
                        ],
                        "iteration": 1880,
                        "passed_time": 89.11484991,
                        "remaining_time": 29.32593944,
                        "test": [
                          1.225023833,
                          1.591931763
                        ]
                      },
                      {
                        "learn": [
                          1.250572223,
                          1.610772875
                        ],
                        "iteration": 1885,
                        "passed_time": 89.49386068,
                        "remaining_time": 29.13532898,
                        "test": [
                          1.225008976,
                          1.59191706
                        ]
                      },
                      {
                        "learn": [
                          1.250514624,
                          1.61071873
                        ],
                        "iteration": 1890,
                        "passed_time": 90.07197227,
                        "remaining_time": 29.007843,
                        "test": [
                          1.224980176,
                          1.591899225
                        ]
                      },
                      {
                        "learn": [
                          1.250449189,
                          1.610639122
                        ],
                        "iteration": 1895,
                        "passed_time": 90.40121387,
                        "remaining_time": 28.79869893,
                        "test": [
                          1.224971425,
                          1.591889891
                        ]
                      },
                      {
                        "learn": [
                          1.250374189,
                          1.610552623
                        ],
                        "iteration": 1900,
                        "passed_time": 90.91002677,
                        "remaining_time": 28.64550554,
                        "test": [
                          1.224956262,
                          1.591872567
                        ]
                      },
                      {
                        "learn": [
                          1.250313944,
                          1.610480652
                        ],
                        "iteration": 1905,
                        "passed_time": 91.6059487,
                        "remaining_time": 28.54875841,
                        "test": [
                          1.224941303,
                          1.591850065
                        ]
                      },
                      {
                        "learn": [
                          1.250240877,
                          1.61040179
                        ],
                        "iteration": 1910,
                        "passed_time": 92.20358659,
                        "remaining_time": 28.4185832,
                        "test": [
                          1.224919831,
                          1.591835297
                        ]
                      },
                      {
                        "learn": [
                          1.250173611,
                          1.610319575
                        ],
                        "iteration": 1915,
                        "passed_time": 92.75237508,
                        "remaining_time": 28.27107883,
                        "test": [
                          1.224901106,
                          1.591819955
                        ]
                      },
                      {
                        "learn": [
                          1.250099424,
                          1.610238367
                        ],
                        "iteration": 1920,
                        "passed_time": 93.17031448,
                        "remaining_time": 28.0820469,
                        "test": [
                          1.224867626,
                          1.591801607
                        ]
                      },
                      {
                        "learn": [
                          1.250055258,
                          1.610184205
                        ],
                        "iteration": 1925,
                        "passed_time": 93.34439789,
                        "remaining_time": 27.81915077,
                        "test": [
                          1.224867626,
                          1.591797323
                        ]
                      },
                      {
                        "learn": [
                          1.250002951,
                          1.610118791
                        ],
                        "iteration": 1930,
                        "passed_time": 93.50694695,
                        "remaining_time": 27.5533158,
                        "test": [
                          1.224862131,
                          1.591790163
                        ]
                      },
                      {
                        "learn": [
                          1.249936194,
                          1.610036561
                        ],
                        "iteration": 1935,
                        "passed_time": 93.68071596,
                        "remaining_time": 27.29128296,
                        "test": [
                          1.224855312,
                          1.591780638
                        ]
                      },
                      {
                        "learn": [
                          1.249871064,
                          1.609961534
                        ],
                        "iteration": 1940,
                        "passed_time": 93.84072019,
                        "remaining_time": 27.02574064,
                        "test": [
                          1.224835774,
                          1.59176766
                        ]
                      },
                      {
                        "learn": [
                          1.249814687,
                          1.609890358
                        ],
                        "iteration": 1945,
                        "passed_time": 94.03060478,
                        "remaining_time": 26.7692472,
                        "test": [
                          1.224829159,
                          1.591762545
                        ]
                      },
                      {
                        "learn": [
                          1.249757597,
                          1.609829168
                        ],
                        "iteration": 1950,
                        "passed_time": 94.21253719,
                        "remaining_time": 26.51085747,
                        "test": [
                          1.224812266,
                          1.591745284
                        ]
                      },
                      {
                        "learn": [
                          1.249717094,
                          1.609780998
                        ],
                        "iteration": 1955,
                        "passed_time": 94.37318217,
                        "remaining_time": 26.24693819,
                        "test": [
                          1.224800156,
                          1.591737867
                        ]
                      },
                      {
                        "learn": [
                          1.249670588,
                          1.609722079
                        ],
                        "iteration": 1960,
                        "passed_time": 94.53814277,
                        "remaining_time": 25.98473175,
                        "test": [
                          1.224792015,
                          1.5917293
                        ]
                      },
                      {
                        "learn": [
                          1.249602202,
                          1.609650134
                        ],
                        "iteration": 1965,
                        "passed_time": 94.70522398,
                        "remaining_time": 25.72359593,
                        "test": [
                          1.224763114,
                          1.591704558
                        ]
                      },
                      {
                        "learn": [
                          1.2495444,
                          1.609591843
                        ],
                        "iteration": 1970,
                        "passed_time": 94.88114028,
                        "remaining_time": 25.46530858,
                        "test": [
                          1.224731161,
                          1.591668243
                        ]
                      },
                      {
                        "learn": [
                          1.249470315,
                          1.609502505
                        ],
                        "iteration": 1975,
                        "passed_time": 95.07474218,
                        "remaining_time": 25.21212799,
                        "test": [
                          1.224727497,
                          1.591663704
                        ]
                      },
                      {
                        "learn": [
                          1.249388903,
                          1.609407408
                        ],
                        "iteration": 1980,
                        "passed_time": 95.25680432,
                        "remaining_time": 24.95622486,
                        "test": [
                          1.224696358,
                          1.591637362
                        ]
                      },
                      {
                        "learn": [
                          1.249326013,
                          1.609333173
                        ],
                        "iteration": 1985,
                        "passed_time": 95.42560763,
                        "remaining_time": 24.69726199,
                        "test": [
                          1.224682721,
                          1.591622529
                        ]
                      },
                      {
                        "learn": [
                          1.24924857,
                          1.60925552
                        ],
                        "iteration": 1990,
                        "passed_time": 95.59655999,
                        "remaining_time": 24.43930137,
                        "test": [
                          1.224642321,
                          1.591587363
                        ]
                      },
                      {
                        "learn": [
                          1.249195957,
                          1.60919519
                        ],
                        "iteration": 1995,
                        "passed_time": 95.76552677,
                        "remaining_time": 24.1812753,
                        "test": [
                          1.224635299,
                          1.591576558
                        ]
                      },
                      {
                        "learn": [
                          1.24916441,
                          1.60915206
                        ],
                        "iteration": 2000,
                        "passed_time": 95.92948495,
                        "remaining_time": 23.92244527,
                        "test": [
                          1.224620137,
                          1.591555266
                        ]
                      },
                      {
                        "learn": [
                          1.249097144,
                          1.609074715
                        ],
                        "iteration": 2005,
                        "passed_time": 96.14600592,
                        "remaining_time": 23.67703236,
                        "test": [
                          1.224594085,
                          1.591541071
                        ]
                      },
                      {
                        "learn": [
                          1.249035169,
                          1.609003184
                        ],
                        "iteration": 2010,
                        "passed_time": 96.31645294,
                        "remaining_time": 23.42055967,
                        "test": [
                          1.224564065,
                          1.591519395
                        ]
                      },
                      {
                        "learn": [
                          1.248969836,
                          1.608927918
                        ],
                        "iteration": 2015,
                        "passed_time": 96.4837475,
                        "remaining_time": 23.16375684,
                        "test": [
                          1.224557959,
                          1.591513577
                        ]
                      },
                      {
                        "learn": [
                          1.248913967,
                          1.608861441
                        ],
                        "iteration": 2020,
                        "passed_time": 96.64752786,
                        "remaining_time": 22.906564,
                        "test": [
                          1.224538624,
                          1.591498934
                        ]
                      },
                      {
                        "learn": [
                          1.248860846,
                          1.608792557
                        ],
                        "iteration": 2025,
                        "passed_time": 96.81210941,
                        "remaining_time": 22.65001967,
                        "test": [
                          1.224536181,
                          1.591493051
                        ]
                      },
                      {
                        "learn": [
                          1.248818919,
                          1.608742648
                        ],
                        "iteration": 2030,
                        "passed_time": 96.9757406,
                        "remaining_time": 22.39370869,
                        "test": [
                          1.224530483,
                          1.591489151
                        ]
                      },
                      {
                        "learn": [
                          1.248736286,
                          1.608647949
                        ],
                        "iteration": 2035,
                        "passed_time": 97.18104563,
                        "remaining_time": 22.14735028,
                        "test": [
                          1.224508095,
                          1.591475531
                        ]
                      },
                      {
                        "learn": [
                          1.24866444,
                          1.608565391
                        ],
                        "iteration": 2040,
                        "passed_time": 97.34235812,
                        "remaining_time": 21.89129955,
                        "test": [
                          1.224498732,
                          1.591464085
                        ]
                      },
                      {
                        "learn": [
                          1.248593917,
                          1.608480931
                        ],
                        "iteration": 2045,
                        "passed_time": 97.51170578,
                        "remaining_time": 21.63749483,
                        "test": [
                          1.224485707,
                          1.591444838
                        ]
                      },
                      {
                        "learn": [
                          1.248536929,
                          1.608422724
                        ],
                        "iteration": 2050,
                        "passed_time": 97.68156947,
                        "remaining_time": 21.38421487,
                        "test": [
                          1.224467491,
                          1.591436717
                        ]
                      },
                      {
                        "learn": [
                          1.248481976,
                          1.608354518
                        ],
                        "iteration": 2055,
                        "passed_time": 97.84226643,
                        "remaining_time": 21.12936104,
                        "test": [
                          1.224456297,
                          1.591429939
                        ]
                      },
                      {
                        "learn": [
                          1.248393543,
                          1.608253722
                        ],
                        "iteration": 2060,
                        "passed_time": 98.01091313,
                        "remaining_time": 20.87665738,
                        "test": [
                          1.224439811,
                          1.591419324
                        ]
                      },
                      {
                        "learn": [
                          1.248342864,
                          1.608195443
                        ],
                        "iteration": 2065,
                        "passed_time": 98.23401567,
                        "remaining_time": 20.6358,
                        "test": [
                          1.224434723,
                          1.591413953
                        ]
                      },
                      {
                        "learn": [
                          1.248266744,
                          1.608101281
                        ],
                        "iteration": 2070,
                        "passed_time": 98.39355297,
                        "remaining_time": 20.38186105,
                        "test": [
                          1.22442414,
                          1.591401675
                        ]
                      },
                      {
                        "learn": [
                          1.248203141,
                          1.608032049
                        ],
                        "iteration": 2075,
                        "passed_time": 98.56009185,
                        "remaining_time": 20.12980681,
                        "test": [
                          1.224410096,
                          1.591386456
                        ]
                      },
                      {
                        "learn": [
                          1.248131906,
                          1.607950978
                        ],
                        "iteration": 2080,
                        "passed_time": 98.73562415,
                        "remaining_time": 19.8799743,
                        "test": [
                          1.224386182,
                          1.591366632
                        ]
                      },
                      {
                        "learn": [
                          1.248058432,
                          1.607868764
                        ],
                        "iteration": 2085,
                        "passed_time": 98.90245235,
                        "remaining_time": 19.6287705,
                        "test": [
                          1.224360334,
                          1.591351157
                        ]
                      },
                      {
                        "learn": [
                          1.247981396,
                          1.60778009
                        ],
                        "iteration": 2090,
                        "passed_time": 99.06620663,
                        "remaining_time": 19.37736897,
                        "test": [
                          1.224341508,
                          1.591330566
                        ]
                      },
                      {
                        "learn": [
                          1.247909753,
                          1.607695906
                        ],
                        "iteration": 2095,
                        "passed_time": 99.2781148,
                        "remaining_time": 19.13566716,
                        "test": [
                          1.224322274,
                          1.591317008
                        ]
                      },
                      {
                        "learn": [
                          1.247849102,
                          1.607628618
                        ],
                        "iteration": 2100,
                        "passed_time": 99.44080163,
                        "remaining_time": 18.88475957,
                        "test": [
                          1.22430701,
                          1.591306649
                        ]
                      },
                      {
                        "learn": [
                          1.247788857,
                          1.607567468
                        ],
                        "iteration": 2105,
                        "passed_time": 99.61374966,
                        "remaining_time": 18.63619058,
                        "test": [
                          1.224281263,
                          1.59128644
                        ]
                      },
                      {
                        "learn": [
                          1.247707344,
                          1.6074727
                        ],
                        "iteration": 2110,
                        "passed_time": 99.7777079,
                        "remaining_time": 18.38632325,
                        "test": [
                          1.224262132,
                          1.591271604
                        ]
                      },
                      {
                        "learn": [
                          1.247636922,
                          1.607389132
                        ],
                        "iteration": 2115,
                        "passed_time": 99.93931814,
                        "remaining_time": 18.13643581,
                        "test": [
                          1.224249208,
                          1.591258941
                        ]
                      },
                      {
                        "learn": [
                          1.247576271,
                          1.607317083
                        ],
                        "iteration": 2120,
                        "passed_time": 100.0999631,
                        "remaining_time": 17.88679208,
                        "test": [
                          1.224243509,
                          1.591247878
                        ]
                      },
                      {
                        "learn": [
                          1.247509411,
                          1.607235217
                        ],
                        "iteration": 2125,
                        "passed_time": 100.2961139,
                        "remaining_time": 17.64381308,
                        "test": [
                          1.224244527,
                          1.591238477
                        ]
                      },
                      {
                        "learn": [
                          1.247446622,
                          1.607164364
                        ],
                        "iteration": 2130,
                        "passed_time": 100.4614877,
                        "remaining_time": 17.39572452,
                        "test": [
                          1.224236589,
                          1.591229331
                        ]
                      },
                      {
                        "learn": [
                          1.247393094,
                          1.607101297
                        ],
                        "iteration": 2135,
                        "passed_time": 100.6287484,
                        "remaining_time": 17.14834476,
                        "test": [
                          1.224219188,
                          1.591213471
                        ]
                      },
                      {
                        "learn": [
                          1.247316872,
                          1.607012833
                        ],
                        "iteration": 2140,
                        "passed_time": 100.7920402,
                        "remaining_time": 16.90067371,
                        "test": [
                          1.224194459,
                          1.591188977
                        ]
                      },
                      {
                        "learn": [
                          1.247258256,
                          1.606939944
                        ],
                        "iteration": 2145,
                        "passed_time": 100.9568991,
                        "remaining_time": 16.65365437,
                        "test": [
                          1.224177363,
                          1.591174907
                        ]
                      },
                      {
                        "learn": [
                          1.24718753,
                          1.606859832
                        ],
                        "iteration": 2150,
                        "passed_time": 101.1254321,
                        "remaining_time": 16.40761311,
                        "test": [
                          1.224168306,
                          1.591161412
                        ]
                      },
                      {
                        "learn": [
                          1.247121281,
                          1.606779083
                        ],
                        "iteration": 2155,
                        "passed_time": 101.3200345,
                        "remaining_time": 16.16609085,
                        "test": [
                          1.224156908,
                          1.591148813
                        ]
                      },
                      {
                        "learn": [
                          1.247065717,
                          1.60671163
                        ],
                        "iteration": 2160,
                        "passed_time": 101.487081,
                        "remaining_time": 15.92046296,
                        "test": [
                          1.224144086,
                          1.591135702
                        ]
                      },
                      {
                        "learn": [
                          1.24701168,
                          1.606646201
                        ],
                        "iteration": 2165,
                        "passed_time": 101.6447593,
                        "remaining_time": 15.67375328,
                        "test": [
                          1.224134113,
                          1.591129946
                        ]
                      },
                      {
                        "learn": [
                          1.246941361,
                          1.606575069
                        ],
                        "iteration": 2170,
                        "passed_time": 101.810379,
                        "remaining_time": 15.42865716,
                        "test": [
                          1.224103584,
                          1.591105642
                        ]
                      },
                      {
                        "learn": [
                          1.246882439,
                          1.60650216
                        ],
                        "iteration": 2175,
                        "passed_time": 101.980552,
                        "remaining_time": 15.18460425,
                        "test": [
                          1.224089948,
                          1.591094641
                        ]
                      },
                      {
                        "learn": [
                          1.246802554,
                          1.606418922
                        ],
                        "iteration": 2180,
                        "passed_time": 102.1635885,
                        "remaining_time": 14.94277154,
                        "test": [
                          1.22405433,
                          1.591072383
                        ]
                      },
                      {
                        "learn": [
                          1.246758897,
                          1.606362097
                        ],
                        "iteration": 2185,
                        "passed_time": 102.3638232,
                        "remaining_time": 14.70367817,
                        "test": [
                          1.22405606,
                          1.591075006
                        ]
                      },
                      {
                        "learn": [
                          1.246704453,
                          1.60629526
                        ],
                        "iteration": 2190,
                        "passed_time": 102.5302794,
                        "remaining_time": 14.45999833,
                        "test": [
                          1.2240526,
                          1.591069697
                        ]
                      },
                      {
                        "learn": [
                          1.246652247,
                          1.606232729
                        ],
                        "iteration": 2195,
                        "passed_time": 102.6971247,
                        "remaining_time": 14.216724,
                        "test": [
                          1.224040083,
                          1.591053451
                        ]
                      },
                      {
                        "learn": [
                          1.246582131,
                          1.606152962
                        ],
                        "iteration": 2200,
                        "passed_time": 102.8690346,
                        "remaining_time": 13.97448493,
                        "test": [
                          1.22401739,
                          1.591026524
                        ]
                      },
                      {
                        "learn": [
                          1.246531453,
                          1.606094607
                        ],
                        "iteration": 2205,
                        "passed_time": 103.233806,
                        "remaining_time": 13.75826789,
                        "test": [
                          1.2240064,
                          1.591016354
                        ]
                      },
                      {
                        "learn": [
                          1.246468867,
                          1.606018317
                        ],
                        "iteration": 2210,
                        "passed_time": 103.7456078,
                        "remaining_time": 13.56059732,
                        "test": [
                          1.223992153,
                          1.59099934
                        ]
                      },
                      {
                        "learn": [
                          1.246417985,
                          1.605958754
                        ],
                        "iteration": 2215,
                        "passed_time": 104.4466145,
                        "remaining_time": 13.38575745,
                        "test": [
                          1.223985029,
                          1.590983733
                        ]
                      },
                      {
                        "learn": [
                          1.246356519,
                          1.605879796
                        ],
                        "iteration": 2220,
                        "passed_time": 104.9807243,
                        "remaining_time": 13.1875831,
                        "test": [
                          1.223978415,
                          1.590981751
                        ]
                      },
                      {
                        "learn": [
                          1.2463208,
                          1.605835564
                        ],
                        "iteration": 2225,
                        "passed_time": 105.6514017,
                        "remaining_time": 13.00470983,
                        "test": [
                          1.223968645,
                          1.59097222
                        ]
                      },
                      {
                        "learn": [
                          1.246260046,
                          1.605763762
                        ],
                        "iteration": 2230,
                        "passed_time": 105.9033697,
                        "remaining_time": 12.7691647,
                        "test": [
                          1.223962234,
                          1.59096851
                        ]
                      },
                      {
                        "learn": [
                          1.246188811,
                          1.60568771
                        ],
                        "iteration": 2235,
                        "passed_time": 106.3890138,
                        "remaining_time": 12.5611358,
                        "test": [
                          1.223936285,
                          1.59095527
                        ]
                      },
                      {
                        "learn": [
                          1.246110554,
                          1.605599169
                        ],
                        "iteration": 2240,
                        "passed_time": 106.6651021,
                        "remaining_time": 12.32764902,
                        "test": [
                          1.223920511,
                          1.590943181
                        ]
                      },
                      {
                        "learn": [
                          1.246048884,
                          1.605521906
                        ],
                        "iteration": 2245,
                        "passed_time": 107.0290214,
                        "remaining_time": 12.10390536,
                        "test": [
                          1.223915219,
                          1.590936336
                        ]
                      },
                      {
                        "learn": [
                          1.24598172,
                          1.605443308
                        ],
                        "iteration": 2250,
                        "passed_time": 107.1978083,
                        "remaining_time": 11.85795392,
                        "test": [
                          1.223897411,
                          1.590918234
                        ]
                      },
                      {
                        "learn": [
                          1.245909569,
                          1.605363564
                        ],
                        "iteration": 2255,
                        "passed_time": 107.3795895,
                        "remaining_time": 11.61374993,
                        "test": [
                          1.223880315,
                          1.590902499
                        ]
                      },
                      {
                        "learn": [
                          1.245851665,
                          1.605298208
                        ],
                        "iteration": 2260,
                        "passed_time": 107.5849154,
                        "remaining_time": 11.37231083,
                        "test": [
                          1.22385467,
                          1.590877424
                        ]
                      },
                      {
                        "learn": [
                          1.245782566,
                          1.605224353
                        ],
                        "iteration": 2265,
                        "passed_time": 107.7468639,
                        "remaining_time": 11.1265517,
                        "test": [
                          1.223832893,
                          1.59085721
                        ]
                      },
                      {
                        "learn": [
                          1.245710415,
                          1.605143585
                        ],
                        "iteration": 2270,
                        "passed_time": 107.9102788,
                        "remaining_time": 10.88130949,
                        "test": [
                          1.223813049,
                          1.590840131
                        ]
                      },
                      {
                        "learn": [
                          1.245664214,
                          1.605095654
                        ],
                        "iteration": 2275,
                        "passed_time": 108.0749897,
                        "remaining_time": 10.63655435,
                        "test": [
                          1.223794426,
                          1.590826889
                        ]
                      },
                      {
                        "learn": [
                          1.245621066,
                          1.605045693
                        ],
                        "iteration": 2280,
                        "passed_time": 108.2372195,
                        "remaining_time": 10.39191191,
                        "test": [
                          1.223786387,
                          1.590823755
                        ]
                      },
                      {
                        "learn": [
                          1.245545556,
                          1.604956546
                        ],
                        "iteration": 2285,
                        "passed_time": 108.4151375,
                        "remaining_time": 10.14909861,
                        "test": [
                          1.223781298,
                          1.590814799
                        ]
                      },
                      {
                        "learn": [
                          1.245481546,
                          1.604880584
                        ],
                        "iteration": 2290,
                        "passed_time": 108.6132174,
                        "remaining_time": 9.908407877,
                        "test": [
                          1.223772445,
                          1.590804436
                        ]
                      },
                      {
                        "learn": [
                          1.245419063,
                          1.604812227
                        ],
                        "iteration": 2295,
                        "passed_time": 108.7748599,
                        "remaining_time": 9.664665251,
                        "test": [
                          1.223755247,
                          1.590795352
                        ]
                      },
                      {
                        "learn": [
                          1.245372353,
                          1.604757691
                        ],
                        "iteration": 2300,
                        "passed_time": 108.9341552,
                        "remaining_time": 9.421076439,
                        "test": [
                          1.223744969,
                          1.590789083
                        ]
                      },
                      {
                        "learn": [
                          1.245303967,
                          1.604682861
                        ],
                        "iteration": 2305,
                        "passed_time": 109.1048497,
                        "remaining_time": 9.178812157,
                        "test": [
                          1.223725939,
                          1.590779615
                        ]
                      },
                      {
                        "learn": [
                          1.245223471,
                          1.604602762
                        ],
                        "iteration": 2310,
                        "passed_time": 109.2717645,
                        "remaining_time": 8.936548459,
                        "test": [
                          1.223686353,
                          1.590753387
                        ]
                      },
                      {
                        "learn": [
                          1.24516343,
                          1.604532428
                        ],
                        "iteration": 2315,
                        "passed_time": 109.4441561,
                        "remaining_time": 8.695045217,
                        "test": [
                          1.223677092,
                          1.590747693
                        ]
                      },
                      {
                        "learn": [
                          1.245088226,
                          1.604436973
                        ],
                        "iteration": 2320,
                        "passed_time": 109.6287925,
                        "remaining_time": 8.454784082,
                        "test": [
                          1.22366773,
                          1.590734387
                        ]
                      },
                      {
                        "learn": [
                          1.245033477,
                          1.604371768
                        ],
                        "iteration": 2325,
                        "passed_time": 109.8024551,
                        "remaining_time": 8.21394118,
                        "test": [
                          1.223655926,
                          1.590720697
                        ]
                      },
                      {
                        "learn": [
                          1.244976997,
                          1.604304912
                        ],
                        "iteration": 2330,
                        "passed_time": 109.9640353,
                        "remaining_time": 7.972510497,
                        "test": [
                          1.223643307,
                          1.590711165
                        ]
                      },
                      {
                        "learn": [
                          1.244913394,
                          1.604226635
                        ],
                        "iteration": 2335,
                        "passed_time": 110.1320977,
                        "remaining_time": 7.731876724,
                        "test": [
                          1.223633945,
                          1.590702273
                        ]
                      },
                      {
                        "learn": [
                          1.244839818,
                          1.604133255
                        ],
                        "iteration": 2340,
                        "passed_time": 110.2956092,
                        "remaining_time": 7.491243858,
                        "test": [
                          1.223623666,
                          1.590691973
                        ]
                      },
                      {
                        "learn": [
                          1.244782525,
                          1.60406677
                        ],
                        "iteration": 2345,
                        "passed_time": 110.474351,
                        "remaining_time": 7.251939492,
                        "test": [
                          1.223603721,
                          1.590677194
                        ]
                      },
                      {
                        "learn": [
                          1.244738359,
                          1.604010686
                        ],
                        "iteration": 2350,
                        "passed_time": 110.6711352,
                        "remaining_time": 7.014036215,
                        "test": [
                          1.223596699,
                          1.590676811
                        ]
                      },
                      {
                        "learn": [
                          1.244668345,
                          1.603934742
                        ],
                        "iteration": 2355,
                        "passed_time": 110.8392028,
                        "remaining_time": 6.774552291,
                        "test": [
                          1.223580824,
                          1.590663888
                        ]
                      },
                      {
                        "learn": [
                          1.244600468,
                          1.603854734
                        ],
                        "iteration": 2360,
                        "passed_time": 111.0134113,
                        "remaining_time": 6.535732392,
                        "test": [
                          1.223571563,
                          1.590651284
                        ]
                      },
                      {
                        "learn": [
                          1.244531777,
                          1.603780749
                        ],
                        "iteration": 2365,
                        "passed_time": 111.1776782,
                        "remaining_time": 6.296622519,
                        "test": [
                          1.223556401,
                          1.59064156
                        ]
                      },
                      {
                        "learn": [
                          1.244470005,
                          1.603708919
                        ],
                        "iteration": 2370,
                        "passed_time": 111.369984,
                        "remaining_time": 6.059353832,
                        "test": [
                          1.223541645,
                          1.590626589
                        ]
                      },
                      {
                        "learn": [
                          1.244401111,
                          1.603626678
                        ],
                        "iteration": 2375,
                        "passed_time": 111.5307571,
                        "remaining_time": 5.820628738,
                        "test": [
                          1.223528823,
                          1.59062371
                        ]
                      },
                      {
                        "learn": [
                          1.244334557,
                          1.603547733
                        ],
                        "iteration": 2380,
                        "passed_time": 111.7274329,
                        "remaining_time": 5.584025415,
                        "test": [
                          1.223516713,
                          1.590614306
                        ]
                      },
                      {
                        "learn": [
                          1.244282148,
                          1.603484206
                        ],
                        "iteration": 2385,
                        "passed_time": 111.8949642,
                        "remaining_time": 5.34619695,
                        "test": [
                          1.223509182,
                          1.590609763
                        ]
                      },
                      {
                        "learn": [
                          1.244229536,
                          1.603423025
                        ],
                        "iteration": 2390,
                        "passed_time": 112.0555046,
                        "remaining_time": 5.10834379,
                        "test": [
                          1.223500329,
                          1.590603174
                        ]
                      },
                      {
                        "learn": [
                          1.244172853,
                          1.603357589
                        ],
                        "iteration": 2395,
                        "passed_time": 112.2182553,
                        "remaining_time": 4.870909244,
                        "test": [
                          1.223485573,
                          1.59059153
                        ]
                      },
                      {
                        "learn": [
                          1.244121563,
                          1.603291262
                        ],
                        "iteration": 2400,
                        "passed_time": 112.392895,
                        "remaining_time": 4.634275972,
                        "test": [
                          1.223479569,
                          1.590582637
                        ]
                      },
                      {
                        "learn": [
                          1.244068849,
                          1.60322728
                        ],
                        "iteration": 2405,
                        "passed_time": 112.5562557,
                        "remaining_time": 4.397459697,
                        "test": [
                          1.223471835,
                          1.590577838
                        ]
                      },
                      {
                        "learn": [
                          1.244016746,
                          1.603161011
                        ],
                        "iteration": 2410,
                        "passed_time": 112.7863961,
                        "remaining_time": 4.163413211,
                        "test": [
                          1.223470105,
                          1.590570225
                        ]
                      },
                      {
                        "learn": [
                          1.243948767,
                          1.603079758
                        ],
                        "iteration": 2415,
                        "passed_time": 112.9531234,
                        "remaining_time": 3.927178132,
                        "test": [
                          1.223461964,
                          1.590558324
                        ]
                      },
                      {
                        "learn": [
                          1.243878244,
                          1.60299812
                        ],
                        "iteration": 2420,
                        "passed_time": 113.1170233,
                        "remaining_time": 3.691137895,
                        "test": [
                          1.223458911,
                          1.59055359
                        ]
                      },
                      {
                        "learn": [
                          1.243823596,
                          1.60293819
                        ],
                        "iteration": 2425,
                        "passed_time": 113.2833324,
                        "remaining_time": 3.455468508,
                        "test": [
                          1.223452907,
                          1.59055231
                        ]
                      },
                      {
                        "learn": [
                          1.243755923,
                          1.602859465
                        ],
                        "iteration": 2430,
                        "passed_time": 113.4669093,
                        "remaining_time": 3.220574555,
                        "test": [
                          1.22345596,
                          1.590546616
                        ]
                      },
                      {
                        "learn": [
                          1.243709009,
                          1.602799593
                        ],
                        "iteration": 2435,
                        "passed_time": 113.6333301,
                        "remaining_time": 2.985440529,
                        "test": [
                          1.223439881,
                          1.590531389
                        ]
                      },
                      {
                        "learn": [
                          1.243626275,
                          1.60270359
                        ],
                        "iteration": 2440,
                        "passed_time": 113.8357627,
                        "remaining_time": 2.751458419,
                        "test": [
                          1.223424718,
                          1.59051373
                        ]
                      },
                      {
                        "learn": [
                          1.243587706,
                          1.602656158
                        ],
                        "iteration": 2445,
                        "passed_time": 113.9994465,
                        "remaining_time": 2.516749841,
                        "test": [
                          1.223422988,
                          1.5905065
                        ]
                      },
                      {
                        "learn": [
                          1.243513926,
                          1.602570942
                        ],
                        "iteration": 2450,
                        "passed_time": 114.1664909,
                        "remaining_time": 2.282398227,
                        "test": [
                          1.223398056,
                          1.590488905
                        ]
                      },
                      {
                        "learn": [
                          1.243457447,
                          1.602503948
                        ],
                        "iteration": 2455,
                        "passed_time": 114.3389134,
                        "remaining_time": 2.048417015,
                        "test": [
                          1.223384725,
                          1.59047534
                        ]
                      },
                      {
                        "learn": [
                          1.243406361,
                          1.602444571
                        ],
                        "iteration": 2460,
                        "passed_time": 114.5156678,
                        "remaining_time": 1.814754589,
                        "test": [
                          1.223378009,
                          1.590475532
                        ]
                      },
                      {
                        "learn": [
                          1.243347846,
                          1.602374205
                        ],
                        "iteration": 2465,
                        "passed_time": 114.6806384,
                        "remaining_time": 1.581160465,
                        "test": [
                          1.223367018,
                          1.590468558
                        ]
                      },
                      {
                        "learn": [
                          1.243306632,
                          1.602326001
                        ],
                        "iteration": 2470,
                        "passed_time": 114.8795041,
                        "remaining_time": 1.348241854,
                        "test": [
                          1.223359081,
                          1.590460752
                        ]
                      },
                      {
                        "learn": [
                          1.243265112,
                          1.602278748
                        ],
                        "iteration": 2475,
                        "passed_time": 115.0423901,
                        "remaining_time": 1.11511202,
                        "test": [
                          1.223353891,
                          1.590456209
                        ]
                      },
                      {
                        "learn": [
                          1.243204358,
                          1.602201706
                        ],
                        "iteration": 2480,
                        "passed_time": 115.2045266,
                        "remaining_time": 0.8822595751,
                        "test": [
                          1.223357249,
                          1.590451986
                        ]
                      },
                      {
                        "learn": [
                          1.24313872,
                          1.602130249
                        ],
                        "iteration": 2485,
                        "passed_time": 115.3700709,
                        "remaining_time": 0.6497107776,
                        "test": [
                          1.223340763,
                          1.590444756
                        ]
                      },
                      {
                        "learn": [
                          1.243085904,
                          1.602065015
                        ],
                        "iteration": 2490,
                        "passed_time": 115.5516888,
                        "remaining_time": 0.4174890403,
                        "test": [
                          1.223333131,
                          1.590434199
                        ]
                      },
                      {
                        "learn": [
                          1.243027389,
                          1.601997554
                        ],
                        "iteration": 2495,
                        "passed_time": 115.71493,
                        "remaining_time": 0.185440593,
                        "test": [
                          1.223320411,
                          1.590425177
                        ]
                      },
                      {
                        "learn": [
                          1.242985361,
                          1.601950355
                        ],
                        "iteration": 2499,
                        "passed_time": 115.8705474,
                        "remaining_time": 0,
                        "test": [
                          1.223313389,
                          1.590423577
                        ]
                      }
                    ],
                    "meta": {
                      "test_sets": [
                        "test"
                      ],
                      "test_metrics": [
                        {
                          "best_value": "Min",
                          "name": "MAE"
                        },
                        {
                          "best_value": "Min",
                          "name": "RMSE"
                        }
                      ],
                      "learn_metrics": [
                        {
                          "best_value": "Min",
                          "name": "MAE"
                        },
                        {
                          "best_value": "Min",
                          "name": "RMSE"
                        }
                      ],
                      "launch_mode": "Train",
                      "parameters": "",
                      "iteration_count": 2500,
                      "learn_sets": [
                        "learn"
                      ],
                      "name": "experiment"
                    }
                  }
                }
              }
            },
            "layout": "IPY_MODEL_2ddf58c355f44e8da26ae2d1c3adc5e5"
          }
        }
      }
    }
  },
  "nbformat": 4,
  "nbformat_minor": 0
}